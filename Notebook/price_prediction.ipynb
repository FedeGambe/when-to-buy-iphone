{
 "cells": [
  {
   "cell_type": "code",
   "execution_count": null,
   "id": "c2a5f1be",
   "metadata": {},
   "outputs": [],
   "source": [
    "from sklearn.preprocessing import PolynomialFeatures\n",
    "from sklearn.linear_model import LinearRegression\n",
    "import numpy as np\n",
    "import pandas as pd\n",
    "import matplotlib.pyplot as plt"
   ]
  },
  {
   "cell_type": "code",
   "execution_count": null,
   "id": "efbb53de",
   "metadata": {},
   "outputs": [],
   "source": [
    "iphone15 = pd.read_csv('iphone15.csv')\n",
    "iphone16 = pd.read_csv('iphone16.csv')"
   ]
  },
  {
   "cell_type": "code",
   "execution_count": null,
   "id": "8893a608",
   "metadata": {},
   "outputs": [],
   "source": [
    "X = iphone15['Giorni_dal_lancio']\n",
    "y = iphone15['Prezzo']\n",
    "poly = PolynomialFeatures(degree=3)\n",
    "X_poly = poly.fit_transform(X)\n",
    "model = LinearRegression()\n",
    "model.fit(X_poly, y)\n",
    "\n",
    "#future prediction\n",
    "X_future = iphone16['Giorni_dal_lancio']\n",
    "X_future_poly = poly.transform(X_future)\n",
    "y_future = model.predict(X_future_poly)\n",
    "future_days = \n",
    "\n"
   ]
  }
 ],
 "metadata": {
  "language_info": {
   "name": "python"
  }
 },
 "nbformat": 4,
 "nbformat_minor": 5
}
