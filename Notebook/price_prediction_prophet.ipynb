{
 "cells": [
  {
   "cell_type": "code",
   "execution_count": null,
   "id": "c2a5f1be",
   "metadata": {},
   "outputs": [],
   "source": [
    "from sklearn.preprocessing import PolynomialFeatures\n",
    "from sklearn.linear_model import LinearRegression\n",
    "import numpy as np\n",
    "import pandas as pd\n",
    "import plotly.graph_objects as go\n",
    "from prophet import Prophet\n"
   ]
  },
  {
   "cell_type": "code",
   "execution_count": null,
   "id": "78cc1999",
   "metadata": {},
   "outputs": [],
   "source": [
    "###################################\n",
    "#    In progress\n",
    "###################################"
   ]
  },
  {
   "cell_type": "code",
   "execution_count": 8,
   "id": "efbb53de",
   "metadata": {},
   "outputs": [],
   "source": [
    "df15 = pd.read_csv('/Users/federicogamberini/VS Code/when-to-buy-iphone/Dataset/iPhone15.csv')\n",
    "df16 = pd.read_csv('/Users/federicogamberini/VS Code/when-to-buy-iphone/Dataset/iPhone16.csv')"
   ]
  },
  {
   "cell_type": "code",
   "execution_count": null,
   "id": "8893a608",
   "metadata": {},
   "outputs": [],
   "source": [
    "X = iphone15['Giorni_dal_lancio']\n",
    "y = iphone15['Prezzo']\n",
    "poly = PolynomialFeatures(degree=3)\n",
    "X_poly = poly.fit_transform(X)\n",
    "model = LinearRegression()\n",
    "model.fit(X_poly, y)\n",
    "\n",
    "#future prediction\n",
    "X_future = iphone16['Giorni_dal_lancio']\n",
    "X_future_poly = poly.transform(X_future)\n",
    "y_future = model.predict(X_future_poly)\n",
    "future_days = \n",
    "\n"
   ]
  },
  {
   "cell_type": "code",
   "execution_count": null,
   "id": "f8498f3e",
   "metadata": {},
   "outputs": [
    {
     "data": {
      "text/plain": [
       "np.float64(285.0)"
      ]
     },
     "execution_count": 21,
     "metadata": {},
     "output_type": "execute_result"
    }
   ],
   "source": [
    "# Filtra solo i dati comuni (fino all'ultimo gionro utile)\n",
    "del len\n",
    "max_days = min(df15['Giorni_dal_lancio'].max(), df16['Giorni_dal_lancio'].max(), len(df16))\n",
    "\n",
    "df15_md = df15[df15['Giorni_dal_lancio'] <= max_days].copy()\n",
    "df16_md = df16[df16['Giorni_dal_lancio'] <= max_days].copy()\n",
    "# Rinomina le colonne prezzo per evitare confusione\n",
    "df15_md.rename(columns={'Prezzo': 'Prezzo_15'}, inplace=True)\n",
    "df16_md.rename(columns={'Prezzo': 'Prezzo_16'}, inplace=True)\n",
    "# Unione dei due dataframe per giorno dal lancio\n",
    "df_merge = pd.merge(df16_md, df15_md[['Giorni_dal_lancio', 'Prezzo_15']], on='Giorni_dal_lancio')"
   ]
  },
  {
   "cell_type": "code",
   "execution_count": null,
   "id": "7e870de6",
   "metadata": {},
   "outputs": [
    {
     "name": "stderr",
     "output_type": "stream",
     "text": [
      "20:58:56 - cmdstanpy - INFO - Chain [1] start processing\n",
      "20:58:56 - cmdstanpy - INFO - Chain [1] done processing\n"
     ]
    },
    {
     "data": {
      "text/plain": [
       "<prophet.forecaster.Prophet at 0x14de0c6e0>"
      ]
     },
     "execution_count": 40,
     "metadata": {},
     "output_type": "execute_result"
    }
   ],
   "source": [
    "# Prophet richiede colonne chiamate 'ds' (data) e 'y' (valore target)\n",
    "df_merge['ds'] = pd.to_datetime(df_merge['Data'])   # Converte la colonna Data in datetime, necessaria per Prophet\n",
    "df_merge['y'] = df_merge['Prezzo_16']               # Il prezzo che vogliamo prevedere (target)\n",
    "\n",
    "# Definzione del regressore esterno: i prezzi dell’iPhone 15 nei giorni corrispondenti\n",
    "df_merge['Prezzo_15'] = df_merge['Prezzo_15']       # Redondante, ma utile per chiarezza\n",
    "df_prophet = df_merge[['ds', 'y', 'Prezzo_15']]     # Prophet userà solo queste colonne\n",
    "\n",
    "model = Prophet()\n",
    "# Aggiunta del regressore esterno (Prezzo iPhone 15 come indicatore del prezzo iPhone 16)\n",
    "model.add_regressor('Prezzo_15')\n",
    "# Allineamento del modello sui dati storici di iPhone 16 e i prezzi corrispondenti di iPhone 15\n",
    "model.fit(df_prophet)"
   ]
  },
  {
   "cell_type": "code",
   "execution_count": null,
   "id": "85c6e580",
   "metadata": {},
   "outputs": [
    {
     "name": "stderr",
     "output_type": "stream",
     "text": [
      "21:14:41 - cmdstanpy - INFO - Chain [1] start processing\n",
      "21:14:41 - cmdstanpy - INFO - Chain [1] done processing\n"
     ]
    },
    {
     "name": "stdout",
     "output_type": "stream",
     "text": [
      "           ds        yhat  yhat_lower  yhat_upper\n",
      "0  2025-06-26  766.358459  743.424554  789.335712\n",
      "1  2025-06-27  760.828246  737.773774  783.303780\n",
      "2  2025-06-28  760.227795  738.275934  782.610314\n",
      "3  2025-06-29  763.616064  741.249878  786.649241\n",
      "4  2025-06-30  763.824381  740.981233  784.811298\n",
      "..        ...         ...         ...         ...\n",
      "85 2025-09-19  736.316615  662.239857  802.962968\n",
      "86 2025-09-20  735.716163  660.382335  805.691551\n",
      "87 2025-09-21  739.104432  663.232007  808.352388\n",
      "88 2025-09-22  739.312750  663.391865  807.927836\n",
      "89 2025-09-23  742.058920  666.644854  815.624339\n",
      "\n",
      "[90 rows x 4 columns]\n",
      "            ds        yhat  yhat_lower  yhat_upper\n",
      "0   2025-06-26  766.358459  743.424554  789.335712\n",
      "1   2025-06-27  760.828246  737.773774  783.303780\n",
      "2   2025-06-28  760.227795  738.275934  782.610314\n",
      "3   2025-06-29  763.616064  741.249878  786.649241\n",
      "4   2025-06-30  763.824381  740.981233  784.811298\n",
      "..         ...         ...         ...         ...\n",
      "175 2025-12-18  715.292560  512.313846  909.620740\n",
      "176 2025-12-19  709.762348  501.120740  905.987618\n",
      "177 2025-12-20  709.161896  505.793772  911.335772\n",
      "178 2025-12-21  712.550165  510.509692  915.852566\n",
      "179 2025-12-22  712.758482  505.470637  911.627458\n",
      "\n",
      "[180 rows x 4 columns]\n"
     ]
    }
   ],
   "source": [
    "# Definizione il numero di giorni futuri da prevedere:\n",
    "future_days_3m = 90    # circa 3 mesi\n",
    "future_days_6m = 180   # circa 6 mesi -> usato\n",
    "\n",
    "#L’ultima data disponibile nei dati di iPhone 16\n",
    "last_date = df_prophet['ds'].max()                    # Ultima data nei dati\n",
    "last_day = df_merge['Giorni_dal_lancio'].max()        # Ultimo giorno numerico (es: Giorno 280)\n",
    "\n",
    "# Array di giorni futuri da predire, da (ultimo giorno + 1) fino a 6 mesi dopo\n",
    "future_days = np.arange(last_day + 1, last_day + future_days_6m + 1)\n",
    "\n",
    "# Per poter usare Prezzo_15 come regressore nei giorni futuri, bisonga costruire una lista corrispondente\n",
    "df15_future = df15_md.set_index('Giorni_dal_lancio')  # si usa Giorni_dal_lancio come indice per accesso diretto\n",
    "\n",
    "future_prezzi_15 = []  # Lista dove mettere i prezzi dell’iPhone 15 per ciascun giorno futuro\n",
    "\n",
    "for day in future_days:\n",
    "    if day in df15_future.index:\n",
    "        # Se si ha un valore storico per quel giorno nei dati di iPhone 15, lo usa\n",
    "        future_prezzi_15.append(df15_future.loc[day, 'Prezzo_15'])\n",
    "    else:\n",
    "        # Altrimenti si usa l’ultimo prezzo noto (ipotesi semplice per estendere la serie)\n",
    "        future_prezzi_15.append(df15_future['Prezzo_15'].iloc[-1])\n",
    "\n",
    "# Si generano delle date future corrispondenti a questi giorni\n",
    "future_dates = pd.date_range(start=last_date + pd.Timedelta(days=1), periods=future_days_6m)\n",
    "\n",
    "# Si crea il dataframe per la previsione: data e regressore esterno\n",
    "future_df = pd.DataFrame({\n",
    "    'ds': future_dates,            # Colonna con le date future\n",
    "    'Prezzo_15': future_prezzi_15  # Valori di regressore esterno stimati (iPhone 15)\n",
    "})\n",
    "\n",
    "# Modello Prophet per fare la previsione sui dati futuri\n",
    "forecast = model.predict(future_df)\n",
    "\n",
    "# Estrazione dei risultati per i prossimi 3 e 6 mesi\n",
    "forecast_3m = forecast.iloc[:future_days_3m]   # Prime 90 righe = 3 mesi\n",
    "forecast_6m = forecast.iloc[:future_days_6m]   # Prime 180 righe = 6 mesi\n",
    "\n",
    "# yhat è la previsione centrale, yhat_lower e yhat_upper l'intervallo di confidenza\n",
    "print(forecast_3m[['ds', 'yhat', 'yhat_lower', 'yhat_upper']])\n",
    "print(forecast_6m[['ds', 'yhat', 'yhat_lower', 'yhat_upper']])"
   ]
  },
  {
   "cell_type": "code",
   "execution_count": null,
   "id": "c3e9c8aa",
   "metadata": {},
   "outputs": [
    {
     "data": {
      "application/vnd.plotly.v1+json": {
       "config": {
        "plotlyServerURL": "https://plot.ly"
       },
       "data": [
        {
         "line": {
          "color": "#0072B2",
          "width": 2
         },
         "mode": "lines",
         "name": "trend",
         "type": "scatter",
         "x": [
          "2025-06-26T00:00:00.000000000",
          "2025-06-27T00:00:00.000000000",
          "2025-06-28T00:00:00.000000000",
          "2025-06-29T00:00:00.000000000",
          "2025-06-30T00:00:00.000000000",
          "2025-07-01T00:00:00.000000000",
          "2025-07-02T00:00:00.000000000",
          "2025-07-03T00:00:00.000000000",
          "2025-07-04T00:00:00.000000000",
          "2025-07-05T00:00:00.000000000",
          "2025-07-06T00:00:00.000000000",
          "2025-07-07T00:00:00.000000000",
          "2025-07-08T00:00:00.000000000",
          "2025-07-09T00:00:00.000000000",
          "2025-07-10T00:00:00.000000000",
          "2025-07-11T00:00:00.000000000",
          "2025-07-12T00:00:00.000000000",
          "2025-07-13T00:00:00.000000000",
          "2025-07-14T00:00:00.000000000",
          "2025-07-15T00:00:00.000000000",
          "2025-07-16T00:00:00.000000000",
          "2025-07-17T00:00:00.000000000",
          "2025-07-18T00:00:00.000000000",
          "2025-07-19T00:00:00.000000000",
          "2025-07-20T00:00:00.000000000",
          "2025-07-21T00:00:00.000000000",
          "2025-07-22T00:00:00.000000000",
          "2025-07-23T00:00:00.000000000",
          "2025-07-24T00:00:00.000000000",
          "2025-07-25T00:00:00.000000000",
          "2025-07-26T00:00:00.000000000",
          "2025-07-27T00:00:00.000000000",
          "2025-07-28T00:00:00.000000000",
          "2025-07-29T00:00:00.000000000",
          "2025-07-30T00:00:00.000000000",
          "2025-07-31T00:00:00.000000000",
          "2025-08-01T00:00:00.000000000",
          "2025-08-02T00:00:00.000000000",
          "2025-08-03T00:00:00.000000000",
          "2025-08-04T00:00:00.000000000",
          "2025-08-05T00:00:00.000000000",
          "2025-08-06T00:00:00.000000000",
          "2025-08-07T00:00:00.000000000",
          "2025-08-08T00:00:00.000000000",
          "2025-08-09T00:00:00.000000000",
          "2025-08-10T00:00:00.000000000",
          "2025-08-11T00:00:00.000000000",
          "2025-08-12T00:00:00.000000000",
          "2025-08-13T00:00:00.000000000",
          "2025-08-14T00:00:00.000000000",
          "2025-08-15T00:00:00.000000000",
          "2025-08-16T00:00:00.000000000",
          "2025-08-17T00:00:00.000000000",
          "2025-08-18T00:00:00.000000000",
          "2025-08-19T00:00:00.000000000",
          "2025-08-20T00:00:00.000000000",
          "2025-08-21T00:00:00.000000000",
          "2025-08-22T00:00:00.000000000",
          "2025-08-23T00:00:00.000000000",
          "2025-08-24T00:00:00.000000000",
          "2025-08-25T00:00:00.000000000",
          "2025-08-26T00:00:00.000000000",
          "2025-08-27T00:00:00.000000000",
          "2025-08-28T00:00:00.000000000",
          "2025-08-29T00:00:00.000000000",
          "2025-08-30T00:00:00.000000000",
          "2025-08-31T00:00:00.000000000",
          "2025-09-01T00:00:00.000000000",
          "2025-09-02T00:00:00.000000000",
          "2025-09-03T00:00:00.000000000",
          "2025-09-04T00:00:00.000000000",
          "2025-09-05T00:00:00.000000000",
          "2025-09-06T00:00:00.000000000",
          "2025-09-07T00:00:00.000000000",
          "2025-09-08T00:00:00.000000000",
          "2025-09-09T00:00:00.000000000",
          "2025-09-10T00:00:00.000000000",
          "2025-09-11T00:00:00.000000000",
          "2025-09-12T00:00:00.000000000",
          "2025-09-13T00:00:00.000000000",
          "2025-09-14T00:00:00.000000000",
          "2025-09-15T00:00:00.000000000",
          "2025-09-16T00:00:00.000000000",
          "2025-09-17T00:00:00.000000000",
          "2025-09-18T00:00:00.000000000",
          "2025-09-19T00:00:00.000000000",
          "2025-09-20T00:00:00.000000000",
          "2025-09-21T00:00:00.000000000",
          "2025-09-22T00:00:00.000000000",
          "2025-09-23T00:00:00.000000000",
          "2025-09-24T00:00:00.000000000",
          "2025-09-25T00:00:00.000000000",
          "2025-09-26T00:00:00.000000000",
          "2025-09-27T00:00:00.000000000",
          "2025-09-28T00:00:00.000000000",
          "2025-09-29T00:00:00.000000000",
          "2025-09-30T00:00:00.000000000",
          "2025-10-01T00:00:00.000000000",
          "2025-10-02T00:00:00.000000000",
          "2025-10-03T00:00:00.000000000",
          "2025-10-04T00:00:00.000000000",
          "2025-10-05T00:00:00.000000000",
          "2025-10-06T00:00:00.000000000",
          "2025-10-07T00:00:00.000000000",
          "2025-10-08T00:00:00.000000000",
          "2025-10-09T00:00:00.000000000",
          "2025-10-10T00:00:00.000000000",
          "2025-10-11T00:00:00.000000000",
          "2025-10-12T00:00:00.000000000",
          "2025-10-13T00:00:00.000000000",
          "2025-10-14T00:00:00.000000000",
          "2025-10-15T00:00:00.000000000",
          "2025-10-16T00:00:00.000000000",
          "2025-10-17T00:00:00.000000000",
          "2025-10-18T00:00:00.000000000",
          "2025-10-19T00:00:00.000000000",
          "2025-10-20T00:00:00.000000000",
          "2025-10-21T00:00:00.000000000",
          "2025-10-22T00:00:00.000000000",
          "2025-10-23T00:00:00.000000000",
          "2025-10-24T00:00:00.000000000",
          "2025-10-25T00:00:00.000000000",
          "2025-10-26T00:00:00.000000000",
          "2025-10-27T00:00:00.000000000",
          "2025-10-28T00:00:00.000000000",
          "2025-10-29T00:00:00.000000000",
          "2025-10-30T00:00:00.000000000",
          "2025-10-31T00:00:00.000000000",
          "2025-11-01T00:00:00.000000000",
          "2025-11-02T00:00:00.000000000",
          "2025-11-03T00:00:00.000000000",
          "2025-11-04T00:00:00.000000000",
          "2025-11-05T00:00:00.000000000",
          "2025-11-06T00:00:00.000000000",
          "2025-11-07T00:00:00.000000000",
          "2025-11-08T00:00:00.000000000",
          "2025-11-09T00:00:00.000000000",
          "2025-11-10T00:00:00.000000000",
          "2025-11-11T00:00:00.000000000",
          "2025-11-12T00:00:00.000000000",
          "2025-11-13T00:00:00.000000000",
          "2025-11-14T00:00:00.000000000",
          "2025-11-15T00:00:00.000000000",
          "2025-11-16T00:00:00.000000000",
          "2025-11-17T00:00:00.000000000",
          "2025-11-18T00:00:00.000000000",
          "2025-11-19T00:00:00.000000000",
          "2025-11-20T00:00:00.000000000",
          "2025-11-21T00:00:00.000000000",
          "2025-11-22T00:00:00.000000000",
          "2025-11-23T00:00:00.000000000",
          "2025-11-24T00:00:00.000000000",
          "2025-11-25T00:00:00.000000000",
          "2025-11-26T00:00:00.000000000",
          "2025-11-27T00:00:00.000000000",
          "2025-11-28T00:00:00.000000000",
          "2025-11-29T00:00:00.000000000",
          "2025-11-30T00:00:00.000000000",
          "2025-12-01T00:00:00.000000000",
          "2025-12-02T00:00:00.000000000",
          "2025-12-03T00:00:00.000000000",
          "2025-12-04T00:00:00.000000000",
          "2025-12-05T00:00:00.000000000",
          "2025-12-06T00:00:00.000000000",
          "2025-12-07T00:00:00.000000000",
          "2025-12-08T00:00:00.000000000",
          "2025-12-09T00:00:00.000000000",
          "2025-12-10T00:00:00.000000000",
          "2025-12-11T00:00:00.000000000",
          "2025-12-12T00:00:00.000000000",
          "2025-12-13T00:00:00.000000000",
          "2025-12-14T00:00:00.000000000",
          "2025-12-15T00:00:00.000000000",
          "2025-12-16T00:00:00.000000000",
          "2025-12-17T00:00:00.000000000",
          "2025-12-18T00:00:00.000000000",
          "2025-12-19T00:00:00.000000000",
          "2025-12-20T00:00:00.000000000",
          "2025-12-21T00:00:00.000000000",
          "2025-12-22T00:00:00.000000000"
         ],
         "xaxis": "x",
         "y": {
          "bdata": "cBHOxXaFh0AvCOAnIYOHQO3+8YnLgIdAq/UD7HV+h0Bp7BVOIHyHQCfjJ7DKeYdA5tk5EnV3h0Ck0Et0H3WHQGLHXdbJcodAIL5vOHRwh0DetIGaHm6HQJyrk/zIa4dAW6KlXnNph0AZmbfAHWeHQNePySLIZIdAlYbbhHJih0BTfe3mHGCHQBF0/0jHXYdA0GoRq3Fbh0COYSMNHFmHQExYNW/GVodAC09H0XBUh0DIRVkzG1KHQIc8a5XFT4dARTN9929Nh0AEKo9ZGkuHQMIgobvESIdAgBezHW9Gh0A+DsV/GUSHQP0E1+HDQYdAu/voQ24/h0B58vqlGD2HQDfpDAjDOodA9d8eam04h0Cz1jDMFzaHQHLNQi7CM4dAMMRUkGwxh0DuumbyFi+HQKyxeFTBLIdAaqiKtmsqh0Apn5wYFiiHQOeVrnrAJYdApYzA3Gojh0Bjg9I+FSGHQCJ65KC/HodA33D2Amoch0CfZwhlFBqHQFxeGse+F4dAG1UsKWkVh0DZSz6LExOHQJdCUO29EIdAVTliT2gOh0AUMHSxEgyHQNImhhO9CYdAkB2YdWcHh0BOFKrXEQWHQAwLvDm8AodAywHOm2YAh0CJ+N/9EP6GQEfv8V+7+4ZABeYDwmX5hkDD3BUkEPeGQIHTJ4a69IZAQMo56GTyhkD+wEtKD/CGQLy3Xay57YZAeq5vDmTrhkA4pYFwDumGQPabk9K45oZAtpKlNGPkhkBzibeWDeKGQDKAyfi334ZA8HbbWmLdhkCube28DNuGQG1k/x632IZAK1sRgWHWhkDpUSPjC9SGQKdINUW20YZAZT9Hp2DPhkAjNlkJC82GQOIsa2u1yoZAoCN9zV/IhkBeGo8vCsaGQBwRoZG0w4ZA2gez817BhkCY/sRVCb+GQFf11rezvIZAFezoGV66hkDT4vp7CLiGQJHZDN6ytYZAT9AeQF2zhkAPxzCiB7GGQM29QgSyroZAi7RUZlyshkBJq2bIBqqGQAeieCqxp4ZAxZiKjFulhkCEj5zuBaOGQEKGrlCwoIZAAH3AslqehkC+c9IUBZyGQHxq5HavmYZAOmH22FmXhkD5Vwg7BJWGQLdOGp2ukoZAdUUs/1iQhkAzPD5hA46GQPEyUMOti4ZAsCliJViJhkBuIHSHAoeGQCwXhumshIZA6w2YS1eChkCoBKqtAYCGQGf7uw+sfYZAJvLNcVZ7hkDk6N/TAHmGQKLf8TWrdoZAYNYDmFV0hkAezRX6/3GGQNzDJ1yqb4ZAm7o5vlRthkBZsUsg/2qGQBeoXYKpaIZA1Z5v5FNmhkCTlYFG/mOGQFKMk6ioYYZAEIOlClNfhkDOebds/VyGQIxwyc6nWoZASmfbMFJYhkAIXu2S/FWGQMdU//SmU4ZAhUsRV1FRhkBDQiO5+06GQAI5NRumTIZAvy9HfVBKhkB+Jlnf+keGQDwda0GlRYZA+xN9o09DhkC5Co8F+kCGQHcBoWekPoZANfiyyU48hkD07sQr+TmGQLLl1o2jN4ZAcNzo7001hkAu0/pR+DKGQOzJDLSiMIZAqsAeFk0uhkBptzB49yuGQCeuQtqhKYZA5aRUPEwnhkCjm2ae9iSGQGGSeAChIoZAIImKYksghkDef5zE9R2GQJ12riagG4ZAWm3AiEoZhkAZZNLq9BaGQNZa5EyfFIZAllH2rkkShkBTSAgR9A+GQBI/GnOeDYZA0DUs1UgLhkCOLD438wiGQEwjUJmdBoZACxpi+0cEhkDJEHRd8gGGQIcHhr+c/4VARf6XIUf9hUAD9amD8fqFQMLru+Wb+IVAgOLNR0b2hUA+2d+p8POFQPzP8Qub8YVAusYDbkXvhUB4vRXQ7+yFQDe0JzKa6oVA9ao5lETohUC0oUv27uWFQHGYXViZ44VA",
          "dtype": "f8"
         },
         "yaxis": "y"
        },
        {
         "line": {
          "color": "rgba(0, 114, 178, 0.2)",
          "width": 0
         },
         "mode": "lines",
         "name": "trend_upper",
         "type": "scatter",
         "x": [
          "2025-06-26T00:00:00.000000000",
          "2025-06-27T00:00:00.000000000",
          "2025-06-28T00:00:00.000000000",
          "2025-06-29T00:00:00.000000000",
          "2025-06-30T00:00:00.000000000",
          "2025-07-01T00:00:00.000000000",
          "2025-07-02T00:00:00.000000000",
          "2025-07-03T00:00:00.000000000",
          "2025-07-04T00:00:00.000000000",
          "2025-07-05T00:00:00.000000000",
          "2025-07-06T00:00:00.000000000",
          "2025-07-07T00:00:00.000000000",
          "2025-07-08T00:00:00.000000000",
          "2025-07-09T00:00:00.000000000",
          "2025-07-10T00:00:00.000000000",
          "2025-07-11T00:00:00.000000000",
          "2025-07-12T00:00:00.000000000",
          "2025-07-13T00:00:00.000000000",
          "2025-07-14T00:00:00.000000000",
          "2025-07-15T00:00:00.000000000",
          "2025-07-16T00:00:00.000000000",
          "2025-07-17T00:00:00.000000000",
          "2025-07-18T00:00:00.000000000",
          "2025-07-19T00:00:00.000000000",
          "2025-07-20T00:00:00.000000000",
          "2025-07-21T00:00:00.000000000",
          "2025-07-22T00:00:00.000000000",
          "2025-07-23T00:00:00.000000000",
          "2025-07-24T00:00:00.000000000",
          "2025-07-25T00:00:00.000000000",
          "2025-07-26T00:00:00.000000000",
          "2025-07-27T00:00:00.000000000",
          "2025-07-28T00:00:00.000000000",
          "2025-07-29T00:00:00.000000000",
          "2025-07-30T00:00:00.000000000",
          "2025-07-31T00:00:00.000000000",
          "2025-08-01T00:00:00.000000000",
          "2025-08-02T00:00:00.000000000",
          "2025-08-03T00:00:00.000000000",
          "2025-08-04T00:00:00.000000000",
          "2025-08-05T00:00:00.000000000",
          "2025-08-06T00:00:00.000000000",
          "2025-08-07T00:00:00.000000000",
          "2025-08-08T00:00:00.000000000",
          "2025-08-09T00:00:00.000000000",
          "2025-08-10T00:00:00.000000000",
          "2025-08-11T00:00:00.000000000",
          "2025-08-12T00:00:00.000000000",
          "2025-08-13T00:00:00.000000000",
          "2025-08-14T00:00:00.000000000",
          "2025-08-15T00:00:00.000000000",
          "2025-08-16T00:00:00.000000000",
          "2025-08-17T00:00:00.000000000",
          "2025-08-18T00:00:00.000000000",
          "2025-08-19T00:00:00.000000000",
          "2025-08-20T00:00:00.000000000",
          "2025-08-21T00:00:00.000000000",
          "2025-08-22T00:00:00.000000000",
          "2025-08-23T00:00:00.000000000",
          "2025-08-24T00:00:00.000000000",
          "2025-08-25T00:00:00.000000000",
          "2025-08-26T00:00:00.000000000",
          "2025-08-27T00:00:00.000000000",
          "2025-08-28T00:00:00.000000000",
          "2025-08-29T00:00:00.000000000",
          "2025-08-30T00:00:00.000000000",
          "2025-08-31T00:00:00.000000000",
          "2025-09-01T00:00:00.000000000",
          "2025-09-02T00:00:00.000000000",
          "2025-09-03T00:00:00.000000000",
          "2025-09-04T00:00:00.000000000",
          "2025-09-05T00:00:00.000000000",
          "2025-09-06T00:00:00.000000000",
          "2025-09-07T00:00:00.000000000",
          "2025-09-08T00:00:00.000000000",
          "2025-09-09T00:00:00.000000000",
          "2025-09-10T00:00:00.000000000",
          "2025-09-11T00:00:00.000000000",
          "2025-09-12T00:00:00.000000000",
          "2025-09-13T00:00:00.000000000",
          "2025-09-14T00:00:00.000000000",
          "2025-09-15T00:00:00.000000000",
          "2025-09-16T00:00:00.000000000",
          "2025-09-17T00:00:00.000000000",
          "2025-09-18T00:00:00.000000000",
          "2025-09-19T00:00:00.000000000",
          "2025-09-20T00:00:00.000000000",
          "2025-09-21T00:00:00.000000000",
          "2025-09-22T00:00:00.000000000",
          "2025-09-23T00:00:00.000000000",
          "2025-09-24T00:00:00.000000000",
          "2025-09-25T00:00:00.000000000",
          "2025-09-26T00:00:00.000000000",
          "2025-09-27T00:00:00.000000000",
          "2025-09-28T00:00:00.000000000",
          "2025-09-29T00:00:00.000000000",
          "2025-09-30T00:00:00.000000000",
          "2025-10-01T00:00:00.000000000",
          "2025-10-02T00:00:00.000000000",
          "2025-10-03T00:00:00.000000000",
          "2025-10-04T00:00:00.000000000",
          "2025-10-05T00:00:00.000000000",
          "2025-10-06T00:00:00.000000000",
          "2025-10-07T00:00:00.000000000",
          "2025-10-08T00:00:00.000000000",
          "2025-10-09T00:00:00.000000000",
          "2025-10-10T00:00:00.000000000",
          "2025-10-11T00:00:00.000000000",
          "2025-10-12T00:00:00.000000000",
          "2025-10-13T00:00:00.000000000",
          "2025-10-14T00:00:00.000000000",
          "2025-10-15T00:00:00.000000000",
          "2025-10-16T00:00:00.000000000",
          "2025-10-17T00:00:00.000000000",
          "2025-10-18T00:00:00.000000000",
          "2025-10-19T00:00:00.000000000",
          "2025-10-20T00:00:00.000000000",
          "2025-10-21T00:00:00.000000000",
          "2025-10-22T00:00:00.000000000",
          "2025-10-23T00:00:00.000000000",
          "2025-10-24T00:00:00.000000000",
          "2025-10-25T00:00:00.000000000",
          "2025-10-26T00:00:00.000000000",
          "2025-10-27T00:00:00.000000000",
          "2025-10-28T00:00:00.000000000",
          "2025-10-29T00:00:00.000000000",
          "2025-10-30T00:00:00.000000000",
          "2025-10-31T00:00:00.000000000",
          "2025-11-01T00:00:00.000000000",
          "2025-11-02T00:00:00.000000000",
          "2025-11-03T00:00:00.000000000",
          "2025-11-04T00:00:00.000000000",
          "2025-11-05T00:00:00.000000000",
          "2025-11-06T00:00:00.000000000",
          "2025-11-07T00:00:00.000000000",
          "2025-11-08T00:00:00.000000000",
          "2025-11-09T00:00:00.000000000",
          "2025-11-10T00:00:00.000000000",
          "2025-11-11T00:00:00.000000000",
          "2025-11-12T00:00:00.000000000",
          "2025-11-13T00:00:00.000000000",
          "2025-11-14T00:00:00.000000000",
          "2025-11-15T00:00:00.000000000",
          "2025-11-16T00:00:00.000000000",
          "2025-11-17T00:00:00.000000000",
          "2025-11-18T00:00:00.000000000",
          "2025-11-19T00:00:00.000000000",
          "2025-11-20T00:00:00.000000000",
          "2025-11-21T00:00:00.000000000",
          "2025-11-22T00:00:00.000000000",
          "2025-11-23T00:00:00.000000000",
          "2025-11-24T00:00:00.000000000",
          "2025-11-25T00:00:00.000000000",
          "2025-11-26T00:00:00.000000000",
          "2025-11-27T00:00:00.000000000",
          "2025-11-28T00:00:00.000000000",
          "2025-11-29T00:00:00.000000000",
          "2025-11-30T00:00:00.000000000",
          "2025-12-01T00:00:00.000000000",
          "2025-12-02T00:00:00.000000000",
          "2025-12-03T00:00:00.000000000",
          "2025-12-04T00:00:00.000000000",
          "2025-12-05T00:00:00.000000000",
          "2025-12-06T00:00:00.000000000",
          "2025-12-07T00:00:00.000000000",
          "2025-12-08T00:00:00.000000000",
          "2025-12-09T00:00:00.000000000",
          "2025-12-10T00:00:00.000000000",
          "2025-12-11T00:00:00.000000000",
          "2025-12-12T00:00:00.000000000",
          "2025-12-13T00:00:00.000000000",
          "2025-12-14T00:00:00.000000000",
          "2025-12-15T00:00:00.000000000",
          "2025-12-16T00:00:00.000000000",
          "2025-12-17T00:00:00.000000000",
          "2025-12-18T00:00:00.000000000",
          "2025-12-19T00:00:00.000000000",
          "2025-12-20T00:00:00.000000000",
          "2025-12-21T00:00:00.000000000",
          "2025-12-22T00:00:00.000000000"
         ],
         "xaxis": "x",
         "y": {
          "bdata": "cBHOxXaFh0AvCOAnIYOHQNh2FNRVgYdAznuOoiyAh0AiYygqPH+HQHNcKmJOfodANDsggkB+h0D4BdUgRn6HQGMBTGxnfodAoMCJkYp+h0DUtyqLw36HQNTFlpmcf4dAe41fkbOAh0A2o1VRpYGHQCwJa7gIg4dAuzMfsuCEh0AP7jXh4IaHQMDdRXhviIdA+bMfsmqKh0AG5znfbY2HQDWW1aBcj4dAtx8WVP6Qh0A+OFF+Y5KHQDYi3Papk4dAEgnuD4yWh0BaiIQAWZmHQMAAB6UinYdAt+qbbNqfh0DuCK+rb6SHQDSLJiRFqIdAbm9iFDesh0DRN3JqN7CHQPw7MoF4s4dAvm4C2Aa3h0BqkI2BpbmHQE6lLi4mvIdAiZXeKFK/h0Ca+o2KhMSHQPz5zkcqyYdAG6zOVDLMh0AR/DAWXc+HQC9svL8A04dAZ18+/9HVh0CPIJclI9iHQCg7qtpX24dAhNx3HSnfh0CvIKwLgOOHQMK1yC2O6IdAB6kU6C3sh0BCY46XHu+HQDGVsk+O9IdAy8bZB2D6h0BK5zCps/6HQEyoDu1bA4hAS/eEQZILiECI2wDGAxGIQMvNy5xEG4hAkb3fKpAliEBJcBGn5C6IQJsdJ3tlN4hAw0sDFfw7iEClRXq6hUCIQGEfdYApRYhAg0DTZppKiEB2IHFcxFGIQDAeMQE5VohA3OW/6O5fiEC2K81OyGKIQMNVxM3LaYhA0fBRD+1wiEDdM5IhNH2IQMwzwtokiYhA5ezv9Q6RiEAWFI9RV5SIQFCWqYeqmYhApyrIXCubiEBOTH6Y4p6IQB6qTopgpohAMgBeWpaviEDCAX3E37WIQM7d6pW1uYhAfPRcIkPAiEBn5Fu4MMOIQA02/fKByYhARsWltJrLiECnltLeDdWIQF/Qnpsr34hANwtPOTnfiEC9MFsSpOaIQKMoGqzB6ohA82Eq6FLuiEB/EDrf+/OIQK5APUs/9ohABwSZ1K79iECpjRMOWgSJQKW72Jj4C4lAstZJnfkOiUCiQL83OBKJQDylMQGAE4lAjiUoKUAaiUCc+u13UyKJQHTxMnZRKolAkGdk9pEziUDUPXEC2jyJQMdR/omRQolA1xeYtDRSiUByV21y2VeJQN9cT+D4YIlAHF9+XgFqiUBIMYWCvXGJQKmtBhZFfYlAofHITpaEiUBhJaFpQoWJQFF2NaWAiolApNJpYJqPiUDTfrkbcJaJQCAw4f9onolApkVHvkSqiUBUgLRjCreJQGXeMmAZw4lAidSCF5TNiUDUDwhj/M+JQB5Lja5k0olA8JXEagHXiUARRJH0w+uJQPRSHxdo74lAaMrQdND4iUD185BOOwSKQDSbHSKqCIpAj82eh2YPikCczjjj7RaKQPznv4EvIYpAJnW24HozikCvHMNpuDuKQNaS+Xe+QopAsDSlJqJJikDh/OVsKVCKQPAo2Hs7WopA89/1XONkikA964DeLW+KQO2Uu4cxbopAGy3e61l4ikDAfd7zs4KKQM/VNgdojIpAWnpckXWYikAerYpnBaSKQGqJdDJbrIpAb/UNmwK6ikB49V800sGKQF+w/vmHyopAuyCXZebUikCEgTYPl96KQOTjr/y26IpAHxY++bbzikB1nazI5P6KQJ20ngZlCYtAXEZ7l1UXi0C/KyzcZyeLQBs5mk/HNYtAKuVaSQ86i0A7iL+z1kGLQPP6gkh7RotAPMntsatLi0BKLf3nhFSLQFS4/4eyXItARGiS9Vtri0DrU4FK5XiLQKESy5dQgYtAMxSyKc+Ki0AEDlTLvJOLQKWAEvRSootAsdAxdriti0Bde06AaLiLQFGL8BxJwotAeOoJ5GDOi0C2zZkt1duLQOpfZ9hz54tAD2WVJCr6i0A1Kwd1owuMQNcJzqi5HoxA",
          "dtype": "f8"
         },
         "yaxis": "y"
        },
        {
         "fill": "tonexty",
         "fillcolor": "rgba(0, 114, 178, 0.2)",
         "line": {
          "color": "rgba(0, 114, 178, 0.2)",
          "width": 0
         },
         "mode": "lines",
         "name": "trend_lower",
         "type": "scatter",
         "x": [
          "2025-06-26T00:00:00.000000000",
          "2025-06-27T00:00:00.000000000",
          "2025-06-28T00:00:00.000000000",
          "2025-06-29T00:00:00.000000000",
          "2025-06-30T00:00:00.000000000",
          "2025-07-01T00:00:00.000000000",
          "2025-07-02T00:00:00.000000000",
          "2025-07-03T00:00:00.000000000",
          "2025-07-04T00:00:00.000000000",
          "2025-07-05T00:00:00.000000000",
          "2025-07-06T00:00:00.000000000",
          "2025-07-07T00:00:00.000000000",
          "2025-07-08T00:00:00.000000000",
          "2025-07-09T00:00:00.000000000",
          "2025-07-10T00:00:00.000000000",
          "2025-07-11T00:00:00.000000000",
          "2025-07-12T00:00:00.000000000",
          "2025-07-13T00:00:00.000000000",
          "2025-07-14T00:00:00.000000000",
          "2025-07-15T00:00:00.000000000",
          "2025-07-16T00:00:00.000000000",
          "2025-07-17T00:00:00.000000000",
          "2025-07-18T00:00:00.000000000",
          "2025-07-19T00:00:00.000000000",
          "2025-07-20T00:00:00.000000000",
          "2025-07-21T00:00:00.000000000",
          "2025-07-22T00:00:00.000000000",
          "2025-07-23T00:00:00.000000000",
          "2025-07-24T00:00:00.000000000",
          "2025-07-25T00:00:00.000000000",
          "2025-07-26T00:00:00.000000000",
          "2025-07-27T00:00:00.000000000",
          "2025-07-28T00:00:00.000000000",
          "2025-07-29T00:00:00.000000000",
          "2025-07-30T00:00:00.000000000",
          "2025-07-31T00:00:00.000000000",
          "2025-08-01T00:00:00.000000000",
          "2025-08-02T00:00:00.000000000",
          "2025-08-03T00:00:00.000000000",
          "2025-08-04T00:00:00.000000000",
          "2025-08-05T00:00:00.000000000",
          "2025-08-06T00:00:00.000000000",
          "2025-08-07T00:00:00.000000000",
          "2025-08-08T00:00:00.000000000",
          "2025-08-09T00:00:00.000000000",
          "2025-08-10T00:00:00.000000000",
          "2025-08-11T00:00:00.000000000",
          "2025-08-12T00:00:00.000000000",
          "2025-08-13T00:00:00.000000000",
          "2025-08-14T00:00:00.000000000",
          "2025-08-15T00:00:00.000000000",
          "2025-08-16T00:00:00.000000000",
          "2025-08-17T00:00:00.000000000",
          "2025-08-18T00:00:00.000000000",
          "2025-08-19T00:00:00.000000000",
          "2025-08-20T00:00:00.000000000",
          "2025-08-21T00:00:00.000000000",
          "2025-08-22T00:00:00.000000000",
          "2025-08-23T00:00:00.000000000",
          "2025-08-24T00:00:00.000000000",
          "2025-08-25T00:00:00.000000000",
          "2025-08-26T00:00:00.000000000",
          "2025-08-27T00:00:00.000000000",
          "2025-08-28T00:00:00.000000000",
          "2025-08-29T00:00:00.000000000",
          "2025-08-30T00:00:00.000000000",
          "2025-08-31T00:00:00.000000000",
          "2025-09-01T00:00:00.000000000",
          "2025-09-02T00:00:00.000000000",
          "2025-09-03T00:00:00.000000000",
          "2025-09-04T00:00:00.000000000",
          "2025-09-05T00:00:00.000000000",
          "2025-09-06T00:00:00.000000000",
          "2025-09-07T00:00:00.000000000",
          "2025-09-08T00:00:00.000000000",
          "2025-09-09T00:00:00.000000000",
          "2025-09-10T00:00:00.000000000",
          "2025-09-11T00:00:00.000000000",
          "2025-09-12T00:00:00.000000000",
          "2025-09-13T00:00:00.000000000",
          "2025-09-14T00:00:00.000000000",
          "2025-09-15T00:00:00.000000000",
          "2025-09-16T00:00:00.000000000",
          "2025-09-17T00:00:00.000000000",
          "2025-09-18T00:00:00.000000000",
          "2025-09-19T00:00:00.000000000",
          "2025-09-20T00:00:00.000000000",
          "2025-09-21T00:00:00.000000000",
          "2025-09-22T00:00:00.000000000",
          "2025-09-23T00:00:00.000000000",
          "2025-09-24T00:00:00.000000000",
          "2025-09-25T00:00:00.000000000",
          "2025-09-26T00:00:00.000000000",
          "2025-09-27T00:00:00.000000000",
          "2025-09-28T00:00:00.000000000",
          "2025-09-29T00:00:00.000000000",
          "2025-09-30T00:00:00.000000000",
          "2025-10-01T00:00:00.000000000",
          "2025-10-02T00:00:00.000000000",
          "2025-10-03T00:00:00.000000000",
          "2025-10-04T00:00:00.000000000",
          "2025-10-05T00:00:00.000000000",
          "2025-10-06T00:00:00.000000000",
          "2025-10-07T00:00:00.000000000",
          "2025-10-08T00:00:00.000000000",
          "2025-10-09T00:00:00.000000000",
          "2025-10-10T00:00:00.000000000",
          "2025-10-11T00:00:00.000000000",
          "2025-10-12T00:00:00.000000000",
          "2025-10-13T00:00:00.000000000",
          "2025-10-14T00:00:00.000000000",
          "2025-10-15T00:00:00.000000000",
          "2025-10-16T00:00:00.000000000",
          "2025-10-17T00:00:00.000000000",
          "2025-10-18T00:00:00.000000000",
          "2025-10-19T00:00:00.000000000",
          "2025-10-20T00:00:00.000000000",
          "2025-10-21T00:00:00.000000000",
          "2025-10-22T00:00:00.000000000",
          "2025-10-23T00:00:00.000000000",
          "2025-10-24T00:00:00.000000000",
          "2025-10-25T00:00:00.000000000",
          "2025-10-26T00:00:00.000000000",
          "2025-10-27T00:00:00.000000000",
          "2025-10-28T00:00:00.000000000",
          "2025-10-29T00:00:00.000000000",
          "2025-10-30T00:00:00.000000000",
          "2025-10-31T00:00:00.000000000",
          "2025-11-01T00:00:00.000000000",
          "2025-11-02T00:00:00.000000000",
          "2025-11-03T00:00:00.000000000",
          "2025-11-04T00:00:00.000000000",
          "2025-11-05T00:00:00.000000000",
          "2025-11-06T00:00:00.000000000",
          "2025-11-07T00:00:00.000000000",
          "2025-11-08T00:00:00.000000000",
          "2025-11-09T00:00:00.000000000",
          "2025-11-10T00:00:00.000000000",
          "2025-11-11T00:00:00.000000000",
          "2025-11-12T00:00:00.000000000",
          "2025-11-13T00:00:00.000000000",
          "2025-11-14T00:00:00.000000000",
          "2025-11-15T00:00:00.000000000",
          "2025-11-16T00:00:00.000000000",
          "2025-11-17T00:00:00.000000000",
          "2025-11-18T00:00:00.000000000",
          "2025-11-19T00:00:00.000000000",
          "2025-11-20T00:00:00.000000000",
          "2025-11-21T00:00:00.000000000",
          "2025-11-22T00:00:00.000000000",
          "2025-11-23T00:00:00.000000000",
          "2025-11-24T00:00:00.000000000",
          "2025-11-25T00:00:00.000000000",
          "2025-11-26T00:00:00.000000000",
          "2025-11-27T00:00:00.000000000",
          "2025-11-28T00:00:00.000000000",
          "2025-11-29T00:00:00.000000000",
          "2025-11-30T00:00:00.000000000",
          "2025-12-01T00:00:00.000000000",
          "2025-12-02T00:00:00.000000000",
          "2025-12-03T00:00:00.000000000",
          "2025-12-04T00:00:00.000000000",
          "2025-12-05T00:00:00.000000000",
          "2025-12-06T00:00:00.000000000",
          "2025-12-07T00:00:00.000000000",
          "2025-12-08T00:00:00.000000000",
          "2025-12-09T00:00:00.000000000",
          "2025-12-10T00:00:00.000000000",
          "2025-12-11T00:00:00.000000000",
          "2025-12-12T00:00:00.000000000",
          "2025-12-13T00:00:00.000000000",
          "2025-12-14T00:00:00.000000000",
          "2025-12-15T00:00:00.000000000",
          "2025-12-16T00:00:00.000000000",
          "2025-12-17T00:00:00.000000000",
          "2025-12-18T00:00:00.000000000",
          "2025-12-19T00:00:00.000000000",
          "2025-12-20T00:00:00.000000000",
          "2025-12-21T00:00:00.000000000",
          "2025-12-22T00:00:00.000000000"
         ],
         "xaxis": "x",
         "y": {
          "bdata": "cBHOxXaFh0AvCOAnIYOHQKl8X59PgIdA6Z/P/BR9h0D4GNzdjHmHQJ8ve2dRdYdAHQ1tTeVwh0AVr2GoYWyHQFbbPEQ6Z4dAqgac/hxih0BdubYNL12HQJw5wcdSV4dAzNveAtlRh0DIXytKpUqHQIw7VCdjRIdAHyq13kc/h0AOiJr0vjiHQHAVbs4vModApEYuL6osh0B7KWQ0xSWHQKVDwiUsH4dA86tWGsoXh0DAYCohJxGHQOIjyZ9hCodASvQWflQDh0DRo4qHT/2GQC1847V69oZAF9NW6hTvhkDi2q0S8ueGQJkos24c4IZAsFTgz7LXhkBYbeJ7Os6GQBZMcJelxoZApByQGta+hkDi09dKKrWGQD6KgegdrYZA1iFbMqelhkCRl0igGp6GQJq//xPOloZAiSlNc2uShkBzQtJkXoqGQCnS73YZgoZAtGTUDJx5hkAfPsgfS3GGQM3ZFL0saIZAfEVCSjxbhkDdDQA9P0+GQIDeEvhQRYZAyeDFpus6hkBIM0XqnjCGQBIojLJdI4ZAZ6m+CGwWhkDhRW/CCQqGQH1ljbmD/IVA2t8eLOvzhUCX40No4+2FQFVw2XRE6YVAWtl2zEPdhUB+L2pxe9aFQDOc4XfwyoVAkWvKurbAhUAxGeBj1LWFQJNxOPMtqIVAty+LdsqchUBUVbBoVpOFQL7QDXpciYVAR/CZiop/hUBpLebVKHWFQE76Tb/oaYVA0EfewJJdhUCn5eXWa1KFQLJLknvDR4VA/cGaQtU7hUCBjFCVLTCFQIUs69+mJIVAUWJss4EZhUA9E7bQrA6FQH0Kwnn7A4VAR98bEl/6hEBViwizme+EQNZpquA75IRAUQNKMuXVhEC5uLivxsqEQGZJGZZRvoRA3SfcaMethEApPlw8cZyEQPxmU3mijoRA99+gXmx/hECifD1teniEQPWAPZmVb4RAT9KbkARnhECcMphPPVqEQFlsUUGVSoRAKwuuVJ46hEDKQ6YJKiuEQNGfPfX2HIRA+GqiIi4QhEBTPguwfQSEQN4NChOr+YNAG+EpciPsg0DMV9WBcOCDQKH5mODW1oNAOsLNIEnKg0CI+q8bYsCDQDkUA8Jrt4NAV3ahO3eug0CTffSENaKDQCUtBhChkoNAaCBCyz6Ng0AzYbt9/YSDQLk8voE1doNAn+L9IZRig0AfUyqfBlmDQMrRk+WqSYNAZgYphyo+g0CmVACpGTCDQMLx5lzlIINAlrKLB8MQg0CEkp7IVQGDQI5JumvM8oJAUi5Pvq7mgkDkySgZWNiCQFkYQZ6xyYJAnOLimT+5gkB18pskUa2CQEPdLm00oYJACGL8yPGRgkAFYKrlDoWCQObxEc+jc4JAW5IJYnRkgkDVLM973lWCQDZ075d4R4JARbzA7rk4gkCZ0rxQRyaCQMLS+XKqFYJArTkRpRMJgkDpJXWKUfyBQEZJmaM164FA1rqzBCDVgUAP2Psa38SBQGqxGZTzsYFAAuIYgAKjgUCFS5X7ZZKBQJhdTXRUjIFAcleVLJ6JgUBHxc6qHHGBQLTmsfe4Y4FAN0d5+5BPgUAq6kSRUjuBQAsxBUlzLYFAa/NPAYIcgUACFocarwuBQG14nvpx/oBAcysoMmHxgEC8J7xZP+WAQO9+3ibk1oBAFgL8en3JgEA7/tBZK72AQKwBB3DUsoBAzaPVqgSkgED/81tDCpuAQEc1Ew4fjYBAMejZr+R6gEBoNv7h7WuAQB0ILj3eW4BA4vQCBEZNgED02nevtECAQKs8h1NHM4BA8s0vMTUlgECV6YKyaBaAQATRpSD7CIBALEo3JFrxf0DBhh7HYdd/QK9KgZcVr39A/esG6nWHf0AOwxz0wWZ/QJbRHM6UTH9AHeAcqGcyf0Co7hyCOhh/QGV45uWi+H5A",
          "dtype": "f8"
         },
         "yaxis": "y"
        },
        {
         "line": {
          "color": "#0072B2",
          "width": 2
         },
         "mode": "lines",
         "name": "extra_regressors_additive",
         "type": "scatter",
         "x": [
          "2025-06-26T00:00:00.000000000",
          "2025-06-27T00:00:00.000000000",
          "2025-06-28T00:00:00.000000000",
          "2025-06-29T00:00:00.000000000",
          "2025-06-30T00:00:00.000000000",
          "2025-07-01T00:00:00.000000000",
          "2025-07-02T00:00:00.000000000",
          "2025-07-03T00:00:00.000000000",
          "2025-07-04T00:00:00.000000000",
          "2025-07-05T00:00:00.000000000",
          "2025-07-06T00:00:00.000000000",
          "2025-07-07T00:00:00.000000000",
          "2025-07-08T00:00:00.000000000",
          "2025-07-09T00:00:00.000000000",
          "2025-07-10T00:00:00.000000000",
          "2025-07-11T00:00:00.000000000",
          "2025-07-12T00:00:00.000000000",
          "2025-07-13T00:00:00.000000000",
          "2025-07-14T00:00:00.000000000",
          "2025-07-15T00:00:00.000000000",
          "2025-07-16T00:00:00.000000000",
          "2025-07-17T00:00:00.000000000",
          "2025-07-18T00:00:00.000000000",
          "2025-07-19T00:00:00.000000000",
          "2025-07-20T00:00:00.000000000",
          "2025-07-21T00:00:00.000000000",
          "2025-07-22T00:00:00.000000000",
          "2025-07-23T00:00:00.000000000",
          "2025-07-24T00:00:00.000000000",
          "2025-07-25T00:00:00.000000000",
          "2025-07-26T00:00:00.000000000",
          "2025-07-27T00:00:00.000000000",
          "2025-07-28T00:00:00.000000000",
          "2025-07-29T00:00:00.000000000",
          "2025-07-30T00:00:00.000000000",
          "2025-07-31T00:00:00.000000000",
          "2025-08-01T00:00:00.000000000",
          "2025-08-02T00:00:00.000000000",
          "2025-08-03T00:00:00.000000000",
          "2025-08-04T00:00:00.000000000",
          "2025-08-05T00:00:00.000000000",
          "2025-08-06T00:00:00.000000000",
          "2025-08-07T00:00:00.000000000",
          "2025-08-08T00:00:00.000000000",
          "2025-08-09T00:00:00.000000000",
          "2025-08-10T00:00:00.000000000",
          "2025-08-11T00:00:00.000000000",
          "2025-08-12T00:00:00.000000000",
          "2025-08-13T00:00:00.000000000",
          "2025-08-14T00:00:00.000000000",
          "2025-08-15T00:00:00.000000000",
          "2025-08-16T00:00:00.000000000",
          "2025-08-17T00:00:00.000000000",
          "2025-08-18T00:00:00.000000000",
          "2025-08-19T00:00:00.000000000",
          "2025-08-20T00:00:00.000000000",
          "2025-08-21T00:00:00.000000000",
          "2025-08-22T00:00:00.000000000",
          "2025-08-23T00:00:00.000000000",
          "2025-08-24T00:00:00.000000000",
          "2025-08-25T00:00:00.000000000",
          "2025-08-26T00:00:00.000000000",
          "2025-08-27T00:00:00.000000000",
          "2025-08-28T00:00:00.000000000",
          "2025-08-29T00:00:00.000000000",
          "2025-08-30T00:00:00.000000000",
          "2025-08-31T00:00:00.000000000",
          "2025-09-01T00:00:00.000000000",
          "2025-09-02T00:00:00.000000000",
          "2025-09-03T00:00:00.000000000",
          "2025-09-04T00:00:00.000000000",
          "2025-09-05T00:00:00.000000000",
          "2025-09-06T00:00:00.000000000",
          "2025-09-07T00:00:00.000000000",
          "2025-09-08T00:00:00.000000000",
          "2025-09-09T00:00:00.000000000",
          "2025-09-10T00:00:00.000000000",
          "2025-09-11T00:00:00.000000000",
          "2025-09-12T00:00:00.000000000",
          "2025-09-13T00:00:00.000000000",
          "2025-09-14T00:00:00.000000000",
          "2025-09-15T00:00:00.000000000",
          "2025-09-16T00:00:00.000000000",
          "2025-09-17T00:00:00.000000000",
          "2025-09-18T00:00:00.000000000",
          "2025-09-19T00:00:00.000000000",
          "2025-09-20T00:00:00.000000000",
          "2025-09-21T00:00:00.000000000",
          "2025-09-22T00:00:00.000000000",
          "2025-09-23T00:00:00.000000000",
          "2025-09-24T00:00:00.000000000",
          "2025-09-25T00:00:00.000000000",
          "2025-09-26T00:00:00.000000000",
          "2025-09-27T00:00:00.000000000",
          "2025-09-28T00:00:00.000000000",
          "2025-09-29T00:00:00.000000000",
          "2025-09-30T00:00:00.000000000",
          "2025-10-01T00:00:00.000000000",
          "2025-10-02T00:00:00.000000000",
          "2025-10-03T00:00:00.000000000",
          "2025-10-04T00:00:00.000000000",
          "2025-10-05T00:00:00.000000000",
          "2025-10-06T00:00:00.000000000",
          "2025-10-07T00:00:00.000000000",
          "2025-10-08T00:00:00.000000000",
          "2025-10-09T00:00:00.000000000",
          "2025-10-10T00:00:00.000000000",
          "2025-10-11T00:00:00.000000000",
          "2025-10-12T00:00:00.000000000",
          "2025-10-13T00:00:00.000000000",
          "2025-10-14T00:00:00.000000000",
          "2025-10-15T00:00:00.000000000",
          "2025-10-16T00:00:00.000000000",
          "2025-10-17T00:00:00.000000000",
          "2025-10-18T00:00:00.000000000",
          "2025-10-19T00:00:00.000000000",
          "2025-10-20T00:00:00.000000000",
          "2025-10-21T00:00:00.000000000",
          "2025-10-22T00:00:00.000000000",
          "2025-10-23T00:00:00.000000000",
          "2025-10-24T00:00:00.000000000",
          "2025-10-25T00:00:00.000000000",
          "2025-10-26T00:00:00.000000000",
          "2025-10-27T00:00:00.000000000",
          "2025-10-28T00:00:00.000000000",
          "2025-10-29T00:00:00.000000000",
          "2025-10-30T00:00:00.000000000",
          "2025-10-31T00:00:00.000000000",
          "2025-11-01T00:00:00.000000000",
          "2025-11-02T00:00:00.000000000",
          "2025-11-03T00:00:00.000000000",
          "2025-11-04T00:00:00.000000000",
          "2025-11-05T00:00:00.000000000",
          "2025-11-06T00:00:00.000000000",
          "2025-11-07T00:00:00.000000000",
          "2025-11-08T00:00:00.000000000",
          "2025-11-09T00:00:00.000000000",
          "2025-11-10T00:00:00.000000000",
          "2025-11-11T00:00:00.000000000",
          "2025-11-12T00:00:00.000000000",
          "2025-11-13T00:00:00.000000000",
          "2025-11-14T00:00:00.000000000",
          "2025-11-15T00:00:00.000000000",
          "2025-11-16T00:00:00.000000000",
          "2025-11-17T00:00:00.000000000",
          "2025-11-18T00:00:00.000000000",
          "2025-11-19T00:00:00.000000000",
          "2025-11-20T00:00:00.000000000",
          "2025-11-21T00:00:00.000000000",
          "2025-11-22T00:00:00.000000000",
          "2025-11-23T00:00:00.000000000",
          "2025-11-24T00:00:00.000000000",
          "2025-11-25T00:00:00.000000000",
          "2025-11-26T00:00:00.000000000",
          "2025-11-27T00:00:00.000000000",
          "2025-11-28T00:00:00.000000000",
          "2025-11-29T00:00:00.000000000",
          "2025-11-30T00:00:00.000000000",
          "2025-12-01T00:00:00.000000000",
          "2025-12-02T00:00:00.000000000",
          "2025-12-03T00:00:00.000000000",
          "2025-12-04T00:00:00.000000000",
          "2025-12-05T00:00:00.000000000",
          "2025-12-06T00:00:00.000000000",
          "2025-12-07T00:00:00.000000000",
          "2025-12-08T00:00:00.000000000",
          "2025-12-09T00:00:00.000000000",
          "2025-12-10T00:00:00.000000000",
          "2025-12-11T00:00:00.000000000",
          "2025-12-12T00:00:00.000000000",
          "2025-12-13T00:00:00.000000000",
          "2025-12-14T00:00:00.000000000",
          "2025-12-15T00:00:00.000000000",
          "2025-12-16T00:00:00.000000000",
          "2025-12-17T00:00:00.000000000",
          "2025-12-18T00:00:00.000000000",
          "2025-12-19T00:00:00.000000000",
          "2025-12-20T00:00:00.000000000",
          "2025-12-21T00:00:00.000000000",
          "2025-12-22T00:00:00.000000000"
         ],
         "xaxis": "x2",
         "y": {
          "bdata": "hsWUCz5tKECGxZQLPm0oQIbFlAs+bShAhsWUCz5tKECGxZQLPm0oQIbFlAs+bShAhsWUCz5tKECGxZQLPm0oQIbFlAs+bShAhsWUCz5tKECGxZQLPm0oQIbFlAs+bShAhsWUCz5tKECGxZQLPm0oQIbFlAs+bShAhsWUCz5tKECGxZQLPm0oQIbFlAs+bShAhsWUCz5tKECGxZQLPm0oQIbFlAs+bShAhsWUCz5tKECGxZQLPm0oQIbFlAs+bShAhsWUCz5tKECGxZQLPm0oQIbFlAs+bShAhsWUCz5tKECGxZQLPm0oQIbFlAs+bShAhsWUCz5tKECGxZQLPm0oQIbFlAs+bShAhsWUCz5tKECGxZQLPm0oQIbFlAs+bShAhsWUCz5tKECGxZQLPm0oQIbFlAs+bShAhsWUCz5tKECGxZQLPm0oQIbFlAs+bShAhsWUCz5tKECGxZQLPm0oQIbFlAs+bShAhsWUCz5tKECGxZQLPm0oQIbFlAs+bShAhsWUCz5tKECGxZQLPm0oQIbFlAs+bShAhsWUCz5tKECGxZQLPm0oQIbFlAs+bShAhsWUCz5tKECGxZQLPm0oQIbFlAs+bShAhsWUCz5tKECGxZQLPm0oQIbFlAs+bShAhsWUCz5tKECGxZQLPm0oQIbFlAs+bShAhsWUCz5tKECGxZQLPm0oQIbFlAs+bShAhsWUCz5tKECGxZQLPm0oQIbFlAs+bShAhsWUCz5tKECGxZQLPm0oQIbFlAs+bShAhsWUCz5tKECGxZQLPm0oQIbFlAs+bShAhsWUCz5tKECGxZQLPm0oQIbFlAs+bShAhsWUCz5tKECGxZQLPm0oQIbFlAs+bShAhsWUCz5tKECGxZQLPm0oQIbFlAs+bShAhsWUCz5tKECGxZQLPm0oQIbFlAs+bShAhsWUCz5tKECGxZQLPm0oQIbFlAs+bShAhsWUCz5tKECGxZQLPm0oQIbFlAs+bShAhsWUCz5tKECGxZQLPm0oQIbFlAs+bShAhsWUCz5tKECGxZQLPm0oQIbFlAs+bShAhsWUCz5tKECGxZQLPm0oQIbFlAs+bShAhsWUCz5tKECGxZQLPm0oQIbFlAs+bShAhsWUCz5tKECGxZQLPm0oQIbFlAs+bShAhsWUCz5tKECGxZQLPm0oQIbFlAs+bShAhsWUCz5tKECGxZQLPm0oQIbFlAs+bShAhsWUCz5tKECGxZQLPm0oQIbFlAs+bShAhsWUCz5tKECGxZQLPm0oQIbFlAs+bShAhsWUCz5tKECGxZQLPm0oQIbFlAs+bShAhsWUCz5tKECGxZQLPm0oQIbFlAs+bShAhsWUCz5tKECGxZQLPm0oQIbFlAs+bShAhsWUCz5tKECGxZQLPm0oQIbFlAs+bShAhsWUCz5tKECGxZQLPm0oQIbFlAs+bShAhsWUCz5tKECGxZQLPm0oQIbFlAs+bShAhsWUCz5tKECGxZQLPm0oQIbFlAs+bShAhsWUCz5tKECGxZQLPm0oQIbFlAs+bShAhsWUCz5tKECGxZQLPm0oQIbFlAs+bShAhsWUCz5tKECGxZQLPm0oQIbFlAs+bShAhsWUCz5tKECGxZQLPm0oQIbFlAs+bShAhsWUCz5tKECGxZQLPm0oQIbFlAs+bShAhsWUCz5tKECGxZQLPm0oQIbFlAs+bShAhsWUCz5tKECGxZQLPm0oQIbFlAs+bShAhsWUCz5tKECGxZQLPm0oQIbFlAs+bShAhsWUCz5tKECGxZQLPm0oQIbFlAs+bShAhsWUCz5tKECGxZQLPm0oQIbFlAs+bShAhsWUCz5tKECGxZQLPm0oQIbFlAs+bShAhsWUCz5tKECGxZQLPm0oQIbFlAs+bShAhsWUCz5tKECGxZQLPm0oQIbFlAs+bShA",
          "dtype": "f8"
         },
         "yaxis": "y2"
        },
        {
         "line": {
          "color": "#0072B2",
          "width": 2
         },
         "mode": "lines",
         "name": "weekly",
         "type": "scatter",
         "x": [
          "2017-01-01T00:00:00.000000000",
          "2017-01-02T00:00:00.000000000",
          "2017-01-03T00:00:00.000000000",
          "2017-01-04T00:00:00.000000000",
          "2017-01-05T00:00:00.000000000",
          "2017-01-06T00:00:00.000000000",
          "2017-01-07T00:00:00.000000000"
         ],
         "xaxis": "x3",
         "y": {
          "bdata": "UuaLwYvp2b/4bzLa1WG4PzQ1DPnUEAlAsxHc58iaDECzCJNCw2T3P9my5ofgNQ7AxJx1GP5WEMA=",
          "dtype": "f8"
         },
         "yaxis": "y3"
        }
       ],
       "layout": {
        "height": 600,
        "showlegend": false,
        "template": {
         "data": {
          "bar": [
           {
            "error_x": {
             "color": "#2a3f5f"
            },
            "error_y": {
             "color": "#2a3f5f"
            },
            "marker": {
             "line": {
              "color": "#E5ECF6",
              "width": 0.5
             },
             "pattern": {
              "fillmode": "overlay",
              "size": 10,
              "solidity": 0.2
             }
            },
            "type": "bar"
           }
          ],
          "barpolar": [
           {
            "marker": {
             "line": {
              "color": "#E5ECF6",
              "width": 0.5
             },
             "pattern": {
              "fillmode": "overlay",
              "size": 10,
              "solidity": 0.2
             }
            },
            "type": "barpolar"
           }
          ],
          "carpet": [
           {
            "aaxis": {
             "endlinecolor": "#2a3f5f",
             "gridcolor": "white",
             "linecolor": "white",
             "minorgridcolor": "white",
             "startlinecolor": "#2a3f5f"
            },
            "baxis": {
             "endlinecolor": "#2a3f5f",
             "gridcolor": "white",
             "linecolor": "white",
             "minorgridcolor": "white",
             "startlinecolor": "#2a3f5f"
            },
            "type": "carpet"
           }
          ],
          "choropleth": [
           {
            "colorbar": {
             "outlinewidth": 0,
             "ticks": ""
            },
            "type": "choropleth"
           }
          ],
          "contour": [
           {
            "colorbar": {
             "outlinewidth": 0,
             "ticks": ""
            },
            "colorscale": [
             [
              0,
              "#0d0887"
             ],
             [
              0.1111111111111111,
              "#46039f"
             ],
             [
              0.2222222222222222,
              "#7201a8"
             ],
             [
              0.3333333333333333,
              "#9c179e"
             ],
             [
              0.4444444444444444,
              "#bd3786"
             ],
             [
              0.5555555555555556,
              "#d8576b"
             ],
             [
              0.6666666666666666,
              "#ed7953"
             ],
             [
              0.7777777777777778,
              "#fb9f3a"
             ],
             [
              0.8888888888888888,
              "#fdca26"
             ],
             [
              1,
              "#f0f921"
             ]
            ],
            "type": "contour"
           }
          ],
          "contourcarpet": [
           {
            "colorbar": {
             "outlinewidth": 0,
             "ticks": ""
            },
            "type": "contourcarpet"
           }
          ],
          "heatmap": [
           {
            "colorbar": {
             "outlinewidth": 0,
             "ticks": ""
            },
            "colorscale": [
             [
              0,
              "#0d0887"
             ],
             [
              0.1111111111111111,
              "#46039f"
             ],
             [
              0.2222222222222222,
              "#7201a8"
             ],
             [
              0.3333333333333333,
              "#9c179e"
             ],
             [
              0.4444444444444444,
              "#bd3786"
             ],
             [
              0.5555555555555556,
              "#d8576b"
             ],
             [
              0.6666666666666666,
              "#ed7953"
             ],
             [
              0.7777777777777778,
              "#fb9f3a"
             ],
             [
              0.8888888888888888,
              "#fdca26"
             ],
             [
              1,
              "#f0f921"
             ]
            ],
            "type": "heatmap"
           }
          ],
          "histogram": [
           {
            "marker": {
             "pattern": {
              "fillmode": "overlay",
              "size": 10,
              "solidity": 0.2
             }
            },
            "type": "histogram"
           }
          ],
          "histogram2d": [
           {
            "colorbar": {
             "outlinewidth": 0,
             "ticks": ""
            },
            "colorscale": [
             [
              0,
              "#0d0887"
             ],
             [
              0.1111111111111111,
              "#46039f"
             ],
             [
              0.2222222222222222,
              "#7201a8"
             ],
             [
              0.3333333333333333,
              "#9c179e"
             ],
             [
              0.4444444444444444,
              "#bd3786"
             ],
             [
              0.5555555555555556,
              "#d8576b"
             ],
             [
              0.6666666666666666,
              "#ed7953"
             ],
             [
              0.7777777777777778,
              "#fb9f3a"
             ],
             [
              0.8888888888888888,
              "#fdca26"
             ],
             [
              1,
              "#f0f921"
             ]
            ],
            "type": "histogram2d"
           }
          ],
          "histogram2dcontour": [
           {
            "colorbar": {
             "outlinewidth": 0,
             "ticks": ""
            },
            "colorscale": [
             [
              0,
              "#0d0887"
             ],
             [
              0.1111111111111111,
              "#46039f"
             ],
             [
              0.2222222222222222,
              "#7201a8"
             ],
             [
              0.3333333333333333,
              "#9c179e"
             ],
             [
              0.4444444444444444,
              "#bd3786"
             ],
             [
              0.5555555555555556,
              "#d8576b"
             ],
             [
              0.6666666666666666,
              "#ed7953"
             ],
             [
              0.7777777777777778,
              "#fb9f3a"
             ],
             [
              0.8888888888888888,
              "#fdca26"
             ],
             [
              1,
              "#f0f921"
             ]
            ],
            "type": "histogram2dcontour"
           }
          ],
          "mesh3d": [
           {
            "colorbar": {
             "outlinewidth": 0,
             "ticks": ""
            },
            "type": "mesh3d"
           }
          ],
          "parcoords": [
           {
            "line": {
             "colorbar": {
              "outlinewidth": 0,
              "ticks": ""
             }
            },
            "type": "parcoords"
           }
          ],
          "pie": [
           {
            "automargin": true,
            "type": "pie"
           }
          ],
          "scatter": [
           {
            "fillpattern": {
             "fillmode": "overlay",
             "size": 10,
             "solidity": 0.2
            },
            "type": "scatter"
           }
          ],
          "scatter3d": [
           {
            "line": {
             "colorbar": {
              "outlinewidth": 0,
              "ticks": ""
             }
            },
            "marker": {
             "colorbar": {
              "outlinewidth": 0,
              "ticks": ""
             }
            },
            "type": "scatter3d"
           }
          ],
          "scattercarpet": [
           {
            "marker": {
             "colorbar": {
              "outlinewidth": 0,
              "ticks": ""
             }
            },
            "type": "scattercarpet"
           }
          ],
          "scattergeo": [
           {
            "marker": {
             "colorbar": {
              "outlinewidth": 0,
              "ticks": ""
             }
            },
            "type": "scattergeo"
           }
          ],
          "scattergl": [
           {
            "marker": {
             "colorbar": {
              "outlinewidth": 0,
              "ticks": ""
             }
            },
            "type": "scattergl"
           }
          ],
          "scattermap": [
           {
            "marker": {
             "colorbar": {
              "outlinewidth": 0,
              "ticks": ""
             }
            },
            "type": "scattermap"
           }
          ],
          "scattermapbox": [
           {
            "marker": {
             "colorbar": {
              "outlinewidth": 0,
              "ticks": ""
             }
            },
            "type": "scattermapbox"
           }
          ],
          "scatterpolar": [
           {
            "marker": {
             "colorbar": {
              "outlinewidth": 0,
              "ticks": ""
             }
            },
            "type": "scatterpolar"
           }
          ],
          "scatterpolargl": [
           {
            "marker": {
             "colorbar": {
              "outlinewidth": 0,
              "ticks": ""
             }
            },
            "type": "scatterpolargl"
           }
          ],
          "scatterternary": [
           {
            "marker": {
             "colorbar": {
              "outlinewidth": 0,
              "ticks": ""
             }
            },
            "type": "scatterternary"
           }
          ],
          "surface": [
           {
            "colorbar": {
             "outlinewidth": 0,
             "ticks": ""
            },
            "colorscale": [
             [
              0,
              "#0d0887"
             ],
             [
              0.1111111111111111,
              "#46039f"
             ],
             [
              0.2222222222222222,
              "#7201a8"
             ],
             [
              0.3333333333333333,
              "#9c179e"
             ],
             [
              0.4444444444444444,
              "#bd3786"
             ],
             [
              0.5555555555555556,
              "#d8576b"
             ],
             [
              0.6666666666666666,
              "#ed7953"
             ],
             [
              0.7777777777777778,
              "#fb9f3a"
             ],
             [
              0.8888888888888888,
              "#fdca26"
             ],
             [
              1,
              "#f0f921"
             ]
            ],
            "type": "surface"
           }
          ],
          "table": [
           {
            "cells": {
             "fill": {
              "color": "#EBF0F8"
             },
             "line": {
              "color": "white"
             }
            },
            "header": {
             "fill": {
              "color": "#C8D4E3"
             },
             "line": {
              "color": "white"
             }
            },
            "type": "table"
           }
          ]
         },
         "layout": {
          "annotationdefaults": {
           "arrowcolor": "#2a3f5f",
           "arrowhead": 0,
           "arrowwidth": 1
          },
          "autotypenumbers": "strict",
          "coloraxis": {
           "colorbar": {
            "outlinewidth": 0,
            "ticks": ""
           }
          },
          "colorscale": {
           "diverging": [
            [
             0,
             "#8e0152"
            ],
            [
             0.1,
             "#c51b7d"
            ],
            [
             0.2,
             "#de77ae"
            ],
            [
             0.3,
             "#f1b6da"
            ],
            [
             0.4,
             "#fde0ef"
            ],
            [
             0.5,
             "#f7f7f7"
            ],
            [
             0.6,
             "#e6f5d0"
            ],
            [
             0.7,
             "#b8e186"
            ],
            [
             0.8,
             "#7fbc41"
            ],
            [
             0.9,
             "#4d9221"
            ],
            [
             1,
             "#276419"
            ]
           ],
           "sequential": [
            [
             0,
             "#0d0887"
            ],
            [
             0.1111111111111111,
             "#46039f"
            ],
            [
             0.2222222222222222,
             "#7201a8"
            ],
            [
             0.3333333333333333,
             "#9c179e"
            ],
            [
             0.4444444444444444,
             "#bd3786"
            ],
            [
             0.5555555555555556,
             "#d8576b"
            ],
            [
             0.6666666666666666,
             "#ed7953"
            ],
            [
             0.7777777777777778,
             "#fb9f3a"
            ],
            [
             0.8888888888888888,
             "#fdca26"
            ],
            [
             1,
             "#f0f921"
            ]
           ],
           "sequentialminus": [
            [
             0,
             "#0d0887"
            ],
            [
             0.1111111111111111,
             "#46039f"
            ],
            [
             0.2222222222222222,
             "#7201a8"
            ],
            [
             0.3333333333333333,
             "#9c179e"
            ],
            [
             0.4444444444444444,
             "#bd3786"
            ],
            [
             0.5555555555555556,
             "#d8576b"
            ],
            [
             0.6666666666666666,
             "#ed7953"
            ],
            [
             0.7777777777777778,
             "#fb9f3a"
            ],
            [
             0.8888888888888888,
             "#fdca26"
            ],
            [
             1,
             "#f0f921"
            ]
           ]
          },
          "colorway": [
           "#636efa",
           "#EF553B",
           "#00cc96",
           "#ab63fa",
           "#FFA15A",
           "#19d3f3",
           "#FF6692",
           "#B6E880",
           "#FF97FF",
           "#FECB52"
          ],
          "font": {
           "color": "#2a3f5f"
          },
          "geo": {
           "bgcolor": "white",
           "lakecolor": "white",
           "landcolor": "#E5ECF6",
           "showlakes": true,
           "showland": true,
           "subunitcolor": "white"
          },
          "hoverlabel": {
           "align": "left"
          },
          "hovermode": "closest",
          "mapbox": {
           "style": "light"
          },
          "paper_bgcolor": "white",
          "plot_bgcolor": "#E5ECF6",
          "polar": {
           "angularaxis": {
            "gridcolor": "white",
            "linecolor": "white",
            "ticks": ""
           },
           "bgcolor": "#E5ECF6",
           "radialaxis": {
            "gridcolor": "white",
            "linecolor": "white",
            "ticks": ""
           }
          },
          "scene": {
           "xaxis": {
            "backgroundcolor": "#E5ECF6",
            "gridcolor": "white",
            "gridwidth": 2,
            "linecolor": "white",
            "showbackground": true,
            "ticks": "",
            "zerolinecolor": "white"
           },
           "yaxis": {
            "backgroundcolor": "#E5ECF6",
            "gridcolor": "white",
            "gridwidth": 2,
            "linecolor": "white",
            "showbackground": true,
            "ticks": "",
            "zerolinecolor": "white"
           },
           "zaxis": {
            "backgroundcolor": "#E5ECF6",
            "gridcolor": "white",
            "gridwidth": 2,
            "linecolor": "white",
            "showbackground": true,
            "ticks": "",
            "zerolinecolor": "white"
           }
          },
          "shapedefaults": {
           "line": {
            "color": "#2a3f5f"
           }
          },
          "ternary": {
           "aaxis": {
            "gridcolor": "white",
            "linecolor": "white",
            "ticks": ""
           },
           "baxis": {
            "gridcolor": "white",
            "linecolor": "white",
            "ticks": ""
           },
           "bgcolor": "#E5ECF6",
           "caxis": {
            "gridcolor": "white",
            "linecolor": "white",
            "ticks": ""
           }
          },
          "title": {
           "x": 0.05
          },
          "xaxis": {
           "automargin": true,
           "gridcolor": "white",
           "linecolor": "white",
           "ticks": "",
           "title": {
            "standoff": 15
           },
           "zerolinecolor": "white",
           "zerolinewidth": 2
          },
          "yaxis": {
           "automargin": true,
           "gridcolor": "white",
           "linecolor": "white",
           "ticks": "",
           "title": {
            "standoff": 15
           },
           "zerolinecolor": "white",
           "zerolinewidth": 2
          }
         }
        },
        "width": 900,
        "xaxis": {
         "anchor": "y",
         "domain": [
          0,
          1
         ],
         "range": [
          "2025-06-17T01:12:00",
          "2025-12-30T22:48:00"
         ],
         "type": "date"
        },
        "xaxis2": {
         "anchor": "y2",
         "domain": [
          0,
          1
         ],
         "range": [
          "2025-06-17T01:12:00",
          "2025-12-30T22:48:00"
         ],
         "type": "date"
        },
        "xaxis3": {
         "anchor": "y3",
         "domain": [
          0,
          1
         ],
         "range": [
          "2016-12-31T16:48:00",
          "2017-01-07T07:12:00"
         ],
         "tickformat": "%A",
         "type": "date"
        },
        "yaxis": {
         "anchor": "x",
         "domain": [
          0.7333333333333333,
          1
         ],
         "rangemode": "normal",
         "title": {
          "text": "trend"
         },
         "zerolinecolor": "#AAA"
        },
        "yaxis2": {
         "anchor": "x2",
         "domain": [
          0.36666666666666664,
          0.6333333333333333
         ],
         "rangemode": "tozero",
         "title": {
          "text": "extra_regressors_additive"
         },
         "zerolinecolor": "#AAA"
        },
        "yaxis3": {
         "anchor": "x3",
         "domain": [
          0,
          0.26666666666666666
         ],
         "title": {
          "text": "weekly"
         },
         "zerolinecolor": "#AAA"
        }
       }
      }
     },
     "metadata": {},
     "output_type": "display_data"
    }
   ],
   "source": [
    "from prophet.plot import plot_components_plotly\n",
    "fig = plot_components_plotly(model, forecast)\n",
    "fig.show()"
   ]
  },
  {
   "cell_type": "code",
   "execution_count": 53,
   "id": "d35a5338",
   "metadata": {},
   "outputs": [
    {
     "data": {
      "application/vnd.plotly.v1+json": {
       "config": {
        "plotlyServerURL": "https://plot.ly"
       },
       "data": [
        {
         "line": {
          "color": "lightgreen",
          "width": 2
         },
         "name": "iPhone 15 (storico)",
         "opacity": 0.8,
         "type": "scatter",
         "x": {
          "bdata": "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",
          "dtype": "f8"
         },
         "y": {
          "bdata": "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",
          "dtype": "f8"
         }
        },
        {
         "line": {
          "color": "#4CA3DD",
          "width": 3
         },
         "name": "iPhone 16 (storico)",
         "type": "scatter",
         "x": {
          "bdata": "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",
          "dtype": "f8"
         },
         "y": {
          "bdata": "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",
          "dtype": "f8"
         }
        },
        {
         "line": {
          "color": "orange",
          "width": 3
         },
         "mode": "lines",
         "name": "iPhone 16 (previsione)",
         "type": "scatter",
         "x": {
          "bdata": "AAAAAADgcUAAAAAAAPBxQAAAAAAAAHJAAAAAAAAQckAAAAAAACByQAAAAAAAMHJAAAAAAABAckAAAAAAAFByQAAAAAAAYHJAAAAAAABwckAAAAAAAIByQAAAAAAAkHJAAAAAAACgckAAAAAAALByQAAAAAAAwHJAAAAAAADQckAAAAAAAOByQAAAAAAA8HJAAAAAAAAAc0AAAAAAABBzQAAAAAAAIHNAAAAAAAAwc0AAAAAAAEBzQAAAAAAAUHNAAAAAAABgc0AAAAAAAHBzQAAAAAAAgHNAAAAAAACQc0AAAAAAAKBzQAAAAAAAsHNAAAAAAADAc0AAAAAAANBzQAAAAAAA4HNAAAAAAADwc0AAAAAAAAB0QAAAAAAAEHRAAAAAAAAgdEAAAAAAADB0QAAAAAAAQHRAAAAAAABQdEAAAAAAAGB0QAAAAAAAcHRAAAAAAACAdEAAAAAAAJB0QAAAAAAAoHRAAAAAAACwdEAAAAAAAMB0QAAAAAAA0HRAAAAAAADgdEAAAAAAAPB0QAAAAAAAAHVAAAAAAAAQdUAAAAAAACB1QAAAAAAAMHVAAAAAAABAdUAAAAAAAFB1QAAAAAAAYHVAAAAAAABwdUAAAAAAAIB1QAAAAAAAkHVAAAAAAACgdUAAAAAAALB1QAAAAAAAwHVAAAAAAADQdUAAAAAAAOB1QAAAAAAA8HVAAAAAAAAAdkAAAAAAABB2QAAAAAAAIHZAAAAAAAAwdkAAAAAAAEB2QAAAAAAAUHZAAAAAAABgdkAAAAAAAHB2QAAAAAAAgHZAAAAAAACQdkAAAAAAAKB2QAAAAAAAsHZAAAAAAADAdkAAAAAAANB2QAAAAAAA4HZAAAAAAADwdkAAAAAAAAB3QAAAAAAAEHdAAAAAAAAgd0AAAAAAADB3QAAAAAAAQHdAAAAAAABQd0AAAAAAAGB3QAAAAAAAcHdAAAAAAACAd0AAAAAAAJB3QAAAAAAAoHdAAAAAAACwd0AAAAAAAMB3QAAAAAAA0HdAAAAAAADgd0AAAAAAAPB3QAAAAAAAAHhAAAAAAAAQeEAAAAAAACB4QAAAAAAAMHhAAAAAAABAeEAAAAAAAFB4QAAAAAAAYHhAAAAAAABweEAAAAAAAIB4QAAAAAAAkHhAAAAAAACgeEAAAAAAALB4QAAAAAAAwHhAAAAAAADQeEAAAAAAAOB4QAAAAAAA8HhAAAAAAAAAeUAAAAAAABB5QAAAAAAAIHlAAAAAAAAweUAAAAAAAEB5QAAAAAAAUHlAAAAAAABgeUAAAAAAAHB5QAAAAAAAgHlAAAAAAACQeUAAAAAAAKB5QAAAAAAAsHlAAAAAAADAeUAAAAAAANB5QAAAAAAA4HlAAAAAAADweUAAAAAAAAB6QAAAAAAAEHpAAAAAAAAgekAAAAAAADB6QAAAAAAAQHpAAAAAAABQekAAAAAAAGB6QAAAAAAAcHpAAAAAAACAekAAAAAAAJB6QAAAAAAAoHpAAAAAAACwekAAAAAAAMB6QAAAAAAA0HpAAAAAAADgekAAAAAAAPB6QAAAAAAAAHtAAAAAAAAQe0AAAAAAACB7QAAAAAAAMHtAAAAAAABAe0AAAAAAAFB7QAAAAAAAYHtAAAAAAABwe0AAAAAAAIB7QAAAAAAAkHtAAAAAAACge0AAAAAAALB7QAAAAAAAwHtAAAAAAADQe0AAAAAAAOB7QAAAAAAA8HtAAAAAAAAAfEAAAAAAABB8QAAAAAAAIHxAAAAAAAAwfEAAAAAAAEB8QAAAAAAAUHxAAAAAAABgfEAAAAAAAHB8QAAAAAAAgHxAAAAAAACQfEAAAAAAAKB8QAAAAAAAsHxAAAAAAADAfEAAAAAAANB8QAAAAAAA4HxAAAAAAADwfEAAAAAAAAB9QAAAAAAAEH1A",
          "dtype": "f8"
         },
         "y": {
          "bdata": "Rq6dH97yh0DHdIY/oMaHQO9m74XSwYdAOhe6su3ch0ASEfNUmN6HQENCT32Q9IdAIglQ08T1h0AsbRvOhuKHQMYzBO5ItodAKSZtNHuxh0Cg1jdhlsyHQErQcANBzodAfwHNKznkh0BCyM2BbeWHQFksmXwv0odA7vKBnPGlh0Ay5eriI6GHQHSVtQ8/vIdAg4/usem9h0DGwEra4dOHQHmHSzAW1YdAHewWK9jBh0AWsv9KmpWHQEekaJHMkIdA21Qzvuerh0DHTmxgkq2HQAiAyIiKw4dAoUbJ3r7Eh0BKq5TZgLGHQEFxfflChYdAqGPmP3WAh0AJFLFskJuHQNUN6g47nYdAST9GNzOzh0AHBkeNZ7SHQDBqEogpoYdAPzD7p+t0h0DiImTuHXCHQDfTLhs5i4dAGc1nveOMh0CM/sPl26KHQCfFxDsQpIdAXSmQNtKQh0DX73hWlGSHQB3i4ZzGX4dAnJKsyeF6h0BHjOVrjHyHQNO9QZSEkodAZ4RC6riTh0CL6A3leoCHQNeu9gQ9VIdAAKFfS29Ph0DMUSp4imqHQItLYxo1bIdAwHy/Qi2Ch0CGQ8CYYYOHQHCni5MjcIdAKW50s+VDh0A7YN35Fz+HQLwQqCYzWodAzwrhyN1bh0ABPD3x1XGHQL0CPkcKc4dAnmYJQsxfh0AoLfJhjjOHQHUfW6jALodA6s8l1dtJh0D7yV53hkuHQDv7up9+YYdA9sG79bJih0BhJofwdE+HQCjsbxA3I4dA197YVmkeh0A1j6ODhDmHQEGJ3CUvO4dAL7o4TidRh0AtgTmkW1KHQI/lBJ8dP4dA6avtvt8Sh0DrnVYFEg6HQH9OITItKYdAT0ha1Ncqh0Bwebb8z0CHQExAt1IEQodAmKSCTcYuh0DoamttiAKHQPVc1LO6/YZAyQ2f4NUYh0CSB9iCgBqHQLg4NKt4MIdAm/80Aa0xh0CjYwD8bh6HQDsq6Rsx8oZAMBxSYmPthkD3zByPfgiHQL/GVTEpCodAAPixWSEgh0DEvrKvVSGHQKwifqoXDodAOulmytnhhkCQ288QDN2GQF2Mmj0n+IZAzYXT39H5hkA8ty8Iyg+HQPt9MF7+EIdAb+L7WMD9hkBiqOR4gtGGQPGaTb+0zIZAMksY7M/nhkAGRVGOeumGQIN2rbZy/4ZAGz2uDKcAh0B4oXkHae2GQPtnYicrwYZAB1rLbV28hkB9CpaaeNeGQEsEzzwj2YZAxTUrZRvvhkA7/Cu7T/CGQKZg97UR3YZAJCfg1dOwhkBnGUkcBqyGQMbJE0khx4ZAg8NM68vIhkCx9KgTxN6GQIq7qWn434ZAjB91ZLrMhkAj5l2EfKCGQKHYxsqum4ZAt4iR98m2hkDHgsqZdLiGQPOzJsJszoZAqnonGKHPhkC53vISY7yGQEyl2zIlkIZAhJdEeVeLhkABSA+mcqaGQPRBSEgdqIZAPHOkcBW+hkABOqXGSb+GQH2ecMELrIZAS2RZ4c1/hkDAVsInAHuGQEwHjVQbloZAOQHG9sWXhkB9MiIfvq2GQCD5InXyroZAhl3ub7SbhkCeI9ePdm+GQPoVQNaoaoZAecYKA8SFhkBHwEOlboeGQMTxn81mnYZAWLigI5uehkCQHGweXYuGQJ3iVD4fX4ZA3dS9hFFahkCohYixbHWGQH5/wVMXd4ZAAbEdfA+NhkCPdx7SQ46GQL7b6cwFe4ZANaLS7MdOhkA/lDsz+kmGQPJEBmAVZYZAuD4/AsBmhkDsb5squHyGQM82nIDsfYZA7Jpne65qhkBdYVCbcD6GQFNTueGiOYZAPASEDr5UhkD8/bywaFaGQC0vGdlgbIZA7vUZL5VthkD1WeUpV1qGQIYgzkkZLoZAtBI3kEsphkAtwwG9ZkSGQEC9Ol8RRoZA",
          "dtype": "f8"
         }
        },
        {
         "fill": "toself",
         "fillcolor": "rgba(255,165,0,0.2)",
         "hoverinfo": "skip",
         "line": {
          "color": "rgba(255,255,255,0)"
         },
         "name": "Intervallo di confidenza",
         "showlegend": true,
         "type": "scatter",
         "x": [
          286,
          287,
          288,
          289,
          290,
          291,
          292,
          293,
          294,
          295,
          296,
          297,
          298,
          299,
          300,
          301,
          302,
          303,
          304,
          305,
          306,
          307,
          308,
          309,
          310,
          311,
          312,
          313,
          314,
          315,
          316,
          317,
          318,
          319,
          320,
          321,
          322,
          323,
          324,
          325,
          326,
          327,
          328,
          329,
          330,
          331,
          332,
          333,
          334,
          335,
          336,
          337,
          338,
          339,
          340,
          341,
          342,
          343,
          344,
          345,
          346,
          347,
          348,
          349,
          350,
          351,
          352,
          353,
          354,
          355,
          356,
          357,
          358,
          359,
          360,
          361,
          362,
          363,
          364,
          365,
          366,
          367,
          368,
          369,
          370,
          371,
          372,
          373,
          374,
          375,
          376,
          377,
          378,
          379,
          380,
          381,
          382,
          383,
          384,
          385,
          386,
          387,
          388,
          389,
          390,
          391,
          392,
          393,
          394,
          395,
          396,
          397,
          398,
          399,
          400,
          401,
          402,
          403,
          404,
          405,
          406,
          407,
          408,
          409,
          410,
          411,
          412,
          413,
          414,
          415,
          416,
          417,
          418,
          419,
          420,
          421,
          422,
          423,
          424,
          425,
          426,
          427,
          428,
          429,
          430,
          431,
          432,
          433,
          434,
          435,
          436,
          437,
          438,
          439,
          440,
          441,
          442,
          443,
          444,
          445,
          446,
          447,
          448,
          449,
          450,
          451,
          452,
          453,
          454,
          455,
          456,
          457,
          458,
          459,
          460,
          461,
          462,
          463,
          464,
          465,
          465,
          464,
          463,
          462,
          461,
          460,
          459,
          458,
          457,
          456,
          455,
          454,
          453,
          452,
          451,
          450,
          449,
          448,
          447,
          446,
          445,
          444,
          443,
          442,
          441,
          440,
          439,
          438,
          437,
          436,
          435,
          434,
          433,
          432,
          431,
          430,
          429,
          428,
          427,
          426,
          425,
          424,
          423,
          422,
          421,
          420,
          419,
          418,
          417,
          416,
          415,
          414,
          413,
          412,
          411,
          410,
          409,
          408,
          407,
          406,
          405,
          404,
          403,
          402,
          401,
          400,
          399,
          398,
          397,
          396,
          395,
          394,
          393,
          392,
          391,
          390,
          389,
          388,
          387,
          386,
          385,
          384,
          383,
          382,
          381,
          380,
          379,
          378,
          377,
          376,
          375,
          374,
          373,
          372,
          371,
          370,
          369,
          368,
          367,
          366,
          365,
          364,
          363,
          362,
          361,
          360,
          359,
          358,
          357,
          356,
          355,
          354,
          353,
          352,
          351,
          350,
          349,
          348,
          347,
          346,
          345,
          344,
          343,
          342,
          341,
          340,
          339,
          338,
          337,
          336,
          335,
          334,
          333,
          332,
          331,
          330,
          329,
          328,
          327,
          326,
          325,
          324,
          323,
          322,
          321,
          320,
          319,
          318,
          317,
          316,
          315,
          314,
          313,
          312,
          311,
          310,
          309,
          308,
          307,
          306,
          305,
          304,
          303,
          302,
          301,
          300,
          299,
          298,
          297,
          296,
          295,
          294,
          293,
          292,
          291,
          290,
          289,
          288,
          287,
          286
         ],
         "y": [
          788.1802890338472,
          783.9164703000205,
          781.5702598996066,
          784.4962802047106,
          787.479324267775,
          789.9404193804393,
          788.8749928057738,
          786.8213532904299,
          781.9144029296502,
          782.5203716301519,
          783.4685519188986,
          784.7926694108837,
          786.6901575505536,
          788.4728905752443,
          785.8850758189868,
          781.0878877001167,
          779.9156520319029,
          784.2511609516824,
          783.2819051040403,
          785.4913481988918,
          785.5120435832138,
          783.8369114440428,
          779.3273064185018,
          777.7408095589117,
          782.1405833049771,
          782.7704680327747,
          785.4378760057441,
          786.5616622677586,
          785.1023300335859,
          777.828267245994,
          777.420112012255,
          782.6408626694846,
          782.5780998660473,
          785.9487267651729,
          785.2325635091343,
          784.1080351274177,
          781.0846803094418,
          779.9081018739236,
          784.3906354011292,
          784.5370305403844,
          788.3178910304833,
          787.536409823721,
          787.4166963441771,
          782.1951673986115,
          780.7999835607546,
          789.292072130954,
          787.1625621426654,
          788.5627695902217,
          793.9055771505389,
          789.3848146144014,
          787.0943602060375,
          785.7120469519759,
          787.3108611508378,
          791.6233788232921,
          792.2940637026867,
          795.2059747114653,
          791.7481574681143,
          787.3330195395689,
          788.7711227080565,
          793.0510594393147,
          794.9661521069221,
          798.0925980506777,
          800.4380952422667,
          798.1779286447478,
          791.091165576628,
          794.1652468965824,
          798.4017333647893,
          797.3864370471032,
          801.6036902171661,
          805.2109263976525,
          803.6814619636831,
          799.5561730187627,
          798.777483122033,
          803.0950243990488,
          803.2486166036927,
          809.01994892469,
          807.2672869641337,
          806.5055261388479,
          806.3828910944383,
          803.1682567066341,
          805.4231601389591,
          808.2976191635432,
          814.2639312024593,
          814.3250161011248,
          812.7177570952917,
          808.6444663949263,
          815.1801521318879,
          813.1053670238063,
          818.6298433475355,
          822.1783216012658,
          819.1208523344832,
          818.3180026806202,
          817.4935819853587,
          817.5921381280898,
          818.2912470109787,
          818.9643556956845,
          827.6103977036272,
          826.2110138199608,
          823.0703057541252,
          819.5971301099559,
          824.3820620049443,
          827.5272848846818,
          826.5240159266759,
          832.4126943002824,
          834.6136450069748,
          833.4827525672406,
          829.8458838690523,
          829.2714923233139,
          836.1396932245434,
          836.1963070012886,
          838.6586919719009,
          835.0032381857277,
          839.3631176426552,
          835.8616719897907,
          836.2905331127724,
          843.176266489404,
          840.9675126866792,
          845.6766792172094,
          847.0552651943204,
          849.748541121951,
          846.4010419814828,
          847.4078279302347,
          848.9205424617588,
          846.9798072213551,
          851.8441298916292,
          854.0537228109031,
          856.2227999106336,
          850.4763583199353,
          850.8875505902997,
          857.2066701010111,
          856.4229040838068,
          866.5415925706016,
          867.1485867292787,
          865.0669013165759,
          862.3921766294385,
          863.6759445397906,
          863.9419683884754,
          866.2527995974227,
          870.2063324085208,
          871.8492045889757,
          868.9594295778887,
          868.0013011561604,
          865.6588753883099,
          873.0203518757453,
          880.2622872283866,
          877.554403918646,
          879.6658645163645,
          881.2371738525209,
          875.6763468732779,
          877.7076437138819,
          883.085478572596,
          887.412804818715,
          889.3088173182229,
          889.7264307892101,
          891.6410057274054,
          885.5682216849206,
          884.5428115081235,
          894.3509554779848,
          891.2578545661703,
          900.6353791526678,
          898.5144231271405,
          898.4907780382526,
          898.3528766900001,
          897.5847695510439,
          903.1616042856314,
          902.5027143061701,
          905.545361586291,
          907.7602681005695,
          913.0102757044989,
          906.2389002175403,
          905.4817215778852,
          917.9985896891167,
          912.9837840563398,
          920.211174766738,
          922.2766221514222,
          921.110383128701,
          915.1114474601751,
          916.5375479887712,
          927.0406950076012,
          924.4182847654906,
          523.9804266846537,
          519.2209572607072,
          516.063629045892,
          523.9425598534251,
          530.0410448648344,
          535.0802941086761,
          538.9490084973233,
          527.0531779831144,
          540.0136119925049,
          535.2944353049994,
          536.4883865848038,
          540.7909096251619,
          542.4013108490441,
          547.8645716706906,
          549.1986035031795,
          548.309322788958,
          543.5672487900758,
          549.1785004309006,
          556.5324561606315,
          560.3004515348467,
          559.2792911969706,
          561.3760390903917,
          561.2651933520457,
          557.2058742884134,
          563.993634229069,
          571.7216855926592,
          571.3756398890633,
          574.5509005239578,
          574.0128314824523,
          574.6016079678252,
          572.6960317413019,
          582.2060573333208,
          584.6939730714302,
          581.7419595297389,
          586.5602907549426,
          588.0617893691439,
          586.8148944377533,
          582.1592100305752,
          586.7579204590841,
          590.7734438781765,
          595.8355365894903,
          598.3071168918024,
          596.8048456388452,
          599.5549993420759,
          599.6988680429052,
          594.8491861049644,
          603.3082293030701,
          610.2115538939688,
          601.4479136944527,
          612.8676085417296,
          612.8719921869538,
          607.0548051965748,
          611.0336084506202,
          616.3318519759491,
          616.676689850481,
          624.1253974301075,
          619.8638705769948,
          622.009631243837,
          613.4860062923002,
          623.9069334016425,
          626.9578450273568,
          630.6098483082162,
          629.377973954695,
          628.2495775380507,
          632.5931991580235,
          629.9162251574686,
          630.0952641903936,
          640.9411494468145,
          642.5968841759743,
          640.3789909455509,
          644.5050574705045,
          641.7417436675391,
          642.0006230094646,
          641.4594100806466,
          650.9935436451457,
          649.0683128431133,
          652.1210061923027,
          655.2312658912048,
          650.3926726771435,
          652.8348512455092,
          654.4713345919387,
          657.8321469923559,
          661.4141193673488,
          659.3784139281701,
          660.4242848746485,
          661.8045124604024,
          660.258276205089,
          658.0207084159678,
          671.1758745194285,
          671.4516698854987,
          671.5008666751419,
          671.5087176575757,
          671.4679679143542,
          671.4167567954782,
          670.8728106348826,
          674.9731435383521,
          682.1017880803715,
          680.2734169480299,
          678.9989316766012,
          680.8703090310001,
          676.5685476863622,
          680.1659139674852,
          686.155305015897,
          693.3392926815678,
          692.1124902029208,
          690.6867562025885,
          688.4965225991654,
          688.692760033742,
          690.3664533925436,
          692.9799150621176,
          699.9531251352241,
          694.042521610527,
          696.9028282384879,
          696.8063236441799,
          694.2400325320364,
          696.5632236368403,
          704.4253414901879,
          706.1218390730102,
          706.5312550360553,
          702.9051546162661,
          706.0669530337926,
          699.9854060369652,
          701.2614474438471,
          709.871440110471,
          713.4695475045269,
          714.035548275825,
          709.938934951931,
          712.9426648017051,
          710.2513961644122,
          710.9038846451909,
          716.3345879564222,
          720.0973730945185,
          718.630019290645,
          717.6407484994338,
          719.3888398766759,
          715.3310334626234,
          717.6142640297855,
          724.8546760161809,
          726.9507693804986,
          727.3511252735972,
          723.6904192204976,
          726.5108970968121,
          723.3084854122548,
          722.5806030077924,
          727.5191583083503,
          729.7087437745788,
          731.7180372715396,
          727.703355234843,
          728.0540972168873,
          726.0264329170044,
          726.167389689695,
          731.7033965433878,
          735.8431766171869,
          735.924334253758,
          733.7807796346863,
          733.2470821280967,
          729.2299651211426,
          733.4661128343688,
          737.5857972554138,
          739.43631227739,
          739.4390834797682,
          736.2351899706186,
          735.3813954934925,
          731.8211908320759,
          733.4478201115695,
          740.5880052210235,
          740.8923877324227,
          742.4574044898962,
          738.9401535198862,
          737.9671786404958,
          736.1548127904501,
          736.6935023411788,
          743.5172545219434,
          744.9142312948869,
          744.4060651519567,
          742.3809602878569,
          742.3047976960137,
          738.0380868912941,
          738.4366107300789,
          742.8586355322475
         ]
        }
       ],
       "layout": {
        "shapes": [
         {
          "line": {
           "color": "gray",
           "dash": "dot",
           "width": 1
          },
          "name": "Fine storico",
          "type": "line",
          "x0": 285,
          "x1": 285,
          "y0": 645,
          "y1": 979
         }
        ],
        "template": {
         "data": {
          "bar": [
           {
            "error_x": {
             "color": "#f2f5fa"
            },
            "error_y": {
             "color": "#f2f5fa"
            },
            "marker": {
             "line": {
              "color": "rgb(17,17,17)",
              "width": 0.5
             },
             "pattern": {
              "fillmode": "overlay",
              "size": 10,
              "solidity": 0.2
             }
            },
            "type": "bar"
           }
          ],
          "barpolar": [
           {
            "marker": {
             "line": {
              "color": "rgb(17,17,17)",
              "width": 0.5
             },
             "pattern": {
              "fillmode": "overlay",
              "size": 10,
              "solidity": 0.2
             }
            },
            "type": "barpolar"
           }
          ],
          "carpet": [
           {
            "aaxis": {
             "endlinecolor": "#A2B1C6",
             "gridcolor": "#506784",
             "linecolor": "#506784",
             "minorgridcolor": "#506784",
             "startlinecolor": "#A2B1C6"
            },
            "baxis": {
             "endlinecolor": "#A2B1C6",
             "gridcolor": "#506784",
             "linecolor": "#506784",
             "minorgridcolor": "#506784",
             "startlinecolor": "#A2B1C6"
            },
            "type": "carpet"
           }
          ],
          "choropleth": [
           {
            "colorbar": {
             "outlinewidth": 0,
             "ticks": ""
            },
            "type": "choropleth"
           }
          ],
          "contour": [
           {
            "colorbar": {
             "outlinewidth": 0,
             "ticks": ""
            },
            "colorscale": [
             [
              0,
              "#0d0887"
             ],
             [
              0.1111111111111111,
              "#46039f"
             ],
             [
              0.2222222222222222,
              "#7201a8"
             ],
             [
              0.3333333333333333,
              "#9c179e"
             ],
             [
              0.4444444444444444,
              "#bd3786"
             ],
             [
              0.5555555555555556,
              "#d8576b"
             ],
             [
              0.6666666666666666,
              "#ed7953"
             ],
             [
              0.7777777777777778,
              "#fb9f3a"
             ],
             [
              0.8888888888888888,
              "#fdca26"
             ],
             [
              1,
              "#f0f921"
             ]
            ],
            "type": "contour"
           }
          ],
          "contourcarpet": [
           {
            "colorbar": {
             "outlinewidth": 0,
             "ticks": ""
            },
            "type": "contourcarpet"
           }
          ],
          "heatmap": [
           {
            "colorbar": {
             "outlinewidth": 0,
             "ticks": ""
            },
            "colorscale": [
             [
              0,
              "#0d0887"
             ],
             [
              0.1111111111111111,
              "#46039f"
             ],
             [
              0.2222222222222222,
              "#7201a8"
             ],
             [
              0.3333333333333333,
              "#9c179e"
             ],
             [
              0.4444444444444444,
              "#bd3786"
             ],
             [
              0.5555555555555556,
              "#d8576b"
             ],
             [
              0.6666666666666666,
              "#ed7953"
             ],
             [
              0.7777777777777778,
              "#fb9f3a"
             ],
             [
              0.8888888888888888,
              "#fdca26"
             ],
             [
              1,
              "#f0f921"
             ]
            ],
            "type": "heatmap"
           }
          ],
          "histogram": [
           {
            "marker": {
             "pattern": {
              "fillmode": "overlay",
              "size": 10,
              "solidity": 0.2
             }
            },
            "type": "histogram"
           }
          ],
          "histogram2d": [
           {
            "colorbar": {
             "outlinewidth": 0,
             "ticks": ""
            },
            "colorscale": [
             [
              0,
              "#0d0887"
             ],
             [
              0.1111111111111111,
              "#46039f"
             ],
             [
              0.2222222222222222,
              "#7201a8"
             ],
             [
              0.3333333333333333,
              "#9c179e"
             ],
             [
              0.4444444444444444,
              "#bd3786"
             ],
             [
              0.5555555555555556,
              "#d8576b"
             ],
             [
              0.6666666666666666,
              "#ed7953"
             ],
             [
              0.7777777777777778,
              "#fb9f3a"
             ],
             [
              0.8888888888888888,
              "#fdca26"
             ],
             [
              1,
              "#f0f921"
             ]
            ],
            "type": "histogram2d"
           }
          ],
          "histogram2dcontour": [
           {
            "colorbar": {
             "outlinewidth": 0,
             "ticks": ""
            },
            "colorscale": [
             [
              0,
              "#0d0887"
             ],
             [
              0.1111111111111111,
              "#46039f"
             ],
             [
              0.2222222222222222,
              "#7201a8"
             ],
             [
              0.3333333333333333,
              "#9c179e"
             ],
             [
              0.4444444444444444,
              "#bd3786"
             ],
             [
              0.5555555555555556,
              "#d8576b"
             ],
             [
              0.6666666666666666,
              "#ed7953"
             ],
             [
              0.7777777777777778,
              "#fb9f3a"
             ],
             [
              0.8888888888888888,
              "#fdca26"
             ],
             [
              1,
              "#f0f921"
             ]
            ],
            "type": "histogram2dcontour"
           }
          ],
          "mesh3d": [
           {
            "colorbar": {
             "outlinewidth": 0,
             "ticks": ""
            },
            "type": "mesh3d"
           }
          ],
          "parcoords": [
           {
            "line": {
             "colorbar": {
              "outlinewidth": 0,
              "ticks": ""
             }
            },
            "type": "parcoords"
           }
          ],
          "pie": [
           {
            "automargin": true,
            "type": "pie"
           }
          ],
          "scatter": [
           {
            "marker": {
             "line": {
              "color": "#283442"
             }
            },
            "type": "scatter"
           }
          ],
          "scatter3d": [
           {
            "line": {
             "colorbar": {
              "outlinewidth": 0,
              "ticks": ""
             }
            },
            "marker": {
             "colorbar": {
              "outlinewidth": 0,
              "ticks": ""
             }
            },
            "type": "scatter3d"
           }
          ],
          "scattercarpet": [
           {
            "marker": {
             "colorbar": {
              "outlinewidth": 0,
              "ticks": ""
             }
            },
            "type": "scattercarpet"
           }
          ],
          "scattergeo": [
           {
            "marker": {
             "colorbar": {
              "outlinewidth": 0,
              "ticks": ""
             }
            },
            "type": "scattergeo"
           }
          ],
          "scattergl": [
           {
            "marker": {
             "line": {
              "color": "#283442"
             }
            },
            "type": "scattergl"
           }
          ],
          "scattermap": [
           {
            "marker": {
             "colorbar": {
              "outlinewidth": 0,
              "ticks": ""
             }
            },
            "type": "scattermap"
           }
          ],
          "scattermapbox": [
           {
            "marker": {
             "colorbar": {
              "outlinewidth": 0,
              "ticks": ""
             }
            },
            "type": "scattermapbox"
           }
          ],
          "scatterpolar": [
           {
            "marker": {
             "colorbar": {
              "outlinewidth": 0,
              "ticks": ""
             }
            },
            "type": "scatterpolar"
           }
          ],
          "scatterpolargl": [
           {
            "marker": {
             "colorbar": {
              "outlinewidth": 0,
              "ticks": ""
             }
            },
            "type": "scatterpolargl"
           }
          ],
          "scatterternary": [
           {
            "marker": {
             "colorbar": {
              "outlinewidth": 0,
              "ticks": ""
             }
            },
            "type": "scatterternary"
           }
          ],
          "surface": [
           {
            "colorbar": {
             "outlinewidth": 0,
             "ticks": ""
            },
            "colorscale": [
             [
              0,
              "#0d0887"
             ],
             [
              0.1111111111111111,
              "#46039f"
             ],
             [
              0.2222222222222222,
              "#7201a8"
             ],
             [
              0.3333333333333333,
              "#9c179e"
             ],
             [
              0.4444444444444444,
              "#bd3786"
             ],
             [
              0.5555555555555556,
              "#d8576b"
             ],
             [
              0.6666666666666666,
              "#ed7953"
             ],
             [
              0.7777777777777778,
              "#fb9f3a"
             ],
             [
              0.8888888888888888,
              "#fdca26"
             ],
             [
              1,
              "#f0f921"
             ]
            ],
            "type": "surface"
           }
          ],
          "table": [
           {
            "cells": {
             "fill": {
              "color": "#506784"
             },
             "line": {
              "color": "rgb(17,17,17)"
             }
            },
            "header": {
             "fill": {
              "color": "#2a3f5f"
             },
             "line": {
              "color": "rgb(17,17,17)"
             }
            },
            "type": "table"
           }
          ]
         },
         "layout": {
          "annotationdefaults": {
           "arrowcolor": "#f2f5fa",
           "arrowhead": 0,
           "arrowwidth": 1
          },
          "autotypenumbers": "strict",
          "coloraxis": {
           "colorbar": {
            "outlinewidth": 0,
            "ticks": ""
           }
          },
          "colorscale": {
           "diverging": [
            [
             0,
             "#8e0152"
            ],
            [
             0.1,
             "#c51b7d"
            ],
            [
             0.2,
             "#de77ae"
            ],
            [
             0.3,
             "#f1b6da"
            ],
            [
             0.4,
             "#fde0ef"
            ],
            [
             0.5,
             "#f7f7f7"
            ],
            [
             0.6,
             "#e6f5d0"
            ],
            [
             0.7,
             "#b8e186"
            ],
            [
             0.8,
             "#7fbc41"
            ],
            [
             0.9,
             "#4d9221"
            ],
            [
             1,
             "#276419"
            ]
           ],
           "sequential": [
            [
             0,
             "#0d0887"
            ],
            [
             0.1111111111111111,
             "#46039f"
            ],
            [
             0.2222222222222222,
             "#7201a8"
            ],
            [
             0.3333333333333333,
             "#9c179e"
            ],
            [
             0.4444444444444444,
             "#bd3786"
            ],
            [
             0.5555555555555556,
             "#d8576b"
            ],
            [
             0.6666666666666666,
             "#ed7953"
            ],
            [
             0.7777777777777778,
             "#fb9f3a"
            ],
            [
             0.8888888888888888,
             "#fdca26"
            ],
            [
             1,
             "#f0f921"
            ]
           ],
           "sequentialminus": [
            [
             0,
             "#0d0887"
            ],
            [
             0.1111111111111111,
             "#46039f"
            ],
            [
             0.2222222222222222,
             "#7201a8"
            ],
            [
             0.3333333333333333,
             "#9c179e"
            ],
            [
             0.4444444444444444,
             "#bd3786"
            ],
            [
             0.5555555555555556,
             "#d8576b"
            ],
            [
             0.6666666666666666,
             "#ed7953"
            ],
            [
             0.7777777777777778,
             "#fb9f3a"
            ],
            [
             0.8888888888888888,
             "#fdca26"
            ],
            [
             1,
             "#f0f921"
            ]
           ]
          },
          "colorway": [
           "#636efa",
           "#EF553B",
           "#00cc96",
           "#ab63fa",
           "#FFA15A",
           "#19d3f3",
           "#FF6692",
           "#B6E880",
           "#FF97FF",
           "#FECB52"
          ],
          "font": {
           "color": "#f2f5fa"
          },
          "geo": {
           "bgcolor": "rgb(17,17,17)",
           "lakecolor": "rgb(17,17,17)",
           "landcolor": "rgb(17,17,17)",
           "showlakes": true,
           "showland": true,
           "subunitcolor": "#506784"
          },
          "hoverlabel": {
           "align": "left"
          },
          "hovermode": "closest",
          "mapbox": {
           "style": "dark"
          },
          "paper_bgcolor": "rgb(17,17,17)",
          "plot_bgcolor": "rgb(17,17,17)",
          "polar": {
           "angularaxis": {
            "gridcolor": "#506784",
            "linecolor": "#506784",
            "ticks": ""
           },
           "bgcolor": "rgb(17,17,17)",
           "radialaxis": {
            "gridcolor": "#506784",
            "linecolor": "#506784",
            "ticks": ""
           }
          },
          "scene": {
           "xaxis": {
            "backgroundcolor": "rgb(17,17,17)",
            "gridcolor": "#506784",
            "gridwidth": 2,
            "linecolor": "#506784",
            "showbackground": true,
            "ticks": "",
            "zerolinecolor": "#C8D4E3"
           },
           "yaxis": {
            "backgroundcolor": "rgb(17,17,17)",
            "gridcolor": "#506784",
            "gridwidth": 2,
            "linecolor": "#506784",
            "showbackground": true,
            "ticks": "",
            "zerolinecolor": "#C8D4E3"
           },
           "zaxis": {
            "backgroundcolor": "rgb(17,17,17)",
            "gridcolor": "#506784",
            "gridwidth": 2,
            "linecolor": "#506784",
            "showbackground": true,
            "ticks": "",
            "zerolinecolor": "#C8D4E3"
           }
          },
          "shapedefaults": {
           "line": {
            "color": "#f2f5fa"
           }
          },
          "sliderdefaults": {
           "bgcolor": "#C8D4E3",
           "bordercolor": "rgb(17,17,17)",
           "borderwidth": 1,
           "tickwidth": 0
          },
          "ternary": {
           "aaxis": {
            "gridcolor": "#506784",
            "linecolor": "#506784",
            "ticks": ""
           },
           "baxis": {
            "gridcolor": "#506784",
            "linecolor": "#506784",
            "ticks": ""
           },
           "bgcolor": "rgb(17,17,17)",
           "caxis": {
            "gridcolor": "#506784",
            "linecolor": "#506784",
            "ticks": ""
           }
          },
          "title": {
           "x": 0.05
          },
          "updatemenudefaults": {
           "bgcolor": "#506784",
           "borderwidth": 0
          },
          "xaxis": {
           "automargin": true,
           "gridcolor": "#283442",
           "linecolor": "#506784",
           "ticks": "",
           "title": {
            "standoff": 15
           },
           "zerolinecolor": "#283442",
           "zerolinewidth": 2
          },
          "yaxis": {
           "automargin": true,
           "gridcolor": "#283442",
           "linecolor": "#506784",
           "ticks": "",
           "title": {
            "standoff": 15
           },
           "zerolinecolor": "#283442",
           "zerolinewidth": 2
          }
         }
        },
        "title": {
         "text": "Prezzo iPhone 16 (storico e previsto) con confronto iPhone 15"
        },
        "xaxis": {
         "title": {
          "text": "Giorni dal lancio"
         }
        },
        "yaxis": {
         "title": {
          "text": "Prezzo (€)"
         }
        }
       }
      }
     },
     "metadata": {},
     "output_type": "display_data"
    }
   ],
   "source": [
    "iphone16_real = df_merge[['Giorni_dal_lancio', 'Prezzo_16']] # Dati reali iPhone 16\n",
    "iphone16_pred = forecast_6m.copy() # Dati predetti iPhone 16\n",
    "iphone16_pred['Giorni_dal_lancio'] = np.arange(last_day + 1, last_day + future_days_6m + 1) \n",
    "iphone15 = df15[['Giorni_dal_lancio', 'Prezzo']] # Dati iPhone 15\n",
    "\n",
    "\n",
    "fig = go.Figure()\n",
    "# iPhone 15 - linea di confronto (secondo piano)\n",
    "fig.add_trace(go.Scatter(x=iphone15['Giorni_dal_lancio'],y=iphone15['Prezzo'],name='iPhone 15 (storico)',\n",
    "    line=dict(color='lightgreen', width=2),opacity=0.8))\n",
    "# iPhone 16 - storico\n",
    "fig.add_trace(go.Scatter(x=iphone16_real['Giorni_dal_lancio'],y=iphone16_real['Prezzo_16'],\n",
    "    name='iPhone 16 (storico)',line=dict(color='#4CA3DD', width=3)))\n",
    "# iPhone 16 - previsione\n",
    "fig.add_trace(go.Scatter(x=iphone16_pred['Giorni_dal_lancio'],y=iphone16_pred['yhat'],mode='lines',\n",
    "    name='iPhone 16 (previsione)',line=dict(color='orange', width=3)))\n",
    "# Intervallo di confidenza\n",
    "fig.add_trace(go.Scatter(x=list(iphone16_pred['Giorni_dal_lancio']) + list(iphone16_pred['Giorni_dal_lancio'])[::-1],\n",
    "    y=list(iphone16_pred['yhat_upper']) + list(iphone16_pred['yhat_lower'])[::-1],fill='toself',fillcolor='rgba(255,165,0,0.2)',\n",
    "    line=dict(color='rgba(255,255,255,0)'),hoverinfo=\"skip\",showlegend=True,name='Intervallo di confidenza'))\n",
    "# Linea verticale: oggi (fine dati storici)\n",
    "fig.add_shape(type='line',x0=last_day, y0=min(df_merge['Prezzo_16'].min(), iphone15['Prezzo'].min()),\n",
    "    x1=last_day,y1=max(df_merge['Prezzo_16'].max(), iphone15['Prezzo'].max()),\n",
    "    line=dict(color='gray', width=1, dash='dot'),name='Fine storico')\n",
    "\n",
    "fig.update_layout(\n",
    "    title='Prezzo iPhone 16 (storico e previsto) con confronto iPhone 15',\n",
    "    xaxis_title='Giorni dal lancio', yaxis_title='Prezzo (€)', template='plotly_dark')\n",
    "\n",
    "fig.show()"
   ]
  }
 ],
 "metadata": {
  "kernelspec": {
   "display_name": "Python 3",
   "language": "python",
   "name": "python3"
  },
  "language_info": {
   "codemirror_mode": {
    "name": "ipython",
    "version": 3
   },
   "file_extension": ".py",
   "mimetype": "text/x-python",
   "name": "python",
   "nbconvert_exporter": "python",
   "pygments_lexer": "ipython3",
   "version": "3.13.2"
  }
 },
 "nbformat": 4,
 "nbformat_minor": 5
}
