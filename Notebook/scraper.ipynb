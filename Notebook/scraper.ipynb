{
 "cells": [
  {
   "cell_type": "code",
   "execution_count": null,
   "id": "dcc876c8",
   "metadata": {},
   "outputs": [],
   "source": [
    "df_16 = pd.read_csv('Dataset/iPhone16.csv', index_col=0)"
   ]
  },
  {
   "cell_type": "code",
   "execution_count": 18,
   "id": "346cde36",
   "metadata": {},
   "outputs": [
    {
     "name": "stdout",
     "output_type": "stream",
     "text": [
      "Prezzo 769.0 aggiunto per la data 23-06-2025\n"
     ]
    }
   ],
   "source": [
    "import requests\n",
    "from bs4 import BeautifulSoup\n",
    "import pandas as pd\n",
    "import schedule\n",
    "import time\n",
    "from datetime import datetime\n",
    "\n",
    "# URL del prodotto\n",
    "URL = \"https://www.amazon.it/dp/B0DGJJXBM5?th=1\"\n",
    "\n",
    "# Headers per simulare browser\n",
    "HEADERS = {\n",
    "    \"User-Agent\": \"Mozilla/5.0 (Macintosh; Intel Mac OS X 10_15_7) \"\n",
    "    \"AppleWebKit/537.36 (KHTML, like Gecko) \"\n",
    "    \"Chrome/113.0.0.0 Safari/537.36\"\n",
    "}\n",
    "\n",
    "def estrai_prezzo():\n",
    "    global df_16 #Serve solo se df_16 è definito fuori dalla funzione estrai_prezzo(), altrimenti Python la considererebbe una variabile locale.\n",
    "    try:\n",
    "        response = requests.get(URL, headers=HEADERS)\n",
    "        response.raise_for_status()\n",
    "        soup = BeautifulSoup(response.text, \"html.parser\")\n",
    "\n",
    "        # Trovo il tag del prezzo\n",
    "        span_price = soup.find(\"span\", class_=\"a-price aok-align-center reinventPricePriceToPayMargin priceToPay\")\n",
    "        if not span_price:\n",
    "            print(\"Prezzo non trovato nella pagina\")\n",
    "            return\n",
    "        \n",
    "        # Estraggo il testo del prezzo\n",
    "        whole = span_price.find(\"span\", class_=\"a-price-whole\").text.strip()\n",
    "        fraction = span_price.find(\"span\", class_=\"a-price-fraction\").text.strip()\n",
    "\n",
    "        # Rimuovo separatori di migliaia (es. '1.149' -> '1149')\n",
    "        whole_clean = whole.replace(\".\", \"\").replace(\",\", \"\").strip()\n",
    "        prezzo_str = f\"{whole_clean}.{fraction}\"  # Unisco con punto decimale: Esempio: \"1149.00\"\n",
    "        prezzo_float = float(prezzo_str) # Conversione in float\n",
    "\n",
    "        # Aggiungo la nuova riga con data odierna\n",
    "        oggi = datetime.now().strftime(\"%d-%m-%Y\")\n",
    "        new_row = {\"Data\": oggi, \"Prezzo\": prezzo_float}\n",
    "        df_16 = pd.concat([df_16, pd.DataFrame([new_row])], ignore_index=True)\n",
    "        print(f\"Prezzo {prezzo_float} aggiunto per la data {oggi}\")\n",
    "\n",
    "    except Exception as e:\n",
    "        print(\"Errore durante lo scraping:\", e)\n",
    "\n",
    "estrai_prezzo()"
   ]
  },
  {
   "cell_type": "code",
   "execution_count": null,
   "id": "d5b3aaea",
   "metadata": {},
   "outputs": [],
   "source": [
    "df_16.to_csv(\"Dataset/iPhone16.csv\", index=False)"
   ]
  }
 ],
 "metadata": {
  "kernelspec": {
   "display_name": "Python 3",
   "language": "python",
   "name": "python3"
  },
  "language_info": {
   "codemirror_mode": {
    "name": "ipython",
    "version": 3
   },
   "file_extension": ".py",
   "mimetype": "text/x-python",
   "name": "python",
   "nbconvert_exporter": "python",
   "pygments_lexer": "ipython3",
   "version": "3.13.2"
  }
 },
 "nbformat": 4,
 "nbformat_minor": 5
}
