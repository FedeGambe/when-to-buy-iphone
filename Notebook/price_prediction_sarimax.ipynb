{
 "cells": [
  {
   "cell_type": "markdown",
   "id": "075d9932",
   "metadata": {},
   "source": [
    "#### 0. Import Librerie"
   ]
  },
  {
   "cell_type": "code",
   "execution_count": 66,
   "id": "e05f34b2",
   "metadata": {},
   "outputs": [],
   "source": [
    "import pandas as pd\n",
    "import numpy as np\n",
    "import matplotlib.pyplot as plt\n",
    "from pmdarima import auto_arima\n",
    "from statsmodels.tsa.statespace.sarimax import SARIMAX\n",
    "from sklearn.metrics import mean_squared_error\n",
    "from statsmodels.tsa.stattools import adfuller\n",
    "import plotly.graph_objects as go\n"
   ]
  },
  {
   "cell_type": "markdown",
   "id": "9f842828",
   "metadata": {},
   "source": [
    "#### 1. Preparazione Dati"
   ]
  },
  {
   "cell_type": "code",
   "execution_count": 45,
   "id": "0cf7baa1",
   "metadata": {},
   "outputs": [
    {
     "data": {
      "text/plain": [
       "(        Data  Prezzo  Giorni_dal_lancio Trimestre   Modello\n",
       " 0 2023-09-16   979.0                0.0        T1  iPhone15\n",
       " 1 2023-09-17   979.0                1.0        T1  iPhone15\n",
       " 2 2023-09-18   979.0                2.0        T1  iPhone15\n",
       " 3 2023-09-19   979.0                3.0        T1  iPhone15\n",
       " 4 2023-09-20   979.0                4.0        T1  iPhone15,\n",
       "         Data  Prezzo  Giorni_dal_lancio Trimestre   Modello\n",
       " 0 2024-09-13   979.0                0.0        T1  iPhone16\n",
       " 1 2024-09-14   979.0                1.0        T1  iPhone16\n",
       " 2 2024-09-15   979.0                2.0        T1  iPhone16\n",
       " 3 2024-09-16   979.0                3.0        T1  iPhone16\n",
       " 4 2024-09-17   979.0                4.0        T1  iPhone16)"
      ]
     },
     "execution_count": 45,
     "metadata": {},
     "output_type": "execute_result"
    }
   ],
   "source": [
    "######################\n",
    "#   UPLOAD DATI\n",
    "######################\n",
    "df15 = pd.read_csv('/Users/federicogamberini/VS Code/when-to-buy-iphone/Dataset/iPhone15.csv')\n",
    "df16 = pd.read_csv('/Users/federicogamberini/VS Code/when-to-buy-iphone/Dataset/iPhone16.csv')\n",
    "df15['Data'] = pd.to_datetime(df15['Data'])\n",
    "df16['Data'] = pd.to_datetime(df16['Data'])\n",
    "df15.head(), df16.head()"
   ]
  },
  {
   "cell_type": "code",
   "execution_count": null,
   "id": "e7c0eba6",
   "metadata": {},
   "outputs": [
    {
     "name": "stdout",
     "output_type": "stream",
     "text": [
      "        Data  Prezzo_16  Giorni_dal_lancio Trimestre  Prezzo_15\n",
      "0 2024-09-16      979.0                3.0        T1      979.0\n",
      "1 2024-09-17      979.0                4.0        T1      979.0\n",
      "2 2024-09-18      979.0                5.0        T1      979.0\n",
      "3 2024-09-19      979.0                6.0        T1      979.0\n",
      "4 2024-09-20      979.0                7.0        T1      979.0\n",
      "\n",
      "Correlazione iPhone 16 vs iPhone 15 shiftato: 0.923.\n",
      "C'è una correlazione positiva significativa tra i prezzi di iPhone 16 e iPhone 15.\n"
     ]
    }
   ],
   "source": [
    "######################\n",
    "#   PREPARAZIONE DATI\n",
    "######################\n",
    "# Traslare la data di iPhone 15 di 1 anno avanti\n",
    "df15['Data_shifted'] = df15['Data'] + pd.DateOffset(years=1)\n",
    "\n",
    "# unione dei i due dataframe sulla data traslata di iphone 15 e sulla data del 16\n",
    "merged = pd.merge(\n",
    "    df16, \n",
    "    df15[['Data_shifted', 'Prezzo']], \n",
    "    left_on='Data', \n",
    "    right_on='Data_shifted',\n",
    "    how='inner',\n",
    "    suffixes=('_16', '_15')\n",
    ")\n",
    "\n",
    "merged = merged.drop(columns=['Data_shifted', 'Modello'])\n",
    "print(merged.head())\n",
    "\n",
    "# Correlazione tri i prezzi di iphone 16 e 15 shiftato, per vedere se c'è una relazione\n",
    "correlation = merged['Prezzo_16'].corr(merged['Prezzo_15'])\n",
    "print(f'\\nCorrelazione iPhone 16 vs iPhone 15 shiftato: {correlation:.3f}.')\n",
    "if correlation > 0.5:\n",
    "    print(\"C'è una correlazione positiva significativa tra i prezzi di iPhone 16 e iPhone 15.\")    \n",
    "else:\n",
    "    print(\"Non è presente una correlazione significativa tra i prezzi di iPhone 16 e iPhone 15.\") "
   ]
  },
  {
   "cell_type": "markdown",
   "id": "9a3d8cc6",
   "metadata": {},
   "source": [
    "#### 2. Analisi"
   ]
  },
  {
   "cell_type": "markdown",
   "id": "4c143f8d",
   "metadata": {},
   "source": [
    "##### 2.1. Preparazione all'analisi\n",
    "Test di stazionarità, Ricerca dei migliori parametri, Cross-Validation e modello SARIMAX sul test set (hold-out) confrontando MSE e RMSE"
   ]
  },
  {
   "cell_type": "code",
   "execution_count": 58,
   "id": "46c561a2",
   "metadata": {},
   "outputs": [
    {
     "name": "stdout",
     "output_type": "stream",
     "text": [
      "ADF Statistic: -1.3925\n",
      "P-value: 0.5859\n",
      " →   La serie non è stazionaria in quanto il p-value è maggiore di 0.05\n",
      "\n",
      "Test ADF sulla serie differenziata:\n",
      "ADF Statistic (prima differenza): -9.545\n",
      "P-value (prima differenza): 0.0\n",
      " →   Serie DIFFERENZIATA stazionaria (p-value < 0.05)\n"
     ]
    }
   ],
   "source": [
    "#########################\n",
    "#   TEST STAZIONARITA'\n",
    "#########################\n",
    "\n",
    "# Test ADF: X controllare se la serie endog è stazionaria\n",
    "result = adfuller(merged['Prezzo_16'])\n",
    "print('ADF Statistic:', round(result[0],4))\n",
    "print('P-value:', round(result[1],4))\n",
    "\n",
    "# Ipotesi nulla (H₀): la serie NON è stazionaria → ha trend o stagionalità persistente.\n",
    "# Ipotesi alternativa (H₁): la serie È stazionaria → media, varianza e autocorrelazione costanti nel tempo.\n",
    "if result[1] < 0.05:\n",
    "    print(\" →   La serie è stazionaria in quanto il p-value è minore di 0.05\")\n",
    "else:\n",
    "    print(\" →   La serie non è stazionaria in quanto il p-value è maggiore di 0.05\")\n",
    "    result_diff = adfuller(merged['Prezzo_16'].diff().dropna())\n",
    "    print('\\nTest ADF sulla serie differenziata:')\n",
    "    print('ADF Statistic (prima differenza):', round(result_diff[0],4))\n",
    "    print('P-value (prima differenza):', round(result_diff[1],4))\n",
    "    if result_diff[1] < 0.05:\n",
    "        print(\" →   Serie DIFFERENZIATA stazionaria (p-value < 0.05)\")\n",
    "    else:\n",
    "        print(\" →   Serie DIFFERENZIATA NON stazionaria (p-value >= 0.05)\")"
   ]
  },
  {
   "cell_type": "code",
   "execution_count": 48,
   "id": "1d482d26",
   "metadata": {},
   "outputs": [],
   "source": [
    "#########################\n",
    "#   TRAIN E TEST SPLIT\n",
    "#########################\n",
    "\n",
    "# Dati endogeni e esogeni x il modello\n",
    "endog = merged['Prezzo_16']\n",
    "exog = merged['Prezzo_15']\n",
    "\n",
    "# Split train/test (es. ultimi 90 giorni per test)\n",
    "train_size = len(endog) - 90\n",
    "endog_train, endog_test = endog[:train_size], endog[train_size:]\n",
    "exog_train, exog_test = exog[:train_size], exog[train_size:]"
   ]
  },
  {
   "cell_type": "code",
   "execution_count": 49,
   "id": "4204d380",
   "metadata": {},
   "outputs": [
    {
     "name": "stdout",
     "output_type": "stream",
     "text": [
      "Performing stepwise search to minimize aic\n",
      " ARIMA(2,1,2)(0,0,0)[0] intercept   : AIC=1562.670, Time=0.09 sec\n",
      " ARIMA(0,1,0)(0,0,0)[0] intercept   : AIC=1565.495, Time=0.00 sec\n",
      " ARIMA(1,1,0)(0,0,0)[0] intercept   : AIC=1565.456, Time=0.01 sec\n",
      " ARIMA(0,1,1)(0,0,0)[0] intercept   : AIC=1565.074, Time=0.01 sec\n",
      " ARIMA(0,1,0)(0,0,0)[0]             : AIC=1564.426, Time=0.00 sec\n",
      " ARIMA(1,1,2)(0,0,0)[0] intercept   : AIC=1560.828, Time=0.03 sec\n",
      " ARIMA(0,1,2)(0,0,0)[0] intercept   : AIC=1565.577, Time=0.02 sec\n"
     ]
    },
    {
     "name": "stderr",
     "output_type": "stream",
     "text": [
      "/Library/Frameworks/Python.framework/Versions/3.13/lib/python3.13/site-packages/sklearn/utils/deprecation.py:151: FutureWarning: 'force_all_finite' was renamed to 'ensure_all_finite' in 1.6 and will be removed in 1.8.\n",
      "  warnings.warn(\n",
      "/Library/Frameworks/Python.framework/Versions/3.13/lib/python3.13/site-packages/sklearn/utils/deprecation.py:151: FutureWarning: 'force_all_finite' was renamed to 'ensure_all_finite' in 1.6 and will be removed in 1.8.\n",
      "  warnings.warn(\n",
      "/Library/Frameworks/Python.framework/Versions/3.13/lib/python3.13/site-packages/sklearn/utils/deprecation.py:151: FutureWarning: 'force_all_finite' was renamed to 'ensure_all_finite' in 1.6 and will be removed in 1.8.\n",
      "  warnings.warn(\n",
      "/Library/Frameworks/Python.framework/Versions/3.13/lib/python3.13/site-packages/sklearn/utils/deprecation.py:151: FutureWarning: 'force_all_finite' was renamed to 'ensure_all_finite' in 1.6 and will be removed in 1.8.\n",
      "  warnings.warn(\n",
      "/Library/Frameworks/Python.framework/Versions/3.13/lib/python3.13/site-packages/sklearn/utils/deprecation.py:151: FutureWarning: 'force_all_finite' was renamed to 'ensure_all_finite' in 1.6 and will be removed in 1.8.\n",
      "  warnings.warn(\n",
      "/Library/Frameworks/Python.framework/Versions/3.13/lib/python3.13/site-packages/sklearn/utils/deprecation.py:151: FutureWarning: 'force_all_finite' was renamed to 'ensure_all_finite' in 1.6 and will be removed in 1.8.\n",
      "  warnings.warn(\n",
      "/Library/Frameworks/Python.framework/Versions/3.13/lib/python3.13/site-packages/sklearn/utils/deprecation.py:151: FutureWarning: 'force_all_finite' was renamed to 'ensure_all_finite' in 1.6 and will be removed in 1.8.\n",
      "  warnings.warn(\n",
      "/Library/Frameworks/Python.framework/Versions/3.13/lib/python3.13/site-packages/sklearn/utils/deprecation.py:151: FutureWarning: 'force_all_finite' was renamed to 'ensure_all_finite' in 1.6 and will be removed in 1.8.\n",
      "  warnings.warn(\n",
      "/Library/Frameworks/Python.framework/Versions/3.13/lib/python3.13/site-packages/sklearn/utils/deprecation.py:151: FutureWarning: 'force_all_finite' was renamed to 'ensure_all_finite' in 1.6 and will be removed in 1.8.\n",
      "  warnings.warn(\n",
      "/Library/Frameworks/Python.framework/Versions/3.13/lib/python3.13/site-packages/sklearn/utils/deprecation.py:151: FutureWarning: 'force_all_finite' was renamed to 'ensure_all_finite' in 1.6 and will be removed in 1.8.\n",
      "  warnings.warn(\n",
      "/Library/Frameworks/Python.framework/Versions/3.13/lib/python3.13/site-packages/sklearn/utils/deprecation.py:151: FutureWarning: 'force_all_finite' was renamed to 'ensure_all_finite' in 1.6 and will be removed in 1.8.\n",
      "  warnings.warn(\n",
      "/Library/Frameworks/Python.framework/Versions/3.13/lib/python3.13/site-packages/sklearn/utils/deprecation.py:151: FutureWarning: 'force_all_finite' was renamed to 'ensure_all_finite' in 1.6 and will be removed in 1.8.\n",
      "  warnings.warn(\n",
      "/Library/Frameworks/Python.framework/Versions/3.13/lib/python3.13/site-packages/sklearn/utils/deprecation.py:151: FutureWarning: 'force_all_finite' was renamed to 'ensure_all_finite' in 1.6 and will be removed in 1.8.\n",
      "  warnings.warn(\n",
      "/Library/Frameworks/Python.framework/Versions/3.13/lib/python3.13/site-packages/sklearn/utils/deprecation.py:151: FutureWarning: 'force_all_finite' was renamed to 'ensure_all_finite' in 1.6 and will be removed in 1.8.\n",
      "  warnings.warn(\n",
      "/Library/Frameworks/Python.framework/Versions/3.13/lib/python3.13/site-packages/sklearn/utils/deprecation.py:151: FutureWarning: 'force_all_finite' was renamed to 'ensure_all_finite' in 1.6 and will be removed in 1.8.\n",
      "  warnings.warn(\n",
      "/Library/Frameworks/Python.framework/Versions/3.13/lib/python3.13/site-packages/sklearn/utils/deprecation.py:151: FutureWarning: 'force_all_finite' was renamed to 'ensure_all_finite' in 1.6 and will be removed in 1.8.\n",
      "  warnings.warn(\n",
      "/Library/Frameworks/Python.framework/Versions/3.13/lib/python3.13/site-packages/sklearn/utils/deprecation.py:151: FutureWarning: 'force_all_finite' was renamed to 'ensure_all_finite' in 1.6 and will be removed in 1.8.\n",
      "  warnings.warn(\n"
     ]
    },
    {
     "name": "stdout",
     "output_type": "stream",
     "text": [
      " ARIMA(1,1,1)(0,0,0)[0] intercept   : AIC=1558.829, Time=0.03 sec\n",
      " ARIMA(2,1,1)(0,0,0)[0] intercept   : AIC=1560.828, Time=0.04 sec\n",
      " ARIMA(2,1,0)(0,0,0)[0] intercept   : AIC=1566.167, Time=0.01 sec\n",
      " ARIMA(1,1,1)(0,0,0)[0]             : AIC=1561.091, Time=0.01 sec\n",
      "\n",
      "Best model:  ARIMA(1,1,1)(0,0,0)[0] intercept\n",
      "Total fit time: 0.275 seconds\n",
      "                               SARIMAX Results                                \n",
      "==============================================================================\n",
      "Dep. Variable:                      y   No. Observations:                  190\n",
      "Model:               SARIMAX(1, 1, 1)   Log Likelihood                -775.415\n",
      "Date:                Sun, 29 Jun 2025   AIC                           1558.829\n",
      "Time:                        20:30:08   BIC                           1571.796\n",
      "Sample:                             0   HQIC                          1564.083\n",
      "                                - 190                                         \n",
      "Covariance Type:                  opg                                         \n",
      "==============================================================================\n",
      "                 coef    std err          z      P>|z|      [0.025      0.975]\n",
      "------------------------------------------------------------------------------\n",
      "intercept     -0.2260      0.112     -2.024      0.043      -0.445      -0.007\n",
      "ar.L1          0.7684      0.080      9.547      0.000       0.611       0.926\n",
      "ma.L1         -0.9258      0.055    -16.900      0.000      -1.033      -0.818\n",
      "sigma2       213.9338      9.927     21.551      0.000     194.478     233.390\n",
      "===================================================================================\n",
      "Ljung-Box (L1) (Q):                   0.00   Jarque-Bera (JB):              4681.63\n",
      "Prob(Q):                              0.99   Prob(JB):                         0.00\n",
      "Heteroskedasticity (H):               1.22   Skew:                             2.69\n",
      "Prob(H) (two-sided):                  0.43   Kurtosis:                        26.78\n",
      "===================================================================================\n",
      "\n",
      "Warnings:\n",
      "[1] Covariance matrix calculated using the outer product of gradients (complex-step).\n"
     ]
    },
    {
     "name": "stderr",
     "output_type": "stream",
     "text": [
      "/Library/Frameworks/Python.framework/Versions/3.13/lib/python3.13/site-packages/sklearn/utils/deprecation.py:151: FutureWarning: 'force_all_finite' was renamed to 'ensure_all_finite' in 1.6 and will be removed in 1.8.\n",
      "  warnings.warn(\n",
      "/Library/Frameworks/Python.framework/Versions/3.13/lib/python3.13/site-packages/sklearn/utils/deprecation.py:151: FutureWarning: 'force_all_finite' was renamed to 'ensure_all_finite' in 1.6 and will be removed in 1.8.\n",
      "  warnings.warn(\n"
     ]
    }
   ],
   "source": [
    "##################################################\n",
    "#   AUTO ARIMA: PER TROVARE I PARAMETRI OTTIMALI\n",
    "##################################################\n",
    "\n",
    "# Trova i parametri ottimali\n",
    "model_auto = auto_arima(\n",
    "    endog_train, exogenous=exog_train,\n",
    "    seasonal=False, #Non stagionale, se c'è staagionalità impostare su True\n",
    "    stepwise=True,\n",
    "    suppress_warnings=True,\n",
    "    trace=True\n",
    ")\n",
    "\n",
    "print(model_auto.summary())"
   ]
  },
  {
   "cell_type": "code",
   "execution_count": 50,
   "id": "a15d71a0",
   "metadata": {},
   "outputs": [
    {
     "name": "stdout",
     "output_type": "stream",
     "text": [
      "Ordine del modello: (1, 1, 1)\n",
      "Ordine stagionale del modello: (0, 0, 0, 0)\n"
     ]
    }
   ],
   "source": [
    "#   order=(p,d,q):\n",
    "# •\tp=1 → 1 termine autoregressivo (AR)\n",
    "# •\td=1 → 1 differenza automatica → la serie viene differenziata internamente\n",
    "# •\tq=1 → 1 termine di media mobile (MA)\n",
    "print(f\"Ordine del modello: {model_auto.order}\")\n",
    "\n",
    "#   sesonal_order= (P, D, Q, S):\n",
    "# Il parametro seasonal_order in SARIMAX serve per modellare componenti stagionali \n",
    "# → cioè pattern che si ripetono regolarmente a intervalli costanti (es. settimanali, mensili, annuali).\n",
    "# • P: Autoregressivo stagionale (SAR)\n",
    "# • D: Differenza stagionale\n",
    "# • Q: Media mobile stagionale (SMA)\n",
    "# • S: Periodo di stagionalità (es. 12 per dati mensili con pattern annuale)\n",
    "\n",
    "# Se è 0, 0, 0, 0 singifica che non c'è stagionalità\n",
    "# Se è 1, 1, 1, 12: Il pattern si ripete ogni 12 periodi (es. 12 mesi se i dati sono mensili)\n",
    "# Se è 1, 1, 1, 30: se i dati sono giornalieri, singifica c'è una stagionalità mensile\n",
    "print(f\"Ordine stagionale del modello: {model_auto.seasonal_order}\")"
   ]
  },
  {
   "cell_type": "code",
   "execution_count": 63,
   "id": "6076b935",
   "metadata": {},
   "outputs": [
    {
     "name": "stdout",
     "output_type": "stream",
     "text": [
      "Split 1 - MSE: 446.61\n",
      "- Errore medio MSE su cross-validation: 446.6065\n",
      "- RMSE medio su cross-validation: 21.13 euro\n"
     ]
    }
   ],
   "source": [
    "###########################\n",
    "#   CROSS-VALIDATION \n",
    "###########################\n",
    "\n",
    "#Parametri CV\n",
    "n_splits = 3\n",
    "step = 90 # previsone di un trimestre, 3 mesi, 90 gionri circa\n",
    "errors = []\n",
    "\n",
    "for i in range(n_splits):\n",
    "    train_end = train_size + i*step\n",
    "    test_end = train_end + step\n",
    "    \n",
    "    if test_end > len(endog): # Se l'indice supera la lunghezza dei dati, esci dal ciclo\n",
    "        break\n",
    "    \n",
    "    endog_train_cv = endog[:train_end]\n",
    "    exog_train_cv = exog[:train_end]\n",
    "    endog_test_cv = endog[train_end:test_end]\n",
    "    exog_test_cv = exog[train_end:test_end]\n",
    "    \n",
    "    model_cv = SARIMAX(endog_train_cv, exog=exog_train_cv, order=order)\n",
    "    fit_cv = model_cv.fit(disp=False)\n",
    "    \n",
    "    pred_cv = fit_cv.predict(start=train_end, end=test_end-1, exog=exog_test_cv)\n",
    "    mse_cv = mean_squared_error(endog_test_cv, pred_cv)\n",
    "    errors.append(mse_cv)\n",
    "    print(f'Split {i+1} - MSE: {mse_cv:.2f}')\n",
    "\n",
    "print(f'- Errore medio MSE su cross-validation: {np.mean(errors):.4f}')\n",
    "rmse = np.sqrt(np.mean(errors))\n",
    "print(f'- RMSE medio su cross-validation: {rmse:.2f} euro')"
   ]
  },
  {
   "cell_type": "code",
   "execution_count": 64,
   "id": "d97b98fd",
   "metadata": {},
   "outputs": [
    {
     "name": "stdout",
     "output_type": "stream",
     "text": [
      "MSE Test, su hold-out: 446.61\n",
      "RMSE Test, su hold-out: 21.13 euro\n"
     ]
    }
   ],
   "source": [
    "###############################################\n",
    "#   MODELLO SARIMAX: HOLD-OUT test finale\n",
    "###############################################\n",
    "# x controllare i parametri di auto_arima e la capcità di prevesione del modello\n",
    "\n",
    "#parametri di auto_arima, oppure si può fare tuning dei parametri (p,d,q)\n",
    "order = model_auto.order\n",
    "#modello SARIMAX \n",
    "model = SARIMAX(endog_train, exog=exog_train, order=order)\n",
    "model_fit = model.fit(disp=False)\n",
    "\n",
    "pred = model_fit.predict(\n",
    "    start=train_size, \n",
    "    end=len(endog)-1, \n",
    "    exog=exog_test)\n",
    "\n",
    "#MSE e RMSE del Testset\n",
    "mse = mean_squared_error(endog_test, pred)\n",
    "print(f'MSE Test, su hold-out: {mse:.2f}')\n",
    "rmse = np.sqrt(mse)\n",
    "print(f'RMSE Test, su hold-out: {rmse:.2f} euro')"
   ]
  },
  {
   "cell_type": "code",
   "execution_count": 67,
   "id": "61f87970",
   "metadata": {},
   "outputs": [
    {
     "data": {
      "application/vnd.plotly.v1+json": {
       "config": {
        "plotlyServerURL": "https://plot.ly"
       },
       "data": [
        {
         "line": {
          "color": "royalblue"
         },
         "mode": "lines",
         "name": "Prezzo reale iPhone 16",
         "type": "scatter",
         "x": {
          "bdata": "vgC/AMAAwQDCAMMAxADFAMYAxwDIAMkAygDLAMwAzQDOAM8A0ADRANIA0wDUANUA1gDXANgA2QDaANsA3ADdAN4A3wDgAOEA4gDjAOQA5QDmAOcA6ADpAOoA6wDsAO0A7gDvAPAA8QDyAPMA9AD1APYA9wD4APkA+gD7APwA/QD+AP8AAAEBAQIBAwEEAQUBBgEHAQgBCQEKAQsBDAENAQ4BDwEQAREBEgETARQBFQEWARcB",
          "dtype": "i2"
         },
         "y": {
          "bdata": "AAAAAABYiEAAAAAAAFiIQAAAAAAAWIhAAAAAAABYiEAAAAAAAFiIQAAAAAAAWIhAAAAAAABYiEAAAAAAAFiIQAAAAAAAWIhAAAAAAABYiEAAAAAAAFiIQAAAAAAAWIhAAAAAAABYiEAAAAAAAFiIQAAAAAAA+IhAAAAAAAD4iEAAAAAAAPiIQAAAAAAA+IhAAAAAAAD4iEAAAAAAAPiIQAAAAAAA+IhAAAAAAAD4iEAAAAAAAPiIQAAAAAAA+IhAAAAAAAD4iEAAAAAAAPiIQAAAAAAA+IhAAAAAAAD4iEAAAAAAAPiIQAAAAAAA+IhAAAAAAAD4iEAAAAAAAPiIQAAAAAAA+IhAAAAAAAD4iEAAAAAAAPiIQAAAAAAACIhAAAAAAADoiUAAAAAAAAiIQAAAAAAACIhAAAAAAAAIiEAAAAAAAAiIQAAAAAAACIhAAAAAAAAIiEAAAAAAAAiIQAAAAAAACIhAAAAAAAAIiEAAAAAAAAiIQAAAAAAACIhAAAAAAAAIiEAAAAAAAAiIQAAAAAAAmIdAAAAAAACYh0AAAAAAALiHQAAAAAAAWIhAAAAAAABYiEAAAAAAAFiIQAAAAAAAWIhAAAAAAAC4h0AAAAAAALiHQAAAAAAAuIdAAAAAAAC4h0AAAAAAALiHQAAAAAAAuIdAAAAAAABYiEAAAAAAAFiIQAAAAAAAWIhAAAAAAABYiEAAAAAAAFiIQAAAAAAAWIhAAAAAAAD4iEAAAAAAAAiIQAAAAAAACIhAAAAAAAAIiEAAAAAAAAiIQAAAAAAACIhAAAAAAAAIiEAAAAAAAAiIQAAAAAAACIhAAAAAAAAIiEAAAAAAAAiIQAAAAAAACIhAAAAAAAAIiEAAAAAAAAiIQAAAAAAAWIhAAAAAAABYiEAAAAAAAFiIQAAAAAAAWIhAAAAAAABYiEAAAAAAAFiIQAAAAAAAWIhA",
          "dtype": "f8"
         }
        },
        {
         "line": {
          "color": "firebrick",
          "dash": "dash"
         },
         "mode": "lines",
         "name": "Predizione SARIMAX",
         "type": "scatter",
         "x": {
          "bdata": "vgC/AMAAwQDCAMMAxADFAMYAxwDIAMkAygDLAMwAzQDOAM8A0ADRANIA0wDUANUA1gDXANgA2QDaANsA3ADdAN4A3wDgAOEA4gDjAOQA5QDmAOcA6ADpAOoA6wDsAO0A7gDvAPAA8QDyAPMA9AD1APYA9wD4APkA+gD7APwA/QD+AP8AAAEBAQIBAwEEAQUBBgEHAQgBCQEKAQsBDAENAQ4BDwEQAREBEgETARQBFQEWARcB",
          "dtype": "i2"
         },
         "y": {
          "bdata": "VaqipHV9iECLzGhrA5iIQL/WpyLWqohAL84g9i24iEAl+XRTo8GIQO1BCsBXyIhA1kg3dxjNiED0JFz0dtCIQP5SDVja0ohACDzHvIvUiECzNZz0vtWIQL3Ua7uY1ohAW0VNGzPXiEB+wJ6JoNeIQJjyBxzu14hAoSH+GCXYiEBDx60TTNiIQA0OSMPP2ohAEfd8WePaiEB8IeQ78dqIQC79fBP72ohAAtCLDQLbiECcaZ//BtuIQAgYGoEK24hA972rhSLciEBjjqVIJNyIQPYOVIgl3IhA8KDwaibciEBQiTODEduIQK1eEvUR24hAEmvKRRLbiEA8cAiGRtyIQF/zl65G3IhAb3lYy0bciEBQGrrfRtyIQGO0LO5G3IhA/YRq+EbciEA/Ca3/RtyIQKORwO+q2IhAcWVyARPbiEAhZggEE9uIQKOr3QUT24hAQFIqBxPbiEBWIBYIE9uIQNVHvQgT24hASsUzCRPbiECpw4cJE9uIQPhNwwkT24hAu4LtCRPbiEDdbQsKE9uIQHOLMh+v3ohA0qsvChPbiEAAVDoKE9uIQOrhQQoT24hAzTxHChPbiECUCEsKE9uIQHC5TQoT24hAv6FPChPbiEAs5GIfr96IQIvZYx+v3ohAe4dkH6/eiEDHAmUfr96IQC5aZR+v3ohAI5hlH6/eiEAOxGUfr96IQDDjZR+v3ohAQvllH6/eiEDnCGYfr96IQIY7SPyq2IhAwiNgGHvdiEAlOVQKE9uIQBg9VAoT24hA5T9UChPbiEDhQVQKE9uIQElDVAoT24hASERUChPbiED9RFQKE9uIQH1FVAoT24hA2EVUChPbiEAYRlQKE9uIQEZGVAoT24hAZkZUChPbiEB9RlQKE9uIQI1GVAoT24hAmUZUChPbiEChRlQKE9uIQKdGVAoT24hAq0ZUChPbiECuRlQKE9uIQLBGVAoT24hA",
          "dtype": "f8"
         }
        }
       ],
       "layout": {
        "height": 500,
        "legend": {
         "x": 0.01,
         "y": 0.99
        },
        "template": {
         "data": {
          "bar": [
           {
            "error_x": {
             "color": "#f2f5fa"
            },
            "error_y": {
             "color": "#f2f5fa"
            },
            "marker": {
             "line": {
              "color": "rgb(17,17,17)",
              "width": 0.5
             },
             "pattern": {
              "fillmode": "overlay",
              "size": 10,
              "solidity": 0.2
             }
            },
            "type": "bar"
           }
          ],
          "barpolar": [
           {
            "marker": {
             "line": {
              "color": "rgb(17,17,17)",
              "width": 0.5
             },
             "pattern": {
              "fillmode": "overlay",
              "size": 10,
              "solidity": 0.2
             }
            },
            "type": "barpolar"
           }
          ],
          "carpet": [
           {
            "aaxis": {
             "endlinecolor": "#A2B1C6",
             "gridcolor": "#506784",
             "linecolor": "#506784",
             "minorgridcolor": "#506784",
             "startlinecolor": "#A2B1C6"
            },
            "baxis": {
             "endlinecolor": "#A2B1C6",
             "gridcolor": "#506784",
             "linecolor": "#506784",
             "minorgridcolor": "#506784",
             "startlinecolor": "#A2B1C6"
            },
            "type": "carpet"
           }
          ],
          "choropleth": [
           {
            "colorbar": {
             "outlinewidth": 0,
             "ticks": ""
            },
            "type": "choropleth"
           }
          ],
          "contour": [
           {
            "colorbar": {
             "outlinewidth": 0,
             "ticks": ""
            },
            "colorscale": [
             [
              0,
              "#0d0887"
             ],
             [
              0.1111111111111111,
              "#46039f"
             ],
             [
              0.2222222222222222,
              "#7201a8"
             ],
             [
              0.3333333333333333,
              "#9c179e"
             ],
             [
              0.4444444444444444,
              "#bd3786"
             ],
             [
              0.5555555555555556,
              "#d8576b"
             ],
             [
              0.6666666666666666,
              "#ed7953"
             ],
             [
              0.7777777777777778,
              "#fb9f3a"
             ],
             [
              0.8888888888888888,
              "#fdca26"
             ],
             [
              1,
              "#f0f921"
             ]
            ],
            "type": "contour"
           }
          ],
          "contourcarpet": [
           {
            "colorbar": {
             "outlinewidth": 0,
             "ticks": ""
            },
            "type": "contourcarpet"
           }
          ],
          "heatmap": [
           {
            "colorbar": {
             "outlinewidth": 0,
             "ticks": ""
            },
            "colorscale": [
             [
              0,
              "#0d0887"
             ],
             [
              0.1111111111111111,
              "#46039f"
             ],
             [
              0.2222222222222222,
              "#7201a8"
             ],
             [
              0.3333333333333333,
              "#9c179e"
             ],
             [
              0.4444444444444444,
              "#bd3786"
             ],
             [
              0.5555555555555556,
              "#d8576b"
             ],
             [
              0.6666666666666666,
              "#ed7953"
             ],
             [
              0.7777777777777778,
              "#fb9f3a"
             ],
             [
              0.8888888888888888,
              "#fdca26"
             ],
             [
              1,
              "#f0f921"
             ]
            ],
            "type": "heatmap"
           }
          ],
          "histogram": [
           {
            "marker": {
             "pattern": {
              "fillmode": "overlay",
              "size": 10,
              "solidity": 0.2
             }
            },
            "type": "histogram"
           }
          ],
          "histogram2d": [
           {
            "colorbar": {
             "outlinewidth": 0,
             "ticks": ""
            },
            "colorscale": [
             [
              0,
              "#0d0887"
             ],
             [
              0.1111111111111111,
              "#46039f"
             ],
             [
              0.2222222222222222,
              "#7201a8"
             ],
             [
              0.3333333333333333,
              "#9c179e"
             ],
             [
              0.4444444444444444,
              "#bd3786"
             ],
             [
              0.5555555555555556,
              "#d8576b"
             ],
             [
              0.6666666666666666,
              "#ed7953"
             ],
             [
              0.7777777777777778,
              "#fb9f3a"
             ],
             [
              0.8888888888888888,
              "#fdca26"
             ],
             [
              1,
              "#f0f921"
             ]
            ],
            "type": "histogram2d"
           }
          ],
          "histogram2dcontour": [
           {
            "colorbar": {
             "outlinewidth": 0,
             "ticks": ""
            },
            "colorscale": [
             [
              0,
              "#0d0887"
             ],
             [
              0.1111111111111111,
              "#46039f"
             ],
             [
              0.2222222222222222,
              "#7201a8"
             ],
             [
              0.3333333333333333,
              "#9c179e"
             ],
             [
              0.4444444444444444,
              "#bd3786"
             ],
             [
              0.5555555555555556,
              "#d8576b"
             ],
             [
              0.6666666666666666,
              "#ed7953"
             ],
             [
              0.7777777777777778,
              "#fb9f3a"
             ],
             [
              0.8888888888888888,
              "#fdca26"
             ],
             [
              1,
              "#f0f921"
             ]
            ],
            "type": "histogram2dcontour"
           }
          ],
          "mesh3d": [
           {
            "colorbar": {
             "outlinewidth": 0,
             "ticks": ""
            },
            "type": "mesh3d"
           }
          ],
          "parcoords": [
           {
            "line": {
             "colorbar": {
              "outlinewidth": 0,
              "ticks": ""
             }
            },
            "type": "parcoords"
           }
          ],
          "pie": [
           {
            "automargin": true,
            "type": "pie"
           }
          ],
          "scatter": [
           {
            "marker": {
             "line": {
              "color": "#283442"
             }
            },
            "type": "scatter"
           }
          ],
          "scatter3d": [
           {
            "line": {
             "colorbar": {
              "outlinewidth": 0,
              "ticks": ""
             }
            },
            "marker": {
             "colorbar": {
              "outlinewidth": 0,
              "ticks": ""
             }
            },
            "type": "scatter3d"
           }
          ],
          "scattercarpet": [
           {
            "marker": {
             "colorbar": {
              "outlinewidth": 0,
              "ticks": ""
             }
            },
            "type": "scattercarpet"
           }
          ],
          "scattergeo": [
           {
            "marker": {
             "colorbar": {
              "outlinewidth": 0,
              "ticks": ""
             }
            },
            "type": "scattergeo"
           }
          ],
          "scattergl": [
           {
            "marker": {
             "line": {
              "color": "#283442"
             }
            },
            "type": "scattergl"
           }
          ],
          "scattermap": [
           {
            "marker": {
             "colorbar": {
              "outlinewidth": 0,
              "ticks": ""
             }
            },
            "type": "scattermap"
           }
          ],
          "scattermapbox": [
           {
            "marker": {
             "colorbar": {
              "outlinewidth": 0,
              "ticks": ""
             }
            },
            "type": "scattermapbox"
           }
          ],
          "scatterpolar": [
           {
            "marker": {
             "colorbar": {
              "outlinewidth": 0,
              "ticks": ""
             }
            },
            "type": "scatterpolar"
           }
          ],
          "scatterpolargl": [
           {
            "marker": {
             "colorbar": {
              "outlinewidth": 0,
              "ticks": ""
             }
            },
            "type": "scatterpolargl"
           }
          ],
          "scatterternary": [
           {
            "marker": {
             "colorbar": {
              "outlinewidth": 0,
              "ticks": ""
             }
            },
            "type": "scatterternary"
           }
          ],
          "surface": [
           {
            "colorbar": {
             "outlinewidth": 0,
             "ticks": ""
            },
            "colorscale": [
             [
              0,
              "#0d0887"
             ],
             [
              0.1111111111111111,
              "#46039f"
             ],
             [
              0.2222222222222222,
              "#7201a8"
             ],
             [
              0.3333333333333333,
              "#9c179e"
             ],
             [
              0.4444444444444444,
              "#bd3786"
             ],
             [
              0.5555555555555556,
              "#d8576b"
             ],
             [
              0.6666666666666666,
              "#ed7953"
             ],
             [
              0.7777777777777778,
              "#fb9f3a"
             ],
             [
              0.8888888888888888,
              "#fdca26"
             ],
             [
              1,
              "#f0f921"
             ]
            ],
            "type": "surface"
           }
          ],
          "table": [
           {
            "cells": {
             "fill": {
              "color": "#506784"
             },
             "line": {
              "color": "rgb(17,17,17)"
             }
            },
            "header": {
             "fill": {
              "color": "#2a3f5f"
             },
             "line": {
              "color": "rgb(17,17,17)"
             }
            },
            "type": "table"
           }
          ]
         },
         "layout": {
          "annotationdefaults": {
           "arrowcolor": "#f2f5fa",
           "arrowhead": 0,
           "arrowwidth": 1
          },
          "autotypenumbers": "strict",
          "coloraxis": {
           "colorbar": {
            "outlinewidth": 0,
            "ticks": ""
           }
          },
          "colorscale": {
           "diverging": [
            [
             0,
             "#8e0152"
            ],
            [
             0.1,
             "#c51b7d"
            ],
            [
             0.2,
             "#de77ae"
            ],
            [
             0.3,
             "#f1b6da"
            ],
            [
             0.4,
             "#fde0ef"
            ],
            [
             0.5,
             "#f7f7f7"
            ],
            [
             0.6,
             "#e6f5d0"
            ],
            [
             0.7,
             "#b8e186"
            ],
            [
             0.8,
             "#7fbc41"
            ],
            [
             0.9,
             "#4d9221"
            ],
            [
             1,
             "#276419"
            ]
           ],
           "sequential": [
            [
             0,
             "#0d0887"
            ],
            [
             0.1111111111111111,
             "#46039f"
            ],
            [
             0.2222222222222222,
             "#7201a8"
            ],
            [
             0.3333333333333333,
             "#9c179e"
            ],
            [
             0.4444444444444444,
             "#bd3786"
            ],
            [
             0.5555555555555556,
             "#d8576b"
            ],
            [
             0.6666666666666666,
             "#ed7953"
            ],
            [
             0.7777777777777778,
             "#fb9f3a"
            ],
            [
             0.8888888888888888,
             "#fdca26"
            ],
            [
             1,
             "#f0f921"
            ]
           ],
           "sequentialminus": [
            [
             0,
             "#0d0887"
            ],
            [
             0.1111111111111111,
             "#46039f"
            ],
            [
             0.2222222222222222,
             "#7201a8"
            ],
            [
             0.3333333333333333,
             "#9c179e"
            ],
            [
             0.4444444444444444,
             "#bd3786"
            ],
            [
             0.5555555555555556,
             "#d8576b"
            ],
            [
             0.6666666666666666,
             "#ed7953"
            ],
            [
             0.7777777777777778,
             "#fb9f3a"
            ],
            [
             0.8888888888888888,
             "#fdca26"
            ],
            [
             1,
             "#f0f921"
            ]
           ]
          },
          "colorway": [
           "#636efa",
           "#EF553B",
           "#00cc96",
           "#ab63fa",
           "#FFA15A",
           "#19d3f3",
           "#FF6692",
           "#B6E880",
           "#FF97FF",
           "#FECB52"
          ],
          "font": {
           "color": "#f2f5fa"
          },
          "geo": {
           "bgcolor": "rgb(17,17,17)",
           "lakecolor": "rgb(17,17,17)",
           "landcolor": "rgb(17,17,17)",
           "showlakes": true,
           "showland": true,
           "subunitcolor": "#506784"
          },
          "hoverlabel": {
           "align": "left"
          },
          "hovermode": "closest",
          "mapbox": {
           "style": "dark"
          },
          "paper_bgcolor": "rgb(17,17,17)",
          "plot_bgcolor": "rgb(17,17,17)",
          "polar": {
           "angularaxis": {
            "gridcolor": "#506784",
            "linecolor": "#506784",
            "ticks": ""
           },
           "bgcolor": "rgb(17,17,17)",
           "radialaxis": {
            "gridcolor": "#506784",
            "linecolor": "#506784",
            "ticks": ""
           }
          },
          "scene": {
           "xaxis": {
            "backgroundcolor": "rgb(17,17,17)",
            "gridcolor": "#506784",
            "gridwidth": 2,
            "linecolor": "#506784",
            "showbackground": true,
            "ticks": "",
            "zerolinecolor": "#C8D4E3"
           },
           "yaxis": {
            "backgroundcolor": "rgb(17,17,17)",
            "gridcolor": "#506784",
            "gridwidth": 2,
            "linecolor": "#506784",
            "showbackground": true,
            "ticks": "",
            "zerolinecolor": "#C8D4E3"
           },
           "zaxis": {
            "backgroundcolor": "rgb(17,17,17)",
            "gridcolor": "#506784",
            "gridwidth": 2,
            "linecolor": "#506784",
            "showbackground": true,
            "ticks": "",
            "zerolinecolor": "#C8D4E3"
           }
          },
          "shapedefaults": {
           "line": {
            "color": "#f2f5fa"
           }
          },
          "sliderdefaults": {
           "bgcolor": "#C8D4E3",
           "bordercolor": "rgb(17,17,17)",
           "borderwidth": 1,
           "tickwidth": 0
          },
          "ternary": {
           "aaxis": {
            "gridcolor": "#506784",
            "linecolor": "#506784",
            "ticks": ""
           },
           "baxis": {
            "gridcolor": "#506784",
            "linecolor": "#506784",
            "ticks": ""
           },
           "bgcolor": "rgb(17,17,17)",
           "caxis": {
            "gridcolor": "#506784",
            "linecolor": "#506784",
            "ticks": ""
           }
          },
          "title": {
           "x": 0.05
          },
          "updatemenudefaults": {
           "bgcolor": "#506784",
           "borderwidth": 0
          },
          "xaxis": {
           "automargin": true,
           "gridcolor": "#283442",
           "linecolor": "#506784",
           "ticks": "",
           "title": {
            "standoff": 15
           },
           "zerolinecolor": "#283442",
           "zerolinewidth": 2
          },
          "yaxis": {
           "automargin": true,
           "gridcolor": "#283442",
           "linecolor": "#506784",
           "ticks": "",
           "title": {
            "standoff": 15
           },
           "zerolinecolor": "#283442",
           "zerolinewidth": 2
          }
         }
        },
        "title": {
         "text": "SARIMAX Forecast (Test Set)"
        },
        "width": 900,
        "xaxis": {
         "title": {
          "text": "Data"
         }
        },
        "yaxis": {
         "title": {
          "text": "Prezzo (€)"
         }
        }
       }
      }
     },
     "metadata": {},
     "output_type": "display_data"
    }
   ],
   "source": [
    "fig = go.Figure()\n",
    "# Prezzo reale\n",
    "fig.add_trace(go.Scatter(x=endog_test.index, y=endog_test,mode='lines',name='Prezzo reale iPhone 16',line=dict(color='royalblue')))\n",
    "# Predizione SARIMAX\n",
    "fig.add_trace(go.Scatter(x=endog_test.index,y=pred,mode='lines',name='Predizione SARIMAX',line=dict(color='firebrick', dash='dash')))\n",
    "# Layout\n",
    "fig.update_layout(title='SARIMAX Forecast (Test Set)',xaxis_title='Data',yaxis_title='Prezzo (€)',\n",
    "    legend=dict(x=0.01, y=0.99),template='plotly_dark',width=900,height=500)\n",
    "fig.show()"
   ]
  },
  {
   "cell_type": "markdown",
   "id": "03459214",
   "metadata": {},
   "source": [
    "##### 2.2. Previsione\n",
    "\n",
    "Ci sono due previsioni, un forecast con regressore costante e un forecast con regressore previsto.\n",
    "\n",
    "Il primo, usa tutti i dati storici di iPhone 16 (endog) e il prezzo di iPhone 15 (exog) traslato.\n",
    "Per prevedere i prossimi 90 giorni, ipotizzi che il prezzo dell’iPhone 15 rimanga fisso all’ultimo valore conosciuto.\n",
    "- Pro: utile se si pensa che il prezzo dell’iPhone 15 sia ormai stabile (o non hai un buon modello per prevederlo).\n",
    "- Contro: se il prezzo di iPhone 15 non fosse realmente costante, l’assunzione può portare a bias.\n",
    "\n",
    "Il secondo, prima fa un modello SARIMA separato sul prezzo di iPhone 15, per stimare come evolverà nei prossimi mesi (es. con stagionalità). Poi usa questa serie forecastata come regressore esterno nel SARIMAX di iPhone 16:\n",
    "\n",
    "`exog_forecast = SARIMA(df15['Prezzo']).forecast()`\n",
    "\n",
    "`SARIMAX(endog, exog=exog).get_forecast(exog=exog_forecast)`\n",
    "\n",
    "- Pro: più realistico se il prezzo dell’iPhone 15 è ancora volatile (ad es. continua a scendere col tempo); e riene conto di dinamiche stagionali del regressore.\n",
    "- Contro: doppia fonte di incertezza: se si sbaglia il forecast dell’exog, si propaga l’errore.\n",
    "\n",
    "Quando usare uno o l’altro\n",
    "\t•\tSe il prezzo di iPhone 15 è già assestato (es. fine ciclo di vita), il regressore costante è più realistico.\n",
    "\t•\tSe invece il prezzo di iPhone 15 segue ancora trend o stagionalità, il regressore previsto è più accurato (ma più rischioso da stimare)."
   ]
  },
  {
   "cell_type": "code",
   "execution_count": 53,
   "id": "3bbec32f",
   "metadata": {},
   "outputs": [
    {
     "name": "stdout",
     "output_type": "stream",
     "text": [
      "280    778.517519\n",
      "281    778.217566\n",
      "282    778.031088\n",
      "283    777.915157\n",
      "284    777.843084\n",
      "Name: predicted_mean, dtype: float64\n",
      "     lower Prezzo_16  upper Prezzo_16\n",
      "280       751.923894       805.111143\n",
      "281       743.921132       812.513999\n",
      "282       739.021399       817.040777\n",
      "283       735.489041       820.341272\n",
      "284       732.676383       823.009784\n"
     ]
    }
   ],
   "source": [
    "# Immaginiamo che il prezzo iPhone 15 rimanga costante agli ultimi valori per 90 giorni futuri\n",
    "last_exog_value = exog.iloc[-1]\n",
    "exog_future = np.full(90, last_exog_value)\n",
    "\n",
    "# Fit modello su tutti i dati disponibili\n",
    "model_final = SARIMAX(endog, exog=exog, order=order)\n",
    "model_final_fit = model_final.fit(disp=False)\n",
    "\n",
    "# Previsione 3 mesi avanti\n",
    "start_pred = len(endog)\n",
    "end_pred = start_pred + 89\n",
    "\n",
    "forecast = model_final_fit.predict(start=start_pred, end=end_pred, exog=exog_future)\n",
    "# Usa get_forecast per ottenere anche l'intervallo di confidenza\n",
    "forecast_result = model_final_fit.get_forecast(steps=90, exog=exog_future)\n",
    "\n",
    "# Estrai media e intervallo di confidenza\n",
    "mean_forecast = forecast_result.predicted_mean\n",
    "conf_int = forecast_result.conf_int()\n",
    "\n",
    "print(mean_forecast.head())\n",
    "print(conf_int.head())\n"
   ]
  },
  {
   "cell_type": "code",
   "execution_count": 68,
   "id": "feac672a",
   "metadata": {},
   "outputs": [
    {
     "name": "stdout",
     "output_type": "stream",
     "text": [
      "Previsioni medie, prox 5g:\n",
      " 280    778.517519\n",
      "281    778.217566\n",
      "282    778.031088\n",
      "283    777.915157\n",
      "284    777.843084\n",
      "Name: predicted_mean, dtype: float64\n",
      "\n",
      "Intervalli di confidenza, prox 5g:\n",
      "      lower Prezzo_16  upper Prezzo_16\n",
      "280       751.923894       805.111143\n",
      "281       743.921132       812.513999\n",
      "282       739.021399       817.040777\n",
      "283       735.489041       820.341272\n",
      "284       732.676383       823.009784\n",
      "\n",
      "Previsione per i prossimi 90 giorni: 777.72 €\n",
      "\n"
     ]
    }
   ],
   "source": [
    "# 📌 Caso semplice: exog costante\n",
    "# Immaginiamo che il prezzo iPhone 15 rimanga costante agli ultimi valori per 90 giorni futuri\n",
    "future_steps = 90\n",
    "last_exog = exog.iloc[-1] \n",
    "exog_future = np.full(future_steps, last_exog)\n",
    "\n",
    "# Fit modello su tutti i dati disponibili\n",
    "model_final = SARIMAX(endog, exog=exog, order=order)\n",
    "fit_final = model_final.fit(disp=False)\n",
    "\n",
    "forecast_result = fit_final.get_forecast(steps=future_steps, exog=exog_future)\n",
    "mean_forecast = forecast_result.predicted_mean #Media delle previsioni\n",
    "conf_int = forecast_result.conf_int() # Intervallo di confidenza\n",
    "\n",
    "print(\"Previsioni medie, prox 5g:\\n\",mean_forecast.head())\n",
    "print(\"\\nIntervalli di confidenza, prox 5g:\\n\",conf_int.head())\n",
    "print(f'\\nPrevisione per i prossimi {future_steps} giorni: {mean_forecast.values[-1]:.2f} €\\n')"
   ]
  },
  {
   "cell_type": "code",
   "execution_count": 77,
   "id": "13e4e9fa",
   "metadata": {},
   "outputs": [
    {
     "data": {
      "application/vnd.plotly.v1+json": {
       "config": {
        "plotlyServerURL": "https://plot.ly"
       },
       "data": [
        {
         "line": {
          "color": "cyan"
         },
         "mode": "lines",
         "name": "Prezzo storico iPhone 16",
         "type": "scatter",
         "x": {
          "bdata": "AAABAAIAAwAEAAUABgAHAAgACQAKAAsADAANAA4ADwAQABEAEgATABQAFQAWABcAGAAZABoAGwAcAB0AHgAfACAAIQAiACMAJAAlACYAJwAoACkAKgArACwALQAuAC8AMAAxADIAMwA0ADUANgA3ADgAOQA6ADsAPAA9AD4APwBAAEEAQgBDAEQARQBGAEcASABJAEoASwBMAE0ATgBPAFAAUQBSAFMAVABVAFYAVwBYAFkAWgBbAFwAXQBeAF8AYABhAGIAYwBkAGUAZgBnAGgAaQBqAGsAbABtAG4AbwBwAHEAcgBzAHQAdQB2AHcAeAB5AHoAewB8AH0AfgB/AIAAgQCCAIMAhACFAIYAhwCIAIkAigCLAIwAjQCOAI8AkACRAJIAkwCUAJUAlgCXAJgAmQCaAJsAnACdAJ4AnwCgAKEAogCjAKQApQCmAKcAqACpAKoAqwCsAK0ArgCvALAAsQCyALMAtAC1ALYAtwC4ALkAugC7ALwAvQC+AL8AwADBAMIAwwDEAMUAxgDHAMgAyQDKAMsAzADNAM4AzwDQANEA0gDTANQA1QDWANcA2ADZANoA2wDcAN0A3gDfAOAA4QDiAOMA5ADlAOYA5wDoAOkA6gDrAOwA7QDuAO8A8ADxAPIA8wD0APUA9gD3APgA+QD6APsA/AD9AP4A/wAAAQEBAgEDAQQBBQEGAQcBCAEJAQoBCwEMAQ0BDgEPARABEQESARMBFAEVARYBFwE=",
          "dtype": "i2"
         },
         "y": {
          "bdata": "AAAAAACYjkAAAAAAAJiOQAAAAAAAmI5AAAAAAACYjkAAAAAAAJiOQAAAAAAAmI5AAAAAAACYjkAAAAAAAJiOQAAAAAAAmI5AAAAAAACYjkAAAAAAAJiOQAAAAAAAmI5AAAAAAACYjkAAAAAAAJiOQAAAAAAAmI5AAAAAAACYjkAAAAAAAJiOQAAAAAAAmI5AAAAAAACYjkAAAAAAAJiOQAAAAAAAmI5AAAAAAACYjkAAAAAAAJiOQAAAAAAAmI5AAAAAAACYjkAAAAAAAJiOQAAAAAAAmI5AAAAAAACYjkAAAAAAAJiOQAAAAAAAmI5AAAAAAACYjkAAAAAAAJiOQAAAAAAAmI5AAAAAAACYjkAAAAAAAJiOQAAAAAAAmI5AAAAAAACYjkAAAAAAAJiOQAAAAAAAmI5AAAAAAACYjkAAAAAAAJiOQAAAAAAAmI5AAAAAAACYjkAAAAAAAJiOQAAAAAAAmI5AAAAAAACYjkAAAAAAAJiOQAAAAAAAmI5AAAAAAACYjkAAAAAAAJiOQAAAAAAAmI5AUrgehetvjUAAAAAAAFiNQAAAAAAAWI1AAAAAAABYjUAAAAAAAFiNQAAAAAAAWI1AAAAAAAAIjUAAAAAAAAiNQAAAAAAACI1AUrgehesvjEBSuB6F6y+MQFK4HoXrL4xAUrgehesvjEBSuB6F6y+MQFK4HoXrL4xAUrgehesvjEAAAAAAABiMQAAAAAAAGIxAAAAAAAAYjEAAAAAAABiMQAAAAAAAGIxAUrgehetPikBSuB6F60+KQFK4HoXrT4pAUrgehetPikAAAAAAADiKQAAAAAAAqI1AUrgehes/jEBSuB6F6z+MQAAAAAAAGIxAAAAAAAB4i0AAAAAAAHiLQAAAAAAAeItAAAAAAAB4i0AAAAAAAHiLQAAAAAAAeItAUrgehev/iUBSuB6F6/+JQFK4HoXr/4lAUrgehev/iUBSuB6F6/+JQFK4HoXr/4lAAAAAAAAYjEAAAAAAAHiLQFK4HoXr/4lAUrgehev/iUBSuB6F6weKQFK4HoXrB4pAUrgehesHikBSuB6F6weKQFK4HoXrB4pAUrgehesHikBSuB6F6/eMQFK4HoXr94xAUrgehev3jEBSuB6F6/eMQFK4HoXr94xAAAAAAAAYjEAAAAAAACiLQAAAAAAAKItAAAAAAAAoi0AAAAAAACiLQAAAAAAAKItAAAAAAAAoi0AAAAAAACiLQAAAAAAAKItAAAAAAAAoi0AAAAAAACiLQAAAAAAAKItAAAAAAAAoi0AAAAAAACiLQFK4HoXrn4pAUrgeheufikBSuB6F65+KQFK4HoXrn4pAUrgeheufikBSuB6F65+KQAAAAAAAiIpAAAAAAACIikAAAAAAAIiKQAAAAAAAiIpAAAAAAACIikAAAAAAAIiKQAAAAAAAiIpAAAAAAACIikAAAAAAAIiKQAAAAAAAiIpAAAAAAACIikAAAAAAAIiKQAAAAAAAiIpAAAAAAACIikBSuB6F65+KQAAAAAAAiIpAAAAAAACIikAAAAAAAIiKQAAAAAAAiIpAAAAAAACIikAAAAAAAIiKQAAAAAAAiIpAAAAAAACIikAAAAAAAIiKQAAAAAAAiIpAAAAAAACIikAAAAAAAIiKQAAAAAAAiIpAAAAAAACIikAAAAAAAIiKQAAAAAAAiIpAAAAAAACIikAAAAAAAIiKQAAAAAAAiIpAAAAAAACIikAAAAAAAOiJQAAAAAAA6IlAAAAAAADoiUAAAAAAAIiKQAAAAAAAiIpAAAAAAACIikAAAAAAAIiKQAAAAAAAiIpAAAAAAACIikAAAAAAAIiKQAAAAAAAiIpAAAAAAACIikAAAAAAAIiKQAAAAAAAiIpAAAAAAACIikAAAAAAAIiKQAAAAAAA6IlAAAAAAADoiUAAAAAAAOiJQAAAAAAA6IlAAAAAAADoiUAAAAAAAOiJQAAAAAAAmIlAAAAAAABYiEAAAAAAAFiIQAAAAAAAWIhAAAAAAABYiEAAAAAAAFiIQAAAAAAAWIhAAAAAAABYiEAAAAAAAFiIQAAAAAAAWIhAAAAAAABYiEAAAAAAAFiIQAAAAAAAWIhAAAAAAABYiEAAAAAAAFiIQAAAAAAAWIhAAAAAAABYiEAAAAAAAFiIQAAAAAAAWIhAAAAAAAD4iEAAAAAAAPiIQAAAAAAA+IhAAAAAAAD4iEAAAAAAAPiIQAAAAAAA+IhAAAAAAAD4iEAAAAAAAPiIQAAAAAAA+IhAAAAAAAD4iEAAAAAAAPiIQAAAAAAA+IhAAAAAAAD4iEAAAAAAAPiIQAAAAAAA+IhAAAAAAAD4iEAAAAAAAPiIQAAAAAAA+IhAAAAAAAD4iEAAAAAAAPiIQAAAAAAA+IhAAAAAAAAIiEAAAAAAAOiJQAAAAAAACIhAAAAAAAAIiEAAAAAAAAiIQAAAAAAACIhAAAAAAAAIiEAAAAAAAAiIQAAAAAAACIhAAAAAAAAIiEAAAAAAAAiIQAAAAAAACIhAAAAAAAAIiEAAAAAAAAiIQAAAAAAACIhAAAAAAACYh0AAAAAAAJiHQAAAAAAAuIdAAAAAAABYiEAAAAAAAFiIQAAAAAAAWIhAAAAAAABYiEAAAAAAALiHQAAAAAAAuIdAAAAAAAC4h0AAAAAAALiHQAAAAAAAuIdAAAAAAAC4h0AAAAAAAFiIQAAAAAAAWIhAAAAAAABYiEAAAAAAAFiIQAAAAAAAWIhAAAAAAABYiEAAAAAAAPiIQAAAAAAACIhAAAAAAAAIiEAAAAAAAAiIQAAAAAAACIhAAAAAAAAIiEAAAAAAAAiIQAAAAAAACIhAAAAAAAAIiEAAAAAAAAiIQAAAAAAACIhAAAAAAAAIiEAAAAAAAAiIQAAAAAAACIhAAAAAAABYiEAAAAAAAFiIQAAAAAAAWIhAAAAAAABYiEAAAAAAAFiIQAAAAAAAWIhAAAAAAABYiEA=",
          "dtype": "f8"
         }
        },
        {
         "line": {
          "color": "royalblue",
          "dash": "dot"
         },
         "mode": "lines",
         "name": "Prezzo storico iPhone 15",
         "type": "scatter",
         "x": {
          "bdata": "AAAAAAAAAAAAAAAAAADwPwAAAAAAAABAAAAAAAAACEAAAAAAAAAQQAAAAAAAABRAAAAAAAAAGEAAAAAAAAAcQAAAAAAAACBAAAAAAAAAIkAAAAAAAAAkQAAAAAAAACZAAAAAAAAAKEAAAAAAAAAqQAAAAAAAACxAAAAAAAAALkAAAAAAAAAwQAAAAAAAADFAAAAAAAAAMkAAAAAAAAAzQAAAAAAAADRAAAAAAAAANUAAAAAAAAA2QAAAAAAAADdAAAAAAAAAOEAAAAAAAAA5QAAAAAAAADpAAAAAAAAAO0AAAAAAAAA8QAAAAAAAAD1AAAAAAAAAPkAAAAAAAAA/QAAAAAAAAEBAAAAAAACAQEAAAAAAAABBQAAAAAAAgEFAAAAAAAAAQkAAAAAAAIBCQAAAAAAAAENAAAAAAACAQ0AAAAAAAABEQAAAAAAAgERAAAAAAAAARUAAAAAAAIBFQAAAAAAAAEZAAAAAAACARkAAAAAAAABHQAAAAAAAgEdAAAAAAAAASEAAAAAAAIBIQAAAAAAAAElAAAAAAACASUAAAAAAAABKQAAAAAAAgEpAAAAAAAAAS0AAAAAAAIBLQAAAAAAAAExAAAAAAACATEAAAAAAAABNQAAAAAAAgE1AAAAAAAAATkAAAAAAAIBOQAAAAAAAAE9AAAAAAACAT0AAAAAAAABQQAAAAAAAQFBAAAAAAACAUEAAAAAAAMBQQAAAAAAAAFFAAAAAAABAUUAAAAAAAIBRQAAAAAAAwFFAAAAAAAAAUkAAAAAAAEBSQAAAAAAAgFJAAAAAAAAAU0AAAAAAAEBTQAAAAAAAgFNAAAAAAADAU0AAAAAAAABUQAAAAAAAQFRAAAAAAACAVEAAAAAAAMBUQAAAAAAAAFVAAAAAAABAVUAAAAAAAIBVQAAAAAAAwFVAAAAAAAAAVkAAAAAAAEBWQAAAAAAAgFZAAAAAAADAVkAAAAAAAABXQAAAAAAAQFdAAAAAAACAV0AAAAAAAMBXQAAAAAAAAFhAAAAAAABAWEAAAAAAAIBYQAAAAAAAwFhAAAAAAAAAWUAAAAAAAEBZQAAAAAAAgFlAAAAAAADAWUAAAAAAAABaQAAAAAAAQFpAAAAAAACAWkAAAAAAAMBaQAAAAAAAAFtAAAAAAABAW0AAAAAAAIBbQAAAAAAAwFtAAAAAAAAAXEAAAAAAAEBcQAAAAAAAgFxAAAAAAADAXEAAAAAAAABdQAAAAAAAQF1AAAAAAACAXUAAAAAAAMBdQAAAAAAAAF5AAAAAAABAXkAAAAAAAIBeQAAAAAAAwF5AAAAAAAAAX0AAAAAAAEBfQAAAAAAAgF9AAAAAAADAX0AAAAAAAABgQAAAAAAAIGBAAAAAAABAYEAAAAAAAGBgQAAAAAAAgGBAAAAAAACgYEAAAAAAAMBgQAAAAAAA4GBAAAAAAAAAYUAAAAAAACBhQAAAAAAAQGFAAAAAAABgYUAAAAAAAIBhQAAAAAAAoGFAAAAAAADAYUAAAAAAAOBhQAAAAAAAAGJAAAAAAAAgYkAAAAAAAEBiQAAAAAAAYGJAAAAAAACAYkAAAAAAAKBiQAAAAAAAwGJAAAAAAADgYkAAAAAAAABjQAAAAAAAIGNAAAAAAABAY0AAAAAAAGBjQAAAAAAAgGNAAAAAAACgY0AAAAAAAMBjQAAAAAAA4GNAAAAAAAAAZEAAAAAAACBkQAAAAAAAQGRAAAAAAABgZEAAAAAAAIBkQAAAAAAAoGRAAAAAAADAZEAAAAAAAOBkQAAAAAAAAGVAAAAAAAAgZUAAAAAAAEBlQAAAAAAAYGVAAAAAAACAZUAAAAAAAKBlQAAAAAAAwGVAAAAAAADgZUAAAAAAAABmQAAAAAAAIGZAAAAAAABAZkAAAAAAAGBmQAAAAAAAgGZAAAAAAACgZkAAAAAAAMBmQAAAAAAA4GZAAAAAAAAAZ0AAAAAAACBnQAAAAAAAQGdAAAAAAABgZ0AAAAAAAIBnQAAAAAAAoGdAAAAAAADAZ0AAAAAAAOBnQAAAAAAAAGhAAAAAAAAgaEAAAAAAAEBoQAAAAAAAYGhAAAAAAACAaEAAAAAAAKBoQAAAAAAAwGhAAAAAAADgaEAAAAAAAABpQAAAAAAAIGlAAAAAAABAaUAAAAAAAGBpQAAAAAAAgGlAAAAAAACgaUAAAAAAAMBpQAAAAAAA4GlAAAAAAAAAakAAAAAAACBqQAAAAAAAQGpAAAAAAABgakAAAAAAAIBqQAAAAAAAoGpAAAAAAADAakAAAAAAAOBqQAAAAAAAAGtAAAAAAAAga0AAAAAAAEBrQAAAAAAAYGtAAAAAAACAa0AAAAAAAKBrQAAAAAAAwGtAAAAAAADga0AAAAAAAABsQAAAAAAAIGxAAAAAAABAbEAAAAAAAGBsQAAAAAAAgGxAAAAAAACgbEAAAAAAAMBsQAAAAAAA4GxAAAAAAAAAbUAAAAAAACBtQAAAAAAAQG1AAAAAAABgbUAAAAAAAIBtQAAAAAAAoG1AAAAAAADAbUAAAAAAAOBtQAAAAAAAAG5AAAAAAABAbkAAAAAAAGBuQAAAAAAAgG5AAAAAAACgbkAAAAAAAMBuQAAAAAAA4G5AAAAAAAAAb0AAAAAAACBvQAAAAAAAQG9AAAAAAABgb0AAAAAAAIBvQAAAAAAAoG9AAAAAAADAb0AAAAAAAOBvQAAAAAAAAHBAAAAAAAAQcEAAAAAAACBwQAAAAAAAMHBAAAAAAABAcEAAAAAAAHBwQAAAAAAAgHBAAAAAAACQcEAAAAAAAKBwQAAAAAAAsHBAAAAAAADAcEAAAAAAANBwQAAAAAAA4HBAAAAAAADwcEAAAAAAAABxQAAAAAAAEHFAAAAAAAAgcUAAAAAAADBxQAAAAAAAQHFAAAAAAABQcUAAAAAAAGBxQAAAAAAAcHFAAAAAAACAcUAAAAAAAJBxQAAAAAAAoHFAAAAAAACwcUAAAAAAAMBxQAAAAAAA0HFAAAAAAADgcUAAAAAAAPBxQAAAAAAAAHJAAAAAAAAQckAAAAAAACByQAAAAAAAMHJAAAAAAABAckAAAAAAAFByQAAAAAAAYHJAAAAAAABwckAAAAAAAIByQAAAAAAAkHJAAAAAAACgckAAAAAAALByQAAAAAAAwHJAAAAAAADQckAAAAAAAOByQAAAAAAA8HJAAAAAAAAAc0AAAAAAABBzQAAAAAAAIHNAAAAAAAAwc0AAAAAAAEBzQAAAAAAAUHNAAAAAAABgc0AAAAAAAHBzQAAAAAAAgHNAAAAAAACQc0AAAAAAAKBzQAAAAAAAsHNAAAAAAADAc0AAAAAAANBzQAAAAAAA4HNAAAAAAADwc0AAAAAAAAB0QAAAAAAAEHRAAAAAAAAgdEAAAAAAADB0QAAAAAAAQHRAAAAAAABQdEAAAAAAAGB0QAAAAAAAcHRAAAAAAACAdEAAAAAAAJB0QAAAAAAAoHRAAAAAAACwdEAAAAAAAMB0QAAAAAAA0HRAAAAAAADgdEAAAAAAAPB0QAAAAAAAAHVAAAAAAAAQdUAAAAAAACB1QAAAAAAAMHVAAAAAAABAdUAAAAAAAFB1QAAAAAAAYHVAAAAAAABwdUAAAAAAAIB1QAAAAAAAkHVAAAAAAACgdUAAAAAAALB1QAAAAAAAwHVAAAAAAADQdUAAAAAAAOB1QAAAAAAA8HVAAAAAAAAAdkAAAAAAABB2QAAAAAAAIHZAAAAAAAAwdkAAAAAAAEB2QAAAAAAAUHZAAAAAAABgdkAAAAAAAHB2QAAAAAAAgHZAAAAAAACQdkAAAAAAAKB2QAAAAAAAsHZAAAAAAADAdkAAAAAAANB2QAAAAAAA4HZAAAAAAADwdkAAAAAAAAB3QAAAAAAAEHdAAAAAAAAgd0AAAAAAADB3QAAAAAAAQHdAAAAAAABQd0A=",
          "dtype": "f8"
         },
         "y": {
          "bdata": "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",
          "dtype": "f8"
         }
        },
        {
         "line": {
          "color": "magenta",
          "dash": "dash"
         },
         "mode": "lines",
         "name": "Forecast 90 giorni",
         "type": "scatter",
         "x": {
          "bdata": "GAEZARoBGwEcAR0BHgEfASABIQEiASMBJAElASYBJwEoASkBKgErASwBLQEuAS8BMAExATIBMwE0ATUBNgE3ATgBOQE6ATsBPAE9AT4BPwFAAUEBQgFDAUQBRQFGAUcBSAFJAUoBSwFMAU0BTgFPAVABUQFSAVMBVAFVAVYBVwFYAVkBWgFbAVwBXQFeAV8BYAFhAWIBYwFkAWUBZgFnAWgBaQFqAWsBbAFtAW4BbwFwAXEB",
          "dtype": "i2"
         },
         "y": {
          "bdata": "UsLk4CNUiEBi7QCTvVGIQGbaBKs/UIhAhme9PVJPiED/LLCivk6IQND35N5iTohAuhNO0ilOiEB96cpaBk6IQProKE7wTYhAkyn0mOJNiEAUq1ET2k2IQIFOBcfUTYhAyDTTe9FNiEBYmp5vz02IQIsNuinOTYhAQHEfX81NiEC+iirhzE2IQBk+3JLMTYhA160tYsxNiEAy1+lDzE2IQEQYGTHMTYhAtJNmJcxNiEAR6yAezE2IQKaLmxnMTYhABgXMFsxNiEDEsgwVzE2IQISa9hPMTYhAFLdJE8xNiEB5O94SzE2IQFNpmxLMTYhAn95xEsxNiEAlC1gSzE2IQNz8RxLMTYhAiwE+EsxNiEDuzDcSzE2IQE7xMxLMTYhAT4sxEsxNiECYDTASzE2IQEkgLxLMTYhAwYwuEsxNiEAJMS4SzE2IQAT4LRLMTYhAkdQtEsxNiECHvi0SzE2IQNSwLRLMTYhAT6gtEsxNiEADoy0SzE2IQLifLRLMTYhArJ0tEsxNiEBmnC0SzE2IQJubLRLMTYhAHZstEsxNiEDPmi0SzE2IQJ6aLRLMTYhAgJotEsxNiEBtmi0SzE2IQGGaLRLMTYhAWpotEsxNiEBVmi0SzE2IQFKaLRLMTYhAUJotEsxNiEBPmi0SzE2IQE6aLRLMTYhATpotEsxNiEBOmi0SzE2IQE6aLRLMTYhATpotEsxNiEBOmi0SzE2IQE6aLRLMTYhATpotEsxNiEBOmi0SzE2IQE6aLRLMTYhATpotEsxNiEBOmi0SzE2IQE6aLRLMTYhATpotEsxNiEBOmi0SzE2IQE6aLRLMTYhATpotEsxNiEBOmi0SzE2IQE6aLRLMTYhATpotEsxNiEBOmi0SzE2IQE6aLRLMTYhATpotEsxNiEBOmi0SzE2IQE6aLRLMTYhATpotEsxNiEBOmi0SzE2IQE6aLRLMTYhA",
          "dtype": "f8"
         }
        },
        {
         "fill": "toself",
         "fillcolor": "rgba(255, 182, 193, 0.3)",
         "hoverinfo": "skip",
         "line": {
          "color": "rgba(255,255,255,0)"
         },
         "name": "95% Intervallo Confidenza",
         "showlegend": true,
         "type": "scatter",
         "x": {
          "bdata": "GAEZARoBGwEcAR0BHgEfASABIQEiASMBJAElASYBJwEoASkBKgErASwBLQEuAS8BMAExATIBMwE0ATUBNgE3ATgBOQE6ATsBPAE9AT4BPwFAAUEBQgFDAUQBRQFGAUcBSAFJAUoBSwFMAU0BTgFPAVABUQFSAVMBVAFVAVYBVwFYAVkBWgFbAVwBXQFeAV8BYAFhAWIBYwFkAWUBZgFnAWgBaQFqAWsBbAFtAW4BbwFwAXEBcQFwAW8BbgFtAWwBawFqAWkBaAFnAWYBZQFkAWMBYgFhAWABXwFeAV0BXAFbAVoBWQFYAVcBVgFVAVQBUwFSAVEBUAFPAU4BTQFMAUsBSgFJAUgBRwFGAUUBRAFDAUIBQQFAAT8BPgE9ATwBOwE6ATkBOAE3ATYBNQE0ATMBMgExATABLwEuAS0BLAErASoBKQEoAScBJgElASQBIwEiASEBIAEfAR4BHQEcARsBGgEZARgB",
          "dtype": "i2"
         },
         "y": {
          "bdata": "ojOjImR/h0CG/j56Xj+HQCZtAdMrGIdASv94jun7hkCBl387aeWGQBWWY+pB0oZA0vw1xTLBhkBMw4vYiLGGQOmRGjXbooZA9lltyOmUhkB8QCT7i4eGQApIgB6neoZAnuAa9yhuhkAcs3+LBGKGQFW3UTwwVoZARJoPnKRKhkB4Cje4Wz+GQBNIbaZQNIZAOuP5On8phkCW4KnY4x6GQFQohlB7FIZAJx2Ky0IKhkDja8e6NwCGQIoBwMtX9oVAG6qS36DshUA4hBgEEeOFQGmTYW6m2YVA/LAwdl/QhUCKmjaSOseFQB3531Q2voVAsESXaVG1hUBIAGSSiqyFQO+T1qXgo4VAgwQ0jVKbhUBLl9dC35KFQLl1wtCFioVAruVST0WChUBrzR3kHHqFQNsb5sALcoVAwl+uIhFqhUB1Z+FQLGKFQDc3j5xcWoVAdQS8X6FShUBSNL/8+UqFQCSfsN1lQ4VAjpPic+Q7hUCGRGc3dTSFQOt2oKYXLYVAJmfYRcslhUA2/uKejx6FQAiIxkBkF4VAZzRrv0gQhUDnv1CzPAmFQOSzSbk/AoVASbw7clH7hEA1n+SCcfSEQMpuo5Of7YRA5JdFUNvmhEDIeddnJOCEQFI7eIx62YRAP5kwc93ShED1b8zTTMyEQNzItmjIxYRApDjY7k+/hEBjYHcl47iEQLlnG86BsoRA1klwrCushECY0iyG4KWEQAEs+iKgn4RAAN9cTGqZhED+LJ/NPpOEQMKpvHMdjYRAaf9ODQaHhEDax3tq+ICEQNto41z0eoRAauGQt/l0hEBMeOpOCG+EQBI9o/gfaYRA9E2ti0BjhEDb1SzgaV2EQPa2a8+bV4RAD9fNM9ZRhECVA8boGEyEQBxky8pjRoRAp3JPt7ZAhEDEcbSMETuEQP5YRCp0NYRAuzAocN4vhEAL118/UCqEQGonunnJJIRAMg2hqs52jECRXfvkR3GMQOEDM7S5a4xAntsW+iNmjEDYwqaXhmCMQPXBC23hWoxAgNCPWTRVjEAHMZU7f0+MQI1djfDBSYxApn3vVPxDjEDBXi5ELj6MQKjmrZhXOIxAive3K3gyjEBQvHDVjyyMQDJTymyeJoxAwct3x6MgjEDCbN+5nxqMQDM1DBeSFIxA2oqesHoOjECeB7xWWQiMQJxV/tctAoxAmwhhAfj7i0AEYi6et/WLQMbq6nds74tA48w/Vhbpi0A51OP+tOKLQPj7gjVI3ItAwGuku8/Vi0CpxI5QS8+LQGGbKrG6yItAUvnilx3Ci0DiuoO8c7uLQNCcFdS8tItA+MW3kPiti0CllXahJqeLQLd4H7JGoItAWIERa1iZi0C3dQpxW5KLQNMB8GRPi4tALq+U4zOEi0CWOniFCH2LQDLUgt7MdYtAhci6fYBui0CAAfTsImeLQBC9eLCzX4tAhMKqRjJYi0C8SJwnnlCLQK2kn8T2SItA0bjMhztBi0Cd+nrTazmLQMC5rgGHMYtAtyR4Y4wpi0DFTUJAeyGLQPAwENVSGYtA42ylUxIRi0CRApjhuAiLQJP+R5dFAItAyWW5frf3ikACFkySDe+KQI54TLtG5opAidlW0GHdikBo3IWTXdSKQCy9YrA4y4pAn6GLufHBikBQ4QAmh7iKQPFfBU73ropAwhV3Z0ClikA/anqBYJuKQEEKQ39VkYpANAisER2HikDOzSmvtHyKQHR4YYkZcopAHzRLf0hnikAECx4KPlyKQDxILyL2UIpAwWMiF2xFikCUgb1TmjmKQPKIiwB6LYpA+FSKbwIhikCsFX8rKBSKQDD5emnbBopAC0A3ZwX5iUCuDwrdg+qJQKIqZt8g24lAi1lm04PKiUB9wuAJFLiJQMLPAe26oolApkcIg1OIiUA+3MKrHGSJQAJRJp/jKIlA",
          "dtype": "f8"
         }
        }
       ],
       "layout": {
        "height": 500,
        "template": {
         "data": {
          "bar": [
           {
            "error_x": {
             "color": "#f2f5fa"
            },
            "error_y": {
             "color": "#f2f5fa"
            },
            "marker": {
             "line": {
              "color": "rgb(17,17,17)",
              "width": 0.5
             },
             "pattern": {
              "fillmode": "overlay",
              "size": 10,
              "solidity": 0.2
             }
            },
            "type": "bar"
           }
          ],
          "barpolar": [
           {
            "marker": {
             "line": {
              "color": "rgb(17,17,17)",
              "width": 0.5
             },
             "pattern": {
              "fillmode": "overlay",
              "size": 10,
              "solidity": 0.2
             }
            },
            "type": "barpolar"
           }
          ],
          "carpet": [
           {
            "aaxis": {
             "endlinecolor": "#A2B1C6",
             "gridcolor": "#506784",
             "linecolor": "#506784",
             "minorgridcolor": "#506784",
             "startlinecolor": "#A2B1C6"
            },
            "baxis": {
             "endlinecolor": "#A2B1C6",
             "gridcolor": "#506784",
             "linecolor": "#506784",
             "minorgridcolor": "#506784",
             "startlinecolor": "#A2B1C6"
            },
            "type": "carpet"
           }
          ],
          "choropleth": [
           {
            "colorbar": {
             "outlinewidth": 0,
             "ticks": ""
            },
            "type": "choropleth"
           }
          ],
          "contour": [
           {
            "colorbar": {
             "outlinewidth": 0,
             "ticks": ""
            },
            "colorscale": [
             [
              0,
              "#0d0887"
             ],
             [
              0.1111111111111111,
              "#46039f"
             ],
             [
              0.2222222222222222,
              "#7201a8"
             ],
             [
              0.3333333333333333,
              "#9c179e"
             ],
             [
              0.4444444444444444,
              "#bd3786"
             ],
             [
              0.5555555555555556,
              "#d8576b"
             ],
             [
              0.6666666666666666,
              "#ed7953"
             ],
             [
              0.7777777777777778,
              "#fb9f3a"
             ],
             [
              0.8888888888888888,
              "#fdca26"
             ],
             [
              1,
              "#f0f921"
             ]
            ],
            "type": "contour"
           }
          ],
          "contourcarpet": [
           {
            "colorbar": {
             "outlinewidth": 0,
             "ticks": ""
            },
            "type": "contourcarpet"
           }
          ],
          "heatmap": [
           {
            "colorbar": {
             "outlinewidth": 0,
             "ticks": ""
            },
            "colorscale": [
             [
              0,
              "#0d0887"
             ],
             [
              0.1111111111111111,
              "#46039f"
             ],
             [
              0.2222222222222222,
              "#7201a8"
             ],
             [
              0.3333333333333333,
              "#9c179e"
             ],
             [
              0.4444444444444444,
              "#bd3786"
             ],
             [
              0.5555555555555556,
              "#d8576b"
             ],
             [
              0.6666666666666666,
              "#ed7953"
             ],
             [
              0.7777777777777778,
              "#fb9f3a"
             ],
             [
              0.8888888888888888,
              "#fdca26"
             ],
             [
              1,
              "#f0f921"
             ]
            ],
            "type": "heatmap"
           }
          ],
          "histogram": [
           {
            "marker": {
             "pattern": {
              "fillmode": "overlay",
              "size": 10,
              "solidity": 0.2
             }
            },
            "type": "histogram"
           }
          ],
          "histogram2d": [
           {
            "colorbar": {
             "outlinewidth": 0,
             "ticks": ""
            },
            "colorscale": [
             [
              0,
              "#0d0887"
             ],
             [
              0.1111111111111111,
              "#46039f"
             ],
             [
              0.2222222222222222,
              "#7201a8"
             ],
             [
              0.3333333333333333,
              "#9c179e"
             ],
             [
              0.4444444444444444,
              "#bd3786"
             ],
             [
              0.5555555555555556,
              "#d8576b"
             ],
             [
              0.6666666666666666,
              "#ed7953"
             ],
             [
              0.7777777777777778,
              "#fb9f3a"
             ],
             [
              0.8888888888888888,
              "#fdca26"
             ],
             [
              1,
              "#f0f921"
             ]
            ],
            "type": "histogram2d"
           }
          ],
          "histogram2dcontour": [
           {
            "colorbar": {
             "outlinewidth": 0,
             "ticks": ""
            },
            "colorscale": [
             [
              0,
              "#0d0887"
             ],
             [
              0.1111111111111111,
              "#46039f"
             ],
             [
              0.2222222222222222,
              "#7201a8"
             ],
             [
              0.3333333333333333,
              "#9c179e"
             ],
             [
              0.4444444444444444,
              "#bd3786"
             ],
             [
              0.5555555555555556,
              "#d8576b"
             ],
             [
              0.6666666666666666,
              "#ed7953"
             ],
             [
              0.7777777777777778,
              "#fb9f3a"
             ],
             [
              0.8888888888888888,
              "#fdca26"
             ],
             [
              1,
              "#f0f921"
             ]
            ],
            "type": "histogram2dcontour"
           }
          ],
          "mesh3d": [
           {
            "colorbar": {
             "outlinewidth": 0,
             "ticks": ""
            },
            "type": "mesh3d"
           }
          ],
          "parcoords": [
           {
            "line": {
             "colorbar": {
              "outlinewidth": 0,
              "ticks": ""
             }
            },
            "type": "parcoords"
           }
          ],
          "pie": [
           {
            "automargin": true,
            "type": "pie"
           }
          ],
          "scatter": [
           {
            "marker": {
             "line": {
              "color": "#283442"
             }
            },
            "type": "scatter"
           }
          ],
          "scatter3d": [
           {
            "line": {
             "colorbar": {
              "outlinewidth": 0,
              "ticks": ""
             }
            },
            "marker": {
             "colorbar": {
              "outlinewidth": 0,
              "ticks": ""
             }
            },
            "type": "scatter3d"
           }
          ],
          "scattercarpet": [
           {
            "marker": {
             "colorbar": {
              "outlinewidth": 0,
              "ticks": ""
             }
            },
            "type": "scattercarpet"
           }
          ],
          "scattergeo": [
           {
            "marker": {
             "colorbar": {
              "outlinewidth": 0,
              "ticks": ""
             }
            },
            "type": "scattergeo"
           }
          ],
          "scattergl": [
           {
            "marker": {
             "line": {
              "color": "#283442"
             }
            },
            "type": "scattergl"
           }
          ],
          "scattermap": [
           {
            "marker": {
             "colorbar": {
              "outlinewidth": 0,
              "ticks": ""
             }
            },
            "type": "scattermap"
           }
          ],
          "scattermapbox": [
           {
            "marker": {
             "colorbar": {
              "outlinewidth": 0,
              "ticks": ""
             }
            },
            "type": "scattermapbox"
           }
          ],
          "scatterpolar": [
           {
            "marker": {
             "colorbar": {
              "outlinewidth": 0,
              "ticks": ""
             }
            },
            "type": "scatterpolar"
           }
          ],
          "scatterpolargl": [
           {
            "marker": {
             "colorbar": {
              "outlinewidth": 0,
              "ticks": ""
             }
            },
            "type": "scatterpolargl"
           }
          ],
          "scatterternary": [
           {
            "marker": {
             "colorbar": {
              "outlinewidth": 0,
              "ticks": ""
             }
            },
            "type": "scatterternary"
           }
          ],
          "surface": [
           {
            "colorbar": {
             "outlinewidth": 0,
             "ticks": ""
            },
            "colorscale": [
             [
              0,
              "#0d0887"
             ],
             [
              0.1111111111111111,
              "#46039f"
             ],
             [
              0.2222222222222222,
              "#7201a8"
             ],
             [
              0.3333333333333333,
              "#9c179e"
             ],
             [
              0.4444444444444444,
              "#bd3786"
             ],
             [
              0.5555555555555556,
              "#d8576b"
             ],
             [
              0.6666666666666666,
              "#ed7953"
             ],
             [
              0.7777777777777778,
              "#fb9f3a"
             ],
             [
              0.8888888888888888,
              "#fdca26"
             ],
             [
              1,
              "#f0f921"
             ]
            ],
            "type": "surface"
           }
          ],
          "table": [
           {
            "cells": {
             "fill": {
              "color": "#506784"
             },
             "line": {
              "color": "rgb(17,17,17)"
             }
            },
            "header": {
             "fill": {
              "color": "#2a3f5f"
             },
             "line": {
              "color": "rgb(17,17,17)"
             }
            },
            "type": "table"
           }
          ]
         },
         "layout": {
          "annotationdefaults": {
           "arrowcolor": "#f2f5fa",
           "arrowhead": 0,
           "arrowwidth": 1
          },
          "autotypenumbers": "strict",
          "coloraxis": {
           "colorbar": {
            "outlinewidth": 0,
            "ticks": ""
           }
          },
          "colorscale": {
           "diverging": [
            [
             0,
             "#8e0152"
            ],
            [
             0.1,
             "#c51b7d"
            ],
            [
             0.2,
             "#de77ae"
            ],
            [
             0.3,
             "#f1b6da"
            ],
            [
             0.4,
             "#fde0ef"
            ],
            [
             0.5,
             "#f7f7f7"
            ],
            [
             0.6,
             "#e6f5d0"
            ],
            [
             0.7,
             "#b8e186"
            ],
            [
             0.8,
             "#7fbc41"
            ],
            [
             0.9,
             "#4d9221"
            ],
            [
             1,
             "#276419"
            ]
           ],
           "sequential": [
            [
             0,
             "#0d0887"
            ],
            [
             0.1111111111111111,
             "#46039f"
            ],
            [
             0.2222222222222222,
             "#7201a8"
            ],
            [
             0.3333333333333333,
             "#9c179e"
            ],
            [
             0.4444444444444444,
             "#bd3786"
            ],
            [
             0.5555555555555556,
             "#d8576b"
            ],
            [
             0.6666666666666666,
             "#ed7953"
            ],
            [
             0.7777777777777778,
             "#fb9f3a"
            ],
            [
             0.8888888888888888,
             "#fdca26"
            ],
            [
             1,
             "#f0f921"
            ]
           ],
           "sequentialminus": [
            [
             0,
             "#0d0887"
            ],
            [
             0.1111111111111111,
             "#46039f"
            ],
            [
             0.2222222222222222,
             "#7201a8"
            ],
            [
             0.3333333333333333,
             "#9c179e"
            ],
            [
             0.4444444444444444,
             "#bd3786"
            ],
            [
             0.5555555555555556,
             "#d8576b"
            ],
            [
             0.6666666666666666,
             "#ed7953"
            ],
            [
             0.7777777777777778,
             "#fb9f3a"
            ],
            [
             0.8888888888888888,
             "#fdca26"
            ],
            [
             1,
             "#f0f921"
            ]
           ]
          },
          "colorway": [
           "#636efa",
           "#EF553B",
           "#00cc96",
           "#ab63fa",
           "#FFA15A",
           "#19d3f3",
           "#FF6692",
           "#B6E880",
           "#FF97FF",
           "#FECB52"
          ],
          "font": {
           "color": "#f2f5fa"
          },
          "geo": {
           "bgcolor": "rgb(17,17,17)",
           "lakecolor": "rgb(17,17,17)",
           "landcolor": "rgb(17,17,17)",
           "showlakes": true,
           "showland": true,
           "subunitcolor": "#506784"
          },
          "hoverlabel": {
           "align": "left"
          },
          "hovermode": "closest",
          "mapbox": {
           "style": "dark"
          },
          "paper_bgcolor": "rgb(17,17,17)",
          "plot_bgcolor": "rgb(17,17,17)",
          "polar": {
           "angularaxis": {
            "gridcolor": "#506784",
            "linecolor": "#506784",
            "ticks": ""
           },
           "bgcolor": "rgb(17,17,17)",
           "radialaxis": {
            "gridcolor": "#506784",
            "linecolor": "#506784",
            "ticks": ""
           }
          },
          "scene": {
           "xaxis": {
            "backgroundcolor": "rgb(17,17,17)",
            "gridcolor": "#506784",
            "gridwidth": 2,
            "linecolor": "#506784",
            "showbackground": true,
            "ticks": "",
            "zerolinecolor": "#C8D4E3"
           },
           "yaxis": {
            "backgroundcolor": "rgb(17,17,17)",
            "gridcolor": "#506784",
            "gridwidth": 2,
            "linecolor": "#506784",
            "showbackground": true,
            "ticks": "",
            "zerolinecolor": "#C8D4E3"
           },
           "zaxis": {
            "backgroundcolor": "rgb(17,17,17)",
            "gridcolor": "#506784",
            "gridwidth": 2,
            "linecolor": "#506784",
            "showbackground": true,
            "ticks": "",
            "zerolinecolor": "#C8D4E3"
           }
          },
          "shapedefaults": {
           "line": {
            "color": "#f2f5fa"
           }
          },
          "sliderdefaults": {
           "bgcolor": "#C8D4E3",
           "bordercolor": "rgb(17,17,17)",
           "borderwidth": 1,
           "tickwidth": 0
          },
          "ternary": {
           "aaxis": {
            "gridcolor": "#506784",
            "linecolor": "#506784",
            "ticks": ""
           },
           "baxis": {
            "gridcolor": "#506784",
            "linecolor": "#506784",
            "ticks": ""
           },
           "bgcolor": "rgb(17,17,17)",
           "caxis": {
            "gridcolor": "#506784",
            "linecolor": "#506784",
            "ticks": ""
           }
          },
          "title": {
           "x": 0.05
          },
          "updatemenudefaults": {
           "bgcolor": "#506784",
           "borderwidth": 0
          },
          "xaxis": {
           "automargin": true,
           "gridcolor": "#283442",
           "linecolor": "#506784",
           "ticks": "",
           "title": {
            "standoff": 15
           },
           "zerolinecolor": "#283442",
           "zerolinewidth": 2
          },
          "yaxis": {
           "automargin": true,
           "gridcolor": "#283442",
           "linecolor": "#506784",
           "ticks": "",
           "title": {
            "standoff": 15
           },
           "zerolinecolor": "#283442",
           "zerolinewidth": 2
          }
         }
        },
        "title": {
         "text": "Previsione iPhone 16 con banda di confidenza"
        },
        "width": 1000,
        "xaxis": {
         "title": {
          "text": "Giorni dal lancio"
         }
        },
        "yaxis": {
         "title": {
          "text": "Prezzo (€)"
         }
        }
       }
      }
     },
     "metadata": {},
     "output_type": "display_data"
    }
   ],
   "source": [
    "forecast_index = np.arange(len(endog), len(endog) + future_steps)\n",
    "days_iphone15 = df15['Giorni_dal_lancio'][:len(endog)+future_steps]\n",
    "fig = go.Figure()\n",
    "\n",
    "fig.add_trace(go.Scatter(x=endog.index, y=endog, mode='lines', \n",
    "                         name='Prezzo storico iPhone 16', line=dict(color='cyan')))\n",
    "\n",
    "fig.add_trace(go.Scatter(x=days_iphone15, y=df15['Prezzo'][:len(endog)+future_steps], mode='lines', \n",
    "                         name='Prezzo storico iPhone 15', line=dict(color='royalblue', dash='dot')))\n",
    "\n",
    "fig.add_trace(go.Scatter(x=forecast_index, y=mean_forecast, mode='lines', \n",
    "                         name='Forecast 90 giorni', line=dict(color='magenta', dash='dash')))\n",
    "\n",
    "fig.add_trace(go.Scatter(x=np.concatenate([forecast_index, forecast_index[::-1]]), y=np.concatenate([conf_int.iloc[:, 0], conf_int.iloc[:, 1][::-1]]), \n",
    "                         fill='toself', fillcolor='rgba(255, 182, 193, 0.3)', line=dict(color='rgba(255,255,255,0)'), \n",
    "                         hoverinfo=\"skip\", showlegend=True, name='95% Intervallo Confidenza'))\n",
    "\n",
    "fig.update_layout(title='Previsione iPhone 16 con banda di confidenza', xaxis_title='Giorni dal lancio', yaxis_title='Prezzo (€)', \n",
    "                  template='plotly_dark', width=1000, height=500)\n",
    "\n",
    "fig.show()"
   ]
  },
  {
   "cell_type": "code",
   "execution_count": 92,
   "id": "844777f1",
   "metadata": {},
   "outputs": [
    {
     "name": "stdout",
     "output_type": "stream",
     "text": [
      "Il primo valore predetto di forecast_exog è: 660.9659\n",
      "\n",
      "Il primo valore forecast_exog non è uguale al 280º valore di Prezzo iPhone 15:\n",
      " - 280° valore di Prezzo iPhone 15: 779.0000\n",
      " - Con una differenza di: 118.03407506879603\n",
      " \n",
      " - Forecast exog corretto:\n",
      "Giorno  Prezzo(€)\n",
      "645    783.342001\n",
      "646    779.000000\n",
      "647    779.408213\n",
      "Name: predicted_mean, dtype: float64\n"
     ]
    },
    {
     "name": "stderr",
     "output_type": "stream",
     "text": [
      "/Library/Frameworks/Python.framework/Versions/3.13/lib/python3.13/site-packages/statsmodels/base/model.py:607: ConvergenceWarning:\n",
      "\n",
      "Maximum Likelihood optimization failed to converge. Check mle_retvals\n",
      "\n"
     ]
    }
   ],
   "source": [
    "# Modello SARIMA sul regressore esterno (iPhone 15) ---\n",
    "# Esempio: stagionalità annuale di 365 giorni o mensile di 30, dipende dai dati!\n",
    "# Se hai giornaliero, una stagionalità di 30 può avere senso per pattern mensili.\n",
    "future_steps = 180\n",
    "order_exog = (1, 1, 1)\n",
    "#seasonal_order = (1, 1, 1, 30)  # Esempio stagionalità mensile\n",
    "\n",
    "model_exog = SARIMAX(df15['Prezzo'], order=order_exog, seasonal_order=seasonal_order)\n",
    "fit_exog = model_exog.fit(disp=False)\n",
    "forecast_exog = fit_exog.forecast(steps=future_steps) #forecast del regressore esterno: iPhone 15\n",
    "\n",
    "# combina exog previsto nel SARIMAX del 16\n",
    "sarimax_final = SARIMAX(endog, exog=exog, order=order, seasonal_order=seasonal_order)\n",
    "#exog=df15['Prezzo'][:len(endog)],  # solo parte storica per il fit\n",
    "fit_final = sarimax_final.fit(disp=False)\n",
    "\n",
    "sarimax_forecast = fit_final.get_forecast(steps=future_steps, exog=forecast_exog)\n",
    "mean_forecast = sarimax_forecast.predicted_mean\n",
    "conf_int = sarimax_forecast.conf_int()\n",
    "\n",
    "# calcolo offset tra forecast e ultimo valore storico\n",
    "primo_forecast = forecast_exog.iloc[1]\n",
    "print(f\"Il primo valore predetto di forecast_exog è: {primo_forecast:.4f}\")\n",
    "\n",
    "valore_280 = df15['Prezzo'].iloc[279]\n",
    "if primo_forecast != valore_280:\n",
    "    print(\"\\nIl primo valore forecast_exog non è uguale al 280º valore di Prezzo iPhone 15:\")\n",
    "    print(f\" - 280° valore di Prezzo iPhone 15: {valore_280:.4f}\")\n",
    "    offset = valore_280 - primo_forecast\n",
    "    print(\" - Con una differenza di:\", offset)\n",
    "    forecast_exog_corrected = forecast_exog + offset  # Correzzione del forecast aggiungendo l'offset\n",
    "    print(\" \\n - Forecast exog corretto:\")\n",
    "    print(\"Giorno  Prezzo(€)\")\n",
    "    print(forecast_exog_corrected.head(3))\n",
    "else:\n",
    "    print(\"Il primo valore forecast_exog coincide con il valore storico, nessuna correzione necessaria.\")\n"
   ]
  },
  {
   "cell_type": "code",
   "execution_count": 93,
   "id": "3ce14702",
   "metadata": {},
   "outputs": [
    {
     "data": {
      "application/vnd.plotly.v1+json": {
       "config": {
        "plotlyServerURL": "https://plot.ly"
       },
       "data": [
        {
         "line": {
          "color": "cyan",
          "width": 2
         },
         "mode": "lines",
         "name": "Prezzo storico iPhone 16",
         "type": "scatter",
         "x": {
          "bdata": "AAABAAIAAwAEAAUABgAHAAgACQAKAAsADAANAA4ADwAQABEAEgATABQAFQAWABcAGAAZABoAGwAcAB0AHgAfACAAIQAiACMAJAAlACYAJwAoACkAKgArACwALQAuAC8AMAAxADIAMwA0ADUANgA3ADgAOQA6ADsAPAA9AD4APwBAAEEAQgBDAEQARQBGAEcASABJAEoASwBMAE0ATgBPAFAAUQBSAFMAVABVAFYAVwBYAFkAWgBbAFwAXQBeAF8AYABhAGIAYwBkAGUAZgBnAGgAaQBqAGsAbABtAG4AbwBwAHEAcgBzAHQAdQB2AHcAeAB5AHoAewB8AH0AfgB/AIAAgQCCAIMAhACFAIYAhwCIAIkAigCLAIwAjQCOAI8AkACRAJIAkwCUAJUAlgCXAJgAmQCaAJsAnACdAJ4AnwCgAKEAogCjAKQApQCmAKcAqACpAKoAqwCsAK0ArgCvALAAsQCyALMAtAC1ALYAtwC4ALkAugC7ALwAvQC+AL8AwADBAMIAwwDEAMUAxgDHAMgAyQDKAMsAzADNAM4AzwDQANEA0gDTANQA1QDWANcA2ADZANoA2wDcAN0A3gDfAOAA4QDiAOMA5ADlAOYA5wDoAOkA6gDrAOwA7QDuAO8A8ADxAPIA8wD0APUA9gD3APgA+QD6APsA/AD9AP4A/wAAAQEBAgEDAQQBBQEGAQcBCAEJAQoBCwEMAQ0BDgEPARABEQESARMBFAEVARYBFwE=",
          "dtype": "i2"
         },
         "y": {
          "bdata": "AAAAAACYjkAAAAAAAJiOQAAAAAAAmI5AAAAAAACYjkAAAAAAAJiOQAAAAAAAmI5AAAAAAACYjkAAAAAAAJiOQAAAAAAAmI5AAAAAAACYjkAAAAAAAJiOQAAAAAAAmI5AAAAAAACYjkAAAAAAAJiOQAAAAAAAmI5AAAAAAACYjkAAAAAAAJiOQAAAAAAAmI5AAAAAAACYjkAAAAAAAJiOQAAAAAAAmI5AAAAAAACYjkAAAAAAAJiOQAAAAAAAmI5AAAAAAACYjkAAAAAAAJiOQAAAAAAAmI5AAAAAAACYjkAAAAAAAJiOQAAAAAAAmI5AAAAAAACYjkAAAAAAAJiOQAAAAAAAmI5AAAAAAACYjkAAAAAAAJiOQAAAAAAAmI5AAAAAAACYjkAAAAAAAJiOQAAAAAAAmI5AAAAAAACYjkAAAAAAAJiOQAAAAAAAmI5AAAAAAACYjkAAAAAAAJiOQAAAAAAAmI5AAAAAAACYjkAAAAAAAJiOQAAAAAAAmI5AAAAAAACYjkAAAAAAAJiOQAAAAAAAmI5AUrgehetvjUAAAAAAAFiNQAAAAAAAWI1AAAAAAABYjUAAAAAAAFiNQAAAAAAAWI1AAAAAAAAIjUAAAAAAAAiNQAAAAAAACI1AUrgehesvjEBSuB6F6y+MQFK4HoXrL4xAUrgehesvjEBSuB6F6y+MQFK4HoXrL4xAUrgehesvjEAAAAAAABiMQAAAAAAAGIxAAAAAAAAYjEAAAAAAABiMQAAAAAAAGIxAUrgehetPikBSuB6F60+KQFK4HoXrT4pAUrgehetPikAAAAAAADiKQAAAAAAAqI1AUrgehes/jEBSuB6F6z+MQAAAAAAAGIxAAAAAAAB4i0AAAAAAAHiLQAAAAAAAeItAAAAAAAB4i0AAAAAAAHiLQAAAAAAAeItAUrgehev/iUBSuB6F6/+JQFK4HoXr/4lAUrgehev/iUBSuB6F6/+JQFK4HoXr/4lAAAAAAAAYjEAAAAAAAHiLQFK4HoXr/4lAUrgehev/iUBSuB6F6weKQFK4HoXrB4pAUrgehesHikBSuB6F6weKQFK4HoXrB4pAUrgehesHikBSuB6F6/eMQFK4HoXr94xAUrgehev3jEBSuB6F6/eMQFK4HoXr94xAAAAAAAAYjEAAAAAAACiLQAAAAAAAKItAAAAAAAAoi0AAAAAAACiLQAAAAAAAKItAAAAAAAAoi0AAAAAAACiLQAAAAAAAKItAAAAAAAAoi0AAAAAAACiLQAAAAAAAKItAAAAAAAAoi0AAAAAAACiLQFK4HoXrn4pAUrgeheufikBSuB6F65+KQFK4HoXrn4pAUrgeheufikBSuB6F65+KQAAAAAAAiIpAAAAAAACIikAAAAAAAIiKQAAAAAAAiIpAAAAAAACIikAAAAAAAIiKQAAAAAAAiIpAAAAAAACIikAAAAAAAIiKQAAAAAAAiIpAAAAAAACIikAAAAAAAIiKQAAAAAAAiIpAAAAAAACIikBSuB6F65+KQAAAAAAAiIpAAAAAAACIikAAAAAAAIiKQAAAAAAAiIpAAAAAAACIikAAAAAAAIiKQAAAAAAAiIpAAAAAAACIikAAAAAAAIiKQAAAAAAAiIpAAAAAAACIikAAAAAAAIiKQAAAAAAAiIpAAAAAAACIikAAAAAAAIiKQAAAAAAAiIpAAAAAAACIikAAAAAAAIiKQAAAAAAAiIpAAAAAAACIikAAAAAAAOiJQAAAAAAA6IlAAAAAAADoiUAAAAAAAIiKQAAAAAAAiIpAAAAAAACIikAAAAAAAIiKQAAAAAAAiIpAAAAAAACIikAAAAAAAIiKQAAAAAAAiIpAAAAAAACIikAAAAAAAIiKQAAAAAAAiIpAAAAAAACIikAAAAAAAIiKQAAAAAAA6IlAAAAAAADoiUAAAAAAAOiJQAAAAAAA6IlAAAAAAADoiUAAAAAAAOiJQAAAAAAAmIlAAAAAAABYiEAAAAAAAFiIQAAAAAAAWIhAAAAAAABYiEAAAAAAAFiIQAAAAAAAWIhAAAAAAABYiEAAAAAAAFiIQAAAAAAAWIhAAAAAAABYiEAAAAAAAFiIQAAAAAAAWIhAAAAAAABYiEAAAAAAAFiIQAAAAAAAWIhAAAAAAABYiEAAAAAAAFiIQAAAAAAAWIhAAAAAAAD4iEAAAAAAAPiIQAAAAAAA+IhAAAAAAAD4iEAAAAAAAPiIQAAAAAAA+IhAAAAAAAD4iEAAAAAAAPiIQAAAAAAA+IhAAAAAAAD4iEAAAAAAAPiIQAAAAAAA+IhAAAAAAAD4iEAAAAAAAPiIQAAAAAAA+IhAAAAAAAD4iEAAAAAAAPiIQAAAAAAA+IhAAAAAAAD4iEAAAAAAAPiIQAAAAAAA+IhAAAAAAAAIiEAAAAAAAOiJQAAAAAAACIhAAAAAAAAIiEAAAAAAAAiIQAAAAAAACIhAAAAAAAAIiEAAAAAAAAiIQAAAAAAACIhAAAAAAAAIiEAAAAAAAAiIQAAAAAAACIhAAAAAAAAIiEAAAAAAAAiIQAAAAAAACIhAAAAAAACYh0AAAAAAAJiHQAAAAAAAuIdAAAAAAABYiEAAAAAAAFiIQAAAAAAAWIhAAAAAAABYiEAAAAAAALiHQAAAAAAAuIdAAAAAAAC4h0AAAAAAALiHQAAAAAAAuIdAAAAAAAC4h0AAAAAAAFiIQAAAAAAAWIhAAAAAAABYiEAAAAAAAFiIQAAAAAAAWIhAAAAAAABYiEAAAAAAAPiIQAAAAAAACIhAAAAAAAAIiEAAAAAAAAiIQAAAAAAACIhAAAAAAAAIiEAAAAAAAAiIQAAAAAAACIhAAAAAAAAIiEAAAAAAAAiIQAAAAAAACIhAAAAAAAAIiEAAAAAAAAiIQAAAAAAACIhAAAAAAABYiEAAAAAAAFiIQAAAAAAAWIhAAAAAAABYiEAAAAAAAFiIQAAAAAAAWIhAAAAAAABYiEA=",
          "dtype": "f8"
         }
        },
        {
         "line": {
          "color": "royalblue",
          "dash": "dot",
          "width": 2
         },
         "mode": "lines",
         "name": "Prezzo storico iPhone 15",
         "type": "scatter",
         "x": {
          "bdata": "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",
          "dtype": "f8"
         },
         "y": {
          "bdata": "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",
          "dtype": "f8"
         }
        },
        {
         "line": {
          "color": "magenta",
          "width": 2
         },
         "mode": "lines",
         "name": "Forecast iPhone 16",
         "type": "scatter",
         "x": {
          "bdata": "GAEZARoBGwEcAR0BHgEfASABIQEiASMBJAElASYBJwEoASkBKgErASwBLQEuAS8BMAExATIBMwE0ATUBNgE3ATgBOQE6ATsBPAE9AT4BPwFAAUEBQgFDAUQBRQFGAUcBSAFJAUoBSwFMAU0BTgFPAVABUQFSAVMBVAFVAVYBVwFYAVkBWgFbAVwBXQFeAV8BYAFhAWIBYwFkAWUBZgFnAWgBaQFqAWsBbAFtAW4BbwFwAXEBcgFzAXQBdQF2AXcBeAF5AXoBewF8AX0BfgF/AYABgQGCAYMBhAGFAYYBhwGIAYkBigGLAYwBjQGOAY8BkAGRAZIBkwGUAZUBlgGXAZgBmQGaAZsBnAGdAZ4BnwGgAaEBogGjAaQBpQGmAacBqAGpAaoBqwGsAa0BrgGvAbABsQGyAbMBtAG1AbYBtwG4AbkBugG7AbwBvQG+Ab8BwAHBAcIBwwHEAcUBxgHHAcgByQHKAcsB",
          "dtype": "i2"
         },
         "y": {
          "bdata": "LuNpJt9QiEDF4MiD1ESIQJy+NwUnC4hAICF6RolaiEC8XYVqy1eIQHi5DE0JPIhAC/n6snN8iECVTuM8aqeIQIibudMFaIhAom8QGQJhiEBm7Cymfj2IQId7BABQDYhAJ3Pv1AUMiECHaVSJbQmIQE/Vr7dqGohAsKCJDAEaiED17tsVGxqIQEXxxOet6IdAX50wy6/nh0Bd9PNo7daHQHVQs8qHs4dA/vqWuM+yh0C4B+MmGKiHQBgzjICF9odAiIcSvPHlh0D0WNxG5bmHQDiYViLPmodAtz9lhfCJh0DD3qV8GYeHQPHU+QL5h4dA/06++k6Eh0AT7/TcPoOHQG5lLurXT4dASPdTWIuih0DKS/iY/qGHQJWEhh6liIdA8w/NJLfLh0DQGC3vWfiHQB4dovo2uIdAzB3f/uGth0D+V6xAv46HQCX7dxXFXYdArjMcaI9ch0AAvaJK+lmHQExrmmRga4dAJ4IFaBhrh0BpzinVJWuHQGOsMi7AOIdAPCw4DMw3h0B4zAeFsyaHQMtdupScAodANsL6e+kBh0DtwBWFBveGQMwKXpcNRYdAjwE8iJ40h0BPH4aUqQeHQLLFqn/054ZAMKfZjL/WhkAUPFUJ3NOGQPU9d+q/1IZANuup4GHRhkBDp2LIhtCGQLh4l6E9nYZAUambRADwhkAx59c9mO+GQEsvMX4y1oZA9clL6FAZh0CxzwB0/UWHQG5gJNXWBYdAv0lkFoH7hkBEF4ZebtyGQKpenPRwq4ZAzUd70DuqhkDfoQoAp6eGQNhUYWAOuYZAc06oBsS4hkAAUPLh0riGQIG2SQdphoZA2TqM8XOFhkB44NsnWnSGQJYwrgZAUIZAG6AZT4xPhkCJeIKnp0SGQGXG1d22koZAhDfStTuChkDHqzuIQ1WGQDprU86LNYZAcejcbVUkhkDcnMeHcSGGQCZZhH5VIoZAyMANovkehkC40LCyHx6GQHlb/z7X6oVAq8KkSpo9hkDw2NKgMD2GQDAsz9fMI4ZAXdiUketmhkAwdNYrmJOGQJ+3KnpxU4ZARSF6ShpJhkCU6JZmCCqGQH6BUNwK+YVAdl2dt9X3hUDoNBrjQPWFQPZcaVuoBoZAD8wjPF4GhkCy85D3bAaGQHNvyvkC1IVA4EX6+Q3ThUAP/IEg9MGFQKpwyenZnYVA+A7OPyadhUD83JWjQZKFQLN4zBZQ4IVA0GK/3NXPhUDHrWKB3aKFQDHuObAlg4VA/hf7Qu9xhUDddlFeC2+FQB1keVXvb4VA5/9sc5NshUBOUr2GuWuFQLjprBNxOIVA92eyHjSLhUCHqmSjyoqFQC8Z6bBmcYVAy6SSaoW0hUC84y8IMuGFQMphNVYLoYVAGoSNQLSWhUBEALxUoneFQFtjT8ukRoVAO4/kpm9FhUC7qs7S2kKFQHs9+klCVIVAyQZ2JfhThUDeb8/jBlSFQOStpuacIYVAMErX5KcghUA4cO4Ljg+FQOzjT9Vz64RArgIUKsDqhEDznEiM29+EQCXrHRHqLYVAATWZwG8dhUAS8g1nd/CEQAWGXZa/0IRAZ8pjKYm/hEDduHNEpbyEQMG5nTuJvYRA4tXyWi26hECJB5huU7mEQLzazPsKhoRA9vMMB87YhEDE5q6HZNiEQKXvDJkAv4RAOWncUh8ChUCewULwyy6FQGpmRT6l7oRAM7MaJk7khEDa6Tk7PMWEQJsjr7E+lIRAHeI+jQmThEC5Vx+5dJCEQOeRajDcoYRAwbNgDJKhhEAdQHbKoKGEQJRhMs02b4RAjG2Ry0FuhEDdNJfyJ12EQGAW7bsNOYRApkDOEFo4hEASzyRzdS2EQEynX/aDe4RAXnHhpwlrhEBPRCBOET6EQEDCXH1ZHoRAgVJYECMNhEAo7m0rPwqEQF35lyIjC4RA",
          "dtype": "f8"
         }
        },
        {
         "line": {
          "color": "orange",
          "dash": "dash",
          "width": 2
         },
         "mode": "lines",
         "name": "Forecast iPhone 15 (exog)",
         "type": "scatter",
         "x": {
          "bdata": "GAEZARoBGwEcAR0BHgEfASABIQEiASMBJAElASYBJwEoASkBKgErASwBLQEuAS8BMAExATIBMwE0ATUBNgE3ATgBOQE6ATsBPAE9AT4BPwFAAUEBQgFDAUQBRQFGAUcBSAFJAUoBSwFMAU0BTgFPAVABUQFSAVMBVAFVAVYBVwFYAVkBWgFbAVwBXQFeAV8BYAFhAWIBYwFkAWUBZgFnAWgBaQFqAWsBbAFtAW4BbwFwAXEBcgFzAXQBdQF2AXcBeAF5AXoBewF8AX0BfgF/AYABgQGCAYMBhAGFAYYBhwGIAYkBigGLAYwBjQGOAY8BkAGRAZIBkwGUAZUBlgGXAZgBmQGaAZsBnAGdAZ4BnwGgAaEBogGjAaQBpQGmAacBqAGpAaoBqwGsAa0BrgGvAbABsQGyAbMBtAG1AbYBtwG4AbkBugG7AbwBvQG+Ab8BwAHBAcIBwwHEAcUBxgHHAcgByQHKAcsB",
          "dtype": "i2"
         },
         "y": {
          "bdata": "kqFFa7x6iEAAAAAAAFiIQE2WEQVEW4hAOsI5arZuiECSMNrBejaIQLbtTrotN4hA4khVDoxLiEB515aFSCKIQFjIzEk7IYhATyp5EBkbiEBKnyAs8BmIQEmasiRnBohAJMbiCoQCiEDT8jmt1fuHQPDgPkf/EIhAjZ57KSwViECglwNPceaHQIycO2pT1YdASRZO70r1h0C6JbJN3OmHQMVOYYAC44dAuOvxOQP3h0AogeuztQ6IQFkZUVo85IdAMCP8vqYJiED3OyDi8eWHQI4XohTL2YdA/+md7/XSh0A1NL2v9NaHQLAs27H01odA+eCPucP1h0C+Ow5dVs+HQMrIg8Mxz4dA0LeuuHXfh0AAZY0xw+iHQA11yrIJrIdA4R7iMmy+h0CiUjMw2ZiHQCtBuGfdl4dABlZTwYi5h0Ao3Z8l76mHQNxlze0rmIdAlgd29aKUh0C2jgXjj46HQAn44hnNoYdAcM60slOeh0BhgFj113OHQH9EqENIZIdAyWRFGliBh0AhHKRt83aHQPuatwC5cIdAFURwYeiCh0DLbJiQc5iHQFzvGbSlh4dAKWLoKZWMh0CL73/6HmyHQLYq3d4SYYdATSMHrtxah0AJ3dV8fl6HQImNwn5+XodAkVHqxRZ/h0AmPZdI/1iHQIxEtvspWYdAa4v987dph0CgRO/MEG2HQKj23kTsNYdAwSAY63xIh0AWC/gSlCKHQE9NhbSWIYdAYgVoE6Q/h0BLZUhoWjGHQEU3+/JtH4dAi4/Vydwbh0CgzqGauxWHQNoba5AlKYdAlJzpHl4mh0DTcOOWf/uGQBlvd7XL64ZAmuIeIR8Jh0DMfkFJov6GQMDIlmBZ+IZAQGAqC7MKh0Bka5xTcCCHQMgNs0dNDYdAskp+XDAVh0C9HSqwbvSGQEyl5+NI6YZA7tkoQQTjhkD9WTCCruaGQPmEIYSu5oZA8ePZPR0Hh0CjDM3y/eCGQIiJGHEh4YZAdFqNr6jxhkBZq28VjPWGQDxN5bHlvYZAlvqBJnLQhkAMFDkbkaqGQHbIquGTqYZA5G2UZvXHhkAoYyM0jbmGQFjlP36kp4ZAl22mExSkhkDsJ8Is9J2GQISikxFasYZAMUoCdIKuhkBESUfmrIOGQEM0s078c4ZAwnMelkmRhkDKLYXwzoaGQImSy1iHgIZAuveRK92ShkA954PmlaiGQAFijB+plYZA5w+KiUedhkAlvV25jHyGQFEmwkJpcYZA368P8CVrhkDkKJlsz26GQK/riW7PboZANRPw7kGPhkBgam5ZI2mGQFAHYH9HaYZA3GRNWs95hkD6pvAopn2GQGYRaJILRoZAoEmVaJhYhkC3y9WntjKGQBo87Wq5MYZAkSo0ShNQhkB7C/vdrUGGQIK659DEL4ZAN1r9VDQshkAMQENQFCaGQLDbrZN6OYZA3xpXbqQ2hkD8fcAPzguGQJa5qysd/IVAVIb3AWsZhkDTqkUp8A6GQEtu7XKoCIZA6Acbn/4ahkDkOPfDtzCGQM+XeQ7GHYZAsVvxtWolhkB9vy1GrwSGQJtbQpmL+YVAEQ4GKEjzhUDIu2q28faFQAyIW7jx9oVAE9Po4GMXhkB4uec6RfGFQCklnVFp8YVASl1SHvEBhkDPX98RyQWGQK/xzWgtzoVAeGodNrrghUBSftuF2LqFQHHtQEnbuYVAY2Ju2jXYhUBPtaot0MmFQMa1gyjnt4VA3iwsrla0hUCIKSisNq6FQMMI+uacwYVA0qxyn8a+hUDg8NZT8JOFQH/vtXY/hIVApdUFQI2hhUB1rfhrEpeFQC3HaLjKkIVAzH923CCjhUB7rbL32biFQEV28LTopYVAXnM8y4ythUB0kvlp0YyFQD6x/cGtgYVATtaHU2p7hUBGG03gE3+FQK3mPeITf4VA",
          "dtype": "f8"
         }
        },
        {
         "fill": "toself",
         "fillcolor": "rgba(173, 216, 230, 0.3)",
         "hoverinfo": "skip",
         "line": {
          "color": "rgba(255,255,255,0)"
         },
         "name": "95% Intervallo Confidenza",
         "showlegend": true,
         "type": "scatter",
         "x": {
          "bdata": "GAEZARoBGwEcAR0BHgEfASABIQEiASMBJAElASYBJwEoASkBKgErASwBLQEuAS8BMAExATIBMwE0ATUBNgE3ATgBOQE6ATsBPAE9AT4BPwFAAUEBQgFDAUQBRQFGAUcBSAFJAUoBSwFMAU0BTgFPAVABUQFSAVMBVAFVAVYBVwFYAVkBWgFbAVwBXQFeAV8BYAFhAWIBYwFkAWUBZgFnAWgBaQFqAWsBbAFtAW4BbwFwAXEBcgFzAXQBdQF2AXcBeAF5AXoBewF8AX0BfgF/AYABgQGCAYMBhAGFAYYBhwGIAYkBigGLAYwBjQGOAY8BkAGRAZIBkwGUAZUBlgGXAZgBmQGaAZsBnAGdAZ4BnwGgAaEBogGjAaQBpQGmAacBqAGpAaoBqwGsAa0BrgGvAbABsQGyAbMBtAG1AbYBtwG4AbkBugG7AbwBvQG+Ab8BwAHBAcIBwwHEAcUBxgHHAcgByQHKAcsBywHKAckByAHHAcYBxQHEAcMBwgHBAcABvwG+Ab0BvAG7AboBuQG4AbcBtgG1AbQBswGyAbEBsAGvAa4BrQGsAasBqgGpAagBpwGmAaUBpAGjAaIBoQGgAZ8BngGdAZwBmwGaAZkBmAGXAZYBlQGUAZMBkgGRAZABjwGOAY0BjAGLAYoBiQGIAYcBhgGFAYQBgwGCAYEBgAF/AX4BfQF8AXsBegF5AXgBdwF2AXUBdAFzAXIBcQFwAW8BbgFtAWwBawFqAWkBaAFnAWYBZQFkAWMBYgFhAWABXwFeAV0BXAFbAVoBWQFYAVcBVgFVAVQBUwFSAVEBUAFPAU4BTQFMAUsBSgFJAUgBRwFGAUUBRAFDAUIBQQFAAT8BPgE9ATwBOwE6ATkBOAE3ATYBNQE0ATMBMgExATABLwEuAS0BLAErASoBKQEoAScBJgElASQBIwEiASEBIAEfAR4BHQEcARsBGgEZARgB",
          "dtype": "i2"
         },
         "y": {
          "bdata": "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",
          "dtype": "f8"
         }
        }
       ],
       "layout": {
        "height": 500,
        "template": {
         "data": {
          "bar": [
           {
            "error_x": {
             "color": "#f2f5fa"
            },
            "error_y": {
             "color": "#f2f5fa"
            },
            "marker": {
             "line": {
              "color": "rgb(17,17,17)",
              "width": 0.5
             },
             "pattern": {
              "fillmode": "overlay",
              "size": 10,
              "solidity": 0.2
             }
            },
            "type": "bar"
           }
          ],
          "barpolar": [
           {
            "marker": {
             "line": {
              "color": "rgb(17,17,17)",
              "width": 0.5
             },
             "pattern": {
              "fillmode": "overlay",
              "size": 10,
              "solidity": 0.2
             }
            },
            "type": "barpolar"
           }
          ],
          "carpet": [
           {
            "aaxis": {
             "endlinecolor": "#A2B1C6",
             "gridcolor": "#506784",
             "linecolor": "#506784",
             "minorgridcolor": "#506784",
             "startlinecolor": "#A2B1C6"
            },
            "baxis": {
             "endlinecolor": "#A2B1C6",
             "gridcolor": "#506784",
             "linecolor": "#506784",
             "minorgridcolor": "#506784",
             "startlinecolor": "#A2B1C6"
            },
            "type": "carpet"
           }
          ],
          "choropleth": [
           {
            "colorbar": {
             "outlinewidth": 0,
             "ticks": ""
            },
            "type": "choropleth"
           }
          ],
          "contour": [
           {
            "colorbar": {
             "outlinewidth": 0,
             "ticks": ""
            },
            "colorscale": [
             [
              0,
              "#0d0887"
             ],
             [
              0.1111111111111111,
              "#46039f"
             ],
             [
              0.2222222222222222,
              "#7201a8"
             ],
             [
              0.3333333333333333,
              "#9c179e"
             ],
             [
              0.4444444444444444,
              "#bd3786"
             ],
             [
              0.5555555555555556,
              "#d8576b"
             ],
             [
              0.6666666666666666,
              "#ed7953"
             ],
             [
              0.7777777777777778,
              "#fb9f3a"
             ],
             [
              0.8888888888888888,
              "#fdca26"
             ],
             [
              1,
              "#f0f921"
             ]
            ],
            "type": "contour"
           }
          ],
          "contourcarpet": [
           {
            "colorbar": {
             "outlinewidth": 0,
             "ticks": ""
            },
            "type": "contourcarpet"
           }
          ],
          "heatmap": [
           {
            "colorbar": {
             "outlinewidth": 0,
             "ticks": ""
            },
            "colorscale": [
             [
              0,
              "#0d0887"
             ],
             [
              0.1111111111111111,
              "#46039f"
             ],
             [
              0.2222222222222222,
              "#7201a8"
             ],
             [
              0.3333333333333333,
              "#9c179e"
             ],
             [
              0.4444444444444444,
              "#bd3786"
             ],
             [
              0.5555555555555556,
              "#d8576b"
             ],
             [
              0.6666666666666666,
              "#ed7953"
             ],
             [
              0.7777777777777778,
              "#fb9f3a"
             ],
             [
              0.8888888888888888,
              "#fdca26"
             ],
             [
              1,
              "#f0f921"
             ]
            ],
            "type": "heatmap"
           }
          ],
          "histogram": [
           {
            "marker": {
             "pattern": {
              "fillmode": "overlay",
              "size": 10,
              "solidity": 0.2
             }
            },
            "type": "histogram"
           }
          ],
          "histogram2d": [
           {
            "colorbar": {
             "outlinewidth": 0,
             "ticks": ""
            },
            "colorscale": [
             [
              0,
              "#0d0887"
             ],
             [
              0.1111111111111111,
              "#46039f"
             ],
             [
              0.2222222222222222,
              "#7201a8"
             ],
             [
              0.3333333333333333,
              "#9c179e"
             ],
             [
              0.4444444444444444,
              "#bd3786"
             ],
             [
              0.5555555555555556,
              "#d8576b"
             ],
             [
              0.6666666666666666,
              "#ed7953"
             ],
             [
              0.7777777777777778,
              "#fb9f3a"
             ],
             [
              0.8888888888888888,
              "#fdca26"
             ],
             [
              1,
              "#f0f921"
             ]
            ],
            "type": "histogram2d"
           }
          ],
          "histogram2dcontour": [
           {
            "colorbar": {
             "outlinewidth": 0,
             "ticks": ""
            },
            "colorscale": [
             [
              0,
              "#0d0887"
             ],
             [
              0.1111111111111111,
              "#46039f"
             ],
             [
              0.2222222222222222,
              "#7201a8"
             ],
             [
              0.3333333333333333,
              "#9c179e"
             ],
             [
              0.4444444444444444,
              "#bd3786"
             ],
             [
              0.5555555555555556,
              "#d8576b"
             ],
             [
              0.6666666666666666,
              "#ed7953"
             ],
             [
              0.7777777777777778,
              "#fb9f3a"
             ],
             [
              0.8888888888888888,
              "#fdca26"
             ],
             [
              1,
              "#f0f921"
             ]
            ],
            "type": "histogram2dcontour"
           }
          ],
          "mesh3d": [
           {
            "colorbar": {
             "outlinewidth": 0,
             "ticks": ""
            },
            "type": "mesh3d"
           }
          ],
          "parcoords": [
           {
            "line": {
             "colorbar": {
              "outlinewidth": 0,
              "ticks": ""
             }
            },
            "type": "parcoords"
           }
          ],
          "pie": [
           {
            "automargin": true,
            "type": "pie"
           }
          ],
          "scatter": [
           {
            "marker": {
             "line": {
              "color": "#283442"
             }
            },
            "type": "scatter"
           }
          ],
          "scatter3d": [
           {
            "line": {
             "colorbar": {
              "outlinewidth": 0,
              "ticks": ""
             }
            },
            "marker": {
             "colorbar": {
              "outlinewidth": 0,
              "ticks": ""
             }
            },
            "type": "scatter3d"
           }
          ],
          "scattercarpet": [
           {
            "marker": {
             "colorbar": {
              "outlinewidth": 0,
              "ticks": ""
             }
            },
            "type": "scattercarpet"
           }
          ],
          "scattergeo": [
           {
            "marker": {
             "colorbar": {
              "outlinewidth": 0,
              "ticks": ""
             }
            },
            "type": "scattergeo"
           }
          ],
          "scattergl": [
           {
            "marker": {
             "line": {
              "color": "#283442"
             }
            },
            "type": "scattergl"
           }
          ],
          "scattermap": [
           {
            "marker": {
             "colorbar": {
              "outlinewidth": 0,
              "ticks": ""
             }
            },
            "type": "scattermap"
           }
          ],
          "scattermapbox": [
           {
            "marker": {
             "colorbar": {
              "outlinewidth": 0,
              "ticks": ""
             }
            },
            "type": "scattermapbox"
           }
          ],
          "scatterpolar": [
           {
            "marker": {
             "colorbar": {
              "outlinewidth": 0,
              "ticks": ""
             }
            },
            "type": "scatterpolar"
           }
          ],
          "scatterpolargl": [
           {
            "marker": {
             "colorbar": {
              "outlinewidth": 0,
              "ticks": ""
             }
            },
            "type": "scatterpolargl"
           }
          ],
          "scatterternary": [
           {
            "marker": {
             "colorbar": {
              "outlinewidth": 0,
              "ticks": ""
             }
            },
            "type": "scatterternary"
           }
          ],
          "surface": [
           {
            "colorbar": {
             "outlinewidth": 0,
             "ticks": ""
            },
            "colorscale": [
             [
              0,
              "#0d0887"
             ],
             [
              0.1111111111111111,
              "#46039f"
             ],
             [
              0.2222222222222222,
              "#7201a8"
             ],
             [
              0.3333333333333333,
              "#9c179e"
             ],
             [
              0.4444444444444444,
              "#bd3786"
             ],
             [
              0.5555555555555556,
              "#d8576b"
             ],
             [
              0.6666666666666666,
              "#ed7953"
             ],
             [
              0.7777777777777778,
              "#fb9f3a"
             ],
             [
              0.8888888888888888,
              "#fdca26"
             ],
             [
              1,
              "#f0f921"
             ]
            ],
            "type": "surface"
           }
          ],
          "table": [
           {
            "cells": {
             "fill": {
              "color": "#506784"
             },
             "line": {
              "color": "rgb(17,17,17)"
             }
            },
            "header": {
             "fill": {
              "color": "#2a3f5f"
             },
             "line": {
              "color": "rgb(17,17,17)"
             }
            },
            "type": "table"
           }
          ]
         },
         "layout": {
          "annotationdefaults": {
           "arrowcolor": "#f2f5fa",
           "arrowhead": 0,
           "arrowwidth": 1
          },
          "autotypenumbers": "strict",
          "coloraxis": {
           "colorbar": {
            "outlinewidth": 0,
            "ticks": ""
           }
          },
          "colorscale": {
           "diverging": [
            [
             0,
             "#8e0152"
            ],
            [
             0.1,
             "#c51b7d"
            ],
            [
             0.2,
             "#de77ae"
            ],
            [
             0.3,
             "#f1b6da"
            ],
            [
             0.4,
             "#fde0ef"
            ],
            [
             0.5,
             "#f7f7f7"
            ],
            [
             0.6,
             "#e6f5d0"
            ],
            [
             0.7,
             "#b8e186"
            ],
            [
             0.8,
             "#7fbc41"
            ],
            [
             0.9,
             "#4d9221"
            ],
            [
             1,
             "#276419"
            ]
           ],
           "sequential": [
            [
             0,
             "#0d0887"
            ],
            [
             0.1111111111111111,
             "#46039f"
            ],
            [
             0.2222222222222222,
             "#7201a8"
            ],
            [
             0.3333333333333333,
             "#9c179e"
            ],
            [
             0.4444444444444444,
             "#bd3786"
            ],
            [
             0.5555555555555556,
             "#d8576b"
            ],
            [
             0.6666666666666666,
             "#ed7953"
            ],
            [
             0.7777777777777778,
             "#fb9f3a"
            ],
            [
             0.8888888888888888,
             "#fdca26"
            ],
            [
             1,
             "#f0f921"
            ]
           ],
           "sequentialminus": [
            [
             0,
             "#0d0887"
            ],
            [
             0.1111111111111111,
             "#46039f"
            ],
            [
             0.2222222222222222,
             "#7201a8"
            ],
            [
             0.3333333333333333,
             "#9c179e"
            ],
            [
             0.4444444444444444,
             "#bd3786"
            ],
            [
             0.5555555555555556,
             "#d8576b"
            ],
            [
             0.6666666666666666,
             "#ed7953"
            ],
            [
             0.7777777777777778,
             "#fb9f3a"
            ],
            [
             0.8888888888888888,
             "#fdca26"
            ],
            [
             1,
             "#f0f921"
            ]
           ]
          },
          "colorway": [
           "#636efa",
           "#EF553B",
           "#00cc96",
           "#ab63fa",
           "#FFA15A",
           "#19d3f3",
           "#FF6692",
           "#B6E880",
           "#FF97FF",
           "#FECB52"
          ],
          "font": {
           "color": "#f2f5fa"
          },
          "geo": {
           "bgcolor": "rgb(17,17,17)",
           "lakecolor": "rgb(17,17,17)",
           "landcolor": "rgb(17,17,17)",
           "showlakes": true,
           "showland": true,
           "subunitcolor": "#506784"
          },
          "hoverlabel": {
           "align": "left"
          },
          "hovermode": "closest",
          "mapbox": {
           "style": "dark"
          },
          "paper_bgcolor": "rgb(17,17,17)",
          "plot_bgcolor": "rgb(17,17,17)",
          "polar": {
           "angularaxis": {
            "gridcolor": "#506784",
            "linecolor": "#506784",
            "ticks": ""
           },
           "bgcolor": "rgb(17,17,17)",
           "radialaxis": {
            "gridcolor": "#506784",
            "linecolor": "#506784",
            "ticks": ""
           }
          },
          "scene": {
           "xaxis": {
            "backgroundcolor": "rgb(17,17,17)",
            "gridcolor": "#506784",
            "gridwidth": 2,
            "linecolor": "#506784",
            "showbackground": true,
            "ticks": "",
            "zerolinecolor": "#C8D4E3"
           },
           "yaxis": {
            "backgroundcolor": "rgb(17,17,17)",
            "gridcolor": "#506784",
            "gridwidth": 2,
            "linecolor": "#506784",
            "showbackground": true,
            "ticks": "",
            "zerolinecolor": "#C8D4E3"
           },
           "zaxis": {
            "backgroundcolor": "rgb(17,17,17)",
            "gridcolor": "#506784",
            "gridwidth": 2,
            "linecolor": "#506784",
            "showbackground": true,
            "ticks": "",
            "zerolinecolor": "#C8D4E3"
           }
          },
          "shapedefaults": {
           "line": {
            "color": "#f2f5fa"
           }
          },
          "sliderdefaults": {
           "bgcolor": "#C8D4E3",
           "bordercolor": "rgb(17,17,17)",
           "borderwidth": 1,
           "tickwidth": 0
          },
          "ternary": {
           "aaxis": {
            "gridcolor": "#506784",
            "linecolor": "#506784",
            "ticks": ""
           },
           "baxis": {
            "gridcolor": "#506784",
            "linecolor": "#506784",
            "ticks": ""
           },
           "bgcolor": "rgb(17,17,17)",
           "caxis": {
            "gridcolor": "#506784",
            "linecolor": "#506784",
            "ticks": ""
           }
          },
          "title": {
           "x": 0.05
          },
          "updatemenudefaults": {
           "bgcolor": "#506784",
           "borderwidth": 0
          },
          "xaxis": {
           "automargin": true,
           "gridcolor": "#283442",
           "linecolor": "#506784",
           "ticks": "",
           "title": {
            "standoff": 15
           },
           "zerolinecolor": "#283442",
           "zerolinewidth": 2
          },
          "yaxis": {
           "automargin": true,
           "gridcolor": "#283442",
           "linecolor": "#506784",
           "ticks": "",
           "title": {
            "standoff": 15
           },
           "zerolinecolor": "#283442",
           "zerolinewidth": 2
          }
         }
        },
        "title": {
         "text": "SARIMAX iPhone 16 con regressore previsto"
        },
        "width": 1100,
        "xaxis": {
         "title": {
          "text": "Giorni dal lancio"
         }
        },
        "yaxis": {
         "title": {
          "text": "Prezzo (€)"
         }
        }
       }
      }
     },
     "metadata": {},
     "output_type": "display_data"
    }
   ],
   "source": [
    "forecast_index = np.arange(len(endog), len(endog) + future_steps)\n",
    "days_plot2 = df15['Giorni_dal_lancio'][:len(endog) + future_steps]\n",
    "\n",
    "fig = go.Figure()\n",
    "\n",
    "fig.add_trace(go.Scatter(x=endog.index, y=endog, mode='lines', name='Prezzo storico iPhone 16', line=dict(color='cyan', width=2)))\n",
    "fig.add_trace(go.Scatter(x=days_plot2, y=df15['Prezzo'][:len(endog) + future_steps], mode='lines', name='Prezzo storico iPhone 15', line=dict(color='royalblue', dash='dot', width=2)))\n",
    "fig.add_trace(go.Scatter(x=forecast_index, y=mean_forecast, mode='lines', name='Forecast iPhone 16', line=dict(color='magenta', width=2)))\n",
    "fig.add_trace(go.Scatter(x=forecast_index, y=forecast_exog_corrected, mode='lines', name='Forecast iPhone 15 (exog)', line=dict(color='orange', dash='dash', width=2)))\n",
    "fig.add_trace(go.Scatter(x=np.concatenate([forecast_index, forecast_index[::-1]]),y=np.concatenate([conf_int.iloc[:, 0], conf_int.iloc[:, 1][::-1]]),\n",
    "                         fill='toself',fillcolor='rgba(173, 216, 230, 0.3)',  # lightblue trasparente\n",
    "                         line=dict(color='rgba(255,255,255,0)'),hoverinfo='skip',showlegend=True,name='95% Intervallo Confidenza'))\n",
    "\n",
    "fig.update_layout(title='SARIMAX iPhone 16 con regressore previsto',xaxis_title='Giorni dal lancio',yaxis_title='Prezzo (€)',\n",
    "                  template='plotly_dark',width=1100,height=500)\n",
    "fig.show()"
   ]
  }
 ],
 "metadata": {
  "kernelspec": {
   "display_name": "Python 3",
   "language": "python",
   "name": "python3"
  },
  "language_info": {
   "codemirror_mode": {
    "name": "ipython",
    "version": 3
   },
   "file_extension": ".py",
   "mimetype": "text/x-python",
   "name": "python",
   "nbconvert_exporter": "python",
   "pygments_lexer": "ipython3",
   "version": "3.13.2"
  }
 },
 "nbformat": 4,
 "nbformat_minor": 5
}
