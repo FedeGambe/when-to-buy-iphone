{
 "cells": [
  {
   "cell_type": "markdown",
   "id": "075d9932",
   "metadata": {},
   "source": [
    "#### 0. Import Librerie"
   ]
  },
  {
   "cell_type": "code",
   "execution_count": 9,
   "id": "e05f34b2",
   "metadata": {},
   "outputs": [],
   "source": [
    "import pandas as pd\n",
    "import numpy as np\n",
    "import matplotlib.pyplot as plt\n",
    "from pmdarima import auto_arima\n",
    "from statsmodels.tsa.statespace.sarimax import SARIMAX\n",
    "from sklearn.metrics import mean_squared_error\n",
    "from statsmodels.tsa.stattools import adfuller\n",
    "import plotly.graph_objects as go\n"
   ]
  },
  {
   "cell_type": "markdown",
   "id": "9f842828",
   "metadata": {},
   "source": [
    "#### 1. Preparazione Dati"
   ]
  },
  {
   "cell_type": "code",
   "execution_count": 10,
   "id": "0cf7baa1",
   "metadata": {},
   "outputs": [
    {
     "data": {
      "text/plain": [
       "(        Data  Prezzo  Giorni_dal_lancio Trimestre   Modello\n",
       " 0 2023-09-16   979.0                  0        T1  iPhone15\n",
       " 1 2023-09-17   979.0                  1        T1  iPhone15\n",
       " 2 2023-09-18   979.0                  2        T1  iPhone15\n",
       " 3 2023-09-19   979.0                  3        T1  iPhone15\n",
       " 4 2023-09-20   979.0                  4        T1  iPhone15,\n",
       "         Data  Prezzo  Giorni_dal_lancio Trimestre   Modello\n",
       " 0 2024-09-13   979.0                  0        T1  iPhone16\n",
       " 1 2024-09-14   979.0                  1        T1  iPhone16\n",
       " 2 2024-09-15   979.0                  2        T1  iPhone16\n",
       " 3 2024-09-16   979.0                  3        T1  iPhone16\n",
       " 4 2024-09-17   979.0                  4        T1  iPhone16)"
      ]
     },
     "execution_count": 10,
     "metadata": {},
     "output_type": "execute_result"
    }
   ],
   "source": [
    "######################\n",
    "#   UPLOAD DATI\n",
    "######################\n",
    "df15 = pd.read_csv('/Users/federicogamberini/VS Code/when-to-buy-iphone/Dataset/iPhone15.csv')\n",
    "df16 = pd.read_csv('/Users/federicogamberini/VS Code/when-to-buy-iphone/Dataset/iPhone16.csv')\n",
    "df15['Data'] = pd.to_datetime(df15['Data'])\n",
    "df16['Data'] = pd.to_datetime(df16['Data'])\n",
    "df15.head(), df16.head()"
   ]
  },
  {
   "cell_type": "code",
   "execution_count": 11,
   "id": "e7c0eba6",
   "metadata": {},
   "outputs": [
    {
     "name": "stdout",
     "output_type": "stream",
     "text": [
      "        Data  Prezzo_16  Giorni_dal_lancio Trimestre  Prezzo_15\n",
      "0 2024-09-16      979.0                  3        T1      979.0\n",
      "1 2024-09-17      979.0                  4        T1      979.0\n",
      "2 2024-09-18      979.0                  5        T1      979.0\n",
      "3 2024-09-19      979.0                  6        T1      979.0\n",
      "4 2024-09-20      979.0                  7        T1      979.0\n",
      "\n",
      "Correlazione iPhone 16 vs iPhone 15 shiftato: 0.930.\n",
      "C'è una correlazione positiva significativa tra i prezzi di iPhone 16 e iPhone 15.\n"
     ]
    }
   ],
   "source": [
    "######################\n",
    "#   PREPARAZIONE DATI\n",
    "######################\n",
    "# Traslare la data di iPhone 15 di 1 anno avanti\n",
    "df15['Data_shifted'] = df15['Data'] + pd.DateOffset(years=1)\n",
    "\n",
    "# unione dei i due dataframe sulla data traslata di iphone 15 e sulla data del 16\n",
    "merged = pd.merge(\n",
    "    df16, \n",
    "    df15[['Data_shifted', 'Prezzo']], \n",
    "    left_on='Data', \n",
    "    right_on='Data_shifted',\n",
    "    how='inner',\n",
    "    suffixes=('_16', '_15')\n",
    ")\n",
    "\n",
    "merged = merged.drop(columns=['Data_shifted', 'Modello'])\n",
    "print(merged.head())\n",
    "\n",
    "# Correlazione tri i prezzi di iphone 16 e 15 shiftato, per vedere se c'è una relazione\n",
    "correlation = merged['Prezzo_16'].corr(merged['Prezzo_15'])\n",
    "print(f'\\nCorrelazione iPhone 16 vs iPhone 15 shiftato: {correlation:.3f}.')\n",
    "if correlation > 0.5:\n",
    "    print(\"C'è una correlazione positiva significativa tra i prezzi di iPhone 16 e iPhone 15.\")    \n",
    "else:\n",
    "    print(\"Non è presente una correlazione significativa tra i prezzi di iPhone 16 e iPhone 15.\") "
   ]
  },
  {
   "cell_type": "markdown",
   "id": "9a3d8cc6",
   "metadata": {},
   "source": [
    "#### 2. Analisi"
   ]
  },
  {
   "cell_type": "markdown",
   "id": "4c143f8d",
   "metadata": {},
   "source": [
    "##### 2.1. Preparazione all'analisi\n",
    "Test di stazionarità, Ricerca dei migliori parametri, Cross-Validation e modello SARIMAX sul test set (hold-out) confrontando MSE e RMSE"
   ]
  },
  {
   "cell_type": "code",
   "execution_count": 12,
   "id": "46c561a2",
   "metadata": {},
   "outputs": [
    {
     "name": "stdout",
     "output_type": "stream",
     "text": [
      "ADF Statistic: -1.6583\n",
      "P-value: 0.4527\n",
      " →   La serie non è stazionaria in quanto il p-value è maggiore di 0.05\n",
      "\n",
      "Test ADF sulla serie differenziata:\n",
      "ADF Statistic (prima differenza): -10.0214\n",
      "P-value (prima differenza): 0.0\n",
      " →   Serie DIFFERENZIATA stazionaria (p-value < 0.05)\n"
     ]
    }
   ],
   "source": [
    "#########################\n",
    "#   TEST STAZIONARITA'\n",
    "#########################\n",
    "\n",
    "# Test ADF: X controllare se la serie endog è stazionaria\n",
    "result = adfuller(merged['Prezzo_16'])\n",
    "print('ADF Statistic:', round(result[0],4))\n",
    "print('P-value:', round(result[1],4))\n",
    "\n",
    "# Ipotesi nulla (H₀): la serie NON è stazionaria → ha trend o stagionalità persistente.\n",
    "# Ipotesi alternativa (H₁): la serie È stazionaria → media, varianza e autocorrelazione costanti nel tempo.\n",
    "if result[1] < 0.05:\n",
    "    print(\" →   La serie è stazionaria in quanto il p-value è minore di 0.05\")\n",
    "else:\n",
    "    print(\" →   La serie non è stazionaria in quanto il p-value è maggiore di 0.05\")\n",
    "    result_diff = adfuller(merged['Prezzo_16'].diff().dropna())\n",
    "    print('\\nTest ADF sulla serie differenziata:')\n",
    "    print('ADF Statistic (prima differenza):', round(result_diff[0],4))\n",
    "    print('P-value (prima differenza):', round(result_diff[1],4))\n",
    "    if result_diff[1] < 0.05:\n",
    "        print(\" →   Serie DIFFERENZIATA stazionaria (p-value < 0.05)\")\n",
    "    else:\n",
    "        print(\" →   Serie DIFFERENZIATA NON stazionaria (p-value >= 0.05)\")"
   ]
  },
  {
   "cell_type": "code",
   "execution_count": 13,
   "id": "1d482d26",
   "metadata": {},
   "outputs": [],
   "source": [
    "#########################\n",
    "#   TRAIN E TEST SPLIT\n",
    "#########################\n",
    "\n",
    "# Dati endogeni e esogeni x il modello\n",
    "endog = merged['Prezzo_16']\n",
    "exog = merged['Prezzo_15']\n",
    "\n",
    "# Split train/test (es. ultimi 90 giorni per test)\n",
    "train_size = len(endog) - 90\n",
    "endog_train, endog_test = endog[:train_size], endog[train_size:]\n",
    "exog_train, exog_test = exog[:train_size], exog[train_size:]"
   ]
  },
  {
   "cell_type": "code",
   "execution_count": 14,
   "id": "4204d380",
   "metadata": {},
   "outputs": [
    {
     "name": "stdout",
     "output_type": "stream",
     "text": [
      "Performing stepwise search to minimize aic\n",
      " ARIMA(2,1,2)(0,0,0)[0] intercept   : AIC=inf, Time=0.10 sec\n",
      " ARIMA(0,1,0)(0,0,0)[0] intercept   : AIC=2026.423, Time=0.00 sec\n",
      " ARIMA(1,1,0)(0,0,0)[0] intercept   : AIC=2019.680, Time=0.01 sec\n",
      " ARIMA(0,1,1)(0,0,0)[0] intercept   : AIC=2018.742, Time=0.02 sec\n",
      " ARIMA(0,1,0)(0,0,0)[0]             : AIC=2025.191, Time=0.00 sec\n",
      " ARIMA(1,1,1)(0,0,0)[0] intercept   : AIC=2013.669, Time=0.03 sec\n"
     ]
    },
    {
     "name": "stderr",
     "output_type": "stream",
     "text": [
      "/Library/Frameworks/Python.framework/Versions/3.13/lib/python3.13/site-packages/sklearn/utils/deprecation.py:151: FutureWarning: 'force_all_finite' was renamed to 'ensure_all_finite' in 1.6 and will be removed in 1.8.\n",
      "  warnings.warn(\n",
      "/Library/Frameworks/Python.framework/Versions/3.13/lib/python3.13/site-packages/sklearn/utils/deprecation.py:151: FutureWarning: 'force_all_finite' was renamed to 'ensure_all_finite' in 1.6 and will be removed in 1.8.\n",
      "  warnings.warn(\n",
      "/Library/Frameworks/Python.framework/Versions/3.13/lib/python3.13/site-packages/sklearn/utils/deprecation.py:151: FutureWarning: 'force_all_finite' was renamed to 'ensure_all_finite' in 1.6 and will be removed in 1.8.\n",
      "  warnings.warn(\n",
      "/Library/Frameworks/Python.framework/Versions/3.13/lib/python3.13/site-packages/sklearn/utils/deprecation.py:151: FutureWarning: 'force_all_finite' was renamed to 'ensure_all_finite' in 1.6 and will be removed in 1.8.\n",
      "  warnings.warn(\n",
      "/Library/Frameworks/Python.framework/Versions/3.13/lib/python3.13/site-packages/sklearn/utils/deprecation.py:151: FutureWarning: 'force_all_finite' was renamed to 'ensure_all_finite' in 1.6 and will be removed in 1.8.\n",
      "  warnings.warn(\n",
      "/Library/Frameworks/Python.framework/Versions/3.13/lib/python3.13/site-packages/sklearn/utils/deprecation.py:151: FutureWarning: 'force_all_finite' was renamed to 'ensure_all_finite' in 1.6 and will be removed in 1.8.\n",
      "  warnings.warn(\n",
      "/Library/Frameworks/Python.framework/Versions/3.13/lib/python3.13/site-packages/sklearn/utils/deprecation.py:151: FutureWarning: 'force_all_finite' was renamed to 'ensure_all_finite' in 1.6 and will be removed in 1.8.\n",
      "  warnings.warn(\n",
      "/Library/Frameworks/Python.framework/Versions/3.13/lib/python3.13/site-packages/sklearn/utils/deprecation.py:151: FutureWarning: 'force_all_finite' was renamed to 'ensure_all_finite' in 1.6 and will be removed in 1.8.\n",
      "  warnings.warn(\n",
      "/Library/Frameworks/Python.framework/Versions/3.13/lib/python3.13/site-packages/sklearn/utils/deprecation.py:151: FutureWarning: 'force_all_finite' was renamed to 'ensure_all_finite' in 1.6 and will be removed in 1.8.\n",
      "  warnings.warn(\n",
      "/Library/Frameworks/Python.framework/Versions/3.13/lib/python3.13/site-packages/sklearn/utils/deprecation.py:151: FutureWarning: 'force_all_finite' was renamed to 'ensure_all_finite' in 1.6 and will be removed in 1.8.\n",
      "  warnings.warn(\n",
      "/Library/Frameworks/Python.framework/Versions/3.13/lib/python3.13/site-packages/sklearn/utils/deprecation.py:151: FutureWarning: 'force_all_finite' was renamed to 'ensure_all_finite' in 1.6 and will be removed in 1.8.\n",
      "  warnings.warn(\n",
      "/Library/Frameworks/Python.framework/Versions/3.13/lib/python3.13/site-packages/sklearn/utils/deprecation.py:151: FutureWarning: 'force_all_finite' was renamed to 'ensure_all_finite' in 1.6 and will be removed in 1.8.\n",
      "  warnings.warn(\n",
      "/Library/Frameworks/Python.framework/Versions/3.13/lib/python3.13/site-packages/sklearn/utils/deprecation.py:151: FutureWarning: 'force_all_finite' was renamed to 'ensure_all_finite' in 1.6 and will be removed in 1.8.\n",
      "  warnings.warn(\n",
      "/Library/Frameworks/Python.framework/Versions/3.13/lib/python3.13/site-packages/sklearn/utils/deprecation.py:151: FutureWarning: 'force_all_finite' was renamed to 'ensure_all_finite' in 1.6 and will be removed in 1.8.\n",
      "  warnings.warn(\n",
      "/Library/Frameworks/Python.framework/Versions/3.13/lib/python3.13/site-packages/sklearn/utils/deprecation.py:151: FutureWarning: 'force_all_finite' was renamed to 'ensure_all_finite' in 1.6 and will be removed in 1.8.\n",
      "  warnings.warn(\n"
     ]
    },
    {
     "name": "stdout",
     "output_type": "stream",
     "text": [
      " ARIMA(2,1,1)(0,0,0)[0] intercept   : AIC=inf, Time=0.08 sec\n",
      " ARIMA(1,1,2)(0,0,0)[0] intercept   : AIC=inf, Time=0.09 sec\n",
      " ARIMA(0,1,2)(0,0,0)[0] intercept   : AIC=2020.186, Time=0.02 sec\n",
      " ARIMA(2,1,0)(0,0,0)[0] intercept   : AIC=2020.759, Time=0.02 sec\n",
      " ARIMA(1,1,1)(0,0,0)[0]             : AIC=2015.956, Time=0.01 sec\n",
      "\n",
      "Best model:  ARIMA(1,1,1)(0,0,0)[0] intercept\n",
      "Total fit time: 0.399 seconds\n",
      "                               SARIMAX Results                                \n",
      "==============================================================================\n",
      "Dep. Variable:                      y   No. Observations:                  248\n",
      "Model:               SARIMAX(1, 1, 1)   Log Likelihood               -1002.835\n",
      "Date:                Wed, 20 Aug 2025   AIC                           2013.669\n",
      "Time:                        12:49:14   BIC                           2027.707\n",
      "Sample:                             0   HQIC                          2019.321\n",
      "                                - 248                                         \n",
      "Covariance Type:                  opg                                         \n",
      "==============================================================================\n",
      "                 coef    std err          z      P>|z|      [0.025      0.975]\n",
      "------------------------------------------------------------------------------\n",
      "intercept     -0.2547      0.112     -2.281      0.023      -0.474      -0.036\n",
      "ar.L1          0.7065      0.069     10.208      0.000       0.571       0.842\n",
      "ma.L1         -0.8947      0.045    -19.951      0.000      -0.983      -0.807\n",
      "sigma2       196.5676      7.630     25.762      0.000     181.613     211.522\n",
      "===================================================================================\n",
      "Ljung-Box (L1) (Q):                   0.62   Jarque-Bera (JB):              5803.49\n",
      "Prob(Q):                              0.43   Prob(JB):                         0.00\n",
      "Heteroskedasticity (H):               0.59   Skew:                             2.45\n",
      "Prob(H) (two-sided):                  0.02   Kurtosis:                        26.24\n",
      "===================================================================================\n",
      "\n",
      "Warnings:\n",
      "[1] Covariance matrix calculated using the outer product of gradients (complex-step).\n"
     ]
    },
    {
     "name": "stderr",
     "output_type": "stream",
     "text": [
      "/Library/Frameworks/Python.framework/Versions/3.13/lib/python3.13/site-packages/sklearn/utils/deprecation.py:151: FutureWarning: 'force_all_finite' was renamed to 'ensure_all_finite' in 1.6 and will be removed in 1.8.\n",
      "  warnings.warn(\n",
      "/Library/Frameworks/Python.framework/Versions/3.13/lib/python3.13/site-packages/sklearn/utils/deprecation.py:151: FutureWarning: 'force_all_finite' was renamed to 'ensure_all_finite' in 1.6 and will be removed in 1.8.\n",
      "  warnings.warn(\n",
      "/Library/Frameworks/Python.framework/Versions/3.13/lib/python3.13/site-packages/sklearn/utils/deprecation.py:151: FutureWarning: 'force_all_finite' was renamed to 'ensure_all_finite' in 1.6 and will be removed in 1.8.\n",
      "  warnings.warn(\n",
      "/Library/Frameworks/Python.framework/Versions/3.13/lib/python3.13/site-packages/sklearn/utils/deprecation.py:151: FutureWarning: 'force_all_finite' was renamed to 'ensure_all_finite' in 1.6 and will be removed in 1.8.\n",
      "  warnings.warn(\n"
     ]
    }
   ],
   "source": [
    "##################################################\n",
    "#   AUTO ARIMA: PER TROVARE I PARAMETRI OTTIMALI\n",
    "##################################################\n",
    "\n",
    "# Trova i parametri ottimali\n",
    "model_auto = auto_arima(\n",
    "    endog_train, exogenous=exog_train,\n",
    "    seasonal=False, #Non stagionale, se c'è staagionalità impostare su True\n",
    "    stepwise=True,\n",
    "    suppress_warnings=True,\n",
    "    trace=True\n",
    ")\n",
    "\n",
    "print(model_auto.summary())"
   ]
  },
  {
   "cell_type": "code",
   "execution_count": 15,
   "id": "a15d71a0",
   "metadata": {},
   "outputs": [
    {
     "name": "stdout",
     "output_type": "stream",
     "text": [
      "Ordine del modello: (1, 1, 1)\n",
      "Ordine stagionale del modello: (0, 0, 0, 0)\n"
     ]
    }
   ],
   "source": [
    "#   order=(p,d,q):\n",
    "# •\tp=1 → 1 termine autoregressivo (AR)\n",
    "# •\td=1 → 1 differenza automatica → la serie viene differenziata internamente\n",
    "# •\tq=1 → 1 termine di media mobile (MA)\n",
    "print(f\"Ordine del modello: {model_auto.order}\")\n",
    "\n",
    "#   sesonal_order= (P, D, Q, S):\n",
    "# Il parametro seasonal_order in SARIMAX serve per modellare componenti stagionali \n",
    "# → cioè pattern che si ripetono regolarmente a intervalli costanti (es. settimanali, mensili, annuali).\n",
    "# • P: Autoregressivo stagionale (SAR)\n",
    "# • D: Differenza stagionale\n",
    "# • Q: Media mobile stagionale (SMA)\n",
    "# • S: Periodo di stagionalità (es. 12 per dati mensili con pattern annuale)\n",
    "\n",
    "# Se è 0, 0, 0, 0 singifica che non c'è stagionalità\n",
    "# Se è 1, 1, 1, 12: Il pattern si ripete ogni 12 periodi (es. 12 mesi se i dati sono mensili)\n",
    "# Se è 1, 1, 1, 30: se i dati sono giornalieri, singifica c'è una stagionalità mensile\n",
    "print(f\"Ordine stagionale del modello: {model_auto.seasonal_order}\")"
   ]
  },
  {
   "cell_type": "code",
   "execution_count": 19,
   "id": "d97b98fd",
   "metadata": {},
   "outputs": [
    {
     "name": "stdout",
     "output_type": "stream",
     "text": [
      "MSE Test, su hold-out: 385.65\n",
      "RMSE Test, su hold-out: 19.64 euro\n"
     ]
    }
   ],
   "source": [
    "###############################################\n",
    "#   MODELLO SARIMAX: HOLD-OUT test finale\n",
    "###############################################\n",
    "# x controllare i parametri di auto_arima e la capcità di prevesione del modello\n",
    "\n",
    "#parametri di auto_arima, oppure si può fare tuning dei parametri (p,d,q)\n",
    "order = model_auto.order\n",
    "#modello SARIMAX \n",
    "model = SARIMAX(endog_train, exog=exog_train, order=order)\n",
    "model_fit = model.fit(disp=False)\n",
    "\n",
    "pred = model_fit.predict(\n",
    "    start=train_size, \n",
    "    end=len(endog)-1, \n",
    "    exog=exog_test)\n",
    "\n",
    "#MSE e RMSE del Testset\n",
    "mse = mean_squared_error(endog_test, pred)\n",
    "print(f'MSE Test, su hold-out: {mse:.2f}')\n",
    "rmse = np.sqrt(mse)\n",
    "print(f'RMSE Test, su hold-out: {rmse:.2f} euro')"
   ]
  },
  {
   "cell_type": "code",
   "execution_count": 18,
   "id": "6076b935",
   "metadata": {},
   "outputs": [
    {
     "name": "stdout",
     "output_type": "stream",
     "text": [
      "Split 1 - MSE: 385.65\n",
      "- Errore medio MSE su cross-validation: 385.6497\n",
      "- RMSE medio su cross-validation: 19.64 euro\n"
     ]
    }
   ],
   "source": [
    "###########################\n",
    "#   CROSS-VALIDATION \n",
    "###########################\n",
    "\n",
    "#Parametri CV\n",
    "n_splits = 3\n",
    "step = 90 # previsone di un trimestre, 3 mesi, 90 gionri circa\n",
    "errors = []\n",
    "\n",
    "for i in range(n_splits):\n",
    "    train_end = train_size + i*step\n",
    "    test_end = train_end + step\n",
    "    \n",
    "    if test_end > len(endog): # Se l'indice supera la lunghezza dei dati, esci dal ciclo\n",
    "        break\n",
    "    \n",
    "    endog_train_cv = endog[:train_end]\n",
    "    exog_train_cv = exog[:train_end]\n",
    "    endog_test_cv = endog[train_end:test_end]\n",
    "    exog_test_cv = exog[train_end:test_end]\n",
    "    \n",
    "    model_cv = SARIMAX(endog_train_cv, exog=exog_train_cv, order=order)\n",
    "    fit_cv = model_cv.fit(disp=False)\n",
    "    \n",
    "    pred_cv = fit_cv.predict(start=train_end, end=test_end-1, exog=exog_test_cv)\n",
    "    mse_cv = mean_squared_error(endog_test_cv, pred_cv)\n",
    "    errors.append(mse_cv)\n",
    "    print(f'Split {i+1} - MSE: {mse_cv:.2f}')\n",
    "\n",
    "print(f'- Errore medio MSE su cross-validation: {np.mean(errors):.4f}')\n",
    "rmse = np.sqrt(np.mean(errors))\n",
    "print(f'- RMSE medio su cross-validation: {rmse:.2f} euro')"
   ]
  },
  {
   "cell_type": "code",
   "execution_count": 20,
   "id": "61f87970",
   "metadata": {},
   "outputs": [
    {
     "data": {
      "application/vnd.plotly.v1+json": {
       "config": {
        "plotlyServerURL": "https://plot.ly"
       },
       "data": [
        {
         "line": {
          "color": "royalblue"
         },
         "mode": "lines",
         "name": "Prezzo reale iPhone 16",
         "type": "scatter",
         "x": {
          "bdata": "+AD5APoA+wD8AP0A/gD/AAABAQECAQMBBAEFAQYBBwEIAQkBCgELAQwBDQEOAQ8BEAERARIBEwEUARUBFgEXARgBGQEaARsBHAEdAR4BHwEgASEBIgEjASQBJQEmAScBKAEpASoBKwEsAS0BLgEvATABMQEyATMBNAE1ATYBNwE4ATkBOgE7ATwBPQE+AT8BQAFBAUIBQwFEAUUBRgFHAUgBSQFKAUsBTAFNAU4BTwFQAVEB",
          "dtype": "i2"
         },
         "y": {
          "bdata": "AAAAAAC4h0AAAAAAALiHQAAAAAAAuIdAAAAAAAC4h0AAAAAAALiHQAAAAAAAuIdAAAAAAABYiEAAAAAAAFiIQAAAAAAAWIhAAAAAAABYiEAAAAAAAFiIQAAAAAAAWIhAAAAAAABYiEAAAAAAAPiIQAAAAAAACIhAAAAAAAAIiEAAAAAAAAiIQAAAAAAACIhAAAAAAAAIiEAAAAAAAAiIQAAAAAAACIhAAAAAAAAIiEAAAAAAAAiIQAAAAAAACIhAAAAAAAAIiEAAAAAAAAiIQAAAAAAACIhAAAAAAABYiEAAAAAAAFiIQAAAAAAAWIhAAAAAAABYiEAAAAAAAFiIQAAAAAAACIhAAAAAAAAIiEAAAAAAAAiIQAAAAAAACIhAAAAAAAAIiEAAAAAAAAiIQAAAAAAACIhAAAAAAABoh0AAAAAAAGiHQAAAAAAAaIdAAAAAAAB4hkAAAAAAAHiGQAAAAAAAeIZAAAAAAAB4hkAAAAAAAGiHQAAAAAAAaIdAAAAAAAB4hkAAAAAAAHiGQAAAAAAAaIdAAAAAAABoh0AAAAAAAGiHQAAAAAAAWIhAAAAAAABYiEAAAAAAAAiIQAAAAAAA+IhAAAAAAAAIiEAAAAAAAAiIQAAAAAAACIhAAAAAAAAIiEAAAAAAAAiIQAAAAAAACIhAAAAAAAAIiEAAAAAAAAiIQAAAAAAACIhAAAAAAAAIiEAAAAAAAAiIQAAAAAAACIhAAAAAAAAIiEAAAAAAAFiIQAAAAAAAWIhAAAAAAABYiEAAAAAAAFiIQAAAAAAAWIhAAAAAAABYiEAAAAAAAFiIQAAAAAAAWIhAAAAAAABoh0AAAAAAAGiHQAAAAAAAaIdAAAAAAABYiEAAAAAAAGiHQAAAAAAAaIdAAAAAAABoh0AAAAAAAGiHQAAAAAAAaIdAAAAAAABYiEAAAAAAAFiIQAAAAAAAWIhA",
          "dtype": "f8"
         }
        },
        {
         "line": {
          "color": "firebrick",
          "dash": "dash"
         },
         "mode": "lines",
         "name": "Predizione SARIMAX",
         "type": "scatter",
         "x": {
          "bdata": "+AD5APoA+wD8AP0A/gD/AAABAQECAQMBBAEFAQYBBwEIAQkBCgELAQwBDQEOAQ8BEAERARIBEwEUARUBFgEXARgBGQEaARsBHAEdAR4BHwEgASEBIgEjASQBJQEmAScBKAEpASoBKwEsAS0BLgEvATABMQEyATMBNAE1ATYBNwE4ATkBOgE7ATwBPQE+AT8BQAFBAUIBQwFEAUUBRgFHAUgBSQFKAUsBTAFNAU4BTwFQAVEB",
          "dtype": "i2"
         },
         "y": {
          "bdata": "lmPNBJFMiEBLR0Kj5EaIQOGmkbt5QohAkN5gxro/iECPZwbTBT6IQDZFhDj2PIhAjLMjZU08iECjr3Z05DuIQIRirzmjO4hAX8/prXo7iEBK8vZ5YTuIQCHz8yXuOIhANfEYaeQ4iEAzZwKwxzqIQNECnkLPOYhAZtHr68w5iEBgScd3yzmIQA9ydZDKOYhAO06sAMo5iEAkKUynyTmIQB0fvm/JOYhA6Nw1Tck5iECy2743yTmIQLU5ZyrJOYhAVBscIsk5iEB0ZvQcyTmIQOcVwBnJOYhA8C/CF8k5iECAPYUWyTmIQMQ6wBXJOYhAG8VFFck5iECDpvkUyTmIQN5VyhTJOYhAyeysFMk5iEDLpJoUyTmIQMNHjxTJOYhAizeIFMk5iECT04MUyTmIQO0YgRTJOYhAqGZ/FMk5iEC4WH4UyTmIQO6wfRTJOYhAokh9FMk5iEBCsQvA3zeIQGvg0RM4O4hAX8fREzg7iEDNt9ETODuIQB+u0RM4O4hAG6jREzg7iEBepNETODuIQAui0RM4O4hAmaDREzg7iECzn9ETODuIQCSf0RM4O4hAy57REzg7iECUntETODuIQHKe0RM4O4hAXZ7REzg7iEBQntETODuIQEie0RM4O4hA/fKYaUM6iED68phpQzqIQPjymGlDOohA9/KYaUM6iED28phpQzqIQPbymGlDOohA9vKYaUM6iED28phpQzqIQPbymGlDOohA9vKYaUM6iED28phpQzqIQPbymGlDOohA9vKYaUM6iED28phpQzqIQPbymGlDOohA9vKYaUM6iED28phpQzqIQPbymGlDOohA9vKYaUM6iED28phpQzqIQPbymGlDOohA9vKYaUM6iED28phpQzqIQPbymGlDOohA9vKYaUM6iED28phpQzqIQPbymGlDOohA9vKYaUM6iED28phpQzqIQPbymGlDOohA",
          "dtype": "f8"
         }
        }
       ],
       "layout": {
        "height": 500,
        "legend": {
         "x": 0.01,
         "y": 0.99
        },
        "template": {
         "data": {
          "bar": [
           {
            "error_x": {
             "color": "#f2f5fa"
            },
            "error_y": {
             "color": "#f2f5fa"
            },
            "marker": {
             "line": {
              "color": "rgb(17,17,17)",
              "width": 0.5
             },
             "pattern": {
              "fillmode": "overlay",
              "size": 10,
              "solidity": 0.2
             }
            },
            "type": "bar"
           }
          ],
          "barpolar": [
           {
            "marker": {
             "line": {
              "color": "rgb(17,17,17)",
              "width": 0.5
             },
             "pattern": {
              "fillmode": "overlay",
              "size": 10,
              "solidity": 0.2
             }
            },
            "type": "barpolar"
           }
          ],
          "carpet": [
           {
            "aaxis": {
             "endlinecolor": "#A2B1C6",
             "gridcolor": "#506784",
             "linecolor": "#506784",
             "minorgridcolor": "#506784",
             "startlinecolor": "#A2B1C6"
            },
            "baxis": {
             "endlinecolor": "#A2B1C6",
             "gridcolor": "#506784",
             "linecolor": "#506784",
             "minorgridcolor": "#506784",
             "startlinecolor": "#A2B1C6"
            },
            "type": "carpet"
           }
          ],
          "choropleth": [
           {
            "colorbar": {
             "outlinewidth": 0,
             "ticks": ""
            },
            "type": "choropleth"
           }
          ],
          "contour": [
           {
            "colorbar": {
             "outlinewidth": 0,
             "ticks": ""
            },
            "colorscale": [
             [
              0,
              "#0d0887"
             ],
             [
              0.1111111111111111,
              "#46039f"
             ],
             [
              0.2222222222222222,
              "#7201a8"
             ],
             [
              0.3333333333333333,
              "#9c179e"
             ],
             [
              0.4444444444444444,
              "#bd3786"
             ],
             [
              0.5555555555555556,
              "#d8576b"
             ],
             [
              0.6666666666666666,
              "#ed7953"
             ],
             [
              0.7777777777777778,
              "#fb9f3a"
             ],
             [
              0.8888888888888888,
              "#fdca26"
             ],
             [
              1,
              "#f0f921"
             ]
            ],
            "type": "contour"
           }
          ],
          "contourcarpet": [
           {
            "colorbar": {
             "outlinewidth": 0,
             "ticks": ""
            },
            "type": "contourcarpet"
           }
          ],
          "heatmap": [
           {
            "colorbar": {
             "outlinewidth": 0,
             "ticks": ""
            },
            "colorscale": [
             [
              0,
              "#0d0887"
             ],
             [
              0.1111111111111111,
              "#46039f"
             ],
             [
              0.2222222222222222,
              "#7201a8"
             ],
             [
              0.3333333333333333,
              "#9c179e"
             ],
             [
              0.4444444444444444,
              "#bd3786"
             ],
             [
              0.5555555555555556,
              "#d8576b"
             ],
             [
              0.6666666666666666,
              "#ed7953"
             ],
             [
              0.7777777777777778,
              "#fb9f3a"
             ],
             [
              0.8888888888888888,
              "#fdca26"
             ],
             [
              1,
              "#f0f921"
             ]
            ],
            "type": "heatmap"
           }
          ],
          "histogram": [
           {
            "marker": {
             "pattern": {
              "fillmode": "overlay",
              "size": 10,
              "solidity": 0.2
             }
            },
            "type": "histogram"
           }
          ],
          "histogram2d": [
           {
            "colorbar": {
             "outlinewidth": 0,
             "ticks": ""
            },
            "colorscale": [
             [
              0,
              "#0d0887"
             ],
             [
              0.1111111111111111,
              "#46039f"
             ],
             [
              0.2222222222222222,
              "#7201a8"
             ],
             [
              0.3333333333333333,
              "#9c179e"
             ],
             [
              0.4444444444444444,
              "#bd3786"
             ],
             [
              0.5555555555555556,
              "#d8576b"
             ],
             [
              0.6666666666666666,
              "#ed7953"
             ],
             [
              0.7777777777777778,
              "#fb9f3a"
             ],
             [
              0.8888888888888888,
              "#fdca26"
             ],
             [
              1,
              "#f0f921"
             ]
            ],
            "type": "histogram2d"
           }
          ],
          "histogram2dcontour": [
           {
            "colorbar": {
             "outlinewidth": 0,
             "ticks": ""
            },
            "colorscale": [
             [
              0,
              "#0d0887"
             ],
             [
              0.1111111111111111,
              "#46039f"
             ],
             [
              0.2222222222222222,
              "#7201a8"
             ],
             [
              0.3333333333333333,
              "#9c179e"
             ],
             [
              0.4444444444444444,
              "#bd3786"
             ],
             [
              0.5555555555555556,
              "#d8576b"
             ],
             [
              0.6666666666666666,
              "#ed7953"
             ],
             [
              0.7777777777777778,
              "#fb9f3a"
             ],
             [
              0.8888888888888888,
              "#fdca26"
             ],
             [
              1,
              "#f0f921"
             ]
            ],
            "type": "histogram2dcontour"
           }
          ],
          "mesh3d": [
           {
            "colorbar": {
             "outlinewidth": 0,
             "ticks": ""
            },
            "type": "mesh3d"
           }
          ],
          "parcoords": [
           {
            "line": {
             "colorbar": {
              "outlinewidth": 0,
              "ticks": ""
             }
            },
            "type": "parcoords"
           }
          ],
          "pie": [
           {
            "automargin": true,
            "type": "pie"
           }
          ],
          "scatter": [
           {
            "marker": {
             "line": {
              "color": "#283442"
             }
            },
            "type": "scatter"
           }
          ],
          "scatter3d": [
           {
            "line": {
             "colorbar": {
              "outlinewidth": 0,
              "ticks": ""
             }
            },
            "marker": {
             "colorbar": {
              "outlinewidth": 0,
              "ticks": ""
             }
            },
            "type": "scatter3d"
           }
          ],
          "scattercarpet": [
           {
            "marker": {
             "colorbar": {
              "outlinewidth": 0,
              "ticks": ""
             }
            },
            "type": "scattercarpet"
           }
          ],
          "scattergeo": [
           {
            "marker": {
             "colorbar": {
              "outlinewidth": 0,
              "ticks": ""
             }
            },
            "type": "scattergeo"
           }
          ],
          "scattergl": [
           {
            "marker": {
             "line": {
              "color": "#283442"
             }
            },
            "type": "scattergl"
           }
          ],
          "scattermap": [
           {
            "marker": {
             "colorbar": {
              "outlinewidth": 0,
              "ticks": ""
             }
            },
            "type": "scattermap"
           }
          ],
          "scattermapbox": [
           {
            "marker": {
             "colorbar": {
              "outlinewidth": 0,
              "ticks": ""
             }
            },
            "type": "scattermapbox"
           }
          ],
          "scatterpolar": [
           {
            "marker": {
             "colorbar": {
              "outlinewidth": 0,
              "ticks": ""
             }
            },
            "type": "scatterpolar"
           }
          ],
          "scatterpolargl": [
           {
            "marker": {
             "colorbar": {
              "outlinewidth": 0,
              "ticks": ""
             }
            },
            "type": "scatterpolargl"
           }
          ],
          "scatterternary": [
           {
            "marker": {
             "colorbar": {
              "outlinewidth": 0,
              "ticks": ""
             }
            },
            "type": "scatterternary"
           }
          ],
          "surface": [
           {
            "colorbar": {
             "outlinewidth": 0,
             "ticks": ""
            },
            "colorscale": [
             [
              0,
              "#0d0887"
             ],
             [
              0.1111111111111111,
              "#46039f"
             ],
             [
              0.2222222222222222,
              "#7201a8"
             ],
             [
              0.3333333333333333,
              "#9c179e"
             ],
             [
              0.4444444444444444,
              "#bd3786"
             ],
             [
              0.5555555555555556,
              "#d8576b"
             ],
             [
              0.6666666666666666,
              "#ed7953"
             ],
             [
              0.7777777777777778,
              "#fb9f3a"
             ],
             [
              0.8888888888888888,
              "#fdca26"
             ],
             [
              1,
              "#f0f921"
             ]
            ],
            "type": "surface"
           }
          ],
          "table": [
           {
            "cells": {
             "fill": {
              "color": "#506784"
             },
             "line": {
              "color": "rgb(17,17,17)"
             }
            },
            "header": {
             "fill": {
              "color": "#2a3f5f"
             },
             "line": {
              "color": "rgb(17,17,17)"
             }
            },
            "type": "table"
           }
          ]
         },
         "layout": {
          "annotationdefaults": {
           "arrowcolor": "#f2f5fa",
           "arrowhead": 0,
           "arrowwidth": 1
          },
          "autotypenumbers": "strict",
          "coloraxis": {
           "colorbar": {
            "outlinewidth": 0,
            "ticks": ""
           }
          },
          "colorscale": {
           "diverging": [
            [
             0,
             "#8e0152"
            ],
            [
             0.1,
             "#c51b7d"
            ],
            [
             0.2,
             "#de77ae"
            ],
            [
             0.3,
             "#f1b6da"
            ],
            [
             0.4,
             "#fde0ef"
            ],
            [
             0.5,
             "#f7f7f7"
            ],
            [
             0.6,
             "#e6f5d0"
            ],
            [
             0.7,
             "#b8e186"
            ],
            [
             0.8,
             "#7fbc41"
            ],
            [
             0.9,
             "#4d9221"
            ],
            [
             1,
             "#276419"
            ]
           ],
           "sequential": [
            [
             0,
             "#0d0887"
            ],
            [
             0.1111111111111111,
             "#46039f"
            ],
            [
             0.2222222222222222,
             "#7201a8"
            ],
            [
             0.3333333333333333,
             "#9c179e"
            ],
            [
             0.4444444444444444,
             "#bd3786"
            ],
            [
             0.5555555555555556,
             "#d8576b"
            ],
            [
             0.6666666666666666,
             "#ed7953"
            ],
            [
             0.7777777777777778,
             "#fb9f3a"
            ],
            [
             0.8888888888888888,
             "#fdca26"
            ],
            [
             1,
             "#f0f921"
            ]
           ],
           "sequentialminus": [
            [
             0,
             "#0d0887"
            ],
            [
             0.1111111111111111,
             "#46039f"
            ],
            [
             0.2222222222222222,
             "#7201a8"
            ],
            [
             0.3333333333333333,
             "#9c179e"
            ],
            [
             0.4444444444444444,
             "#bd3786"
            ],
            [
             0.5555555555555556,
             "#d8576b"
            ],
            [
             0.6666666666666666,
             "#ed7953"
            ],
            [
             0.7777777777777778,
             "#fb9f3a"
            ],
            [
             0.8888888888888888,
             "#fdca26"
            ],
            [
             1,
             "#f0f921"
            ]
           ]
          },
          "colorway": [
           "#636efa",
           "#EF553B",
           "#00cc96",
           "#ab63fa",
           "#FFA15A",
           "#19d3f3",
           "#FF6692",
           "#B6E880",
           "#FF97FF",
           "#FECB52"
          ],
          "font": {
           "color": "#f2f5fa"
          },
          "geo": {
           "bgcolor": "rgb(17,17,17)",
           "lakecolor": "rgb(17,17,17)",
           "landcolor": "rgb(17,17,17)",
           "showlakes": true,
           "showland": true,
           "subunitcolor": "#506784"
          },
          "hoverlabel": {
           "align": "left"
          },
          "hovermode": "closest",
          "mapbox": {
           "style": "dark"
          },
          "paper_bgcolor": "rgb(17,17,17)",
          "plot_bgcolor": "rgb(17,17,17)",
          "polar": {
           "angularaxis": {
            "gridcolor": "#506784",
            "linecolor": "#506784",
            "ticks": ""
           },
           "bgcolor": "rgb(17,17,17)",
           "radialaxis": {
            "gridcolor": "#506784",
            "linecolor": "#506784",
            "ticks": ""
           }
          },
          "scene": {
           "xaxis": {
            "backgroundcolor": "rgb(17,17,17)",
            "gridcolor": "#506784",
            "gridwidth": 2,
            "linecolor": "#506784",
            "showbackground": true,
            "ticks": "",
            "zerolinecolor": "#C8D4E3"
           },
           "yaxis": {
            "backgroundcolor": "rgb(17,17,17)",
            "gridcolor": "#506784",
            "gridwidth": 2,
            "linecolor": "#506784",
            "showbackground": true,
            "ticks": "",
            "zerolinecolor": "#C8D4E3"
           },
           "zaxis": {
            "backgroundcolor": "rgb(17,17,17)",
            "gridcolor": "#506784",
            "gridwidth": 2,
            "linecolor": "#506784",
            "showbackground": true,
            "ticks": "",
            "zerolinecolor": "#C8D4E3"
           }
          },
          "shapedefaults": {
           "line": {
            "color": "#f2f5fa"
           }
          },
          "sliderdefaults": {
           "bgcolor": "#C8D4E3",
           "bordercolor": "rgb(17,17,17)",
           "borderwidth": 1,
           "tickwidth": 0
          },
          "ternary": {
           "aaxis": {
            "gridcolor": "#506784",
            "linecolor": "#506784",
            "ticks": ""
           },
           "baxis": {
            "gridcolor": "#506784",
            "linecolor": "#506784",
            "ticks": ""
           },
           "bgcolor": "rgb(17,17,17)",
           "caxis": {
            "gridcolor": "#506784",
            "linecolor": "#506784",
            "ticks": ""
           }
          },
          "title": {
           "x": 0.05
          },
          "updatemenudefaults": {
           "bgcolor": "#506784",
           "borderwidth": 0
          },
          "xaxis": {
           "automargin": true,
           "gridcolor": "#283442",
           "linecolor": "#506784",
           "ticks": "",
           "title": {
            "standoff": 15
           },
           "zerolinecolor": "#283442",
           "zerolinewidth": 2
          },
          "yaxis": {
           "automargin": true,
           "gridcolor": "#283442",
           "linecolor": "#506784",
           "ticks": "",
           "title": {
            "standoff": 15
           },
           "zerolinecolor": "#283442",
           "zerolinewidth": 2
          }
         }
        },
        "title": {
         "text": "SARIMAX Forecast (Test Set)"
        },
        "width": 900,
        "xaxis": {
         "title": {
          "text": "Data"
         }
        },
        "yaxis": {
         "title": {
          "text": "Prezzo (€)"
         }
        }
       }
      }
     },
     "metadata": {},
     "output_type": "display_data"
    }
   ],
   "source": [
    "fig = go.Figure()\n",
    "# Prezzo reale\n",
    "fig.add_trace(go.Scatter(x=endog_test.index, y=endog_test,mode='lines',name='Prezzo reale iPhone 16',line=dict(color='royalblue')))\n",
    "# Predizione SARIMAX\n",
    "fig.add_trace(go.Scatter(x=endog_test.index,y=pred,mode='lines',name='Predizione SARIMAX',line=dict(color='firebrick', dash='dash')))\n",
    "# Layout\n",
    "fig.update_layout(title='SARIMAX Forecast (Test Set)',xaxis_title='Data',yaxis_title='Prezzo (€)',\n",
    "    legend=dict(x=0.01, y=0.99),template='plotly_dark',width=900,height=500)\n",
    "fig.show()"
   ]
  },
  {
   "cell_type": "markdown",
   "id": "03459214",
   "metadata": {},
   "source": [
    "##### 2.2. Previsione\n",
    "\n",
    "Ci sono due previsioni, un forecast con regressore costante e un forecast con regressore previsto.\n",
    "\n",
    "Il primo, usa tutti i dati storici di iPhone 16 (endog) e il prezzo di iPhone 15 (exog) traslato.\n",
    "Per prevedere i prossimi 90 giorni, ipotizzi che il prezzo dell’iPhone 15 rimanga fisso all’ultimo valore conosciuto.\n",
    "- Pro: utile se si pensa che il prezzo dell’iPhone 15 sia ormai stabile (o non hai un buon modello per prevederlo).\n",
    "- Contro: se il prezzo di iPhone 15 non fosse realmente costante, l’assunzione può portare a bias.\n",
    "\n",
    "Il secondo, prima fa un modello SARIMA separato sul prezzo di iPhone 15, per stimare come evolverà nei prossimi mesi (es. con stagionalità). Poi usa questa serie forecastata come regressore esterno nel SARIMAX di iPhone 16:\n",
    "\n",
    "`exog_forecast = SARIMA(df15['Prezzo']).forecast()`\n",
    "\n",
    "`SARIMAX(endog, exog=exog).get_forecast(exog=exog_forecast)`\n",
    "\n",
    "- Pro: più realistico se il prezzo dell’iPhone 15 è ancora volatile (ad es. continua a scendere col tempo); e riene conto di dinamiche stagionali del regressore.\n",
    "- Contro: doppia fonte di incertezza: se si sbaglia il forecast dell’exog, si propaga l’errore.\n",
    "\n",
    "Quando usare uno o l’altro\n",
    "\t•\tSe il prezzo di iPhone 15 è già assestato (es. fine ciclo di vita), il regressore costante è più realistico.\n",
    "\t•\tSe invece il prezzo di iPhone 15 segue ancora trend o stagionalità, il regressore previsto è più accurato (ma più rischioso da stimare)."
   ]
  },
  {
   "cell_type": "code",
   "execution_count": 21,
   "id": "3bbec32f",
   "metadata": {},
   "outputs": [
    {
     "name": "stdout",
     "output_type": "stream",
     "text": [
      "338    776.049851\n",
      "339    774.209245\n",
      "340    773.060885\n",
      "341    772.344421\n",
      "342    771.897416\n",
      "Name: predicted_mean, dtype: float64\n",
      "     lower Prezzo_16  upper Prezzo_16\n",
      "338       749.615885       802.483817\n",
      "339       740.169780       808.248710\n",
      "340       734.397982       811.723788\n",
      "341       730.350010       814.338831\n",
      "342       727.243256       816.551577\n"
     ]
    }
   ],
   "source": [
    "# Immaginiamo che il prezzo iPhone 15 rimanga costante agli ultimi valori per 90 giorni futuri\n",
    "last_exog_value = exog.iloc[-1]\n",
    "exog_future = np.full(90, last_exog_value)\n",
    "\n",
    "# Fit modello su tutti i dati disponibili\n",
    "model_final = SARIMAX(endog, exog=exog, order=order)\n",
    "model_final_fit = model_final.fit(disp=False)\n",
    "\n",
    "# Previsione 3 mesi avanti\n",
    "start_pred = len(endog)\n",
    "end_pred = start_pred + 89\n",
    "\n",
    "forecast = model_final_fit.predict(start=start_pred, end=end_pred, exog=exog_future)\n",
    "# Usa get_forecast per ottenere anche l'intervallo di confidenza\n",
    "forecast_result = model_final_fit.get_forecast(steps=90, exog=exog_future)\n",
    "\n",
    "# Estrai media e intervallo di confidenza\n",
    "mean_forecast = forecast_result.predicted_mean\n",
    "conf_int = forecast_result.conf_int()\n",
    "\n",
    "print(mean_forecast.head())\n",
    "print(conf_int.head())\n"
   ]
  },
  {
   "cell_type": "code",
   "execution_count": 22,
   "id": "feac672a",
   "metadata": {},
   "outputs": [
    {
     "name": "stdout",
     "output_type": "stream",
     "text": [
      "Previsioni medie, prox 5g:\n",
      " 338    776.049851\n",
      "339    774.209245\n",
      "340    773.060885\n",
      "341    772.344421\n",
      "342    771.897416\n",
      "Name: predicted_mean, dtype: float64\n",
      "\n",
      "Intervalli di confidenza, prox 5g:\n",
      "      lower Prezzo_16  upper Prezzo_16\n",
      "338       749.615885       802.483817\n",
      "339       740.169780       808.248710\n",
      "340       734.397982       811.723788\n",
      "341       730.350010       814.338831\n",
      "342       727.243256       816.551577\n",
      "\n",
      "Previsione per i prossimi 90 giorni: 771.16 €\n",
      "\n"
     ]
    }
   ],
   "source": [
    "# 📌 Caso semplice: exog costante\n",
    "# Immaginiamo che il prezzo iPhone 15 rimanga costante agli ultimi valori per 90 giorni futuri\n",
    "future_steps = 90\n",
    "last_exog = exog.iloc[-1] \n",
    "exog_future = np.full(future_steps, last_exog)\n",
    "\n",
    "# Fit modello su tutti i dati disponibili\n",
    "model_final = SARIMAX(endog, exog=exog, order=order)\n",
    "fit_final = model_final.fit(disp=False)\n",
    "\n",
    "forecast_result = fit_final.get_forecast(steps=future_steps, exog=exog_future)\n",
    "mean_forecast = forecast_result.predicted_mean #Media delle previsioni\n",
    "conf_int = forecast_result.conf_int() # Intervallo di confidenza\n",
    "\n",
    "print(\"Previsioni medie, prox 5g:\\n\",mean_forecast.head())\n",
    "print(\"\\nIntervalli di confidenza, prox 5g:\\n\",conf_int.head())\n",
    "print(f'\\nPrevisione per i prossimi {future_steps} giorni: {mean_forecast.values[-1]:.2f} €\\n')"
   ]
  },
  {
   "cell_type": "code",
   "execution_count": 23,
   "id": "13e4e9fa",
   "metadata": {},
   "outputs": [
    {
     "data": {
      "application/vnd.plotly.v1+json": {
       "config": {
        "plotlyServerURL": "https://plot.ly"
       },
       "data": [
        {
         "line": {
          "color": "cyan"
         },
         "mode": "lines",
         "name": "Prezzo storico iPhone 16",
         "type": "scatter",
         "x": {
          "bdata": "AAABAAIAAwAEAAUABgAHAAgACQAKAAsADAANAA4ADwAQABEAEgATABQAFQAWABcAGAAZABoAGwAcAB0AHgAfACAAIQAiACMAJAAlACYAJwAoACkAKgArACwALQAuAC8AMAAxADIAMwA0ADUANgA3ADgAOQA6ADsAPAA9AD4APwBAAEEAQgBDAEQARQBGAEcASABJAEoASwBMAE0ATgBPAFAAUQBSAFMAVABVAFYAVwBYAFkAWgBbAFwAXQBeAF8AYABhAGIAYwBkAGUAZgBnAGgAaQBqAGsAbABtAG4AbwBwAHEAcgBzAHQAdQB2AHcAeAB5AHoAewB8AH0AfgB/AIAAgQCCAIMAhACFAIYAhwCIAIkAigCLAIwAjQCOAI8AkACRAJIAkwCUAJUAlgCXAJgAmQCaAJsAnACdAJ4AnwCgAKEAogCjAKQApQCmAKcAqACpAKoAqwCsAK0ArgCvALAAsQCyALMAtAC1ALYAtwC4ALkAugC7ALwAvQC+AL8AwADBAMIAwwDEAMUAxgDHAMgAyQDKAMsAzADNAM4AzwDQANEA0gDTANQA1QDWANcA2ADZANoA2wDcAN0A3gDfAOAA4QDiAOMA5ADlAOYA5wDoAOkA6gDrAOwA7QDuAO8A8ADxAPIA8wD0APUA9gD3APgA+QD6APsA/AD9AP4A/wAAAQEBAgEDAQQBBQEGAQcBCAEJAQoBCwEMAQ0BDgEPARABEQESARMBFAEVARYBFwEYARkBGgEbARwBHQEeAR8BIAEhASIBIwEkASUBJgEnASgBKQEqASsBLAEtAS4BLwEwATEBMgEzATQBNQE2ATcBOAE5AToBOwE8AT0BPgE/AUABQQFCAUMBRAFFAUYBRwFIAUkBSgFLAUwBTQFOAU8BUAFRAQ==",
          "dtype": "i2"
         },
         "y": {
          "bdata": "AAAAAACYjkAAAAAAAJiOQAAAAAAAmI5AAAAAAACYjkAAAAAAAJiOQAAAAAAAmI5AAAAAAACYjkAAAAAAAJiOQAAAAAAAmI5AAAAAAACYjkAAAAAAAJiOQAAAAAAAmI5AAAAAAACYjkAAAAAAAJiOQAAAAAAAmI5AAAAAAACYjkAAAAAAAJiOQAAAAAAAmI5AAAAAAACYjkAAAAAAAJiOQAAAAAAAmI5AAAAAAACYjkAAAAAAAJiOQAAAAAAAmI5AAAAAAACYjkAAAAAAAJiOQAAAAAAAmI5AAAAAAACYjkAAAAAAAJiOQAAAAAAAmI5AAAAAAACYjkAAAAAAAJiOQAAAAAAAmI5AAAAAAACYjkAAAAAAAJiOQAAAAAAAmI5AAAAAAACYjkAAAAAAAJiOQAAAAAAAmI5AAAAAAACYjkAAAAAAAJiOQAAAAAAAmI5AAAAAAACYjkAAAAAAAJiOQAAAAAAAmI5AAAAAAACYjkAAAAAAAJiOQAAAAAAAmI5AAAAAAACYjkAAAAAAAJiOQAAAAAAAmI5AUrgehetvjUAAAAAAAFiNQAAAAAAAWI1AAAAAAABYjUAAAAAAAFiNQAAAAAAAWI1AAAAAAAAIjUAAAAAAAAiNQAAAAAAACI1AUrgehesvjEBSuB6F6y+MQFK4HoXrL4xAUrgehesvjEBSuB6F6y+MQFK4HoXrL4xAUrgehesvjEAAAAAAABiMQAAAAAAAGIxAAAAAAAAYjEAAAAAAABiMQAAAAAAAGIxAUrgehetPikBSuB6F60+KQFK4HoXrT4pAUrgehetPikAAAAAAADiKQAAAAAAAqI1AUrgehes/jEBSuB6F6z+MQAAAAAAAGIxAAAAAAAB4i0AAAAAAAHiLQAAAAAAAeItAAAAAAAB4i0AAAAAAAHiLQAAAAAAAeItAUrgehev/iUBSuB6F6/+JQFK4HoXr/4lAUrgehev/iUBSuB6F6/+JQFK4HoXr/4lAAAAAAAAYjEAAAAAAAHiLQFK4HoXr/4lAUrgehev/iUBSuB6F6weKQFK4HoXrB4pAUrgehesHikBSuB6F6weKQFK4HoXrB4pAUrgehesHikBSuB6F6/eMQFK4HoXr94xAUrgehev3jEBSuB6F6/eMQFK4HoXr94xAAAAAAAAYjEAAAAAAACiLQAAAAAAAKItAAAAAAAAoi0AAAAAAACiLQAAAAAAAKItAAAAAAAAoi0AAAAAAACiLQAAAAAAAKItAAAAAAAAoi0AAAAAAACiLQAAAAAAAKItAAAAAAAAoi0AAAAAAACiLQAAAAAAAKItAUrgeheufikBSuB6F65+KQFK4HoXrn4pAUrgeheufikBSuB6F65+KQFK4HoXrn4pAAAAAAACIikAAAAAAAIiKQAAAAAAAiIpAAAAAAACIikAAAAAAAIiKQAAAAAAAiIpAAAAAAACIikAAAAAAAIiKQAAAAAAAiIpAAAAAAACIikAAAAAAAIiKQAAAAAAAiIpAAAAAAACIikAAAAAAAIiKQFK4HoXrn4pAAAAAAACIikAAAAAAAIiKQAAAAAAAiIpAAAAAAACIikAAAAAAAIiKQAAAAAAAiIpAAAAAAACIikAAAAAAAIiKQAAAAAAAiIpAAAAAAACIikAAAAAAAIiKQAAAAAAAiIpAAAAAAACIikAAAAAAAIiKQAAAAAAAiIpAAAAAAACIikAAAAAAAIiKQAAAAAAAiIpAAAAAAACIikAAAAAAAIiKQAAAAAAA6IlAAAAAAADoiUAAAAAAAOiJQAAAAAAAiIpAAAAAAACIikAAAAAAAIiKQAAAAAAAiIpAAAAAAACIikAAAAAAAIiKQAAAAAAAiIpAAAAAAACIikAAAAAAAIiKQAAAAAAAiIpAAAAAAACIikAAAAAAAIiKQAAAAAAAiIpAAAAAAADoiUAAAAAAAOiJQAAAAAAA6IlAAAAAAADoiUAAAAAAAOiJQAAAAAAA6IlAAAAAAACYiUAAAAAAAFiIQAAAAAAAWIhAAAAAAABYiEAAAAAAAFiIQAAAAAAAWIhAAAAAAABYiEAAAAAAAFiIQAAAAAAAWIhAAAAAAABYiEAAAAAAAFiIQAAAAAAAWIhAAAAAAABYiEAAAAAAAFiIQAAAAAAAWIhAAAAAAABYiEAAAAAAAFiIQAAAAAAAWIhAAAAAAABYiEAAAAAAAPiIQAAAAAAA+IhAAAAAAAD4iEAAAAAAAPiIQAAAAAAA+IhAAAAAAAD4iEAAAAAAAPiIQAAAAAAA+IhAAAAAAAD4iEAAAAAAAPiIQAAAAAAA+IhAAAAAAAD4iEAAAAAAAPiIQAAAAAAA+IhAAAAAAAD4iEAAAAAAAPiIQAAAAAAA+IhAAAAAAAD4iEAAAAAAAPiIQAAAAAAA+IhAAAAAAAD4iEAAAAAAAAiIQAAAAAAA6IlAAAAAAAAIiEAAAAAAAAiIQAAAAAAACIhAAAAAAAAIiEAAAAAAAAiIQAAAAAAACIhAAAAAAAAIiEAAAAAAAAiIQAAAAAAACIhAAAAAAAAIiEAAAAAAAAiIQAAAAAAACIhAAAAAAAAIiEAAAAAAAJiHQAAAAAAAmIdAAAAAAAC4h0AAAAAAAFiIQAAAAAAAWIhAAAAAAABYiEAAAAAAAFiIQAAAAAAAuIdAAAAAAAC4h0AAAAAAALiHQAAAAAAAuIdAAAAAAAC4h0AAAAAAALiHQAAAAAAAWIhAAAAAAABYiEAAAAAAAFiIQAAAAAAAWIhAAAAAAABYiEAAAAAAAFiIQAAAAAAAWIhAAAAAAAD4iEAAAAAAAAiIQAAAAAAACIhAAAAAAAAIiEAAAAAAAAiIQAAAAAAACIhAAAAAAAAIiEAAAAAAAAiIQAAAAAAACIhAAAAAAAAIiEAAAAAAAAiIQAAAAAAACIhAAAAAAAAIiEAAAAAAAAiIQAAAAAAAWIhAAAAAAABYiEAAAAAAAFiIQAAAAAAAWIhAAAAAAABYiEAAAAAAAAiIQAAAAAAACIhAAAAAAAAIiEAAAAAAAAiIQAAAAAAACIhAAAAAAAAIiEAAAAAAAAiIQAAAAAAAaIdAAAAAAABoh0AAAAAAAGiHQAAAAAAAeIZAAAAAAAB4hkAAAAAAAHiGQAAAAAAAeIZAAAAAAABoh0AAAAAAAGiHQAAAAAAAeIZAAAAAAAB4hkAAAAAAAGiHQAAAAAAAaIdAAAAAAABoh0AAAAAAAFiIQAAAAAAAWIhAAAAAAAAIiEAAAAAAAPiIQAAAAAAACIhAAAAAAAAIiEAAAAAAAAiIQAAAAAAACIhAAAAAAAAIiEAAAAAAAAiIQAAAAAAACIhAAAAAAAAIiEAAAAAAAAiIQAAAAAAACIhAAAAAAAAIiEAAAAAAAAiIQAAAAAAACIhAAAAAAABYiEAAAAAAAFiIQAAAAAAAWIhAAAAAAABYiEAAAAAAAFiIQAAAAAAAWIhAAAAAAABYiEAAAAAAAFiIQAAAAAAAaIdAAAAAAABoh0AAAAAAAGiHQAAAAAAAWIhAAAAAAABoh0AAAAAAAGiHQAAAAAAAaIdAAAAAAABoh0AAAAAAAGiHQAAAAAAAWIhAAAAAAABYiEAAAAAAAFiIQA==",
          "dtype": "f8"
         }
        },
        {
         "line": {
          "color": "royalblue",
          "dash": "dot"
         },
         "mode": "lines",
         "name": "Prezzo storico iPhone 15",
         "type": "scatter",
         "x": {
          "bdata": "AAABAAIAAwAEAAUABgAHAAgACQAKAAsADAANAA4ADwAQABEAEgATABQAFQAWABcAGAAZABoAGwAcAB0AHgAfACAAIQAiACMAJAAlACYAJwAoACkAKgArACwALQAuAC8AMAAxADIAMwA0ADUANgA3ADgAOQA6ADsAPAA9AD4APwBAAEEAQgBDAEQARQBGAEcASABJAEoATABNAE4ATwBQAFEAUgBTAFQAVQBWAFcAWABZAFoAWwBcAF0AXgBfAGAAYQBiAGMAZABlAGYAZwBoAGkAagBrAGwAbQBuAG8AcABxAHIAcwB0AHUAdQB2AHcAeAB5AHoAewB8AH0AfgB/AIAAgQCCAIMAhACFAIYAhwCIAIkAigCLAIwAjQCOAI8AkACRAJIAkwCUAJUAlgCXAJgAmQCaAJsAnACdAJ4AnwCgAKEAogCjAKQApQCmAKcAqACpAKoAqwCsAK0ArgCvALAAsQCyALMAtAC1ALYAtwC4ALkAugC7ALwAvQC+AL8AwADBAMIAwwDEAMUAxgDHAMgAyQDKAMsAzADNAM4AzwDQANEA0gDTANQA1QDWANcA2ADZANoA2wDcAN0A3gDfAOAA4QDiAOMA5ADlAOYA5wDoAOkA6gDrAOwA7QDuAO8A8ADyAPMA9AD1APYA9wD4APkA+gD7APwA/QD+AP8AAAEBAQIBAwEEAQQBBwEIAQkBCgELAQwBDQEOAQ8BEAERARIBEwEUARUBFgEXARgBGQEaARsBHAEdAR4BHwEgASEBIgEjASQBJQEmAScBKAEpASoBKwEsAS0BLgEvATABMQEyATMBNAE1ATYBNwE4ATkBOgE7ATwBPQE+AT8BQAFBAUIBQwFEAUUBRgFHAUgBSQFKAUsBTAFNAU4BTwFQAVEBUgFTAVQBVQFWAVcBWAFZAVoBWwFcAV0BXgFfAWABYQFiAWMBZAFlAWYBZwFoAWkBagFrAWwBbQFuAW8BcAFxAXIBcwF0AXUBdgF3AXgBeQF6AXsBfAF9AX4BfwGAAYEBggGDAYQBhQGGAYcBiAGJAYoBiwGMAY0BjgGPAZABkQGSAZMBlAGVAZYBlwGYAZkBmgGbAZwBnQGeAZ8BoAGhAaIBowGkAaUBpgGnAagBqQGqAasBrAGtAQ==",
          "dtype": "i2"
         },
         "y": {
          "bdata": "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",
          "dtype": "f8"
         }
        },
        {
         "line": {
          "color": "magenta",
          "dash": "dash"
         },
         "mode": "lines",
         "name": "Forecast 90 giorni",
         "type": "scatter",
         "x": {
          "bdata": "UgFTAVQBVQFWAVcBWAFZAVoBWwFcAV0BXgFfAWABYQFiAWMBZAFlAWYBZwFoAWkBagFrAWwBbQFuAW8BcAFxAXIBcwF0AXUBdgF3AXgBeQF6AXsBfAF9AX4BfwGAAYEBggGDAYQBhQGGAYcBiAGJAYoBiwGMAY0BjgGPAZABkQGSAZMBlAGVAZYBlwGYAZkBmgGbAZwBnQGeAZ8BoAGhAaIBowGkAaUBpgGnAagBqQGqAasB",
          "dtype": "i2"
         },
         "y": {
          "bdata": "dKlCGGZAiECk+nqIrDGIQA+qarF8KIhAFuCWX8EiiEAs95boLR+IQJcLWr/yHIhAhqIBZo4biECG20ESsBqIQKmOXFwlGohA/k2j0c4ZiECoXT7TmBmIQJ66aSN3GYhAMhr7HmIZiED8OB0CVRmIQKZtwdNMGYhAnlIUuUcZiEAFJ9eJRBmIQP/nNY1CGYhA7f3fT0EZiEDVbeOJQBmIQBwwXQ5AGYhAoPtLwT8ZiEBi4DaRPxmIQMEwN3M/GYhAENB/YD8ZiEBwddJUPxmIQHNkiU0/GYhAssX9SD8ZiEBQySdGPxmIQH3XYkQ/GYhAkj9IQz8ZiED/75dCPxmIQMnvKUI/GYhAjU7lQT8ZiEAOfbpBPxmIQCbGn0E/GYhAVhuPQT8ZiEBCtYRBPxmIQGE4fkE/GYhAJyx6QT8ZiECmpXdBPxmIQEsSdkE/GYhAoxZ1QT8ZiECheXRBPxmIQKwXdEE/GYhAjtpzQT8ZiEBttHNBPxmIQKOcc0E/GYhAy41zQT8ZiECIhHNBPxmIQMF+c0E/GYhAJntzQT8ZiEDmeHNBPxmIQH93c0E/GYhAn3ZzQT8ZiEATdnNBPxmIQLx1c0E/GYhAhnVzQT8ZiEBkdXNBPxmIQE91c0E/GYhAQnVzQT8ZiEA6dXNBPxmIQDV1c0E/GYhAMnVzQT8ZiEAwdXNBPxmIQC91c0E/GYhALnVzQT8ZiEAudXNBPxmIQC51c0E/GYhALnVzQT8ZiEAudXNBPxmIQC51c0E/GYhALnVzQT8ZiEAudXNBPxmIQC51c0E/GYhALnVzQT8ZiEAudXNBPxmIQC51c0E/GYhALnVzQT8ZiEAudXNBPxmIQC51c0E/GYhALnVzQT8ZiEAudXNBPxmIQC51c0E/GYhALnVzQT8ZiEAudXNBPxmIQC51c0E/GYhALnVzQT8ZiEAudXNBPxmIQC51c0E/GYhA",
          "dtype": "f8"
         }
        },
        {
         "fill": "toself",
         "fillcolor": "rgba(255, 182, 193, 0.3)",
         "hoverinfo": "skip",
         "line": {
          "color": "rgba(255,255,255,0)"
         },
         "name": "95% Intervallo Confidenza",
         "showlegend": true,
         "type": "scatter",
         "x": {
          "bdata": "UgFTAVQBVQFWAVcBWAFZAVoBWwFcAV0BXgFfAWABYQFiAWMBZAFlAWYBZwFoAWkBagFrAWwBbQFuAW8BcAFxAXIBcwF0AXUBdgF3AXgBeQF6AXsBfAF9AX4BfwGAAYEBggGDAYQBhQGGAYcBiAGJAYoBiwGMAY0BjgGPAZABkQGSAZMBlAGVAZYBlwGYAZkBmgGbAZwBnQGeAZ8BoAGhAaIBowGkAaUBpgGnAagBqQGqAasBqwGqAakBqAGnAaYBpQGkAaMBogGhAaABnwGeAZ0BnAGbAZoBmQGYAZcBlgGVAZQBkwGSAZEBkAGPAY4BjQGMAYsBigGJAYgBhwGGAYUBhAGDAYIBgQGAAX8BfgF9AXwBewF6AXkBeAF3AXYBdQF0AXMBcgFxAXABbwFuAW0BbAFrAWoBaQFoAWcBZgFlAWQBYwFiAWEBYAFfAV4BXQFcAVsBWgFZAVgBVwFWAVUBVAFTAVIB",
          "dtype": "i2"
         },
         "y": {
          "bdata": "3urgVO1sh0CJoGe1WyGHQNTRRBEv84ZAiNcU0szShkAkFDYw8rmGQO5xlZeJpYZAVe1YdOaThkCz3WuiEoSGQGBHXll7dYZAAAufhMZnhkCQGbxwu1qGQHvJLoE1ToZAFaVhZxxChkCK+Il8XzaGQHY4uPDyKoZA34kIEc4fhkAD5/416hSGQLTSMxhCCoZAY8nDY9H/hUDY1IlylPWFQOJChR6I64VAmuZvo6nhhUCudfmJ9teFQJQqNplszoVArR4ZzAnFhUDwrJ5JzLuFQLqeyV6ysoVAvLzkebqphUCc1qsm46CFQCSaHgsrmIVAOYXT5JCPhUADG66GE4eFQFvs49axfoVAp5dBzWp2hUC8qaRxPW6FQLLjodooZoVA3z9RLCxehUCKZDqXRlaFQOouXVd3ToVAacBSs71GhUCdDIT7GD+FQOxbc4mIN4VAqJUWvwswhUDhcUAGoiiFQGjzFtBKIYVAbcCVlAUahUB9HRvS0RKFQGt1/gyvC4VA13kvz5wEhUCbBN2nmv2EQA37Iiuo9oRAe4m+8cTvhEAAIMiY8OiEQByqcsEq4oRAvYjPEHPbhEAd45YvydSEQM/t88kszoRAHtFUj53HhECn4D0yG8GEQJXdH2iluoRA5AMx6Tu0hEADqUhw3q2EQJs3vbqMp4RAJllEiEahhEA+ItWaC5uEQHoajLbblIRAH/yQobaOhEAeC/4jnIiEQIXlyAeMgoRAO7KsGIZ8hEAWlRUkinaEQGFRDfmXcIRA3gUpaK9qhED87ndD0GSEQHYdc176XoRAEBHujS1ZhEBaKAioaVOEQI7XHoSuTYRAupnA+vtHhEBKkKDlUUKEQP7Fih+wPIRAFAtZhBY3hEA7YejwhDGEQJDuDkP7K4RAcm+SWXkmhECuHx8U/yCEQPITP1OMG4RA9vxR+CAWhEBHToXlvBCEQALDzP1fC4RAWicahR4njEAVnGGdwSGMQGbtlIpdHIxAatanL/IWjECuysdufxGMQOp6VCkFDIxAzPvXP4MGjEAhif6R+QCMQEjfjf5n+4tAXiRcY871i0ASWkadLPCLQKJQJoiC6otAzhLI/s/ki0ACwt7aFN+LQEzZ+PRQ2YtA5sxzJITTi0Bg+24/rs2LQH7kvRrPx4tA+5jZiebBi0BGVdFe9LuLQCE4Omr4tYtA1wQee/Kvi0A+3+he4qmLQD3uVeHHo4tA5M9azKKdi0AiyBHocpeLQD6Rovo3kYtAz7IpyPGKi0BxQZ4SoISLQKDmtZlCfotACQ3HGtl3i0AhCqlQY3GLQO4ZkvPgaotAqf3yuFFki0AJCVBTtV2LQIFkF3ILV4tA4kR0wVNQi0DM0R7qjUmLQNFsKJG5QotAdQLEV9Y7i0B1BArb4zSLQL+ht7PhLYtA28Podc8mi0BdS8ywrB+LQK/0Ue54GItA8DvRsjMRi0Bhgah83AmLQJ6X08NyAotAqsh4+fX6ikCvPmuHZfOKQOWXoc/A64pA2EGfKwfkikD6Bc/rN9yKQM32zFZS1IpAmqidqFXMikBgUNARQcSKQHMFibYTvIpAN/NvrcyzikD7xIH+aquKQOv5vKHtoopA1hSnfVOaikAEvKNlm5GKQKjOFhjEiIpALCpJPMx/ikDwPQZgsnaKQHOB5vR0bYpA7jY4TRJkikAWS3SYiFqKQKYQKN/VUIpAVh01/vdGikDSBj2h7DyKQHcy/DuxMopASv03AkMoikAHZ6/dnh2KQF0bIGHBEopA1qLKtqYHikBuebCHSvyJQE+PlNan8IlAwaukxbjkiUDAocA1dtiJQPyQpx7Xy4lA8tVaX8++iUBZ2ReCTbGJQLdXqlc2o4lAQKUe51uUiUA02vegaYSJQKToGO21colASoKQUcpdiUC/VI5b/UGJQApopNveE4lA",
          "dtype": "f8"
         }
        }
       ],
       "layout": {
        "height": 500,
        "template": {
         "data": {
          "bar": [
           {
            "error_x": {
             "color": "#f2f5fa"
            },
            "error_y": {
             "color": "#f2f5fa"
            },
            "marker": {
             "line": {
              "color": "rgb(17,17,17)",
              "width": 0.5
             },
             "pattern": {
              "fillmode": "overlay",
              "size": 10,
              "solidity": 0.2
             }
            },
            "type": "bar"
           }
          ],
          "barpolar": [
           {
            "marker": {
             "line": {
              "color": "rgb(17,17,17)",
              "width": 0.5
             },
             "pattern": {
              "fillmode": "overlay",
              "size": 10,
              "solidity": 0.2
             }
            },
            "type": "barpolar"
           }
          ],
          "carpet": [
           {
            "aaxis": {
             "endlinecolor": "#A2B1C6",
             "gridcolor": "#506784",
             "linecolor": "#506784",
             "minorgridcolor": "#506784",
             "startlinecolor": "#A2B1C6"
            },
            "baxis": {
             "endlinecolor": "#A2B1C6",
             "gridcolor": "#506784",
             "linecolor": "#506784",
             "minorgridcolor": "#506784",
             "startlinecolor": "#A2B1C6"
            },
            "type": "carpet"
           }
          ],
          "choropleth": [
           {
            "colorbar": {
             "outlinewidth": 0,
             "ticks": ""
            },
            "type": "choropleth"
           }
          ],
          "contour": [
           {
            "colorbar": {
             "outlinewidth": 0,
             "ticks": ""
            },
            "colorscale": [
             [
              0,
              "#0d0887"
             ],
             [
              0.1111111111111111,
              "#46039f"
             ],
             [
              0.2222222222222222,
              "#7201a8"
             ],
             [
              0.3333333333333333,
              "#9c179e"
             ],
             [
              0.4444444444444444,
              "#bd3786"
             ],
             [
              0.5555555555555556,
              "#d8576b"
             ],
             [
              0.6666666666666666,
              "#ed7953"
             ],
             [
              0.7777777777777778,
              "#fb9f3a"
             ],
             [
              0.8888888888888888,
              "#fdca26"
             ],
             [
              1,
              "#f0f921"
             ]
            ],
            "type": "contour"
           }
          ],
          "contourcarpet": [
           {
            "colorbar": {
             "outlinewidth": 0,
             "ticks": ""
            },
            "type": "contourcarpet"
           }
          ],
          "heatmap": [
           {
            "colorbar": {
             "outlinewidth": 0,
             "ticks": ""
            },
            "colorscale": [
             [
              0,
              "#0d0887"
             ],
             [
              0.1111111111111111,
              "#46039f"
             ],
             [
              0.2222222222222222,
              "#7201a8"
             ],
             [
              0.3333333333333333,
              "#9c179e"
             ],
             [
              0.4444444444444444,
              "#bd3786"
             ],
             [
              0.5555555555555556,
              "#d8576b"
             ],
             [
              0.6666666666666666,
              "#ed7953"
             ],
             [
              0.7777777777777778,
              "#fb9f3a"
             ],
             [
              0.8888888888888888,
              "#fdca26"
             ],
             [
              1,
              "#f0f921"
             ]
            ],
            "type": "heatmap"
           }
          ],
          "histogram": [
           {
            "marker": {
             "pattern": {
              "fillmode": "overlay",
              "size": 10,
              "solidity": 0.2
             }
            },
            "type": "histogram"
           }
          ],
          "histogram2d": [
           {
            "colorbar": {
             "outlinewidth": 0,
             "ticks": ""
            },
            "colorscale": [
             [
              0,
              "#0d0887"
             ],
             [
              0.1111111111111111,
              "#46039f"
             ],
             [
              0.2222222222222222,
              "#7201a8"
             ],
             [
              0.3333333333333333,
              "#9c179e"
             ],
             [
              0.4444444444444444,
              "#bd3786"
             ],
             [
              0.5555555555555556,
              "#d8576b"
             ],
             [
              0.6666666666666666,
              "#ed7953"
             ],
             [
              0.7777777777777778,
              "#fb9f3a"
             ],
             [
              0.8888888888888888,
              "#fdca26"
             ],
             [
              1,
              "#f0f921"
             ]
            ],
            "type": "histogram2d"
           }
          ],
          "histogram2dcontour": [
           {
            "colorbar": {
             "outlinewidth": 0,
             "ticks": ""
            },
            "colorscale": [
             [
              0,
              "#0d0887"
             ],
             [
              0.1111111111111111,
              "#46039f"
             ],
             [
              0.2222222222222222,
              "#7201a8"
             ],
             [
              0.3333333333333333,
              "#9c179e"
             ],
             [
              0.4444444444444444,
              "#bd3786"
             ],
             [
              0.5555555555555556,
              "#d8576b"
             ],
             [
              0.6666666666666666,
              "#ed7953"
             ],
             [
              0.7777777777777778,
              "#fb9f3a"
             ],
             [
              0.8888888888888888,
              "#fdca26"
             ],
             [
              1,
              "#f0f921"
             ]
            ],
            "type": "histogram2dcontour"
           }
          ],
          "mesh3d": [
           {
            "colorbar": {
             "outlinewidth": 0,
             "ticks": ""
            },
            "type": "mesh3d"
           }
          ],
          "parcoords": [
           {
            "line": {
             "colorbar": {
              "outlinewidth": 0,
              "ticks": ""
             }
            },
            "type": "parcoords"
           }
          ],
          "pie": [
           {
            "automargin": true,
            "type": "pie"
           }
          ],
          "scatter": [
           {
            "marker": {
             "line": {
              "color": "#283442"
             }
            },
            "type": "scatter"
           }
          ],
          "scatter3d": [
           {
            "line": {
             "colorbar": {
              "outlinewidth": 0,
              "ticks": ""
             }
            },
            "marker": {
             "colorbar": {
              "outlinewidth": 0,
              "ticks": ""
             }
            },
            "type": "scatter3d"
           }
          ],
          "scattercarpet": [
           {
            "marker": {
             "colorbar": {
              "outlinewidth": 0,
              "ticks": ""
             }
            },
            "type": "scattercarpet"
           }
          ],
          "scattergeo": [
           {
            "marker": {
             "colorbar": {
              "outlinewidth": 0,
              "ticks": ""
             }
            },
            "type": "scattergeo"
           }
          ],
          "scattergl": [
           {
            "marker": {
             "line": {
              "color": "#283442"
             }
            },
            "type": "scattergl"
           }
          ],
          "scattermap": [
           {
            "marker": {
             "colorbar": {
              "outlinewidth": 0,
              "ticks": ""
             }
            },
            "type": "scattermap"
           }
          ],
          "scattermapbox": [
           {
            "marker": {
             "colorbar": {
              "outlinewidth": 0,
              "ticks": ""
             }
            },
            "type": "scattermapbox"
           }
          ],
          "scatterpolar": [
           {
            "marker": {
             "colorbar": {
              "outlinewidth": 0,
              "ticks": ""
             }
            },
            "type": "scatterpolar"
           }
          ],
          "scatterpolargl": [
           {
            "marker": {
             "colorbar": {
              "outlinewidth": 0,
              "ticks": ""
             }
            },
            "type": "scatterpolargl"
           }
          ],
          "scatterternary": [
           {
            "marker": {
             "colorbar": {
              "outlinewidth": 0,
              "ticks": ""
             }
            },
            "type": "scatterternary"
           }
          ],
          "surface": [
           {
            "colorbar": {
             "outlinewidth": 0,
             "ticks": ""
            },
            "colorscale": [
             [
              0,
              "#0d0887"
             ],
             [
              0.1111111111111111,
              "#46039f"
             ],
             [
              0.2222222222222222,
              "#7201a8"
             ],
             [
              0.3333333333333333,
              "#9c179e"
             ],
             [
              0.4444444444444444,
              "#bd3786"
             ],
             [
              0.5555555555555556,
              "#d8576b"
             ],
             [
              0.6666666666666666,
              "#ed7953"
             ],
             [
              0.7777777777777778,
              "#fb9f3a"
             ],
             [
              0.8888888888888888,
              "#fdca26"
             ],
             [
              1,
              "#f0f921"
             ]
            ],
            "type": "surface"
           }
          ],
          "table": [
           {
            "cells": {
             "fill": {
              "color": "#506784"
             },
             "line": {
              "color": "rgb(17,17,17)"
             }
            },
            "header": {
             "fill": {
              "color": "#2a3f5f"
             },
             "line": {
              "color": "rgb(17,17,17)"
             }
            },
            "type": "table"
           }
          ]
         },
         "layout": {
          "annotationdefaults": {
           "arrowcolor": "#f2f5fa",
           "arrowhead": 0,
           "arrowwidth": 1
          },
          "autotypenumbers": "strict",
          "coloraxis": {
           "colorbar": {
            "outlinewidth": 0,
            "ticks": ""
           }
          },
          "colorscale": {
           "diverging": [
            [
             0,
             "#8e0152"
            ],
            [
             0.1,
             "#c51b7d"
            ],
            [
             0.2,
             "#de77ae"
            ],
            [
             0.3,
             "#f1b6da"
            ],
            [
             0.4,
             "#fde0ef"
            ],
            [
             0.5,
             "#f7f7f7"
            ],
            [
             0.6,
             "#e6f5d0"
            ],
            [
             0.7,
             "#b8e186"
            ],
            [
             0.8,
             "#7fbc41"
            ],
            [
             0.9,
             "#4d9221"
            ],
            [
             1,
             "#276419"
            ]
           ],
           "sequential": [
            [
             0,
             "#0d0887"
            ],
            [
             0.1111111111111111,
             "#46039f"
            ],
            [
             0.2222222222222222,
             "#7201a8"
            ],
            [
             0.3333333333333333,
             "#9c179e"
            ],
            [
             0.4444444444444444,
             "#bd3786"
            ],
            [
             0.5555555555555556,
             "#d8576b"
            ],
            [
             0.6666666666666666,
             "#ed7953"
            ],
            [
             0.7777777777777778,
             "#fb9f3a"
            ],
            [
             0.8888888888888888,
             "#fdca26"
            ],
            [
             1,
             "#f0f921"
            ]
           ],
           "sequentialminus": [
            [
             0,
             "#0d0887"
            ],
            [
             0.1111111111111111,
             "#46039f"
            ],
            [
             0.2222222222222222,
             "#7201a8"
            ],
            [
             0.3333333333333333,
             "#9c179e"
            ],
            [
             0.4444444444444444,
             "#bd3786"
            ],
            [
             0.5555555555555556,
             "#d8576b"
            ],
            [
             0.6666666666666666,
             "#ed7953"
            ],
            [
             0.7777777777777778,
             "#fb9f3a"
            ],
            [
             0.8888888888888888,
             "#fdca26"
            ],
            [
             1,
             "#f0f921"
            ]
           ]
          },
          "colorway": [
           "#636efa",
           "#EF553B",
           "#00cc96",
           "#ab63fa",
           "#FFA15A",
           "#19d3f3",
           "#FF6692",
           "#B6E880",
           "#FF97FF",
           "#FECB52"
          ],
          "font": {
           "color": "#f2f5fa"
          },
          "geo": {
           "bgcolor": "rgb(17,17,17)",
           "lakecolor": "rgb(17,17,17)",
           "landcolor": "rgb(17,17,17)",
           "showlakes": true,
           "showland": true,
           "subunitcolor": "#506784"
          },
          "hoverlabel": {
           "align": "left"
          },
          "hovermode": "closest",
          "mapbox": {
           "style": "dark"
          },
          "paper_bgcolor": "rgb(17,17,17)",
          "plot_bgcolor": "rgb(17,17,17)",
          "polar": {
           "angularaxis": {
            "gridcolor": "#506784",
            "linecolor": "#506784",
            "ticks": ""
           },
           "bgcolor": "rgb(17,17,17)",
           "radialaxis": {
            "gridcolor": "#506784",
            "linecolor": "#506784",
            "ticks": ""
           }
          },
          "scene": {
           "xaxis": {
            "backgroundcolor": "rgb(17,17,17)",
            "gridcolor": "#506784",
            "gridwidth": 2,
            "linecolor": "#506784",
            "showbackground": true,
            "ticks": "",
            "zerolinecolor": "#C8D4E3"
           },
           "yaxis": {
            "backgroundcolor": "rgb(17,17,17)",
            "gridcolor": "#506784",
            "gridwidth": 2,
            "linecolor": "#506784",
            "showbackground": true,
            "ticks": "",
            "zerolinecolor": "#C8D4E3"
           },
           "zaxis": {
            "backgroundcolor": "rgb(17,17,17)",
            "gridcolor": "#506784",
            "gridwidth": 2,
            "linecolor": "#506784",
            "showbackground": true,
            "ticks": "",
            "zerolinecolor": "#C8D4E3"
           }
          },
          "shapedefaults": {
           "line": {
            "color": "#f2f5fa"
           }
          },
          "sliderdefaults": {
           "bgcolor": "#C8D4E3",
           "bordercolor": "rgb(17,17,17)",
           "borderwidth": 1,
           "tickwidth": 0
          },
          "ternary": {
           "aaxis": {
            "gridcolor": "#506784",
            "linecolor": "#506784",
            "ticks": ""
           },
           "baxis": {
            "gridcolor": "#506784",
            "linecolor": "#506784",
            "ticks": ""
           },
           "bgcolor": "rgb(17,17,17)",
           "caxis": {
            "gridcolor": "#506784",
            "linecolor": "#506784",
            "ticks": ""
           }
          },
          "title": {
           "x": 0.05
          },
          "updatemenudefaults": {
           "bgcolor": "#506784",
           "borderwidth": 0
          },
          "xaxis": {
           "automargin": true,
           "gridcolor": "#283442",
           "linecolor": "#506784",
           "ticks": "",
           "title": {
            "standoff": 15
           },
           "zerolinecolor": "#283442",
           "zerolinewidth": 2
          },
          "yaxis": {
           "automargin": true,
           "gridcolor": "#283442",
           "linecolor": "#506784",
           "ticks": "",
           "title": {
            "standoff": 15
           },
           "zerolinecolor": "#283442",
           "zerolinewidth": 2
          }
         }
        },
        "title": {
         "text": "Previsione iPhone 16 con banda di confidenza"
        },
        "width": 1000,
        "xaxis": {
         "title": {
          "text": "Giorni dal lancio"
         }
        },
        "yaxis": {
         "title": {
          "text": "Prezzo (€)"
         }
        }
       }
      }
     },
     "metadata": {},
     "output_type": "display_data"
    }
   ],
   "source": [
    "forecast_index = np.arange(len(endog), len(endog) + future_steps)\n",
    "days_iphone15 = df15['Giorni_dal_lancio'][:len(endog)+future_steps]\n",
    "fig = go.Figure()\n",
    "\n",
    "fig.add_trace(go.Scatter(x=endog.index, y=endog, mode='lines', \n",
    "                         name='Prezzo storico iPhone 16', line=dict(color='cyan')))\n",
    "\n",
    "fig.add_trace(go.Scatter(x=days_iphone15, y=df15['Prezzo'][:len(endog)+future_steps], mode='lines', \n",
    "                         name='Prezzo storico iPhone 15', line=dict(color='royalblue', dash='dot')))\n",
    "\n",
    "fig.add_trace(go.Scatter(x=forecast_index, y=mean_forecast, mode='lines', \n",
    "                         name='Forecast 90 giorni', line=dict(color='magenta', dash='dash')))\n",
    "\n",
    "fig.add_trace(go.Scatter(x=np.concatenate([forecast_index, forecast_index[::-1]]), y=np.concatenate([conf_int.iloc[:, 0], conf_int.iloc[:, 1][::-1]]), \n",
    "                         fill='toself', fillcolor='rgba(255, 182, 193, 0.3)', line=dict(color='rgba(255,255,255,0)'), \n",
    "                         hoverinfo=\"skip\", showlegend=True, name='95% Intervallo Confidenza'))\n",
    "\n",
    "fig.update_layout(title='Previsione iPhone 16 con banda di confidenza', xaxis_title='Giorni dal lancio', yaxis_title='Prezzo (€)', \n",
    "                  template='plotly_dark', width=1000, height=500)\n",
    "\n",
    "fig.show()"
   ]
  },
  {
   "cell_type": "code",
   "execution_count": 25,
   "id": "844777f1",
   "metadata": {},
   "outputs": [
    {
     "name": "stdout",
     "output_type": "stream",
     "text": [
      "Il primo valore predetto di forecast_exog è: 647.6657\n",
      "\n",
      "Il primo valore forecast_exog non è uguale al 280º valore di Prezzo iPhone 15:\n",
      " - 280° valore di Prezzo iPhone 15: 779.0000\n",
      " - Con una differenza di: 131.33427990806422\n",
      " \n",
      " - Forecast exog corretto:\n",
      "Giorno  Prezzo(€)\n",
      "703    779.658309\n",
      "704    779.000000\n",
      "705    781.939399\n",
      "Name: predicted_mean, dtype: float64\n"
     ]
    }
   ],
   "source": [
    "# Modello SARIMA sul regressore esterno (iPhone 15) ---\n",
    "# Esempio: stagionalità annuale di 365 giorni o mensile di 30, dipende dai dati!\n",
    "# Se hai giornaliero, una stagionalità di 30 può avere senso per pattern mensili.\n",
    "future_steps = 180\n",
    "order_exog = (1, 1, 1)\n",
    "seasonal_order = (1, 1, 1, 30)  # Esempio stagionalità mensile\n",
    "\n",
    "model_exog = SARIMAX(df15['Prezzo'], order=order_exog, seasonal_order=seasonal_order)\n",
    "fit_exog = model_exog.fit(disp=False)\n",
    "forecast_exog = fit_exog.forecast(steps=future_steps) #forecast del regressore esterno: iPhone 15\n",
    "\n",
    "# combina exog previsto nel SARIMAX del 16\n",
    "sarimax_final = SARIMAX(endog, exog=exog, order=order, seasonal_order=seasonal_order)\n",
    "#exog=df15['Prezzo'][:len(endog)],  # solo parte storica per il fit\n",
    "fit_final = sarimax_final.fit(disp=False)\n",
    "\n",
    "sarimax_forecast = fit_final.get_forecast(steps=future_steps, exog=forecast_exog)\n",
    "mean_forecast = sarimax_forecast.predicted_mean\n",
    "conf_int = sarimax_forecast.conf_int()\n",
    "\n",
    "# calcolo offset tra forecast e ultimo valore storico\n",
    "primo_forecast = forecast_exog.iloc[1]\n",
    "print(f\"Il primo valore predetto di forecast_exog è: {primo_forecast:.4f}\")\n",
    "\n",
    "valore_280 = df15['Prezzo'].iloc[279]\n",
    "if primo_forecast != valore_280:\n",
    "    print(\"\\nIl primo valore forecast_exog non è uguale al 280º valore di Prezzo iPhone 15:\")\n",
    "    print(f\" - 280° valore di Prezzo iPhone 15: {valore_280:.4f}\")\n",
    "    offset = valore_280 - primo_forecast\n",
    "    print(\" - Con una differenza di:\", offset)\n",
    "    forecast_exog_corrected = forecast_exog + offset  # Correzzione del forecast aggiungendo l'offset\n",
    "    print(\" \\n - Forecast exog corretto:\")\n",
    "    print(\"Giorno  Prezzo(€)\")\n",
    "    print(forecast_exog_corrected.head(3))\n",
    "else:\n",
    "    print(\"Il primo valore forecast_exog coincide con il valore storico, nessuna correzione necessaria.\")\n"
   ]
  },
  {
   "cell_type": "code",
   "execution_count": 26,
   "id": "3ce14702",
   "metadata": {},
   "outputs": [
    {
     "data": {
      "application/vnd.plotly.v1+json": {
       "config": {
        "plotlyServerURL": "https://plot.ly"
       },
       "data": [
        {
         "line": {
          "color": "cyan",
          "width": 2
         },
         "mode": "lines",
         "name": "Prezzo storico iPhone 16",
         "type": "scatter",
         "x": {
          "bdata": "AAABAAIAAwAEAAUABgAHAAgACQAKAAsADAANAA4ADwAQABEAEgATABQAFQAWABcAGAAZABoAGwAcAB0AHgAfACAAIQAiACMAJAAlACYAJwAoACkAKgArACwALQAuAC8AMAAxADIAMwA0ADUANgA3ADgAOQA6ADsAPAA9AD4APwBAAEEAQgBDAEQARQBGAEcASABJAEoASwBMAE0ATgBPAFAAUQBSAFMAVABVAFYAVwBYAFkAWgBbAFwAXQBeAF8AYABhAGIAYwBkAGUAZgBnAGgAaQBqAGsAbABtAG4AbwBwAHEAcgBzAHQAdQB2AHcAeAB5AHoAewB8AH0AfgB/AIAAgQCCAIMAhACFAIYAhwCIAIkAigCLAIwAjQCOAI8AkACRAJIAkwCUAJUAlgCXAJgAmQCaAJsAnACdAJ4AnwCgAKEAogCjAKQApQCmAKcAqACpAKoAqwCsAK0ArgCvALAAsQCyALMAtAC1ALYAtwC4ALkAugC7ALwAvQC+AL8AwADBAMIAwwDEAMUAxgDHAMgAyQDKAMsAzADNAM4AzwDQANEA0gDTANQA1QDWANcA2ADZANoA2wDcAN0A3gDfAOAA4QDiAOMA5ADlAOYA5wDoAOkA6gDrAOwA7QDuAO8A8ADxAPIA8wD0APUA9gD3APgA+QD6APsA/AD9AP4A/wAAAQEBAgEDAQQBBQEGAQcBCAEJAQoBCwEMAQ0BDgEPARABEQESARMBFAEVARYBFwEYARkBGgEbARwBHQEeAR8BIAEhASIBIwEkASUBJgEnASgBKQEqASsBLAEtAS4BLwEwATEBMgEzATQBNQE2ATcBOAE5AToBOwE8AT0BPgE/AUABQQFCAUMBRAFFAUYBRwFIAUkBSgFLAUwBTQFOAU8BUAFRAQ==",
          "dtype": "i2"
         },
         "y": {
          "bdata": "AAAAAACYjkAAAAAAAJiOQAAAAAAAmI5AAAAAAACYjkAAAAAAAJiOQAAAAAAAmI5AAAAAAACYjkAAAAAAAJiOQAAAAAAAmI5AAAAAAACYjkAAAAAAAJiOQAAAAAAAmI5AAAAAAACYjkAAAAAAAJiOQAAAAAAAmI5AAAAAAACYjkAAAAAAAJiOQAAAAAAAmI5AAAAAAACYjkAAAAAAAJiOQAAAAAAAmI5AAAAAAACYjkAAAAAAAJiOQAAAAAAAmI5AAAAAAACYjkAAAAAAAJiOQAAAAAAAmI5AAAAAAACYjkAAAAAAAJiOQAAAAAAAmI5AAAAAAACYjkAAAAAAAJiOQAAAAAAAmI5AAAAAAACYjkAAAAAAAJiOQAAAAAAAmI5AAAAAAACYjkAAAAAAAJiOQAAAAAAAmI5AAAAAAACYjkAAAAAAAJiOQAAAAAAAmI5AAAAAAACYjkAAAAAAAJiOQAAAAAAAmI5AAAAAAACYjkAAAAAAAJiOQAAAAAAAmI5AAAAAAACYjkAAAAAAAJiOQAAAAAAAmI5AUrgehetvjUAAAAAAAFiNQAAAAAAAWI1AAAAAAABYjUAAAAAAAFiNQAAAAAAAWI1AAAAAAAAIjUAAAAAAAAiNQAAAAAAACI1AUrgehesvjEBSuB6F6y+MQFK4HoXrL4xAUrgehesvjEBSuB6F6y+MQFK4HoXrL4xAUrgehesvjEAAAAAAABiMQAAAAAAAGIxAAAAAAAAYjEAAAAAAABiMQAAAAAAAGIxAUrgehetPikBSuB6F60+KQFK4HoXrT4pAUrgehetPikAAAAAAADiKQAAAAAAAqI1AUrgehes/jEBSuB6F6z+MQAAAAAAAGIxAAAAAAAB4i0AAAAAAAHiLQAAAAAAAeItAAAAAAAB4i0AAAAAAAHiLQAAAAAAAeItAUrgehev/iUBSuB6F6/+JQFK4HoXr/4lAUrgehev/iUBSuB6F6/+JQFK4HoXr/4lAAAAAAAAYjEAAAAAAAHiLQFK4HoXr/4lAUrgehev/iUBSuB6F6weKQFK4HoXrB4pAUrgehesHikBSuB6F6weKQFK4HoXrB4pAUrgehesHikBSuB6F6/eMQFK4HoXr94xAUrgehev3jEBSuB6F6/eMQFK4HoXr94xAAAAAAAAYjEAAAAAAACiLQAAAAAAAKItAAAAAAAAoi0AAAAAAACiLQAAAAAAAKItAAAAAAAAoi0AAAAAAACiLQAAAAAAAKItAAAAAAAAoi0AAAAAAACiLQAAAAAAAKItAAAAAAAAoi0AAAAAAACiLQAAAAAAAKItAUrgeheufikBSuB6F65+KQFK4HoXrn4pAUrgeheufikBSuB6F65+KQFK4HoXrn4pAAAAAAACIikAAAAAAAIiKQAAAAAAAiIpAAAAAAACIikAAAAAAAIiKQAAAAAAAiIpAAAAAAACIikAAAAAAAIiKQAAAAAAAiIpAAAAAAACIikAAAAAAAIiKQAAAAAAAiIpAAAAAAACIikAAAAAAAIiKQFK4HoXrn4pAAAAAAACIikAAAAAAAIiKQAAAAAAAiIpAAAAAAACIikAAAAAAAIiKQAAAAAAAiIpAAAAAAACIikAAAAAAAIiKQAAAAAAAiIpAAAAAAACIikAAAAAAAIiKQAAAAAAAiIpAAAAAAACIikAAAAAAAIiKQAAAAAAAiIpAAAAAAACIikAAAAAAAIiKQAAAAAAAiIpAAAAAAACIikAAAAAAAIiKQAAAAAAA6IlAAAAAAADoiUAAAAAAAOiJQAAAAAAAiIpAAAAAAACIikAAAAAAAIiKQAAAAAAAiIpAAAAAAACIikAAAAAAAIiKQAAAAAAAiIpAAAAAAACIikAAAAAAAIiKQAAAAAAAiIpAAAAAAACIikAAAAAAAIiKQAAAAAAAiIpAAAAAAADoiUAAAAAAAOiJQAAAAAAA6IlAAAAAAADoiUAAAAAAAOiJQAAAAAAA6IlAAAAAAACYiUAAAAAAAFiIQAAAAAAAWIhAAAAAAABYiEAAAAAAAFiIQAAAAAAAWIhAAAAAAABYiEAAAAAAAFiIQAAAAAAAWIhAAAAAAABYiEAAAAAAAFiIQAAAAAAAWIhAAAAAAABYiEAAAAAAAFiIQAAAAAAAWIhAAAAAAABYiEAAAAAAAFiIQAAAAAAAWIhAAAAAAABYiEAAAAAAAPiIQAAAAAAA+IhAAAAAAAD4iEAAAAAAAPiIQAAAAAAA+IhAAAAAAAD4iEAAAAAAAPiIQAAAAAAA+IhAAAAAAAD4iEAAAAAAAPiIQAAAAAAA+IhAAAAAAAD4iEAAAAAAAPiIQAAAAAAA+IhAAAAAAAD4iEAAAAAAAPiIQAAAAAAA+IhAAAAAAAD4iEAAAAAAAPiIQAAAAAAA+IhAAAAAAAD4iEAAAAAAAAiIQAAAAAAA6IlAAAAAAAAIiEAAAAAAAAiIQAAAAAAACIhAAAAAAAAIiEAAAAAAAAiIQAAAAAAACIhAAAAAAAAIiEAAAAAAAAiIQAAAAAAACIhAAAAAAAAIiEAAAAAAAAiIQAAAAAAACIhAAAAAAAAIiEAAAAAAAJiHQAAAAAAAmIdAAAAAAAC4h0AAAAAAAFiIQAAAAAAAWIhAAAAAAABYiEAAAAAAAFiIQAAAAAAAuIdAAAAAAAC4h0AAAAAAALiHQAAAAAAAuIdAAAAAAAC4h0AAAAAAALiHQAAAAAAAWIhAAAAAAABYiEAAAAAAAFiIQAAAAAAAWIhAAAAAAABYiEAAAAAAAFiIQAAAAAAAWIhAAAAAAAD4iEAAAAAAAAiIQAAAAAAACIhAAAAAAAAIiEAAAAAAAAiIQAAAAAAACIhAAAAAAAAIiEAAAAAAAAiIQAAAAAAACIhAAAAAAAAIiEAAAAAAAAiIQAAAAAAACIhAAAAAAAAIiEAAAAAAAAiIQAAAAAAAWIhAAAAAAABYiEAAAAAAAFiIQAAAAAAAWIhAAAAAAABYiEAAAAAAAAiIQAAAAAAACIhAAAAAAAAIiEAAAAAAAAiIQAAAAAAACIhAAAAAAAAIiEAAAAAAAAiIQAAAAAAAaIdAAAAAAABoh0AAAAAAAGiHQAAAAAAAeIZAAAAAAAB4hkAAAAAAAHiGQAAAAAAAeIZAAAAAAABoh0AAAAAAAGiHQAAAAAAAeIZAAAAAAAB4hkAAAAAAAGiHQAAAAAAAaIdAAAAAAABoh0AAAAAAAFiIQAAAAAAAWIhAAAAAAAAIiEAAAAAAAPiIQAAAAAAACIhAAAAAAAAIiEAAAAAAAAiIQAAAAAAACIhAAAAAAAAIiEAAAAAAAAiIQAAAAAAACIhAAAAAAAAIiEAAAAAAAAiIQAAAAAAACIhAAAAAAAAIiEAAAAAAAAiIQAAAAAAACIhAAAAAAABYiEAAAAAAAFiIQAAAAAAAWIhAAAAAAABYiEAAAAAAAFiIQAAAAAAAWIhAAAAAAABYiEAAAAAAAFiIQAAAAAAAaIdAAAAAAABoh0AAAAAAAGiHQAAAAAAAWIhAAAAAAABoh0AAAAAAAGiHQAAAAAAAaIdAAAAAAABoh0AAAAAAAGiHQAAAAAAAWIhAAAAAAABYiEAAAAAAAFiIQA==",
          "dtype": "f8"
         }
        },
        {
         "line": {
          "color": "royalblue",
          "dash": "dot",
          "width": 2
         },
         "mode": "lines",
         "name": "Prezzo storico iPhone 15",
         "type": "scatter",
         "x": {
          "bdata": "AAABAAIAAwAEAAUABgAHAAgACQAKAAsADAANAA4ADwAQABEAEgATABQAFQAWABcAGAAZABoAGwAcAB0AHgAfACAAIQAiACMAJAAlACYAJwAoACkAKgArACwALQAuAC8AMAAxADIAMwA0ADUANgA3ADgAOQA6ADsAPAA9AD4APwBAAEEAQgBDAEQARQBGAEcASABJAEoATABNAE4ATwBQAFEAUgBTAFQAVQBWAFcAWABZAFoAWwBcAF0AXgBfAGAAYQBiAGMAZABlAGYAZwBoAGkAagBrAGwAbQBuAG8AcABxAHIAcwB0AHUAdQB2AHcAeAB5AHoAewB8AH0AfgB/AIAAgQCCAIMAhACFAIYAhwCIAIkAigCLAIwAjQCOAI8AkACRAJIAkwCUAJUAlgCXAJgAmQCaAJsAnACdAJ4AnwCgAKEAogCjAKQApQCmAKcAqACpAKoAqwCsAK0ArgCvALAAsQCyALMAtAC1ALYAtwC4ALkAugC7ALwAvQC+AL8AwADBAMIAwwDEAMUAxgDHAMgAyQDKAMsAzADNAM4AzwDQANEA0gDTANQA1QDWANcA2ADZANoA2wDcAN0A3gDfAOAA4QDiAOMA5ADlAOYA5wDoAOkA6gDrAOwA7QDuAO8A8ADyAPMA9AD1APYA9wD4APkA+gD7APwA/QD+AP8AAAEBAQIBAwEEAQQBBwEIAQkBCgELAQwBDQEOAQ8BEAERARIBEwEUARUBFgEXARgBGQEaARsBHAEdAR4BHwEgASEBIgEjASQBJQEmAScBKAEpASoBKwEsAS0BLgEvATABMQEyATMBNAE1ATYBNwE4ATkBOgE7ATwBPQE+AT8BQAFBAUIBQwFEAUUBRgFHAUgBSQFKAUsBTAFNAU4BTwFQAVEBUgFTAVQBVQFWAVcBWAFZAVoBWwFcAV0BXgFfAWABYQFiAWMBZAFlAWYBZwFoAWkBagFrAWwBbQFuAW8BcAFxAXIBcwF0AXUBdgF3AXgBeQF6AXsBfAF9AX4BfwGAAYEBggGDAYQBhQGGAYcBiAGJAYoBiwGMAY0BjgGPAZABkQGSAZMBlAGVAZYBlwGYAZkBmgGbAZwBnQGeAZ8BoAGhAaIBowGkAaUBpgGnAagBqQGqAasBrAGtAa4BrwGwAbEBsgGzAbQBtQG2AbcBuAG5AboBuwG8Ab0BvgG/AcABwQHCAcMBxAHFAcYBxwHIAckBygHLAcwBzQHOAc8B0AHRAdIB0wHUAdUB1gHXAdgB2QHaAdsB3AHdAd4B3wHgAeEB4gHjAeQB5QHmAecB6AHpAeoB6wHsAe0B7gHvAfAB8QHyAfMB9AH1AfYB9wH4AfkB+gH7AfwB/QH+Af8BAAIBAgICAwIEAgUCBgIHAg==",
          "dtype": "i2"
         },
         "y": {
          "bdata": "AAAAAACYjkAAAAAAAJiOQAAAAAAAmI5AAAAAAACYjkAAAAAAAJiOQAAAAAAAmI5AAAAAAACYjkAAAAAAAJiOQAAAAAAAmI5AAAAAAACYjkAAAAAAAJiOQAAAAAAAmI5AAAAAAACYjkAAAAAAAJiOQAAAAAAAmI5AAAAAAACYjkAAAAAAAJiOQAAAAAAAmI5AAAAAAACYjkAAAAAAAJiOQAAAAAAAmI5AAAAAAACYjkAAAAAAAJiOQAAAAAAAmI5AAAAAAACYjkAAAAAAAJiOQAAAAAAAmI5AAAAAAACYjkAAAAAAAJiOQAAAAAAAmI5AAAAAAACYjkAAAAAAAJiOQAAAAAAAmI5AAAAAAACYjkAAAAAAAJiOQAAAAAAAmI5AAAAAAACYjkAAAAAAAJiOQAAAAAAAmI5AAAAAAACYjkAAAAAAAJiOQAAAAAAAmI5AAAAAAACYjkAAAAAAAJiOQAAAAAAAmI5AAAAAAACYjkAAAAAAAAiNQAAAAAAACI1AAAAAAAAIjUAAAAAAAAiNQAAAAAAACI1AAAAAAAAIjUAAAAAAAAiNQAAAAAAACI1AAAAAAAAIjUAAAAAAAAiNQAAAAAAACI1AAAAAAAAIjUAAAAAAAAiNQAAAAAAAmI5AAAAAAACYjkAAAAAAAJiOQAAAAAAAGIxAAAAAAAAYjEAAAAAAABiMQAAAAAAAGIxAAAAAAAAYjEAAAAAAAJiOQAAAAAAAGIxAAAAAAAAYjEAAAAAAABiMQAAAAAAAGIxAAAAAAAAYjEAAAAAAABiMQAAAAAAAGIxAAAAAAACojUAAAAAAAKiNQAAAAAAAqI1AAAAAAACojUAAAAAAABiMQAAAAAAAGIxAAAAAAACYjkAAAAAAAHiLQAAAAAAAeItAAAAAAAB4i0AAAAAAAHiLQAAAAAAAOIpAAAAAAAB4i0AAAAAAADiKQAAAAAAAOIpAAAAAAAB4i0AAAAAAADiKQAAAAAAAGIxAAAAAAAAYjEAAAAAAABiMQAAAAAAAGIxAAAAAAAAYjEAAAAAAADiKQAAAAAAAGIxAAAAAAACYjkAAAAAAABiMQAAAAAAAGIxAAAAAAAAYjEAAAAAAABiMQAAAAAAAGIxAAAAAAAAYjEAAAAAAABiMQAAAAAAAGIxAAAAAAADYikAAAAAAANiKQAAAAAAA2IpAAAAAAADYikAAAAAAANiKQAAAAAAA2IpAAAAAAADYikAAAAAAANiKQAAAAAAA2IpAAAAAAACIikAAAAAAAIiKQAAAAAAAiIpAAAAAAACIikAAAAAAAIiKQAAAAAAAiIpAAAAAAACIikAAAAAAAHiLQAAAAAAAiIpAAAAAAACIikAAAAAAAIiKQAAAAAAAiIpAAAAAAACIikAAAAAAAIiKQAAAAAAAiIpAAAAAAACIikAAAAAAAIiKQAAAAAAAiIpAAAAAAACIikAAAAAAAIiKQAAAAAAAiIpAAAAAAACIikAAAAAAAIiKQAAAAAAAiIpAAAAAAACIikAAAAAAAIiKQAAAAAAAiIpAAAAAAACIikAAAAAAAIiKQAAAAAAAyIlAAAAAAADIiUAAAAAAAMiJQAAAAAAA6IlAAAAAAADoiUAAAAAAAOiJQAAAAAAA+IhAAAAAAAD4iEAAAAAAAPiIQAAAAAAA+IhAAAAAAAD4iEAAAAAAAPiIQAAAAAAA+IhAAAAAAAD4iEAAAAAAAPiIQAAAAAAA+IhAAAAAAAD4iEAAAAAAAPiIQAAAAAAA+IhAAAAAAAD4iEAAAAAAAPiIQAAAAAAA+IhAAAAAAAD4iEAAAAAAAPiIQAAAAAAA+IhAAAAAAAD4iEAAAAAAAJiJQAAAAAAAmIlAAAAAAACYiUAAAAAAAJiJQAAAAAAAmIlAAAAAAACYiUAzMzMzM/+IQDMzMzMz/4hAAAAAAAD4iEAAAAAAAPiIQAAAAAAA+IhAAAAAAAD4iEAAAAAAAPiIQAAAAAAA+IhAAAAAAAD4iEAAAAAAAPiIQAAAAAAA+IhAAAAAAAD4iEAAAAAAAPiIQAAAAAAA+IhAAAAAAAD4iEAAAAAAAPiIQAAAAAAA+IhAAAAAAAD4iEAAAAAAAPiIQAAAAAAA+IhAAAAAAAD4iEAAAAAAAPiIQAAAAAAA+IhAAAAAAAD4iEAAAAAAAPiIQAAAAAAA+IhAAAAAAAD4iEAAAAAAAPiIQAAAAAAA+IhAAAAAAAD4iEAAAAAAAFiIQAAAAAAAWIhAAAAAAABYiEAAAAAAAFiIQAAAAAAAWIhAAAAAAABYiEAAAAAAAFiIQFK4HoXrD4hAUrgehesPiEBSuB6F6w+IQFK4HoXrD4hAAAAAAABYiEAAAAAAAFiIQAAAAAAAWIhAAAAAAAAIiEAAAAAAAAiIQAAAAAAACIhAAAAAAAAIiEAAAAAAAAiIQAAAAAAACIhAAAAAAAAIiEAAAAAAAPiIQAAAAAAAWIhAAAAAAABYiEAAAAAAAFiIQAAAAAAAWIhAAAAAAABYiEAAAAAAAFiIQAAAAAAAWIhAAAAAAABYiEAAAAAAAFiIQAAAAAAAWIhAAAAAAABYiEAAAAAAAGiHQAAAAAAAWIhAAAAAAABYiEAAAAAAAFiIQAAAAAAAWIhAAAAAAABYiEAAAAAAAFiIQAAAAAAAWIhAAAAAAABoh0AAAAAAAGiHQAAAAAAAaIdAAAAAAABoh0AAAAAAAGiHQAAAAAAAaIdAAAAAAABoh0AAAAAAAGiHQAAAAAAAaIdAAAAAAABoh0AAAAAAAPiIQAAAAAAA+IhAAAAAAAC4h0AAAAAAAFiIQAAAAAAAWIhAAAAAAABYiEAAAAAAAFiIQAAAAAAAWIhAAAAAAABYiEAAAAAAAFiIQAAAAAAAWIhAAAAAAABYiEAAAAAAAFiIQAAAAAAAWIhAAAAAAABYiEAAAAAAAFiIQAAAAAAAWIhAAAAAAABYiEAAAAAAAFiIQAAAAAAAWIhAAAAAAABYiEAAAAAAAFiIQAAAAAAAWIhAAAAAAABYiEAAAAAAAFiIQAAAAAAAWIhAAAAAAABYiEAAAAAAAFiIQAAAAAAAWIhAAAAAAABYiEAAAAAAAFiIQAAAAAAAWIhAAAAAAACYiUAAAAAAAGiHQAAAAAAAaIdAAAAAAABoh0AAAAAAAGiHQAAAAAAAaIdAAAAAAABoh0AAAAAAAGiHQAAAAAAAaIdAAAAAAABoh0AAAAAAAGiHQAAAAAAAaIdAAAAAAABoh0AAAAAAAGiHQAAAAAAAaIdAAAAAAABoh0AAAAAAAGiHQAAAAAAACIhAAAAAAAAIiEAAAAAAAAiIQAAAAAAACIhAAAAAAAAIiEAAAAAAAAiIQAAAAAAACIhAAAAAAAAIiEAAAAAAAAiIQAAAAAAACIhAAAAAAAAIiEAAAAAAAAiIQAAAAAAACIhAAAAAAAAIiEAAAAAAAAiIQAAAAAAACIhAAAAAAAAIiEAAAAAAAAiIQAAAAAAACIhAAAAAAAAIiEAAAAAAAAiIQAAAAAAACIhAAAAAAAAIiEAAAAAAAAiIQAAAAAAACIhAAAAAAAAIiEAAAAAAAAiIQAAAAAAACIhAAAAAAAAIiEAAAAAAAAiIQAAAAAAACIhAAAAAAAAIiEAAAAAAAAiIQAAAAAAACIhAAAAAAAAIiEAAAAAAAAiIQAAAAAAACIhAAAAAAAAIiEAAAAAAAAiIQAAAAAAACIhAAAAAAAAIiEAAAAAAAAiIQAAAAAAACIhAAAAAAAAIiEAAAAAAAAiIQAAAAAAACIhAAAAAAAAIiEAAAAAAAAiIQAAAAAAACIhAAAAAAAAIiEAAAAAAAAiIQAAAAAAACIhAAAAAAACoiEAAAAAAAKiIQAAAAAAAqIhAAAAAAAC4h0AAAAAAALiHQAAAAAAAuIdAAAAAAAC4h0AAAAAAALiHQAAAAAAAuIdAAAAAAAC4h0AAAAAAALiHQAAAAAAAuIdAAAAAAAC4h0AAAAAAALiHQAAAAAAAuIdAAAAAAAAIiEAAAAAAAAiIQAAAAAAACIhAAAAAAAAIiEAAAAAAAAiIQAAAAAAAqIhAAAAAAACoiEAAAAAAAGiHQAAAAAAAeIZAAAAAAAB4hkAAAAAAAHiGQAAAAAAAeIZAAAAAAAB4hkAAAAAAAHiGQAAAAAAAeIZAAAAAAAB4hkAAAAAAAHiGQAAAAAAAeIZAAAAAAAB4hkAAAAAAAMiGQAAAAAAAyIZAAAAAAADIhkAAAAAAAMiGQAAAAAAAyIZAAAAAAAD4iEAAAAAAAAiIQAAAAAAACIhAAAAAAAAIiEAAAAAAAAiIQAAAAAAACIhAAAAAAAAIiEAAAAAAAAiIQAAAAAAACIhAAAAAAAAIiEAAAAAAAAiIQAAAAAAAaIdAAAAAAABoh0AAAAAAAGiHQAAAAAAAaIdAAAAAAABoh0AAAAAAAGiHQAAAAAAAaIdAAAAAAABoh0AAAAAAAGiHQAAAAAAAaIdAAAAAAABoh0AAAAAAAGiHQAAAAAAAaIdAUrgehevfhkBSuB6F6++FQFK4HoXr74VAUrgehevvhUBSuB6F6++FQFK4HoXr34ZAUrgehevfhkBSuB6F65+FQFK4HoXrn4VAUrgeheufhUBSuB6F65+FQFK4HoXrn4VAUrgeheufhUBSuB6F65+FQFK4HoXrn4VAUrgeheufhUBSuB6F65+FQFK4HoXrn4VAUrgeheufhUAAAAAAAGiHQAAAAAAAaIdAAAAAAABoh0AAAAAAANiFQFK4HoXr/4VAAAAAAADYhUAAAAAAANiFQAAAAAAA2IVAAAAAAADYhUBSuB6F6++FQAAAAAAA2IVAAAAAAADYhUAAAAAAANiFQAAAAAAAaIdAAAAAAABoh0BSuB6F69+GQFK4HoXr34ZAUrgehevfhkBSuB6F69+GQFK4HoXr34ZAUrgehevfhkBSuB6F69+GQFK4HoXr34ZAUrgehevfhkBSuB6F69+GQFK4HoXr34ZAUrgehevfhkBSuB6F69+GQFK4HoXr34ZAUrgehevfhkBSuB6F69+GQFK4HoXr34ZAUrgehevfhkBSuB6F69+GQFK4HoXr34ZAUrgehevfhkBSuB6F69+GQFK4HoXr34ZAUrgehevfhkBSuB6F69+GQFK4HoXr34ZAUrgehevfhkBSuB6F69+GQFK4HoXr34ZAUrgehevfhkBSuB6F69+GQFK4HoXr34ZAUrgehevfhkBSuB6F69+GQFK4HoXr34ZAUrgehevfhkBSuB6F69+GQAAAAAAA2IVAAAAAAADYhUAAAAAAANiFQFK4HoXr34ZAUrgehevfhkBSuB6F69+GQFK4HoXr34ZAUrgehevfhkAAAAAAANiFQAAAAAAA2IVAAAAAAADYhUAAAAAAANiFQAAAAAAAyIZAAAAAAABoh0BSuB6F6y+HQFK4HoXrL4dAUrgehesvh0BSuB6F6y+HQFK4HoXrL4dAUrgehesvh0AAAAAAABiHQAAAAAAAGIdAAAAAAABoh0AAAAAAAGiHQA==",
          "dtype": "f8"
         }
        },
        {
         "line": {
          "color": "magenta",
          "width": 2
         },
         "mode": "lines",
         "name": "Forecast iPhone 16",
         "type": "scatter",
         "x": {
          "bdata": "UgFTAVQBVQFWAVcBWAFZAVoBWwFcAV0BXgFfAWABYQFiAWMBZAFlAWYBZwFoAWkBagFrAWwBbQFuAW8BcAFxAXIBcwF0AXUBdgF3AXgBeQF6AXsBfAF9AX4BfwGAAYEBggGDAYQBhQGGAYcBiAGJAYoBiwGMAY0BjgGPAZABkQGSAZMBlAGVAZYBlwGYAZkBmgGbAZwBnQGeAZ8BoAGhAaIBowGkAaUBpgGnAagBqQGqAasBrAGtAa4BrwGwAbEBsgGzAbQBtQG2AbcBuAG5AboBuwG8Ab0BvgG/AcABwQHCAcMBxAHFAcYBxwHIAckBygHLAcwBzQHOAc8B0AHRAdIB0wHUAdUB1gHXAdgB2QHaAdsB3AHdAd4B3wHgAeEB4gHjAeQB5QHmAecB6AHpAeoB6wHsAe0B7gHvAfAB8QHyAfMB9AH1AfYB9wH4AfkB+gH7AfwB/QH+Af8BAAIBAgICAwIEAgUC",
          "dtype": "i2"
         },
         "y": {
          "bdata": "MS+1jqREiEB2yj0RGCyIQCsMLHoREYhAAKpJLh8GiEDL6vk0/tGHQMcAfp07FYhA05W0UV0RiED/jy0lFBCIQMI0o+qd8YdAuLAXEeB0iEAE+R585hGIQKyDrzkg+4dASOCmv63eh0D6CVUMHMOHQMQpbfUbpodAeZVst0uph0A3DA21h72HQK3EAKkfzIdALuWdIPGoh0CVjLXn2H6HQI5D9rsRlYdAlQLEYGShh0D1sXzhJHOHQIMxZEWTfIdAeUqu6XR8h0D/irft65qHQOAzRnX4r4dArwS6WliKh0DZGRUBB4SHQGpbcSY6Z4dAE0bjPGZXh0AgMeOi11WHQHppS2pOS4dAufRZMGhLh0DM+h+MEyGHQM7e7uM7ZodACAJWPKFlh0DEtKdZ3WaHQPeS8taiS4dANoKPu/zJh0CacTolSW+HQAngOAInWodAHLdm4HQ/h0ASFF4daCeHQG9M0Xf2C4dAwma8PBYPh0BNY8oUgCKHQC1T/KCCMIdAa5bCisYDh0Av2uG1pduGQFIb+dfP8IZA2IIBfsgHh0AevwdxhNCGQESwbJ+J2YZA2JU6J2rZhkDS+H9Yd/aGQAQyPpuWCodA6L44uuDxhkBS2xfE0uuGQArzyolb0IZA4WMk2vC+hkAsl7VKT7yGQKIf9fv/sIZA8AJ5TZawhkBxRkQQzIWGQAdFT7DeyoZAmHmbiyLKhkDylSvDQMuGQFqW/WHdr4ZAJ0YHInMuh0APUSgqaNOGQM+vjWoyvoZA+t8B2GqjhkAlEZMEHIuGQFhSqJOXb4ZAybXiQrlyhkBbc6s0LIaGQA2h9fQ0lIZA0Lmo6OtnhkB8LB5OtD+GQMqMExTsVIZAdIUYX2VrhkCqdzqwjDSGQNbh4EGWPYZAG7PiMnc9hkARQNsnlVqGQPfs1Te+boZAQJhdIm9VhkBGDDjQXk+GQPp11eXXM4ZALGiRQ4AihkB9QNWQ6x+GQDw0TpulFIZAIsVVA0IUhkCvwjdQfemFQP3yrdeQLoZAdZiev9UthkD+e1JX9S6GQOQb+hOUE4ZAAQDr6yaShkBIba71HjeGQJ3jeiDqIYZAPBlimiMHhkDyUBka2u6FQAHLbY5W04VAEj3aCnjWhUBIy9ug6umFQDkldCnz94VAF0mYqaTLhUDf/soNbqOFQL5KyBiluIVAWrQEWCTPhUBKfb2vRpiFQOxxeRlQoYVAUZj9/DChhUCz/qYsTr6FQHTQ9uV20oVAE3oL3C65hUC0qUyTHrOFQHNzKV6Yl4VAHJC41j+GhUD+saiJqoOFQFpm/yFkeIVAgEdxQgB4hUATzvFLO02FQDC7OstOkoVAFGLpspORhUC/jqg6s5KFQC3dCNlRd4VAWsJk1uT1hUDFPN7V3JqFQEn8uPWnhYVAj0D0YeFqhUApFH5sl1KFQKI+sNUTN4VAZeMWVzU6hUC1Zcvvp02FQCmURHmwW4VArU99PGIvhUB84WuWKweFQEr3X6xiHIVATlJBpOEyhUDD44I2BPyEQPSe8KANBYVAkQPjhe4EhUBllnm+CyKFQOzn/Hg0NoVAa4tvHewchUDBjQHW2xaFQJp0/ZhV+4RA26diHP3phEBIp5XWZ+eEQMjbeXQh3IRA5SwnmL3bhEA1GOmk+LCEQKT3VCQM9oRAMSvhClH1hEDaeFOTcPaEQLW1lDMP24RAgWPxLqJZhUA0GoEsmv6EQJCr3kxl6YRAoovYuZ7OhEBtGtrOVLaEQDOlmzjRmoRANYuIufKdhEDGr0JSZbGEQIKE2tttv4RAhHzDmx+ThEA54gX26GqEQMuFQQsggIRAIl58Bp+WhEAaQhiWwV+EQBqgmQDLaIRA6shn5atohEC+fJodyYWEQJVuU9jxmYRAoFhYgKmAhEAKtLA4mXqEQKfT/PsSX4RA",
          "dtype": "f8"
         }
        },
        {
         "line": {
          "color": "orange",
          "dash": "dash",
          "width": 2
         },
         "mode": "lines",
         "name": "Forecast iPhone 15 (exog)",
         "type": "scatter",
         "x": {
          "bdata": "UgFTAVQBVQFWAVcBWAFZAVoBWwFcAV0BXgFfAWABYQFiAWMBZAFlAWYBZwFoAWkBagFrAWwBbQFuAW8BcAFxAXIBcwF0AXUBdgF3AXgBeQF6AXsBfAF9AX4BfwGAAYEBggGDAYQBhQGGAYcBiAGJAYoBiwGMAY0BjgGPAZABkQGSAZMBlAGVAZYBlwGYAZkBmgGbAZwBnQGeAZ8BoAGhAaIBowGkAaUBpgGnAagBqQGqAasBrAGtAa4BrwGwAbEBsgGzAbQBtQG2AbcBuAG5AboBuwG8Ab0BvgG/AcABwQHCAcMBxAHFAcYBxwHIAckBygHLAcwBzQHOAc8B0AHRAdIB0wHUAdUB1gHXAdgB2QHaAdsB3AHdAd4B3wHgAeEB4gHjAeQB5QHmAecB6AHpAeoB6wHsAe0B7gHvAfAB8QHyAfMB9AH1AfYB9wH4AfkB+gH7AfwB/QH+Af8BAAIBAgICAwIEAgUC",
          "dtype": "i2"
         },
         "y": {
          "bdata": "PHOYN0RdiEAAAAAAAFiIQPmgtOODb4hAiCKLr95ciECsfExFwmmIQNZKLZ9hR4hAXpZQMBpLiECWxRcZp0SIQPrQqiSig4hAiSL7Pv4tiEDHw+q5hgyIQBNWzGOCDIhAJwhmce0aiEBKEWtUfEGIQNYRcJbyRohA1OCa/usliECwaBEpBTqIQBaL3VTYT4hAvEJoaW03iECqsoLrziKIQK7nwa96BohAW/i8oPMIiED33h8ikxSIQI+yZpZkI4hApZ9HNT4ZiEB5kGzI2xyIQJA5gEXrQIhAdaMVzFsgiEAjCk9xHgqIQOMm3n65AohA23sbDJX7h0AwNPmMmvWHQAS0CfBGCohAzx0oQQb5h0ATX0gEhgSIQNIEJBtB5YdAJzW6I4L3h0CeXMi7ofGHQJD3R923KohAaaRcNj/Yh0AkgpUCHtWHQPW3ZnUZ1YdALzoGqCvih0DmQrg4ZMmHQMYgvd5XzodA7BocYGawh0DpVMBDn8KHQAy4Tupo1odALLp6ckXAh0Bd8gClk62HQGnMuVTkk4dAWiVCMSKWh0AIgcr2q6CHQHKXaVYbrodAZOF/feekh0CGkAOsLqiHQDjZt37gyIdA64plDVurh0APcEkdMZeHQLTszNp8kIdAbLva2oGJh0A3OklfmIOHQPqEBKqImIdAhQYUtCaHh0BdPJatx5KHQKEmSX44c4dAxQlZQh6Eh0A4q18pMH6HQDjoXiLTt4dAGdPAwg5lh0DSqd6mGF+HQASg0x4UX4dA7UnEgUZsh0D3h5GDaFmHQHNof1poXodA6s1dNC1Ah0DEFzfsklKHQBjpf0CNZodA8fgYUzNQh0AVadGIUz2HQJWdiwllI4dA1IzKaaglh0BmcMUbTDCHQN/1JYjcPYdA3+vuC5I0h0B9VM9K4TeHQOyEAYvjWIdAd8CfehU7h0BCDFHwuSaHQOBH4y/1H4dA8L+HUfYYh0AlCWo/CxOHQHS3jjP1J4dA+g/JWJYWh0Bq5a44NCKHQEgEKfirAodAL1kuJrITh0AKol1UxQ2HQAr58idbR4dAaCCy2Z30hkAUxnNn6+6GQGbs7d7m7oZAV0S4QBb8hkAI2tb+quiGQKeZdrKp7YZADRlNbHXPhkBoffb01uGGQOFkEr7M9YZAMUb55XffhkASyJBmnMyGQLFgEM2zsoZAG2+Kqfa0hkDydBPwl7+GQIZHukYlzYZAzvFx59zDhkCbbqJlK8eGQOrZAiQm6IZALVnq2l7KhkAs/trxB7aGQOKCgLtEr4ZAH9uWOUaohkCnmGtNW6KGQLEDBNlFt4ZAhNcFtOalhkBhAP/dhLGGQGHP0Pf7kYZA4XhOH/+ihkCgTPQuEp2GQCMtqjyp1oZAoJWGReuDhkASw3uCMn6GQPxfAfotfoZAj4uWo12LhkCtEziR/3eGQJmPCGD+fIZAh5uYdclehkARAj5iK3GGQFT765chhYZARTZcRsxuhkAFMmJg8FuGQHnS9TkHQoZAyn+8IkpEhkCwJhej606GQOB0dEN5XIZAcouusTBThkCYSttBf1aGQJuSnbN6d4ZA92qMyLJZhkARldtwW0WGQFesuBWYPoZAowwui5k3hkBZC3ibrjGGQPyD7RiZRoZAEtnc+jk1hkBj+esd2ECGQLcqNEdPIYZAmjf9tlIyhkBxuXzJZSyGQFWJ4Ln8ZYZAyHeA0j4ThkAyCl+mhg2GQDKV4x2CDYZA1EbFwLEahkC3+1RzUgeGQOjAmz9RDIZAqyeBZBzuhUDBbdFHfgCGQOkbXXN0FIZATrUjLR/+hUBqkLxQQ+uFQOuDdzda0YVA90wYH53ThUAIXw2aPt6FQCdPiTPM64VATN55poPihUC02vg00uWFQCDM/JXNBoZAEfIJugXphUC/oaxsrtSFQH6m+BTrzYVA",
          "dtype": "f8"
         }
        },
        {
         "fill": "toself",
         "fillcolor": "rgba(173, 216, 230, 0.3)",
         "hoverinfo": "skip",
         "line": {
          "color": "rgba(255,255,255,0)"
         },
         "name": "95% Intervallo Confidenza",
         "showlegend": true,
         "type": "scatter",
         "x": {
          "bdata": "UgFTAVQBVQFWAVcBWAFZAVoBWwFcAV0BXgFfAWABYQFiAWMBZAFlAWYBZwFoAWkBagFrAWwBbQFuAW8BcAFxAXIBcwF0AXUBdgF3AXgBeQF6AXsBfAF9AX4BfwGAAYEBggGDAYQBhQGGAYcBiAGJAYoBiwGMAY0BjgGPAZABkQGSAZMBlAGVAZYBlwGYAZkBmgGbAZwBnQGeAZ8BoAGhAaIBowGkAaUBpgGnAagBqQGqAasBrAGtAa4BrwGwAbEBsgGzAbQBtQG2AbcBuAG5AboBuwG8Ab0BvgG/AcABwQHCAcMBxAHFAcYBxwHIAckBygHLAcwBzQHOAc8B0AHRAdIB0wHUAdUB1gHXAdgB2QHaAdsB3AHdAd4B3wHgAeEB4gHjAeQB5QHmAecB6AHpAeoB6wHsAe0B7gHvAfAB8QHyAfMB9AH1AfYB9wH4AfkB+gH7AfwB/QH+Af8BAAIBAgICAwIEAgUCBQIEAgMCAgIBAgAC/wH+Af0B/AH7AfoB+QH4AfcB9gH1AfQB8wHyAfEB8AHvAe4B7QHsAesB6gHpAegB5wHmAeUB5AHjAeIB4QHgAd8B3gHdAdwB2wHaAdkB2AHXAdYB1QHUAdMB0gHRAdABzwHOAc0BzAHLAcoByQHIAccBxgHFAcQBwwHCAcEBwAG/Ab4BvQG8AbsBugG5AbgBtwG2AbUBtAGzAbIBsQGwAa8BrgGtAawBqwGqAakBqAGnAaYBpQGkAaMBogGhAaABnwGeAZ0BnAGbAZoBmQGYAZcBlgGVAZQBkwGSAZEBkAGPAY4BjQGMAYsBigGJAYgBhwGGAYUBhAGDAYIBgQGAAX8BfgF9AXwBewF6AXkBeAF3AXYBdQF0AXMBcgFxAXABbwFuAW0BbAFrAWoBaQFoAWcBZgFlAWQBYwFiAWEBYAFfAV4BXQFcAVsBWgFZAVgBVwFWAVUBVAFTAVIB",
          "dtype": "i2"
         },
         "y": {
          "bdata": "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",
          "dtype": "f8"
         }
        }
       ],
       "layout": {
        "height": 500,
        "template": {
         "data": {
          "bar": [
           {
            "error_x": {
             "color": "#f2f5fa"
            },
            "error_y": {
             "color": "#f2f5fa"
            },
            "marker": {
             "line": {
              "color": "rgb(17,17,17)",
              "width": 0.5
             },
             "pattern": {
              "fillmode": "overlay",
              "size": 10,
              "solidity": 0.2
             }
            },
            "type": "bar"
           }
          ],
          "barpolar": [
           {
            "marker": {
             "line": {
              "color": "rgb(17,17,17)",
              "width": 0.5
             },
             "pattern": {
              "fillmode": "overlay",
              "size": 10,
              "solidity": 0.2
             }
            },
            "type": "barpolar"
           }
          ],
          "carpet": [
           {
            "aaxis": {
             "endlinecolor": "#A2B1C6",
             "gridcolor": "#506784",
             "linecolor": "#506784",
             "minorgridcolor": "#506784",
             "startlinecolor": "#A2B1C6"
            },
            "baxis": {
             "endlinecolor": "#A2B1C6",
             "gridcolor": "#506784",
             "linecolor": "#506784",
             "minorgridcolor": "#506784",
             "startlinecolor": "#A2B1C6"
            },
            "type": "carpet"
           }
          ],
          "choropleth": [
           {
            "colorbar": {
             "outlinewidth": 0,
             "ticks": ""
            },
            "type": "choropleth"
           }
          ],
          "contour": [
           {
            "colorbar": {
             "outlinewidth": 0,
             "ticks": ""
            },
            "colorscale": [
             [
              0,
              "#0d0887"
             ],
             [
              0.1111111111111111,
              "#46039f"
             ],
             [
              0.2222222222222222,
              "#7201a8"
             ],
             [
              0.3333333333333333,
              "#9c179e"
             ],
             [
              0.4444444444444444,
              "#bd3786"
             ],
             [
              0.5555555555555556,
              "#d8576b"
             ],
             [
              0.6666666666666666,
              "#ed7953"
             ],
             [
              0.7777777777777778,
              "#fb9f3a"
             ],
             [
              0.8888888888888888,
              "#fdca26"
             ],
             [
              1,
              "#f0f921"
             ]
            ],
            "type": "contour"
           }
          ],
          "contourcarpet": [
           {
            "colorbar": {
             "outlinewidth": 0,
             "ticks": ""
            },
            "type": "contourcarpet"
           }
          ],
          "heatmap": [
           {
            "colorbar": {
             "outlinewidth": 0,
             "ticks": ""
            },
            "colorscale": [
             [
              0,
              "#0d0887"
             ],
             [
              0.1111111111111111,
              "#46039f"
             ],
             [
              0.2222222222222222,
              "#7201a8"
             ],
             [
              0.3333333333333333,
              "#9c179e"
             ],
             [
              0.4444444444444444,
              "#bd3786"
             ],
             [
              0.5555555555555556,
              "#d8576b"
             ],
             [
              0.6666666666666666,
              "#ed7953"
             ],
             [
              0.7777777777777778,
              "#fb9f3a"
             ],
             [
              0.8888888888888888,
              "#fdca26"
             ],
             [
              1,
              "#f0f921"
             ]
            ],
            "type": "heatmap"
           }
          ],
          "histogram": [
           {
            "marker": {
             "pattern": {
              "fillmode": "overlay",
              "size": 10,
              "solidity": 0.2
             }
            },
            "type": "histogram"
           }
          ],
          "histogram2d": [
           {
            "colorbar": {
             "outlinewidth": 0,
             "ticks": ""
            },
            "colorscale": [
             [
              0,
              "#0d0887"
             ],
             [
              0.1111111111111111,
              "#46039f"
             ],
             [
              0.2222222222222222,
              "#7201a8"
             ],
             [
              0.3333333333333333,
              "#9c179e"
             ],
             [
              0.4444444444444444,
              "#bd3786"
             ],
             [
              0.5555555555555556,
              "#d8576b"
             ],
             [
              0.6666666666666666,
              "#ed7953"
             ],
             [
              0.7777777777777778,
              "#fb9f3a"
             ],
             [
              0.8888888888888888,
              "#fdca26"
             ],
             [
              1,
              "#f0f921"
             ]
            ],
            "type": "histogram2d"
           }
          ],
          "histogram2dcontour": [
           {
            "colorbar": {
             "outlinewidth": 0,
             "ticks": ""
            },
            "colorscale": [
             [
              0,
              "#0d0887"
             ],
             [
              0.1111111111111111,
              "#46039f"
             ],
             [
              0.2222222222222222,
              "#7201a8"
             ],
             [
              0.3333333333333333,
              "#9c179e"
             ],
             [
              0.4444444444444444,
              "#bd3786"
             ],
             [
              0.5555555555555556,
              "#d8576b"
             ],
             [
              0.6666666666666666,
              "#ed7953"
             ],
             [
              0.7777777777777778,
              "#fb9f3a"
             ],
             [
              0.8888888888888888,
              "#fdca26"
             ],
             [
              1,
              "#f0f921"
             ]
            ],
            "type": "histogram2dcontour"
           }
          ],
          "mesh3d": [
           {
            "colorbar": {
             "outlinewidth": 0,
             "ticks": ""
            },
            "type": "mesh3d"
           }
          ],
          "parcoords": [
           {
            "line": {
             "colorbar": {
              "outlinewidth": 0,
              "ticks": ""
             }
            },
            "type": "parcoords"
           }
          ],
          "pie": [
           {
            "automargin": true,
            "type": "pie"
           }
          ],
          "scatter": [
           {
            "marker": {
             "line": {
              "color": "#283442"
             }
            },
            "type": "scatter"
           }
          ],
          "scatter3d": [
           {
            "line": {
             "colorbar": {
              "outlinewidth": 0,
              "ticks": ""
             }
            },
            "marker": {
             "colorbar": {
              "outlinewidth": 0,
              "ticks": ""
             }
            },
            "type": "scatter3d"
           }
          ],
          "scattercarpet": [
           {
            "marker": {
             "colorbar": {
              "outlinewidth": 0,
              "ticks": ""
             }
            },
            "type": "scattercarpet"
           }
          ],
          "scattergeo": [
           {
            "marker": {
             "colorbar": {
              "outlinewidth": 0,
              "ticks": ""
             }
            },
            "type": "scattergeo"
           }
          ],
          "scattergl": [
           {
            "marker": {
             "line": {
              "color": "#283442"
             }
            },
            "type": "scattergl"
           }
          ],
          "scattermap": [
           {
            "marker": {
             "colorbar": {
              "outlinewidth": 0,
              "ticks": ""
             }
            },
            "type": "scattermap"
           }
          ],
          "scattermapbox": [
           {
            "marker": {
             "colorbar": {
              "outlinewidth": 0,
              "ticks": ""
             }
            },
            "type": "scattermapbox"
           }
          ],
          "scatterpolar": [
           {
            "marker": {
             "colorbar": {
              "outlinewidth": 0,
              "ticks": ""
             }
            },
            "type": "scatterpolar"
           }
          ],
          "scatterpolargl": [
           {
            "marker": {
             "colorbar": {
              "outlinewidth": 0,
              "ticks": ""
             }
            },
            "type": "scatterpolargl"
           }
          ],
          "scatterternary": [
           {
            "marker": {
             "colorbar": {
              "outlinewidth": 0,
              "ticks": ""
             }
            },
            "type": "scatterternary"
           }
          ],
          "surface": [
           {
            "colorbar": {
             "outlinewidth": 0,
             "ticks": ""
            },
            "colorscale": [
             [
              0,
              "#0d0887"
             ],
             [
              0.1111111111111111,
              "#46039f"
             ],
             [
              0.2222222222222222,
              "#7201a8"
             ],
             [
              0.3333333333333333,
              "#9c179e"
             ],
             [
              0.4444444444444444,
              "#bd3786"
             ],
             [
              0.5555555555555556,
              "#d8576b"
             ],
             [
              0.6666666666666666,
              "#ed7953"
             ],
             [
              0.7777777777777778,
              "#fb9f3a"
             ],
             [
              0.8888888888888888,
              "#fdca26"
             ],
             [
              1,
              "#f0f921"
             ]
            ],
            "type": "surface"
           }
          ],
          "table": [
           {
            "cells": {
             "fill": {
              "color": "#506784"
             },
             "line": {
              "color": "rgb(17,17,17)"
             }
            },
            "header": {
             "fill": {
              "color": "#2a3f5f"
             },
             "line": {
              "color": "rgb(17,17,17)"
             }
            },
            "type": "table"
           }
          ]
         },
         "layout": {
          "annotationdefaults": {
           "arrowcolor": "#f2f5fa",
           "arrowhead": 0,
           "arrowwidth": 1
          },
          "autotypenumbers": "strict",
          "coloraxis": {
           "colorbar": {
            "outlinewidth": 0,
            "ticks": ""
           }
          },
          "colorscale": {
           "diverging": [
            [
             0,
             "#8e0152"
            ],
            [
             0.1,
             "#c51b7d"
            ],
            [
             0.2,
             "#de77ae"
            ],
            [
             0.3,
             "#f1b6da"
            ],
            [
             0.4,
             "#fde0ef"
            ],
            [
             0.5,
             "#f7f7f7"
            ],
            [
             0.6,
             "#e6f5d0"
            ],
            [
             0.7,
             "#b8e186"
            ],
            [
             0.8,
             "#7fbc41"
            ],
            [
             0.9,
             "#4d9221"
            ],
            [
             1,
             "#276419"
            ]
           ],
           "sequential": [
            [
             0,
             "#0d0887"
            ],
            [
             0.1111111111111111,
             "#46039f"
            ],
            [
             0.2222222222222222,
             "#7201a8"
            ],
            [
             0.3333333333333333,
             "#9c179e"
            ],
            [
             0.4444444444444444,
             "#bd3786"
            ],
            [
             0.5555555555555556,
             "#d8576b"
            ],
            [
             0.6666666666666666,
             "#ed7953"
            ],
            [
             0.7777777777777778,
             "#fb9f3a"
            ],
            [
             0.8888888888888888,
             "#fdca26"
            ],
            [
             1,
             "#f0f921"
            ]
           ],
           "sequentialminus": [
            [
             0,
             "#0d0887"
            ],
            [
             0.1111111111111111,
             "#46039f"
            ],
            [
             0.2222222222222222,
             "#7201a8"
            ],
            [
             0.3333333333333333,
             "#9c179e"
            ],
            [
             0.4444444444444444,
             "#bd3786"
            ],
            [
             0.5555555555555556,
             "#d8576b"
            ],
            [
             0.6666666666666666,
             "#ed7953"
            ],
            [
             0.7777777777777778,
             "#fb9f3a"
            ],
            [
             0.8888888888888888,
             "#fdca26"
            ],
            [
             1,
             "#f0f921"
            ]
           ]
          },
          "colorway": [
           "#636efa",
           "#EF553B",
           "#00cc96",
           "#ab63fa",
           "#FFA15A",
           "#19d3f3",
           "#FF6692",
           "#B6E880",
           "#FF97FF",
           "#FECB52"
          ],
          "font": {
           "color": "#f2f5fa"
          },
          "geo": {
           "bgcolor": "rgb(17,17,17)",
           "lakecolor": "rgb(17,17,17)",
           "landcolor": "rgb(17,17,17)",
           "showlakes": true,
           "showland": true,
           "subunitcolor": "#506784"
          },
          "hoverlabel": {
           "align": "left"
          },
          "hovermode": "closest",
          "mapbox": {
           "style": "dark"
          },
          "paper_bgcolor": "rgb(17,17,17)",
          "plot_bgcolor": "rgb(17,17,17)",
          "polar": {
           "angularaxis": {
            "gridcolor": "#506784",
            "linecolor": "#506784",
            "ticks": ""
           },
           "bgcolor": "rgb(17,17,17)",
           "radialaxis": {
            "gridcolor": "#506784",
            "linecolor": "#506784",
            "ticks": ""
           }
          },
          "scene": {
           "xaxis": {
            "backgroundcolor": "rgb(17,17,17)",
            "gridcolor": "#506784",
            "gridwidth": 2,
            "linecolor": "#506784",
            "showbackground": true,
            "ticks": "",
            "zerolinecolor": "#C8D4E3"
           },
           "yaxis": {
            "backgroundcolor": "rgb(17,17,17)",
            "gridcolor": "#506784",
            "gridwidth": 2,
            "linecolor": "#506784",
            "showbackground": true,
            "ticks": "",
            "zerolinecolor": "#C8D4E3"
           },
           "zaxis": {
            "backgroundcolor": "rgb(17,17,17)",
            "gridcolor": "#506784",
            "gridwidth": 2,
            "linecolor": "#506784",
            "showbackground": true,
            "ticks": "",
            "zerolinecolor": "#C8D4E3"
           }
          },
          "shapedefaults": {
           "line": {
            "color": "#f2f5fa"
           }
          },
          "sliderdefaults": {
           "bgcolor": "#C8D4E3",
           "bordercolor": "rgb(17,17,17)",
           "borderwidth": 1,
           "tickwidth": 0
          },
          "ternary": {
           "aaxis": {
            "gridcolor": "#506784",
            "linecolor": "#506784",
            "ticks": ""
           },
           "baxis": {
            "gridcolor": "#506784",
            "linecolor": "#506784",
            "ticks": ""
           },
           "bgcolor": "rgb(17,17,17)",
           "caxis": {
            "gridcolor": "#506784",
            "linecolor": "#506784",
            "ticks": ""
           }
          },
          "title": {
           "x": 0.05
          },
          "updatemenudefaults": {
           "bgcolor": "#506784",
           "borderwidth": 0
          },
          "xaxis": {
           "automargin": true,
           "gridcolor": "#283442",
           "linecolor": "#506784",
           "ticks": "",
           "title": {
            "standoff": 15
           },
           "zerolinecolor": "#283442",
           "zerolinewidth": 2
          },
          "yaxis": {
           "automargin": true,
           "gridcolor": "#283442",
           "linecolor": "#506784",
           "ticks": "",
           "title": {
            "standoff": 15
           },
           "zerolinecolor": "#283442",
           "zerolinewidth": 2
          }
         }
        },
        "title": {
         "text": "SARIMAX iPhone 16 con regressore previsto"
        },
        "width": 1100,
        "xaxis": {
         "title": {
          "text": "Giorni dal lancio"
         }
        },
        "yaxis": {
         "title": {
          "text": "Prezzo (€)"
         }
        }
       }
      }
     },
     "metadata": {},
     "output_type": "display_data"
    }
   ],
   "source": [
    "forecast_index = np.arange(len(endog), len(endog) + future_steps)\n",
    "days_plot2 = df15['Giorni_dal_lancio'][:len(endog) + future_steps]\n",
    "\n",
    "fig = go.Figure()\n",
    "\n",
    "fig.add_trace(go.Scatter(x=endog.index, y=endog, mode='lines', name='Prezzo storico iPhone 16', line=dict(color='cyan', width=2)))\n",
    "fig.add_trace(go.Scatter(x=days_plot2, y=df15['Prezzo'][:len(endog) + future_steps], mode='lines', name='Prezzo storico iPhone 15', line=dict(color='royalblue', dash='dot', width=2)))\n",
    "fig.add_trace(go.Scatter(x=forecast_index, y=mean_forecast, mode='lines', name='Forecast iPhone 16', line=dict(color='magenta', width=2)))\n",
    "fig.add_trace(go.Scatter(x=forecast_index, y=forecast_exog_corrected, mode='lines', name='Forecast iPhone 15 (exog)', line=dict(color='orange', dash='dash', width=2)))\n",
    "fig.add_trace(go.Scatter(x=np.concatenate([forecast_index, forecast_index[::-1]]),y=np.concatenate([conf_int.iloc[:, 0], conf_int.iloc[:, 1][::-1]]),\n",
    "                         fill='toself',fillcolor='rgba(173, 216, 230, 0.3)',  # lightblue trasparente\n",
    "                         line=dict(color='rgba(255,255,255,0)'),hoverinfo='skip',showlegend=True,name='95% Intervallo Confidenza'))\n",
    "\n",
    "fig.update_layout(title='SARIMAX iPhone 16 con regressore previsto',xaxis_title='Giorni dal lancio',yaxis_title='Prezzo (€)',\n",
    "                  template='plotly_dark',width=1100,height=500)\n",
    "fig.show()"
   ]
  }
 ],
 "metadata": {
  "kernelspec": {
   "display_name": "Python 3",
   "language": "python",
   "name": "python3"
  },
  "language_info": {
   "codemirror_mode": {
    "name": "ipython",
    "version": 3
   },
   "file_extension": ".py",
   "mimetype": "text/x-python",
   "name": "python",
   "nbconvert_exporter": "python",
   "pygments_lexer": "ipython3",
   "version": "3.13.2"
  }
 },
 "nbformat": 4,
 "nbformat_minor": 5
}
